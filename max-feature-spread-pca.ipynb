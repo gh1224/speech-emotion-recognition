{
 "cells": [
  {
   "cell_type": "code",
   "execution_count": null,
   "id": "90230a47",
   "metadata": {},
   "outputs": [],
   "source": [
    "\"\"\"\n",
    "데이터셋\n",
    "Crema, Ravdess, Tess, Savee\n",
    "\n",
    "Positive: happiness - 2323\n",
    "Neutral: neutral, calmness - 1895\n",
    "Negative: anger, sadness - 3846\n",
    "\"\"\""
   ]
  },
  {
   "cell_type": "code",
   "execution_count": 1,
   "id": "736ee2e8",
   "metadata": {},
   "outputs": [
    {
     "name": "stderr",
     "output_type": "stream",
     "text": [
      "C:\\Users\\DeepLearning_5\\Anaconda3\\lib\\site-packages\\requests\\__init__.py:89: RequestsDependencyWarning: urllib3 (1.24.3) or chardet (4.0.0) doesn't match a supported version!\n",
      "  warnings.warn(\"urllib3 ({}) or chardet ({}) doesn't match a supported \"\n"
     ]
    }
   ],
   "source": [
    "import numpy as np\n",
    "import time\n",
    "from tqdm import tqdm\n",
    "import os\n",
    "import librosa\n",
    "import matplotlib.pyplot as plt\n",
    "\n",
    "from sklearn.preprocessing import LabelEncoder\n",
    "from sklearn.model_selection import train_test_split\n",
    "from sklearn.decomposition import PCA\n",
    "\n",
    "from keras.utils.np_utils import to_categorical\n",
    "from keras.models import load_model, Sequential\n",
    "from keras.layers import Conv1D, MaxPooling1D, Flatten, BatchNormalization, Dense, Dropout"
   ]
  },
  {
   "cell_type": "code",
   "execution_count": 2,
   "id": "1ce1ef09",
   "metadata": {},
   "outputs": [],
   "source": [
    "base_dir = 'dataset'\n",
    "\n",
    "n_mfcc = 128\n",
    "num_rows = 150\n",
    "num_columns = 153\n",
    "feature_shape = (num_rows * num_columns, )\n",
    "\n",
    "n_epochs = 150\n",
    "batch_size = None\n",
    "split_val = True\n",
    "\n",
    "model_save_path = 'saved_models/model.h5'"
   ]
  },
  {
   "cell_type": "code",
   "execution_count": 3,
   "id": "a39885db",
   "metadata": {},
   "outputs": [],
   "source": [
    "def load_feature_tuple(file_name):\n",
    "    y, sr = librosa.load(file_name, mono=True)\n",
    "\n",
    "    mfcc = librosa.feature.mfcc(y=y, sr=sr, n_mfcc=n_mfcc)\n",
    "    \n",
    "    spectral_centroid = librosa.feature.spectral_centroid(y=y, sr=sr)\n",
    "    spectral_bandwidth = librosa.feature.spectral_bandwidth(y=y, sr=sr)\n",
    "    spectral_contrast = librosa.feature.spectral_contrast(y=y, sr=sr)\n",
    "    spectral_flatness = librosa.feature.spectral_flatness(y=y)\n",
    "    spectral_rolloff = librosa.feature.spectral_rolloff(y=y, sr=sr)\n",
    "    \n",
    "    zero_crossing_rate = librosa.feature.zero_crossing_rate(y=y)\n",
    "    \n",
    "    chroma_stft = librosa.feature.chroma_stft(y=y, sr=sr)\n",
    "    \n",
    "    rms = librosa.feature.rms(y=y)\n",
    "    \n",
    "    return mfcc, spectral_centroid, spectral_bandwidth, spectral_contrast, spectral_flatness, spectral_rolloff, zero_crossing_rate, chroma_stft, rms"
   ]
  },
  {
   "cell_type": "code",
   "execution_count": 4,
   "id": "e8cccf27",
   "metadata": {},
   "outputs": [],
   "source": [
    "def pad_feature_width(feature, feature_width):\n",
    "    diff = feature_width - feature.shape[1]\n",
    "    if diff > 0:\n",
    "        return np.pad(feature, pad_width=((0, 0), (0, diff)), mode='constant')\n",
    "    elif diff < 0:\n",
    "        return np.delete(feature, np.arange(feature_width, feature.shape[1]), axis=1)\n",
    "    return feature"
   ]
  },
  {
   "cell_type": "code",
   "execution_count": 5,
   "id": "15aa2cbc",
   "metadata": {},
   "outputs": [],
   "source": [
    "def extract_feature(file_name, feature_width):\n",
    "    image = np.concatenate(load_feature_tuple(file_name), axis=0)\n",
    "    image = pad_feature_width(image, feature_width)\n",
    "    image = np.transpose(image)\n",
    "    return image"
   ]
  },
  {
   "cell_type": "code",
   "execution_count": 6,
   "id": "4158fb8c",
   "metadata": {},
   "outputs": [],
   "source": [
    "def fetch_dataset(dir_path, label):\n",
    "    _features = np.empty((0, ) + feature_shape)\n",
    "    for file_name in tqdm(os.listdir(dir_path)):\n",
    "        file_path = os.path.join(dir_path, file_name)\n",
    "        feature = extract_feature(file_path, num_rows).reshape((1, ) + feature_shape)\n",
    "        _features = np.append(_features, feature, axis=0)\n",
    "\n",
    "    _labels = np.full((_features.shape[0], ), label)\n",
    "\n",
    "    return _features, _labels"
   ]
  },
  {
   "cell_type": "markdown",
   "id": "68afff4f",
   "metadata": {},
   "source": [
    "# 데이터셋 가져오기"
   ]
  },
  {
   "cell_type": "code",
   "execution_count": 7,
   "id": "168ee650",
   "metadata": {},
   "outputs": [
    {
     "name": "stderr",
     "output_type": "stream",
     "text": [
      "100%|██████████████████████████████████████████████████████████████████████████████| 2323/2323 [09:11<00:00,  4.21it/s]\n",
      "100%|██████████████████████████████████████████████████████████████████████████████| 1895/1895 [07:01<00:00,  4.49it/s]\n",
      " 65%|██████████████████████████████████████████████████▋                           | 2497/3846 [10:36<07:46,  2.89it/s]C:\\Users\\DeepLearning_5\\Anaconda3\\lib\\site-packages\\librosa\\core\\pitch.py:153: UserWarning: Trying to estimate tuning from empty frequency set.\n",
      "  warnings.warn(\"Trying to estimate tuning from empty frequency set.\")\n",
      "100%|██████████████████████████████████████████████████████████████████████████████| 3846/3846 [20:10<00:00,  3.18it/s]"
     ]
    },
    {
     "name": "stdout",
     "output_type": "stream",
     "text": [
      "elapsed time fetching dataset (sec): 2184.435982465744\n"
     ]
    },
    {
     "name": "stderr",
     "output_type": "stream",
     "text": [
      "\n"
     ]
    }
   ],
   "source": [
    "start_time = time.time()\n",
    "\n",
    "positive_features, positive_labels = fetch_dataset(base_dir + '/positive', 'POSITIVE')\n",
    "neutral_features, neutral_labels = fetch_dataset(base_dir + '/neutral', 'NEUTRAL')\n",
    "negative_features, negative_labels = fetch_dataset(base_dir + '/negative', 'NEGATIVE')\n",
    "\n",
    "print('elapsed time fetching dataset (sec):', time.time() - start_time)"
   ]
  },
  {
   "cell_type": "code",
   "execution_count": 8,
   "id": "c1ca2ae7",
   "metadata": {},
   "outputs": [
    {
     "name": "stdout",
     "output_type": "stream",
     "text": [
      "features shape: (8064, 22950)\n",
      "labels shape before encoding: (8064,)\n"
     ]
    }
   ],
   "source": [
    "features = np.concatenate((positive_features, neutral_features, negative_features), axis=0)\n",
    "labels = np.concatenate((positive_labels, neutral_labels, negative_labels), axis=0)\n",
    "\n",
    "print('features shape:', features.shape)\n",
    "print('labels shape before encoding:', labels.shape)"
   ]
  },
  {
   "cell_type": "code",
   "execution_count": 9,
   "id": "ad68ccfe",
   "metadata": {},
   "outputs": [
    {
     "name": "stdout",
     "output_type": "stream",
     "text": [
      "labels shape after encoding: (8064, 3)\n",
      "label encoder classes: ['NEGATIVE' 'NEUTRAL' 'POSITIVE']\n"
     ]
    }
   ],
   "source": [
    "le = LabelEncoder()\n",
    "labels = to_categorical(le.fit_transform(labels))\n",
    "print('labels shape after encoding:', labels.shape)\n",
    "print('label encoder classes:', le.classes_)"
   ]
  },
  {
   "cell_type": "code",
   "execution_count": 10,
   "id": "e2fcddb0",
   "metadata": {},
   "outputs": [],
   "source": [
    "x_train, x_test, y_train, y_test = train_test_split(features, labels, test_size=0.2)"
   ]
  },
  {
   "cell_type": "code",
   "execution_count": 11,
   "id": "d1df5183",
   "metadata": {},
   "outputs": [
    {
     "name": "stdout",
     "output_type": "stream",
     "text": [
      "x_train shape before PCA: (6451, 22950)\n",
      "x_test shape before PCA: (1613, 22950)\n",
      "x_train shape after PCA: (6451, 6451)\n",
      "x_test shape after PCA: (1613, 6451)\n"
     ]
    }
   ],
   "source": [
    "print('x_train shape before PCA:', x_train.shape)\n",
    "print('x_test shape before PCA:', x_test.shape)\n",
    "\n",
    "pca = PCA(n_components=x_train.shape[0])\n",
    "x_train = pca.fit_transform(x_train)\n",
    "x_test = pca.transform(x_test)\n",
    "\n",
    "print('x_train shape after PCA:', x_train.shape)\n",
    "print('x_test shape after PCA:', x_test.shape)"
   ]
  },
  {
   "cell_type": "code",
   "execution_count": 12,
   "id": "4e34c5bc",
   "metadata": {},
   "outputs": [],
   "source": [
    "x_train = x_train.reshape(x_train.shape + (1, ))\n",
    "x_test = x_test.reshape(x_test.shape + (1, ))\n",
    "\n",
    "input_shape = x_train.shape[1:]"
   ]
  },
  {
   "cell_type": "markdown",
   "id": "bf4f35c8",
   "metadata": {},
   "source": [
    "# 학습"
   ]
  },
  {
   "cell_type": "code",
   "execution_count": 13,
   "id": "1d785a86",
   "metadata": {
    "scrolled": true
   },
   "outputs": [
    {
     "name": "stdout",
     "output_type": "stream",
     "text": [
      "Model: \"sequential\"\n",
      "_________________________________________________________________\n",
      " Layer (type)                Output Shape              Param #   \n",
      "=================================================================\n",
      " block1_conv1 (Conv1D)       (None, 6451, 64)          256       \n",
      "                                                                 \n",
      " block1_conv2 (Conv1D)       (None, 6451, 64)          12352     \n",
      "                                                                 \n",
      " block1_pool (MaxPooling1D)  (None, 3225, 64)          0         \n",
      "                                                                 \n",
      " block2_conv1 (Conv1D)       (None, 3225, 128)         24704     \n",
      "                                                                 \n",
      " block2_conv2 (Conv1D)       (None, 3225, 128)         49280     \n",
      "                                                                 \n",
      " block2_pool (MaxPooling1D)  (None, 1612, 128)         0         \n",
      "                                                                 \n",
      " block3_conv1 (Conv1D)       (None, 1612, 256)         98560     \n",
      "                                                                 \n",
      " block3_conv2 (Conv1D)       (None, 1612, 256)         196864    \n",
      "                                                                 \n",
      " block3_conv3 (Conv1D)       (None, 1612, 256)         196864    \n",
      "                                                                 \n",
      " block3_pool (MaxPooling1D)  (None, 806, 256)          0         \n",
      "                                                                 \n",
      " block4_conv1 (Conv1D)       (None, 806, 512)          393728    \n",
      "                                                                 \n",
      " block4_conv2 (Conv1D)       (None, 806, 512)          786944    \n",
      "                                                                 \n",
      " block4_conv3 (Conv1D)       (None, 806, 512)          786944    \n",
      "                                                                 \n",
      " block4_pool (MaxPooling1D)  (None, 403, 512)          0         \n",
      "                                                                 \n",
      " block5_conv1 (Conv1D)       (None, 403, 512)          786944    \n",
      "                                                                 \n",
      " block5_conv2 (Conv1D)       (None, 403, 512)          786944    \n",
      "                                                                 \n",
      " block5_conv3 (Conv1D)       (None, 403, 512)          786944    \n",
      "                                                                 \n",
      " block5_pool (MaxPooling1D)  (None, 201, 512)          0         \n",
      "                                                                 \n",
      " flatten (Flatten)           (None, 102912)            0         \n",
      "                                                                 \n",
      " batch_normalization (BatchN  (None, 102912)           411648    \n",
      " ormalization)                                                   \n",
      "                                                                 \n",
      " dense (Dense)               (None, 1024)              105382912 \n",
      "                                                                 \n",
      " dropout (Dropout)           (None, 1024)              0         \n",
      "                                                                 \n",
      " dense_1 (Dense)             (None, 3)                 3075      \n",
      "                                                                 \n",
      "=================================================================\n",
      "Total params: 110,704,963\n",
      "Trainable params: 110,499,139\n",
      "Non-trainable params: 205,824\n",
      "_________________________________________________________________\n"
     ]
    }
   ],
   "source": [
    "model = Sequential()\n",
    "\n",
    "# Block 1\n",
    "model.add(Conv1D(64, 3, activation='relu', padding='same', name='block1_conv1', input_shape=input_shape))\n",
    "model.add(Conv1D(64, 3, activation='relu', padding='same', name='block1_conv2'))\n",
    "model.add(MaxPooling1D(2, strides=2, name='block1_pool'))\n",
    "\n",
    "# Block 2\n",
    "model.add(Conv1D(128, 3, activation='relu', padding='same', name='block2_conv1'))\n",
    "model.add(Conv1D(128, 3, activation='relu', padding='same', name='block2_conv2'))\n",
    "model.add(MaxPooling1D(2, strides=2, name='block2_pool'))\n",
    "\n",
    "# Block 3\n",
    "model.add(Conv1D(256, 3, activation='relu', padding='same', name='block3_conv1'))\n",
    "model.add(Conv1D(256, 3, activation='relu', padding='same', name='block3_conv2'))\n",
    "model.add(Conv1D(256, 3, activation='relu', padding='same', name='block3_conv3'))\n",
    "model.add(MaxPooling1D(2, strides=2, name='block3_pool'))\n",
    "\n",
    "# Block 4\n",
    "model.add(Conv1D(512, 3, activation='relu', padding='same', name='block4_conv1'))\n",
    "model.add(Conv1D(512, 3, activation='relu', padding='same', name='block4_conv2'))\n",
    "model.add(Conv1D(512, 3, activation='relu', padding='same', name='block4_conv3'))\n",
    "model.add(MaxPooling1D(2, strides=2, name='block4_pool'))\n",
    "\n",
    "# Block 5\n",
    "model.add(Conv1D(512, 3, activation='relu', padding='same', name='block5_conv1'))\n",
    "model.add(Conv1D(512, 3, activation='relu', padding='same', name='block5_conv2'))\n",
    "model.add(Conv1D(512, 3, activation='relu', padding='same', name='block5_conv3'))\n",
    "model.add(MaxPooling1D(2, strides=2, name='block5_pool'))\n",
    "\n",
    "model.add(Flatten())\n",
    "model.add(BatchNormalization())\n",
    "model.add(Dense(1024, activation='relu'))\n",
    "model.add(Dropout(0.5))\n",
    "model.add(Dense(3, activation='softmax'))\n",
    "\n",
    "model.summary()"
   ]
  },
  {
   "cell_type": "code",
   "execution_count": 14,
   "id": "8afcb6a5",
   "metadata": {},
   "outputs": [],
   "source": [
    "model.compile(loss='categorical_crossentropy', metrics=['accuracy'], optimizer='adam')"
   ]
  },
  {
   "cell_type": "code",
   "execution_count": 15,
   "id": "8ed3004b",
   "metadata": {},
   "outputs": [],
   "source": [
    "if split_val:\n",
    "    validation_split = 0.25\n",
    "else:\n",
    "    validation_split = 0.0"
   ]
  },
  {
   "cell_type": "code",
   "execution_count": 16,
   "id": "2eb3a18d",
   "metadata": {},
   "outputs": [
    {
     "name": "stdout",
     "output_type": "stream",
     "text": [
      "Epoch 1/150\n",
      "152/152 [==============================] - 32s 175ms/step - loss: 1.3532 - accuracy: 0.4942 - val_loss: 1.1136 - val_accuracy: 0.5332\n",
      "Epoch 2/150\n",
      "152/152 [==============================] - 26s 172ms/step - loss: 1.0123 - accuracy: 0.5219 - val_loss: 1.1261 - val_accuracy: 0.3881\n",
      "Epoch 3/150\n",
      "152/152 [==============================] - 26s 173ms/step - loss: 1.0114 - accuracy: 0.5281 - val_loss: 1.7905 - val_accuracy: 0.2914\n",
      "Epoch 4/150\n",
      "152/152 [==============================] - 26s 173ms/step - loss: 0.9863 - accuracy: 0.5322 - val_loss: 1.1929 - val_accuracy: 0.3683\n",
      "Epoch 5/150\n",
      "152/152 [==============================] - 26s 174ms/step - loss: 0.9899 - accuracy: 0.5325 - val_loss: 4.9931 - val_accuracy: 0.4737\n",
      "Epoch 6/150\n",
      "152/152 [==============================] - 26s 174ms/step - loss: 0.9827 - accuracy: 0.5316 - val_loss: 2.7450 - val_accuracy: 0.5121\n",
      "Epoch 7/150\n",
      "152/152 [==============================] - 26s 174ms/step - loss: 0.9608 - accuracy: 0.5494 - val_loss: 3.7099 - val_accuracy: 0.4693\n",
      "Epoch 8/150\n",
      "152/152 [==============================] - 26s 174ms/step - loss: 0.9512 - accuracy: 0.5451 - val_loss: 1.7524 - val_accuracy: 0.5257\n",
      "Epoch 9/150\n",
      "152/152 [==============================] - 26s 174ms/step - loss: 0.9574 - accuracy: 0.5502 - val_loss: 33.1473 - val_accuracy: 0.2424\n",
      "Epoch 10/150\n",
      "152/152 [==============================] - 26s 174ms/step - loss: 0.9475 - accuracy: 0.5521 - val_loss: 2.1865 - val_accuracy: 0.3565\n",
      "Epoch 11/150\n",
      "152/152 [==============================] - 26s 174ms/step - loss: 0.9674 - accuracy: 0.5469 - val_loss: 10.2971 - val_accuracy: 0.2424\n",
      "Epoch 12/150\n",
      "152/152 [==============================] - 26s 174ms/step - loss: 0.9608 - accuracy: 0.5490 - val_loss: 6.8380 - val_accuracy: 0.4625\n",
      "Epoch 13/150\n",
      "152/152 [==============================] - 26s 174ms/step - loss: 0.9770 - accuracy: 0.5455 - val_loss: 22.7215 - val_accuracy: 0.2424\n",
      "Epoch 14/150\n",
      "152/152 [==============================] - 26s 174ms/step - loss: 0.9895 - accuracy: 0.5316 - val_loss: 35.4437 - val_accuracy: 0.2424\n",
      "Epoch 15/150\n",
      "152/152 [==============================] - 26s 174ms/step - loss: 0.9649 - accuracy: 0.5428 - val_loss: 77.0980 - val_accuracy: 0.4675\n",
      "Epoch 16/150\n",
      "152/152 [==============================] - 26s 174ms/step - loss: 0.9655 - accuracy: 0.5430 - val_loss: 49.9679 - val_accuracy: 0.2895\n",
      "Epoch 17/150\n",
      "152/152 [==============================] - 26s 174ms/step - loss: 1.0202 - accuracy: 0.5337 - val_loss: 1.6065 - val_accuracy: 0.5164\n",
      "Epoch 18/150\n",
      "152/152 [==============================] - 26s 174ms/step - loss: 0.9997 - accuracy: 0.5318 - val_loss: 47.6309 - val_accuracy: 0.4693\n",
      "Epoch 19/150\n",
      "152/152 [==============================] - 26s 174ms/step - loss: 0.9693 - accuracy: 0.5372 - val_loss: 1.1206 - val_accuracy: 0.5226\n",
      "Epoch 20/150\n",
      "152/152 [==============================] - 26s 174ms/step - loss: 0.9333 - accuracy: 0.5593 - val_loss: 1.0224 - val_accuracy: 0.5356\n",
      "Epoch 21/150\n",
      "152/152 [==============================] - 27s 175ms/step - loss: 0.9415 - accuracy: 0.5513 - val_loss: 3.2987 - val_accuracy: 0.4582\n",
      "Epoch 22/150\n",
      "152/152 [==============================] - 27s 175ms/step - loss: 0.9478 - accuracy: 0.5492 - val_loss: 209.1947 - val_accuracy: 0.4377\n",
      "Epoch 23/150\n",
      "152/152 [==============================] - 26s 174ms/step - loss: 0.9480 - accuracy: 0.5461 - val_loss: 9.7629 - val_accuracy: 0.4079\n",
      "Epoch 24/150\n",
      "152/152 [==============================] - 27s 175ms/step - loss: 0.9663 - accuracy: 0.5442 - val_loss: 10.7901 - val_accuracy: 0.4179\n",
      "Epoch 25/150\n",
      "152/152 [==============================] - 27s 176ms/step - loss: 0.9777 - accuracy: 0.5329 - val_loss: 1.0867 - val_accuracy: 0.4978\n",
      "Epoch 26/150\n",
      "152/152 [==============================] - 27s 176ms/step - loss: 0.9369 - accuracy: 0.5521 - val_loss: 1.6947 - val_accuracy: 0.4811\n",
      "Epoch 27/150\n",
      "152/152 [==============================] - 27s 175ms/step - loss: 0.9075 - accuracy: 0.5624 - val_loss: 2057.2859 - val_accuracy: 0.3032\n",
      "Epoch 28/150\n",
      "152/152 [==============================] - 27s 176ms/step - loss: 0.9232 - accuracy: 0.5601 - val_loss: 3.2525 - val_accuracy: 0.4966\n",
      "Epoch 29/150\n",
      "152/152 [==============================] - 27s 175ms/step - loss: 0.8991 - accuracy: 0.5709 - val_loss: 1.3106 - val_accuracy: 0.5294\n",
      "Epoch 30/150\n",
      "152/152 [==============================] - 27s 175ms/step - loss: 0.8558 - accuracy: 0.5816 - val_loss: 1.0154 - val_accuracy: 0.5363\n",
      "Epoch 31/150\n",
      "152/152 [==============================] - 27s 175ms/step - loss: 0.8577 - accuracy: 0.5854 - val_loss: 0.9993 - val_accuracy: 0.5263\n",
      "Epoch 32/150\n",
      "152/152 [==============================] - 27s 175ms/step - loss: 0.8130 - accuracy: 0.5963 - val_loss: 1.8906 - val_accuracy: 0.5183\n",
      "Epoch 33/150\n",
      "152/152 [==============================] - 27s 175ms/step - loss: 1.0384 - accuracy: 0.4853 - val_loss: 1.0281 - val_accuracy: 0.4737\n",
      "Epoch 34/150\n",
      "152/152 [==============================] - 27s 175ms/step - loss: 1.0158 - accuracy: 0.4917 - val_loss: 1.0162 - val_accuracy: 0.5003\n",
      "Epoch 35/150\n",
      "152/152 [==============================] - 27s 175ms/step - loss: 0.9930 - accuracy: 0.5050 - val_loss: 22.7402 - val_accuracy: 0.5270\n",
      "Epoch 36/150\n",
      "152/152 [==============================] - 27s 176ms/step - loss: 0.9648 - accuracy: 0.5364 - val_loss: 1.0604 - val_accuracy: 0.5301\n",
      "Epoch 37/150\n",
      "152/152 [==============================] - 27s 175ms/step - loss: 0.9461 - accuracy: 0.5471 - val_loss: 480.5342 - val_accuracy: 0.5164\n",
      "Epoch 38/150\n",
      "152/152 [==============================] - 27s 175ms/step - loss: 0.9559 - accuracy: 0.5494 - val_loss: 19.4131 - val_accuracy: 0.3968\n",
      "Epoch 39/150\n",
      "152/152 [==============================] - 27s 176ms/step - loss: 0.9108 - accuracy: 0.5686 - val_loss: 16.3083 - val_accuracy: 0.4414\n",
      "Epoch 40/150\n",
      "152/152 [==============================] - 27s 176ms/step - loss: 0.9086 - accuracy: 0.5630 - val_loss: 131.2193 - val_accuracy: 0.4966\n",
      "Epoch 41/150\n",
      "152/152 [==============================] - 27s 176ms/step - loss: 0.9580 - accuracy: 0.5356 - val_loss: 38.3575 - val_accuracy: 0.4650\n",
      "Epoch 42/150\n",
      "152/152 [==============================] - 27s 175ms/step - loss: 1.0311 - accuracy: 0.4802 - val_loss: 1.1565 - val_accuracy: 0.4681\n",
      "Epoch 43/150\n",
      "152/152 [==============================] - 27s 176ms/step - loss: 1.0128 - accuracy: 0.4851 - val_loss: 13432.2568 - val_accuracy: 0.4569\n",
      "Epoch 44/150\n",
      "152/152 [==============================] - 27s 176ms/step - loss: 0.9943 - accuracy: 0.4990 - val_loss: 1.1892 - val_accuracy: 0.4842\n",
      "Epoch 45/150\n",
      "152/152 [==============================] - 27s 176ms/step - loss: 1.0339 - accuracy: 0.4888 - val_loss: 1.0543 - val_accuracy: 0.4693\n",
      "Epoch 46/150\n",
      "152/152 [==============================] - 27s 175ms/step - loss: 1.0245 - accuracy: 0.4872 - val_loss: 1163.9409 - val_accuracy: 0.3769\n",
      "Epoch 47/150\n",
      "152/152 [==============================] - 27s 175ms/step - loss: 1.0025 - accuracy: 0.4917 - val_loss: 1.1377 - val_accuracy: 0.4631\n",
      "Epoch 48/150\n",
      "152/152 [==============================] - 27s 176ms/step - loss: 0.9770 - accuracy: 0.5045 - val_loss: 1.4767 - val_accuracy: 0.4482\n",
      "Epoch 49/150\n",
      "152/152 [==============================] - 27s 175ms/step - loss: 0.9651 - accuracy: 0.5130 - val_loss: 3.6601 - val_accuracy: 0.3676\n",
      "Epoch 50/150\n",
      "152/152 [==============================] - 27s 175ms/step - loss: 0.9540 - accuracy: 0.5153 - val_loss: 1.0189 - val_accuracy: 0.4693\n",
      "Epoch 51/150\n",
      "152/152 [==============================] - 27s 175ms/step - loss: 0.9638 - accuracy: 0.5095 - val_loss: 1.0248 - val_accuracy: 0.4761\n",
      "Epoch 52/150\n",
      "152/152 [==============================] - 27s 175ms/step - loss: 0.9391 - accuracy: 0.5172 - val_loss: 1.2829 - val_accuracy: 0.4916\n",
      "Epoch 53/150\n",
      "152/152 [==============================] - 27s 175ms/step - loss: 0.9182 - accuracy: 0.5360 - val_loss: 1.2517 - val_accuracy: 0.4817\n",
      "Epoch 54/150\n",
      "152/152 [==============================] - 27s 175ms/step - loss: 0.8916 - accuracy: 0.5498 - val_loss: 1.0789 - val_accuracy: 0.5177\n",
      "Epoch 55/150\n",
      "152/152 [==============================] - 27s 175ms/step - loss: 0.8759 - accuracy: 0.5591 - val_loss: 5.2329 - val_accuracy: 0.4892\n",
      "Epoch 56/150\n"
     ]
    },
    {
     "name": "stdout",
     "output_type": "stream",
     "text": [
      "152/152 [==============================] - 27s 175ms/step - loss: 0.8694 - accuracy: 0.5637 - val_loss: 6345.7808 - val_accuracy: 0.5251\n",
      "Epoch 57/150\n",
      "152/152 [==============================] - 27s 175ms/step - loss: 0.8450 - accuracy: 0.5701 - val_loss: 1.9457 - val_accuracy: 0.4619\n",
      "Epoch 58/150\n",
      "152/152 [==============================] - 27s 176ms/step - loss: 0.8406 - accuracy: 0.5717 - val_loss: 1.1361 - val_accuracy: 0.5239\n",
      "Epoch 59/150\n",
      "152/152 [==============================] - 27s 175ms/step - loss: 0.8250 - accuracy: 0.5767 - val_loss: 99.1848 - val_accuracy: 0.4749\n",
      "Epoch 60/150\n",
      "152/152 [==============================] - 27s 176ms/step - loss: 0.8057 - accuracy: 0.5847 - val_loss: 2.1520 - val_accuracy: 0.5028\n",
      "Epoch 61/150\n",
      "152/152 [==============================] - 27s 175ms/step - loss: 0.7892 - accuracy: 0.5862 - val_loss: 1.4492 - val_accuracy: 0.5102\n",
      "Epoch 62/150\n",
      "152/152 [==============================] - 27s 175ms/step - loss: 0.7816 - accuracy: 0.5934 - val_loss: 22.5463 - val_accuracy: 0.4743\n",
      "Epoch 63/150\n",
      "152/152 [==============================] - 27s 175ms/step - loss: 0.7561 - accuracy: 0.6106 - val_loss: 58.0851 - val_accuracy: 0.4730\n",
      "Epoch 64/150\n",
      "152/152 [==============================] - 27s 175ms/step - loss: 0.7693 - accuracy: 0.6199 - val_loss: 43.0291 - val_accuracy: 0.4774\n",
      "Epoch 65/150\n",
      "152/152 [==============================] - 27s 175ms/step - loss: 0.7636 - accuracy: 0.6230 - val_loss: 88.3842 - val_accuracy: 0.4606\n",
      "Epoch 66/150\n",
      "152/152 [==============================] - 27s 175ms/step - loss: 0.7317 - accuracy: 0.6354 - val_loss: 6920.9590 - val_accuracy: 0.5065\n",
      "Epoch 67/150\n",
      "152/152 [==============================] - 27s 175ms/step - loss: 0.7253 - accuracy: 0.6356 - val_loss: 1529.7062 - val_accuracy: 0.5115\n",
      "Epoch 68/150\n",
      "152/152 [==============================] - 27s 175ms/step - loss: 0.7284 - accuracy: 0.6416 - val_loss: 6772.8950 - val_accuracy: 0.4836\n",
      "Epoch 69/150\n",
      "152/152 [==============================] - 27s 175ms/step - loss: 0.6839 - accuracy: 0.6639 - val_loss: 6293.6421 - val_accuracy: 0.4352\n",
      "Epoch 70/150\n",
      "152/152 [==============================] - 27s 175ms/step - loss: 0.6829 - accuracy: 0.6674 - val_loss: 388.9982 - val_accuracy: 0.4402\n",
      "Epoch 71/150\n",
      "152/152 [==============================] - 27s 175ms/step - loss: 0.6878 - accuracy: 0.6689 - val_loss: 18.6165 - val_accuracy: 0.5034\n",
      "Epoch 72/150\n",
      "152/152 [==============================] - 27s 175ms/step - loss: 0.6612 - accuracy: 0.6844 - val_loss: 353.9429 - val_accuracy: 0.4879\n",
      "Epoch 73/150\n",
      "152/152 [==============================] - 27s 175ms/step - loss: 0.6425 - accuracy: 0.6918 - val_loss: 3.8432 - val_accuracy: 0.4941\n",
      "Epoch 74/150\n",
      "152/152 [==============================] - 27s 175ms/step - loss: 0.6271 - accuracy: 0.6986 - val_loss: 1.5097 - val_accuracy: 0.4966\n",
      "Epoch 75/150\n",
      "152/152 [==============================] - 27s 175ms/step - loss: 0.6302 - accuracy: 0.6949 - val_loss: 23663.6777 - val_accuracy: 0.4861\n",
      "Epoch 76/150\n",
      "152/152 [==============================] - 27s 175ms/step - loss: 0.6221 - accuracy: 0.7063 - val_loss: 102.6533 - val_accuracy: 0.4947\n",
      "Epoch 77/150\n",
      "152/152 [==============================] - 27s 175ms/step - loss: 0.6148 - accuracy: 0.7154 - val_loss: 2.4032 - val_accuracy: 0.4842\n",
      "Epoch 78/150\n",
      "152/152 [==============================] - 27s 175ms/step - loss: 0.5987 - accuracy: 0.7179 - val_loss: 1.7703 - val_accuracy: 0.4954\n",
      "Epoch 79/150\n",
      "152/152 [==============================] - 27s 175ms/step - loss: 0.5967 - accuracy: 0.7210 - val_loss: 454.3188 - val_accuracy: 0.4861\n",
      "Epoch 80/150\n",
      "152/152 [==============================] - 27s 175ms/step - loss: 0.5962 - accuracy: 0.7226 - val_loss: 2.5771 - val_accuracy: 0.5307\n",
      "Epoch 81/150\n",
      "152/152 [==============================] - 27s 175ms/step - loss: 0.5712 - accuracy: 0.7286 - val_loss: 4.7968 - val_accuracy: 0.5152\n",
      "Epoch 82/150\n",
      "152/152 [==============================] - 27s 175ms/step - loss: 0.5614 - accuracy: 0.7387 - val_loss: 71007.9531 - val_accuracy: 0.5028\n",
      "Epoch 83/150\n",
      "152/152 [==============================] - 27s 175ms/step - loss: 0.5521 - accuracy: 0.7441 - val_loss: 29065.0488 - val_accuracy: 0.4836\n",
      "Epoch 84/150\n",
      "152/152 [==============================] - 27s 175ms/step - loss: 0.5599 - accuracy: 0.7402 - val_loss: 121265.7578 - val_accuracy: 0.5034\n",
      "Epoch 85/150\n",
      "152/152 [==============================] - 27s 175ms/step - loss: 0.5539 - accuracy: 0.7433 - val_loss: 267731.8750 - val_accuracy: 0.4916\n",
      "Epoch 86/150\n",
      "152/152 [==============================] - 27s 175ms/step - loss: 0.5589 - accuracy: 0.7379 - val_loss: 2737.2219 - val_accuracy: 0.5046\n",
      "Epoch 87/150\n",
      "152/152 [==============================] - 27s 175ms/step - loss: 0.5457 - accuracy: 0.7398 - val_loss: 2651481.2500 - val_accuracy: 0.5003\n",
      "Epoch 88/150\n",
      "152/152 [==============================] - 27s 175ms/step - loss: 0.5388 - accuracy: 0.7470 - val_loss: 14968.9473 - val_accuracy: 0.4929\n",
      "Epoch 89/150\n",
      "152/152 [==============================] - 27s 175ms/step - loss: 0.5249 - accuracy: 0.7582 - val_loss: 3882.9536 - val_accuracy: 0.4885\n",
      "Epoch 90/150\n",
      "152/152 [==============================] - 27s 175ms/step - loss: 0.4996 - accuracy: 0.7702 - val_loss: 2650.1138 - val_accuracy: 0.5177\n",
      "Epoch 91/150\n",
      "152/152 [==============================] - 27s 175ms/step - loss: 0.5486 - accuracy: 0.7462 - val_loss: 548.8909 - val_accuracy: 0.5046\n",
      "Epoch 92/150\n",
      "152/152 [==============================] - 27s 176ms/step - loss: 0.5374 - accuracy: 0.7571 - val_loss: 23602.2422 - val_accuracy: 0.4892\n",
      "Epoch 93/150\n",
      "152/152 [==============================] - 27s 175ms/step - loss: 0.5255 - accuracy: 0.7615 - val_loss: 1814.8878 - val_accuracy: 0.5096\n",
      "Epoch 94/150\n",
      "152/152 [==============================] - 27s 175ms/step - loss: 0.5056 - accuracy: 0.7720 - val_loss: 471.8027 - val_accuracy: 0.4997\n",
      "Epoch 95/150\n",
      "152/152 [==============================] - 27s 175ms/step - loss: 0.4917 - accuracy: 0.7743 - val_loss: 10100.6133 - val_accuracy: 0.4761\n",
      "Epoch 96/150\n",
      "152/152 [==============================] - 27s 175ms/step - loss: 0.4863 - accuracy: 0.7759 - val_loss: 1482.2395 - val_accuracy: 0.5152\n",
      "Epoch 97/150\n",
      "152/152 [==============================] - 27s 175ms/step - loss: 0.5067 - accuracy: 0.7633 - val_loss: 46383.7461 - val_accuracy: 0.5071\n",
      "Epoch 98/150\n",
      "152/152 [==============================] - 27s 175ms/step - loss: 0.4827 - accuracy: 0.7786 - val_loss: 14565.1543 - val_accuracy: 0.5071\n",
      "Epoch 99/150\n",
      "152/152 [==============================] - 27s 175ms/step - loss: 0.4706 - accuracy: 0.7836 - val_loss: 183.1824 - val_accuracy: 0.5065\n",
      "Epoch 100/150\n",
      "152/152 [==============================] - 27s 175ms/step - loss: 0.4772 - accuracy: 0.7846 - val_loss: 1.4552 - val_accuracy: 0.5003\n",
      "Epoch 101/150\n",
      "152/152 [==============================] - 27s 175ms/step - loss: 0.4948 - accuracy: 0.7797 - val_loss: 2202.4302 - val_accuracy: 0.4960\n",
      "Epoch 102/150\n",
      "152/152 [==============================] - 27s 175ms/step - loss: 0.4771 - accuracy: 0.7823 - val_loss: 11653.0586 - val_accuracy: 0.5102\n",
      "Epoch 103/150\n",
      "152/152 [==============================] - 27s 175ms/step - loss: 0.5111 - accuracy: 0.7687 - val_loss: 521024.7188 - val_accuracy: 0.4761\n",
      "Epoch 104/150\n",
      "152/152 [==============================] - 27s 175ms/step - loss: 0.4809 - accuracy: 0.7848 - val_loss: 19621.5508 - val_accuracy: 0.4879\n",
      "Epoch 105/150\n",
      "152/152 [==============================] - 27s 175ms/step - loss: 0.4610 - accuracy: 0.7927 - val_loss: 2.0968 - val_accuracy: 0.4910\n",
      "Epoch 106/150\n",
      "152/152 [==============================] - 27s 175ms/step - loss: 0.4334 - accuracy: 0.8061 - val_loss: 2.5445 - val_accuracy: 0.5009\n",
      "Epoch 107/150\n",
      "152/152 [==============================] - 26s 174ms/step - loss: 0.4381 - accuracy: 0.8080 - val_loss: 69.0918 - val_accuracy: 0.4997\n",
      "Epoch 108/150\n",
      "152/152 [==============================] - 27s 175ms/step - loss: 0.4413 - accuracy: 0.8082 - val_loss: 5672970.0000 - val_accuracy: 0.4575\n",
      "Epoch 109/150\n",
      "152/152 [==============================] - 27s 175ms/step - loss: 0.4291 - accuracy: 0.8119 - val_loss: 4037.1619 - val_accuracy: 0.4923\n",
      "Epoch 110/150\n",
      "152/152 [==============================] - 27s 175ms/step - loss: 0.4287 - accuracy: 0.8103 - val_loss: 99474.9844 - val_accuracy: 0.5139\n"
     ]
    },
    {
     "name": "stdout",
     "output_type": "stream",
     "text": [
      "Epoch 111/150\n",
      "152/152 [==============================] - 27s 175ms/step - loss: 0.4307 - accuracy: 0.8109 - val_loss: 2.5178 - val_accuracy: 0.4910\n",
      "Epoch 112/150\n",
      "152/152 [==============================] - 27s 175ms/step - loss: 0.4287 - accuracy: 0.8113 - val_loss: 1752812.7500 - val_accuracy: 0.4985\n",
      "Epoch 113/150\n",
      "152/152 [==============================] - 27s 175ms/step - loss: 0.4432 - accuracy: 0.8018 - val_loss: 45363.6602 - val_accuracy: 0.5201\n",
      "Epoch 114/150\n",
      "152/152 [==============================] - 27s 175ms/step - loss: 0.4045 - accuracy: 0.8206 - val_loss: 97383.8438 - val_accuracy: 0.4947\n",
      "Epoch 115/150\n",
      "152/152 [==============================] - 27s 175ms/step - loss: 0.4201 - accuracy: 0.8117 - val_loss: 16648907.0000 - val_accuracy: 0.4929\n",
      "Epoch 116/150\n",
      "152/152 [==============================] - 27s 175ms/step - loss: 0.3957 - accuracy: 0.8264 - val_loss: 11653.7139 - val_accuracy: 0.4954\n",
      "Epoch 117/150\n",
      "152/152 [==============================] - 27s 175ms/step - loss: 0.4296 - accuracy: 0.8115 - val_loss: 48006.0469 - val_accuracy: 0.4972\n",
      "Epoch 118/150\n",
      "152/152 [==============================] - 27s 175ms/step - loss: 0.3755 - accuracy: 0.8357 - val_loss: 5150.6094 - val_accuracy: 0.4997\n",
      "Epoch 119/150\n",
      "152/152 [==============================] - 27s 175ms/step - loss: 0.3859 - accuracy: 0.8237 - val_loss: 31126.0859 - val_accuracy: 0.4706\n",
      "Epoch 120/150\n",
      "152/152 [==============================] - 27s 175ms/step - loss: 0.4045 - accuracy: 0.8237 - val_loss: 123.8472 - val_accuracy: 0.4966\n",
      "Epoch 121/150\n",
      "152/152 [==============================] - 27s 175ms/step - loss: 0.3791 - accuracy: 0.8284 - val_loss: 5.2196 - val_accuracy: 0.5022\n",
      "Epoch 122/150\n",
      "152/152 [==============================] - 27s 175ms/step - loss: 0.4042 - accuracy: 0.8202 - val_loss: 369371.0938 - val_accuracy: 0.4985\n",
      "Epoch 123/150\n",
      "152/152 [==============================] - 27s 175ms/step - loss: 0.4227 - accuracy: 0.8140 - val_loss: 48315.8047 - val_accuracy: 0.4904\n",
      "Epoch 124/150\n",
      "152/152 [==============================] - 27s 175ms/step - loss: 0.4260 - accuracy: 0.8150 - val_loss: 13.3315 - val_accuracy: 0.5146\n",
      "Epoch 125/150\n",
      "152/152 [==============================] - 27s 175ms/step - loss: 0.3750 - accuracy: 0.8336 - val_loss: 7425.4385 - val_accuracy: 0.4706\n",
      "Epoch 126/150\n",
      "152/152 [==============================] - 27s 175ms/step - loss: 0.3778 - accuracy: 0.8351 - val_loss: 21255.4102 - val_accuracy: 0.4916\n",
      "Epoch 127/150\n",
      "152/152 [==============================] - 27s 175ms/step - loss: 0.4053 - accuracy: 0.8231 - val_loss: 690262.3125 - val_accuracy: 0.4923\n",
      "Epoch 128/150\n",
      "152/152 [==============================] - 27s 175ms/step - loss: 0.3835 - accuracy: 0.8305 - val_loss: 2.0736 - val_accuracy: 0.5028\n",
      "Epoch 129/150\n",
      "152/152 [==============================] - 27s 175ms/step - loss: 0.3588 - accuracy: 0.8433 - val_loss: 2.9790 - val_accuracy: 0.5040\n",
      "Epoch 130/150\n",
      "152/152 [==============================] - 26s 174ms/step - loss: 0.7225 - accuracy: 0.6689 - val_loss: 397007.6250 - val_accuracy: 0.3881\n",
      "Epoch 131/150\n",
      "152/152 [==============================] - 27s 175ms/step - loss: 0.6434 - accuracy: 0.7121 - val_loss: 4.6394 - val_accuracy: 0.4879\n",
      "Epoch 132/150\n",
      "152/152 [==============================] - 27s 175ms/step - loss: 0.5188 - accuracy: 0.7728 - val_loss: 2.4518 - val_accuracy: 0.5139\n",
      "Epoch 133/150\n",
      "152/152 [==============================] - 27s 175ms/step - loss: 0.4592 - accuracy: 0.8010 - val_loss: 7.9975 - val_accuracy: 0.5003\n",
      "Epoch 134/150\n",
      "152/152 [==============================] - 27s 175ms/step - loss: 0.4285 - accuracy: 0.8162 - val_loss: 189511904.0000 - val_accuracy: 0.4749\n",
      "Epoch 135/150\n",
      "152/152 [==============================] - 27s 175ms/step - loss: 0.4173 - accuracy: 0.8187 - val_loss: 845941.3750 - val_accuracy: 0.4805\n",
      "Epoch 136/150\n",
      "152/152 [==============================] - 27s 175ms/step - loss: 0.3780 - accuracy: 0.8359 - val_loss: 3.9000 - val_accuracy: 0.4879\n",
      "Epoch 137/150\n",
      "152/152 [==============================] - 27s 175ms/step - loss: 0.3764 - accuracy: 0.8411 - val_loss: 3.6838 - val_accuracy: 0.4755\n",
      "Epoch 138/150\n",
      "152/152 [==============================] - 27s 175ms/step - loss: 0.3863 - accuracy: 0.8311 - val_loss: 13847.9023 - val_accuracy: 0.5040\n",
      "Epoch 139/150\n",
      "152/152 [==============================] - 27s 175ms/step - loss: 0.3780 - accuracy: 0.8382 - val_loss: 33.3102 - val_accuracy: 0.4954\n",
      "Epoch 140/150\n",
      "152/152 [==============================] - 27s 175ms/step - loss: 0.3620 - accuracy: 0.8425 - val_loss: 18.0085 - val_accuracy: 0.4947\n",
      "Epoch 141/150\n",
      "152/152 [==============================] - 27s 175ms/step - loss: 0.3476 - accuracy: 0.8481 - val_loss: 8.1882 - val_accuracy: 0.4761\n",
      "Epoch 142/150\n",
      "152/152 [==============================] - 27s 175ms/step - loss: 0.3332 - accuracy: 0.8543 - val_loss: 13269.4746 - val_accuracy: 0.4960\n",
      "Epoch 143/150\n",
      "152/152 [==============================] - 27s 175ms/step - loss: 0.3348 - accuracy: 0.8501 - val_loss: 190.1251 - val_accuracy: 0.5015\n",
      "Epoch 144/150\n",
      "152/152 [==============================] - 27s 175ms/step - loss: 0.3287 - accuracy: 0.8555 - val_loss: 608.2255 - val_accuracy: 0.4854\n",
      "Epoch 145/150\n",
      "152/152 [==============================] - 27s 175ms/step - loss: 0.3378 - accuracy: 0.8510 - val_loss: 933.3907 - val_accuracy: 0.4904\n",
      "Epoch 146/150\n",
      "152/152 [==============================] - 27s 175ms/step - loss: 0.3218 - accuracy: 0.8582 - val_loss: 1766.1194 - val_accuracy: 0.5040\n",
      "Epoch 147/150\n",
      "152/152 [==============================] - 27s 175ms/step - loss: 0.3271 - accuracy: 0.8590 - val_loss: 8172265.5000 - val_accuracy: 0.5040\n",
      "Epoch 148/150\n",
      "152/152 [==============================] - 27s 175ms/step - loss: 0.3186 - accuracy: 0.8632 - val_loss: 439.7483 - val_accuracy: 0.5096\n",
      "Epoch 149/150\n",
      "152/152 [==============================] - 27s 175ms/step - loss: 0.3238 - accuracy: 0.8617 - val_loss: 4271.0679 - val_accuracy: 0.5133\n",
      "Epoch 150/150\n",
      "152/152 [==============================] - 27s 175ms/step - loss: 0.3291 - accuracy: 0.8586 - val_loss: 127809.7656 - val_accuracy: 0.4935\n",
      "elapsed time training dataset (sec): 3991.228631734848\n"
     ]
    }
   ],
   "source": [
    "start_time = time.time()\n",
    "\n",
    "hist = model.fit(x_train, y_train,\n",
    "                 epochs=n_epochs,\n",
    "                 batch_size=batch_size,\n",
    "                 validation_split=validation_split,\n",
    "                 shuffle=True,\n",
    "                 verbose=1)\n",
    "\n",
    "print('elapsed time training dataset (sec):', time.time() - start_time)\n",
    "\n",
    "model.save(model_save_path)"
   ]
  },
  {
   "cell_type": "code",
   "execution_count": 17,
   "id": "b34313fb",
   "metadata": {},
   "outputs": [
    {
     "data": {
      "image/png": "[encoded data removed]",
      "text/plain": [
       "<Figure size 1080x360 with 2 Axes>"
      ]
     },
     "metadata": {
      "needs_background": "light"
     },
     "output_type": "display_data"
    }
   ],
   "source": [
    "history_dict = hist.history\n",
    "\n",
    "loss_values = history_dict['loss']\n",
    "acc_values = history_dict['accuracy']\n",
    "if split_val:\n",
    "    val_loss_values = history_dict['val_loss']\n",
    "    val_acc_values = history_dict['val_accuracy']\n",
    "\n",
    "fig, (ax1, ax2) = plt.subplots(1, 2, figsize=(15, 5))\n",
    "\n",
    "ax1.plot(loss_values, 'blue', label='Training Loss')\n",
    "if split_val:\n",
    "    ax1.plot(val_loss_values, 'orange', label='Validation Loss')\n",
    "ax1.set_title('Training and validation loss')\n",
    "ax1.set_xlabel('Epochs')\n",
    "ax1.set_ylabel('Loss')\n",
    "ax1.legend()\n",
    "\n",
    "ax2.plot(acc_values, 'blue', label='Training accuracy')\n",
    "if split_val:\n",
    "    ax2.plot(val_acc_values, 'orange', label='Validation accuracy')\n",
    "ax2.set_title('Training and validation accuracy')\n",
    "ax2.set_xlabel('Epochs')\n",
    "ax2.set_ylabel('Accuracy')\n",
    "ax2.legend()\n",
    "\n",
    "plt.show()"
   ]
  },
  {
   "cell_type": "code",
   "execution_count": 18,
   "id": "70146c37",
   "metadata": {},
   "outputs": [
    {
     "name": "stdout",
     "output_type": "stream",
     "text": [
      "51/51 [==============================] - 3s 54ms/step - loss: 86850.4141 - accuracy: 0.5053\n",
      "test loss: 86850.4140625\n",
      "test accuracy: 0.5052697062492371\n"
     ]
    }
   ],
   "source": [
    "loss, accuracy = model.evaluate(x_test, y_test)\n",
    "print('test loss:', loss)\n",
    "print('test accuracy:', accuracy)"
   ]
  },
  {
   "cell_type": "markdown",
   "id": "a367cc71",
   "metadata": {},
   "source": [
    "# 파일 테스트"
   ]
  },
  {
   "cell_type": "code",
   "execution_count": 19,
   "id": "95a5f7a5",
   "metadata": {},
   "outputs": [],
   "source": [
    "test_file_name = 'dataset/negative/1001_DFA_ANG_XX.wav'"
   ]
  },
  {
   "cell_type": "code",
   "execution_count": 21,
   "id": "66148657",
   "metadata": {},
   "outputs": [
    {
     "name": "stdout",
     "output_type": "stream",
     "text": [
      "classification result: NEGATIVE\n"
     ]
    }
   ],
   "source": [
    "prediction_feature = extract_feature(test_file_name, num_rows).reshape((1, ) + feature_shape)\n",
    "prediction_feature = pca.transform(prediction_feature)\n",
    "prediction_feature = prediction_feature.reshape(prediction_feature.shape + (1, ))\n",
    "\n",
    "model = load_model(model_save_path)\n",
    "\n",
    "predicted_proba = model.predict(prediction_feature)[0]\n",
    "predicted_class = np.argmax(predicted_proba)\n",
    "\n",
    "print('classification result:', le.classes_[predicted_class])"
   ]
  },
  {
   "cell_type": "code",
   "execution_count": null,
   "id": "db540429",
   "metadata": {},
   "outputs": [],
   "source": []
  }
 ],
 "metadata": {
  "kernelspec": {
   "display_name": "emotion",
   "language": "python",
   "name": "emotion"
  },
  "language_info": {
   "codemirror_mode": {
    "name": "ipython",
    "version": 3
   },
   "file_extension": ".py",
   "mimetype": "text/x-python",
   "name": "python",
   "nbconvert_exporter": "python",
   "pygments_lexer": "ipython3",
   "version": "3.8.8"
  }
 },
 "nbformat": 4,
 "nbformat_minor": 5
}
