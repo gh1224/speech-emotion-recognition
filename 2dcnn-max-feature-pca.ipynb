{
 "cells": [
  {
   "cell_type": "code",
   "execution_count": null,
   "id": "90230a47",
   "metadata": {},
   "outputs": [],
   "source": [
    "\"\"\"\n",
    "데이터셋\n",
    "Crema, Ravdess, Tess, Savee\n",
    "\n",
    "Positive: happiness - 2323\n",
    "Neutral: neutral, calmness - 1895\n",
    "Negative: anger, sadness - 3846\n",
    "\"\"\""
   ]
  },
  {
   "cell_type": "code",
   "execution_count": 1,
   "id": "736ee2e8",
   "metadata": {},
   "outputs": [
    {
     "name": "stderr",
     "output_type": "stream",
     "text": [
      "C:\\Users\\DeepLearning_5\\Anaconda3\\lib\\site-packages\\requests\\__init__.py:89: RequestsDependencyWarning: urllib3 (1.24.3) or chardet (4.0.0) doesn't match a supported version!\n",
      "  warnings.warn(\"urllib3 ({}) or chardet ({}) doesn't match a supported \"\n"
     ]
    }
   ],
   "source": [
    "import numpy as np\n",
    "import time\n",
    "from tqdm import tqdm\n",
    "import os\n",
    "import librosa\n",
    "import matplotlib.pyplot as plt\n",
    "\n",
    "from sklearn.preprocessing import LabelEncoder\n",
    "from sklearn.model_selection import train_test_split\n",
    "from sklearn.decomposition import PCA\n",
    "\n",
    "from keras.utils.np_utils import to_categorical\n",
    "from keras.models import load_model, Sequential\n",
    "from keras.layers import Conv2D, MaxPooling2D, Flatten, BatchNormalization, Dense, Dropout"
   ]
  },
  {
   "cell_type": "code",
   "execution_count": 2,
   "id": "1ce1ef09",
   "metadata": {},
   "outputs": [],
   "source": [
    "base_dir = 'dataset'\n",
    "\n",
    "n_mfcc = 128\n",
    "num_rows = 150\n",
    "num_columns = 153\n",
    "pca_components = 50\n",
    "feature_shape = (num_rows, num_columns)\n",
    "input_shape = (num_rows, pca_components, 1)\n",
    "\n",
    "n_epochs = 150\n",
    "batch_size = None\n",
    "split_val = True\n",
    "\n",
    "model_save_path = 'saved_models/model.h5'"
   ]
  },
  {
   "cell_type": "code",
   "execution_count": 3,
   "id": "a39885db",
   "metadata": {},
   "outputs": [],
   "source": [
    "def load_feature_tuple(file_name):\n",
    "    y, sr = librosa.load(file_name, mono=True)\n",
    "\n",
    "    mfcc = librosa.feature.mfcc(y=y, sr=sr, n_mfcc=n_mfcc)\n",
    "    \n",
    "    spectral_centroid = librosa.feature.spectral_centroid(y=y, sr=sr)\n",
    "    spectral_bandwidth = librosa.feature.spectral_bandwidth(y=y, sr=sr)\n",
    "    spectral_contrast = librosa.feature.spectral_contrast(y=y, sr=sr)\n",
    "    spectral_flatness = librosa.feature.spectral_flatness(y=y)\n",
    "    spectral_rolloff = librosa.feature.spectral_rolloff(y=y, sr=sr)\n",
    "    \n",
    "    zero_crossing_rate = librosa.feature.zero_crossing_rate(y=y)\n",
    "    \n",
    "    chroma_stft = librosa.feature.chroma_stft(y=y, sr=sr)\n",
    "    \n",
    "    rms = librosa.feature.rms(y=y)\n",
    "    \n",
    "    return mfcc, spectral_centroid, spectral_bandwidth, spectral_contrast, spectral_flatness, spectral_rolloff, zero_crossing_rate, chroma_stft, rms"
   ]
  },
  {
   "cell_type": "code",
   "execution_count": 4,
   "id": "e8cccf27",
   "metadata": {},
   "outputs": [],
   "source": [
    "def pad_feature_width(feature, feature_width):\n",
    "    diff = feature_width - feature.shape[1]\n",
    "    if diff > 0:\n",
    "        return np.pad(feature, pad_width=((0, 0), (0, diff)), mode='constant')\n",
    "    elif diff < 0:\n",
    "        return np.delete(feature, np.arange(feature_width, feature.shape[1]), axis=1)\n",
    "    return feature"
   ]
  },
  {
   "cell_type": "code",
   "execution_count": 5,
   "id": "15aa2cbc",
   "metadata": {},
   "outputs": [],
   "source": [
    "def extract_feature(file_name, feature_width):\n",
    "    image = np.concatenate(load_feature_tuple(file_name), axis=0)\n",
    "    image = pad_feature_width(image, feature_width)\n",
    "    image = np.transpose(image)\n",
    "    return image"
   ]
  },
  {
   "cell_type": "code",
   "execution_count": 6,
   "id": "4158fb8c",
   "metadata": {},
   "outputs": [],
   "source": [
    "def fetch_dataset(dir_path, label):\n",
    "    _features = np.empty((0, ) + feature_shape)\n",
    "    for file_name in tqdm(os.listdir(dir_path)):\n",
    "        file_path = os.path.join(dir_path, file_name)\n",
    "        feature = extract_feature(file_path, feature_shape[0]).reshape((1, ) + feature_shape)\n",
    "        _features = np.append(_features, feature, axis=0)\n",
    "\n",
    "    _labels = np.full((_features.shape[0], ), label)\n",
    "\n",
    "    return _features, _labels"
   ]
  },
  {
   "cell_type": "markdown",
   "id": "68afff4f",
   "metadata": {},
   "source": [
    "# 데이터셋 가져오기"
   ]
  },
  {
   "cell_type": "code",
   "execution_count": 7,
   "id": "168ee650",
   "metadata": {},
   "outputs": [
    {
     "name": "stderr",
     "output_type": "stream",
     "text": [
      "100%|██████████████████████████████████████████████████████████████████████████████| 2323/2323 [08:33<00:00,  4.52it/s]\n",
      "100%|██████████████████████████████████████████████████████████████████████████████| 1895/1895 [06:47<00:00,  4.66it/s]\n",
      " 65%|██████████████████████████████████████████████████▋                           | 2497/3846 [10:19<07:46,  2.89it/s]C:\\Users\\DeepLearning_5\\Anaconda3\\lib\\site-packages\\librosa\\core\\pitch.py:153: UserWarning: Trying to estimate tuning from empty frequency set.\n",
      "  warnings.warn(\"Trying to estimate tuning from empty frequency set.\")\n",
      "100%|██████████████████████████████████████████████████████████████████████████████| 3846/3846 [19:42<00:00,  3.25it/s]"
     ]
    },
    {
     "name": "stdout",
     "output_type": "stream",
     "text": [
      "elapsed time fetching dataset (sec): 2103.3172903060913\n"
     ]
    },
    {
     "name": "stderr",
     "output_type": "stream",
     "text": [
      "\n"
     ]
    }
   ],
   "source": [
    "start_time = time.time()\n",
    "\n",
    "positive_features, positive_labels = fetch_dataset(base_dir + '/positive', 'POSITIVE')\n",
    "neutral_features, neutral_labels = fetch_dataset(base_dir + '/neutral', 'NEUTRAL')\n",
    "negative_features, negative_labels = fetch_dataset(base_dir + '/negative', 'NEGATIVE')\n",
    "\n",
    "print('elapsed time fetching dataset (sec):', time.time() - start_time)"
   ]
  },
  {
   "cell_type": "code",
   "execution_count": 8,
   "id": "c1ca2ae7",
   "metadata": {},
   "outputs": [
    {
     "name": "stdout",
     "output_type": "stream",
     "text": [
      "features shape: (8064, 150, 153)\n",
      "labels shape before encoding: (8064,)\n"
     ]
    }
   ],
   "source": [
    "features = np.concatenate((positive_features, neutral_features, negative_features), axis=0)\n",
    "labels = np.concatenate((positive_labels, neutral_labels, negative_labels), axis=0)\n",
    "\n",
    "print('features shape:', features.shape)\n",
    "print('labels shape before encoding:', labels.shape)"
   ]
  },
  {
   "cell_type": "code",
   "execution_count": 9,
   "id": "ad68ccfe",
   "metadata": {},
   "outputs": [
    {
     "name": "stdout",
     "output_type": "stream",
     "text": [
      "labels shape after encoding: (8064, 3)\n",
      "label encoder classes: ['NEGATIVE' 'NEUTRAL' 'POSITIVE']\n"
     ]
    }
   ],
   "source": [
    "le = LabelEncoder()\n",
    "labels = to_categorical(le.fit_transform(labels))\n",
    "print('labels shape after encoding:', labels.shape)\n",
    "print('label encoder classes:', le.classes_)"
   ]
  },
  {
   "cell_type": "code",
   "execution_count": 10,
   "id": "e2fcddb0",
   "metadata": {},
   "outputs": [],
   "source": [
    "x_train, x_test, y_train, y_test = train_test_split(features, labels, test_size=0.2)"
   ]
  },
  {
   "cell_type": "code",
   "execution_count": 11,
   "id": "8b3ec103",
   "metadata": {},
   "outputs": [
    {
     "name": "stdout",
     "output_type": "stream",
     "text": [
      "x_train shape before PCA: (6451, 150, 153)\n",
      "x_test shape before PCA: (1613, 150, 153)\n",
      "x_train shape after PCA: (6451, 150, 50, 1)\n",
      "x_test shape after PCA: (1613, 150, 50, 1)\n"
     ]
    }
   ],
   "source": [
    "print('x_train shape before PCA:', x_train.shape)\n",
    "print('x_test shape before PCA:', x_test.shape)\n",
    "\n",
    "pca = PCA(n_components=pca_components)\n",
    "x_train = pca.fit_transform(x_train.reshape((-1, num_columns))).reshape((-1,) + input_shape)\n",
    "x_test = pca.transform(x_test.reshape((-1, num_columns))).reshape((-1,) + input_shape)\n",
    "\n",
    "print('x_train shape after PCA:', x_train.shape)\n",
    "print('x_test shape after PCA:', x_test.shape)"
   ]
  },
  {
   "cell_type": "markdown",
   "id": "bf4f35c8",
   "metadata": {},
   "source": [
    "# 학습"
   ]
  },
  {
   "cell_type": "code",
   "execution_count": 12,
   "id": "1d785a86",
   "metadata": {
    "scrolled": true
   },
   "outputs": [
    {
     "name": "stdout",
     "output_type": "stream",
     "text": [
      "Model: \"sequential\"\n",
      "_________________________________________________________________\n",
      " Layer (type)                Output Shape              Param #   \n",
      "=================================================================\n",
      " block1_conv1 (Conv2D)       (None, 150, 50, 64)       640       \n",
      "                                                                 \n",
      " block1_conv2 (Conv2D)       (None, 150, 50, 64)       36928     \n",
      "                                                                 \n",
      " block1_pool (MaxPooling2D)  (None, 75, 25, 64)        0         \n",
      "                                                                 \n",
      " block2_conv1 (Conv2D)       (None, 75, 25, 128)       73856     \n",
      "                                                                 \n",
      " block2_conv2 (Conv2D)       (None, 75, 25, 128)       147584    \n",
      "                                                                 \n",
      " block2_pool (MaxPooling2D)  (None, 37, 12, 128)       0         \n",
      "                                                                 \n",
      " block3_conv1 (Conv2D)       (None, 37, 12, 256)       295168    \n",
      "                                                                 \n",
      " block3_conv2 (Conv2D)       (None, 37, 12, 256)       590080    \n",
      "                                                                 \n",
      " block3_conv3 (Conv2D)       (None, 37, 12, 256)       590080    \n",
      "                                                                 \n",
      " block3_pool (MaxPooling2D)  (None, 18, 6, 256)        0         \n",
      "                                                                 \n",
      " block4_conv1 (Conv2D)       (None, 18, 6, 512)        1180160   \n",
      "                                                                 \n",
      " block4_conv2 (Conv2D)       (None, 18, 6, 512)        2359808   \n",
      "                                                                 \n",
      " block4_conv3 (Conv2D)       (None, 18, 6, 512)        2359808   \n",
      "                                                                 \n",
      " block4_pool (MaxPooling2D)  (None, 9, 3, 512)         0         \n",
      "                                                                 \n",
      " block5_conv1 (Conv2D)       (None, 9, 3, 512)         2359808   \n",
      "                                                                 \n",
      " block5_conv2 (Conv2D)       (None, 9, 3, 512)         2359808   \n",
      "                                                                 \n",
      " block5_conv3 (Conv2D)       (None, 9, 3, 512)         2359808   \n",
      "                                                                 \n",
      " block5_pool (MaxPooling2D)  (None, 4, 1, 512)         0         \n",
      "                                                                 \n",
      " flatten (Flatten)           (None, 2048)              0         \n",
      "                                                                 \n",
      " batch_normalization (BatchN  (None, 2048)             8192      \n",
      " ormalization)                                                   \n",
      "                                                                 \n",
      " dense (Dense)               (None, 1024)              2098176   \n",
      "                                                                 \n",
      " dropout (Dropout)           (None, 1024)              0         \n",
      "                                                                 \n",
      " dense_1 (Dense)             (None, 3)                 3075      \n",
      "                                                                 \n",
      "=================================================================\n",
      "Total params: 16,822,979\n",
      "Trainable params: 16,818,883\n",
      "Non-trainable params: 4,096\n",
      "_________________________________________________________________\n"
     ]
    }
   ],
   "source": [
    "model = Sequential()\n",
    "\n",
    "# Block 1\n",
    "model.add(Conv2D(64, (3, 3), activation='relu', padding='same', name='block1_conv1', input_shape=input_shape))\n",
    "model.add(Conv2D(64, (3, 3), activation='relu', padding='same', name='block1_conv2'))\n",
    "model.add(MaxPooling2D(2, strides=(2, 2), name='block1_pool'))\n",
    "\n",
    "# Block 2\n",
    "model.add(Conv2D(128, (3, 3), activation='relu', padding='same', name='block2_conv1'))\n",
    "model.add(Conv2D(128, (3, 3), activation='relu', padding='same', name='block2_conv2'))\n",
    "model.add(MaxPooling2D(2, strides=(2, 2), name='block2_pool'))\n",
    "\n",
    "# Block 3\n",
    "model.add(Conv2D(256, (3, 3), activation='relu', padding='same', name='block3_conv1'))\n",
    "model.add(Conv2D(256, (3, 3), activation='relu', padding='same', name='block3_conv2'))\n",
    "model.add(Conv2D(256, (3, 3), activation='relu', padding='same', name='block3_conv3'))\n",
    "model.add(MaxPooling2D(2, strides=(2, 2), name='block3_pool'))\n",
    "\n",
    "# Block 4\n",
    "model.add(Conv2D(512, (3, 3), activation='relu', padding='same', name='block4_conv1'))\n",
    "model.add(Conv2D(512, (3, 3), activation='relu', padding='same', name='block4_conv2'))\n",
    "model.add(Conv2D(512, (3, 3), activation='relu', padding='same', name='block4_conv3'))\n",
    "model.add(MaxPooling2D(2, strides=(2, 2), name='block4_pool'))\n",
    "\n",
    "# Block 5\n",
    "model.add(Conv2D(512, (3, 3), activation='relu', padding='same', name='block5_conv1'))\n",
    "model.add(Conv2D(512, (3, 3), activation='relu', padding='same', name='block5_conv2'))\n",
    "model.add(Conv2D(512, (3, 3), activation='relu', padding='same', name='block5_conv3'))\n",
    "model.add(MaxPooling2D(2, strides=(2, 2), name='block5_pool'))\n",
    "\n",
    "model.add(Flatten())\n",
    "model.add(BatchNormalization())\n",
    "model.add(Dense(1024, activation='relu'))\n",
    "model.add(Dropout(0.5))\n",
    "model.add(Dense(3, activation='softmax'))\n",
    "\n",
    "model.summary()"
   ]
  },
  {
   "cell_type": "code",
   "execution_count": 13,
   "id": "8afcb6a5",
   "metadata": {},
   "outputs": [],
   "source": [
    "model.compile(loss='categorical_crossentropy', metrics=['accuracy'], optimizer='adam')"
   ]
  },
  {
   "cell_type": "code",
   "execution_count": 14,
   "id": "8ed3004b",
   "metadata": {},
   "outputs": [],
   "source": [
    "if split_val:\n",
    "    validation_split = 0.25\n",
    "else:\n",
    "    validation_split = 0.0"
   ]
  },
  {
   "cell_type": "code",
   "execution_count": 15,
   "id": "2eb3a18d",
   "metadata": {},
   "outputs": [
    {
     "name": "stdout",
     "output_type": "stream",
     "text": [
      "Epoch 1/150\n",
      "152/152 [==============================] - 14s 68ms/step - loss: 2.1833 - accuracy: 0.4101 - val_loss: 13.8334 - val_accuracy: 0.3007\n",
      "Epoch 2/150\n",
      "152/152 [==============================] - 9s 62ms/step - loss: 1.4556 - accuracy: 0.4415 - val_loss: 14.3261 - val_accuracy: 0.3131\n",
      "Epoch 3/150\n",
      "152/152 [==============================] - 9s 62ms/step - loss: 1.0638 - accuracy: 0.4998 - val_loss: 1.1416 - val_accuracy: 0.5189\n",
      "Epoch 4/150\n",
      "152/152 [==============================] - 9s 62ms/step - loss: 0.9542 - accuracy: 0.5335 - val_loss: 3.0438 - val_accuracy: 0.4681\n",
      "Epoch 5/150\n",
      "152/152 [==============================] - 9s 62ms/step - loss: 0.8569 - accuracy: 0.5810 - val_loss: 1.1719 - val_accuracy: 0.4761\n",
      "Epoch 6/150\n",
      "152/152 [==============================] - 9s 62ms/step - loss: 0.8141 - accuracy: 0.6038 - val_loss: 0.8740 - val_accuracy: 0.5449\n",
      "Epoch 7/150\n",
      "152/152 [==============================] - 9s 62ms/step - loss: 0.7456 - accuracy: 0.6441 - val_loss: 0.8089 - val_accuracy: 0.6317\n",
      "Epoch 8/150\n",
      "152/152 [==============================] - 9s 62ms/step - loss: 0.7211 - accuracy: 0.6538 - val_loss: 1.2229 - val_accuracy: 0.5828\n",
      "Epoch 9/150\n",
      "152/152 [==============================] - 9s 62ms/step - loss: 0.6945 - accuracy: 0.6773 - val_loss: 0.7116 - val_accuracy: 0.6627\n",
      "Epoch 10/150\n",
      "152/152 [==============================] - 9s 62ms/step - loss: 0.6821 - accuracy: 0.6786 - val_loss: 63.2557 - val_accuracy: 0.6435\n",
      "Epoch 11/150\n",
      "152/152 [==============================] - 9s 62ms/step - loss: 0.6463 - accuracy: 0.6995 - val_loss: 3.9146 - val_accuracy: 0.5735\n",
      "Epoch 12/150\n",
      "152/152 [==============================] - 9s 62ms/step - loss: 0.6687 - accuracy: 0.6881 - val_loss: 69.3579 - val_accuracy: 0.6696\n",
      "Epoch 13/150\n",
      "152/152 [==============================] - 9s 62ms/step - loss: 0.6469 - accuracy: 0.6959 - val_loss: 0.7291 - val_accuracy: 0.6875\n",
      "Epoch 14/150\n",
      "152/152 [==============================] - 9s 62ms/step - loss: 0.6228 - accuracy: 0.7081 - val_loss: 0.7454 - val_accuracy: 0.6702\n",
      "Epoch 15/150\n",
      "152/152 [==============================] - 9s 62ms/step - loss: 0.6263 - accuracy: 0.7048 - val_loss: 0.6839 - val_accuracy: 0.6745\n",
      "Epoch 16/150\n",
      "152/152 [==============================] - 10s 63ms/step - loss: 0.5987 - accuracy: 0.7286 - val_loss: 0.7003 - val_accuracy: 0.6745\n",
      "Epoch 17/150\n",
      "152/152 [==============================] - 9s 62ms/step - loss: 0.5988 - accuracy: 0.7201 - val_loss: 64.0871 - val_accuracy: 0.6367\n",
      "Epoch 18/150\n",
      "152/152 [==============================] - 9s 62ms/step - loss: 0.5794 - accuracy: 0.7363 - val_loss: 0.9299 - val_accuracy: 0.6609\n",
      "Epoch 19/150\n",
      "152/152 [==============================] - 9s 62ms/step - loss: 0.5517 - accuracy: 0.7497 - val_loss: 0.6494 - val_accuracy: 0.6882\n",
      "Epoch 20/150\n",
      "152/152 [==============================] - 9s 62ms/step - loss: 0.5546 - accuracy: 0.7544 - val_loss: 0.6374 - val_accuracy: 0.7086\n",
      "Epoch 21/150\n",
      "152/152 [==============================] - 9s 62ms/step - loss: 0.5588 - accuracy: 0.7538 - val_loss: 0.6721 - val_accuracy: 0.7037\n",
      "Epoch 22/150\n",
      "152/152 [==============================] - 9s 62ms/step - loss: 0.5439 - accuracy: 0.7516 - val_loss: 0.6661 - val_accuracy: 0.6956\n",
      "Epoch 23/150\n",
      "152/152 [==============================] - 9s 62ms/step - loss: 0.5254 - accuracy: 0.7679 - val_loss: 0.9685 - val_accuracy: 0.6801\n",
      "Epoch 24/150\n",
      "152/152 [==============================] - 9s 62ms/step - loss: 0.5129 - accuracy: 0.7710 - val_loss: 0.6624 - val_accuracy: 0.6956\n",
      "Epoch 25/150\n",
      "152/152 [==============================] - 9s 62ms/step - loss: 0.5005 - accuracy: 0.7797 - val_loss: 0.7699 - val_accuracy: 0.6782\n",
      "Epoch 26/150\n",
      "152/152 [==============================] - 9s 62ms/step - loss: 0.4786 - accuracy: 0.7807 - val_loss: 1.5848 - val_accuracy: 0.6299\n",
      "Epoch 27/150\n",
      "152/152 [==============================] - 9s 62ms/step - loss: 0.4655 - accuracy: 0.7958 - val_loss: 1.5359 - val_accuracy: 0.6156\n",
      "Epoch 28/150\n",
      "152/152 [==============================] - 9s 62ms/step - loss: 0.4524 - accuracy: 0.8030 - val_loss: 581.5408 - val_accuracy: 0.7037\n",
      "Epoch 29/150\n",
      "152/152 [==============================] - 9s 62ms/step - loss: 0.4337 - accuracy: 0.8185 - val_loss: 1.8008 - val_accuracy: 0.5697\n",
      "Epoch 30/150\n",
      "152/152 [==============================] - 9s 62ms/step - loss: 0.4356 - accuracy: 0.8100 - val_loss: 0.9545 - val_accuracy: 0.6869\n",
      "Epoch 31/150\n",
      "152/152 [==============================] - 9s 62ms/step - loss: 0.4418 - accuracy: 0.8121 - val_loss: 7563.7188 - val_accuracy: 0.6733\n",
      "Epoch 32/150\n",
      "152/152 [==============================] - 9s 62ms/step - loss: 0.4168 - accuracy: 0.8260 - val_loss: 323.2141 - val_accuracy: 0.5747\n",
      "Epoch 33/150\n",
      "152/152 [==============================] - 9s 62ms/step - loss: 0.3733 - accuracy: 0.8382 - val_loss: 15.2931 - val_accuracy: 0.6999\n",
      "Epoch 34/150\n",
      "152/152 [==============================] - 9s 62ms/step - loss: 0.3487 - accuracy: 0.8541 - val_loss: 1.4993 - val_accuracy: 0.5797\n",
      "Epoch 35/150\n",
      "152/152 [==============================] - 9s 62ms/step - loss: 0.2957 - accuracy: 0.8793 - val_loss: 0.8020 - val_accuracy: 0.6801\n",
      "Epoch 36/150\n",
      "152/152 [==============================] - 9s 62ms/step - loss: 0.3110 - accuracy: 0.8694 - val_loss: 0.8296 - val_accuracy: 0.6931\n",
      "Epoch 37/150\n",
      "152/152 [==============================] - 9s 62ms/step - loss: 0.2805 - accuracy: 0.8869 - val_loss: 2.3099 - val_accuracy: 0.6739\n",
      "Epoch 38/150\n",
      "152/152 [==============================] - 9s 62ms/step - loss: 0.2823 - accuracy: 0.8849 - val_loss: 7270.7583 - val_accuracy: 0.6280\n",
      "Epoch 39/150\n",
      "152/152 [==============================] - 9s 62ms/step - loss: 0.2442 - accuracy: 0.9010 - val_loss: 2674.0935 - val_accuracy: 0.6937\n",
      "Epoch 40/150\n",
      "152/152 [==============================] - 9s 62ms/step - loss: 0.2493 - accuracy: 0.9020 - val_loss: 1.0804 - val_accuracy: 0.7037\n",
      "Epoch 41/150\n",
      "152/152 [==============================] - 9s 62ms/step - loss: 0.2147 - accuracy: 0.9210 - val_loss: 1.1229 - val_accuracy: 0.7043\n",
      "Epoch 42/150\n",
      "152/152 [==============================] - 9s 62ms/step - loss: 0.2151 - accuracy: 0.9229 - val_loss: 178.5879 - val_accuracy: 0.6944\n",
      "Epoch 43/150\n",
      "152/152 [==============================] - 9s 62ms/step - loss: 0.1781 - accuracy: 0.9310 - val_loss: 1.5217 - val_accuracy: 0.6795\n",
      "Epoch 44/150\n",
      "152/152 [==============================] - 9s 62ms/step - loss: 0.1881 - accuracy: 0.9303 - val_loss: 2.5908 - val_accuracy: 0.7049\n",
      "Epoch 45/150\n",
      "152/152 [==============================] - 9s 62ms/step - loss: 0.1805 - accuracy: 0.9330 - val_loss: 4301.5933 - val_accuracy: 0.6981\n",
      "Epoch 46/150\n",
      "152/152 [==============================] - 9s 62ms/step - loss: 0.1635 - accuracy: 0.9434 - val_loss: 14266.2705 - val_accuracy: 0.7043\n",
      "Epoch 47/150\n",
      "152/152 [==============================] - 9s 62ms/step - loss: 0.1130 - accuracy: 0.9624 - val_loss: 321.1916 - val_accuracy: 0.7136\n",
      "Epoch 48/150\n",
      "152/152 [==============================] - 9s 62ms/step - loss: 0.1300 - accuracy: 0.9545 - val_loss: 166432.5625 - val_accuracy: 0.6472\n",
      "Epoch 49/150\n",
      "152/152 [==============================] - 9s 62ms/step - loss: 0.1407 - accuracy: 0.9477 - val_loss: 2.3505 - val_accuracy: 0.6584\n",
      "Epoch 50/150\n",
      "152/152 [==============================] - 9s 62ms/step - loss: 0.1145 - accuracy: 0.9603 - val_loss: 2.1571 - val_accuracy: 0.6745\n",
      "Epoch 51/150\n",
      "152/152 [==============================] - 9s 61ms/step - loss: 0.0853 - accuracy: 0.9704 - val_loss: 1.5580 - val_accuracy: 0.7142\n",
      "Epoch 52/150\n",
      "152/152 [==============================] - 9s 61ms/step - loss: 0.0723 - accuracy: 0.9744 - val_loss: 1.8069 - val_accuracy: 0.7018\n",
      "Epoch 53/150\n",
      "152/152 [==============================] - 9s 62ms/step - loss: 0.0687 - accuracy: 0.9748 - val_loss: 1.7616 - val_accuracy: 0.6919\n",
      "Epoch 54/150\n",
      "152/152 [==============================] - 9s 62ms/step - loss: 0.1027 - accuracy: 0.9678 - val_loss: 4.5964 - val_accuracy: 0.6454\n",
      "Epoch 55/150\n",
      "152/152 [==============================] - 9s 62ms/step - loss: 0.1909 - accuracy: 0.9351 - val_loss: 1.1314 - val_accuracy: 0.7049\n",
      "Epoch 56/150\n",
      "152/152 [==============================] - 9s 62ms/step - loss: 0.0629 - accuracy: 0.9800 - val_loss: 1.5987 - val_accuracy: 0.7105\n",
      "Epoch 57/150\n"
     ]
    },
    {
     "name": "stdout",
     "output_type": "stream",
     "text": [
      "152/152 [==============================] - 9s 62ms/step - loss: 0.0692 - accuracy: 0.9762 - val_loss: 2.4352 - val_accuracy: 0.6708\n",
      "Epoch 58/150\n",
      "152/152 [==============================] - 9s 62ms/step - loss: 0.1246 - accuracy: 0.9618 - val_loss: 97.0711 - val_accuracy: 0.6317\n",
      "Epoch 59/150\n",
      "152/152 [==============================] - 9s 62ms/step - loss: 0.0704 - accuracy: 0.9771 - val_loss: 117.6073 - val_accuracy: 0.6987\n",
      "Epoch 60/150\n",
      "152/152 [==============================] - 9s 62ms/step - loss: 0.0734 - accuracy: 0.9744 - val_loss: 2.8128 - val_accuracy: 0.6832\n",
      "Epoch 61/150\n",
      "152/152 [==============================] - 9s 62ms/step - loss: 0.0648 - accuracy: 0.9777 - val_loss: 2878.5532 - val_accuracy: 0.6956\n",
      "Epoch 62/150\n",
      "152/152 [==============================] - 9s 62ms/step - loss: 0.0638 - accuracy: 0.9797 - val_loss: 44348.1367 - val_accuracy: 0.6826\n",
      "Epoch 63/150\n",
      "152/152 [==============================] - 9s 62ms/step - loss: 0.1091 - accuracy: 0.9636 - val_loss: 5886.0918 - val_accuracy: 0.7049\n",
      "Epoch 64/150\n",
      "152/152 [==============================] - 9s 62ms/step - loss: 0.0575 - accuracy: 0.9814 - val_loss: 963.7758 - val_accuracy: 0.7037\n",
      "Epoch 65/150\n",
      "152/152 [==============================] - 9s 62ms/step - loss: 0.1171 - accuracy: 0.9642 - val_loss: 2.2040 - val_accuracy: 0.6801\n",
      "Epoch 66/150\n",
      "152/152 [==============================] - 9s 62ms/step - loss: 0.0308 - accuracy: 0.9893 - val_loss: 589.1738 - val_accuracy: 0.6999\n",
      "Epoch 67/150\n",
      "152/152 [==============================] - 9s 62ms/step - loss: 0.0400 - accuracy: 0.9876 - val_loss: 1.8561 - val_accuracy: 0.7068\n",
      "Epoch 68/150\n",
      "152/152 [==============================] - 9s 62ms/step - loss: 0.0803 - accuracy: 0.9723 - val_loss: 56709.4961 - val_accuracy: 0.6937\n",
      "Epoch 69/150\n",
      "152/152 [==============================] - 9s 62ms/step - loss: 0.0480 - accuracy: 0.9868 - val_loss: 3.0228 - val_accuracy: 0.6534\n",
      "Epoch 70/150\n",
      "152/152 [==============================] - 9s 62ms/step - loss: 0.0926 - accuracy: 0.9700 - val_loss: 3.3736 - val_accuracy: 0.6472\n",
      "Epoch 71/150\n",
      "152/152 [==============================] - 9s 62ms/step - loss: 0.0264 - accuracy: 0.9913 - val_loss: 2.0218 - val_accuracy: 0.7018\n",
      "Epoch 72/150\n",
      "152/152 [==============================] - 9s 62ms/step - loss: 0.0477 - accuracy: 0.9847 - val_loss: 1.8272 - val_accuracy: 0.6820\n",
      "Epoch 73/150\n",
      "152/152 [==============================] - 9s 61ms/step - loss: 0.0610 - accuracy: 0.9822 - val_loss: 190.6662 - val_accuracy: 0.6714\n",
      "Epoch 74/150\n",
      "152/152 [==============================] - 9s 62ms/step - loss: 0.0498 - accuracy: 0.9843 - val_loss: 2.1990 - val_accuracy: 0.6968\n",
      "Epoch 75/150\n",
      "152/152 [==============================] - 9s 61ms/step - loss: 0.0942 - accuracy: 0.9746 - val_loss: 3.2117 - val_accuracy: 0.6559\n",
      "Epoch 76/150\n",
      "152/152 [==============================] - 9s 62ms/step - loss: 0.0192 - accuracy: 0.9942 - val_loss: 2.1132 - val_accuracy: 0.7043\n",
      "Epoch 77/150\n",
      "152/152 [==============================] - 9s 62ms/step - loss: 0.0587 - accuracy: 0.9810 - val_loss: 2.1769 - val_accuracy: 0.6882\n",
      "Epoch 78/150\n",
      "152/152 [==============================] - 9s 62ms/step - loss: 0.0279 - accuracy: 0.9899 - val_loss: 2.2595 - val_accuracy: 0.6931\n",
      "Epoch 79/150\n",
      "152/152 [==============================] - 9s 62ms/step - loss: 0.0354 - accuracy: 0.9888 - val_loss: 2.2240 - val_accuracy: 0.7006\n",
      "Epoch 80/150\n",
      "152/152 [==============================] - 9s 62ms/step - loss: 0.0485 - accuracy: 0.9845 - val_loss: 2.0062 - val_accuracy: 0.7024\n",
      "Epoch 81/150\n",
      "152/152 [==============================] - 9s 62ms/step - loss: 0.0465 - accuracy: 0.9851 - val_loss: 3.5669 - val_accuracy: 0.6689\n",
      "Epoch 82/150\n",
      "152/152 [==============================] - 9s 62ms/step - loss: 0.0691 - accuracy: 0.9795 - val_loss: 1.9423 - val_accuracy: 0.7099\n",
      "Epoch 83/150\n",
      "152/152 [==============================] - 9s 62ms/step - loss: 0.0431 - accuracy: 0.9851 - val_loss: 2.0090 - val_accuracy: 0.7055\n",
      "Epoch 84/150\n",
      "152/152 [==============================] - 9s 62ms/step - loss: 0.0727 - accuracy: 0.9773 - val_loss: 1.7616 - val_accuracy: 0.6937\n",
      "Epoch 85/150\n",
      "152/152 [==============================] - 9s 62ms/step - loss: 0.0522 - accuracy: 0.9839 - val_loss: 226736.8594 - val_accuracy: 0.7055\n",
      "Epoch 86/150\n",
      "152/152 [==============================] - 9s 62ms/step - loss: 0.0373 - accuracy: 0.9874 - val_loss: 33641.3711 - val_accuracy: 0.7092\n",
      "Epoch 87/150\n",
      "152/152 [==============================] - 9s 62ms/step - loss: 0.0351 - accuracy: 0.9905 - val_loss: 47632.7031 - val_accuracy: 0.7130\n",
      "Epoch 88/150\n",
      "152/152 [==============================] - 9s 62ms/step - loss: 0.1056 - accuracy: 0.9669 - val_loss: 1.7763 - val_accuracy: 0.7105\n",
      "Epoch 89/150\n",
      "152/152 [==============================] - 9s 62ms/step - loss: 0.0213 - accuracy: 0.9932 - val_loss: 3.5718 - val_accuracy: 0.6888\n",
      "Epoch 90/150\n",
      "152/152 [==============================] - 9s 62ms/step - loss: 0.0284 - accuracy: 0.9909 - val_loss: 1757.7843 - val_accuracy: 0.6423\n",
      "Epoch 91/150\n",
      "152/152 [==============================] - 9s 62ms/step - loss: 0.0558 - accuracy: 0.9843 - val_loss: 4.6379 - val_accuracy: 0.6931\n",
      "Epoch 92/150\n",
      "152/152 [==============================] - 9s 61ms/step - loss: 0.0299 - accuracy: 0.9907 - val_loss: 2.5914 - val_accuracy: 0.7037\n",
      "Epoch 93/150\n",
      "152/152 [==============================] - 9s 62ms/step - loss: 0.0376 - accuracy: 0.9886 - val_loss: 3144452.0000 - val_accuracy: 0.6702\n",
      "Epoch 94/150\n",
      "152/152 [==============================] - 9s 62ms/step - loss: 0.0348 - accuracy: 0.9897 - val_loss: 2.2030 - val_accuracy: 0.7030\n",
      "Epoch 95/150\n",
      "152/152 [==============================] - 9s 62ms/step - loss: 0.0704 - accuracy: 0.9789 - val_loss: 52495.3008 - val_accuracy: 0.6919\n",
      "Epoch 96/150\n",
      "152/152 [==============================] - 9s 62ms/step - loss: 0.0594 - accuracy: 0.9835 - val_loss: 75984.0547 - val_accuracy: 0.6882\n",
      "Epoch 97/150\n",
      "152/152 [==============================] - 9s 62ms/step - loss: 0.0262 - accuracy: 0.9915 - val_loss: 129726.7422 - val_accuracy: 0.6820\n",
      "Epoch 98/150\n",
      "152/152 [==============================] - 9s 62ms/step - loss: 0.0250 - accuracy: 0.9919 - val_loss: 2.4485 - val_accuracy: 0.6993\n",
      "Epoch 99/150\n",
      "152/152 [==============================] - 9s 62ms/step - loss: 0.0364 - accuracy: 0.9901 - val_loss: 38522.4141 - val_accuracy: 0.6838\n",
      "Epoch 100/150\n",
      "152/152 [==============================] - 9s 62ms/step - loss: 0.0193 - accuracy: 0.9934 - val_loss: 4356.7109 - val_accuracy: 0.6931\n",
      "Epoch 101/150\n",
      "152/152 [==============================] - 9s 62ms/step - loss: 0.0405 - accuracy: 0.9884 - val_loss: 1.9414 - val_accuracy: 0.6999\n",
      "Epoch 102/150\n",
      "152/152 [==============================] - 9s 62ms/step - loss: 0.0319 - accuracy: 0.9911 - val_loss: 18920.7461 - val_accuracy: 0.6882\n",
      "Epoch 103/150\n",
      "152/152 [==============================] - 9s 62ms/step - loss: 0.0231 - accuracy: 0.9940 - val_loss: 2.6848 - val_accuracy: 0.7080\n",
      "Epoch 104/150\n",
      "152/152 [==============================] - 9s 62ms/step - loss: 0.0426 - accuracy: 0.9913 - val_loss: 11260.2822 - val_accuracy: 0.6962\n",
      "Epoch 105/150\n",
      "152/152 [==============================] - 9s 62ms/step - loss: 0.0326 - accuracy: 0.9888 - val_loss: 2.4507 - val_accuracy: 0.6844\n",
      "Epoch 106/150\n",
      "152/152 [==============================] - 9s 62ms/step - loss: 0.0211 - accuracy: 0.9924 - val_loss: 3.3070 - val_accuracy: 0.6931\n",
      "Epoch 107/150\n",
      "152/152 [==============================] - 9s 62ms/step - loss: 0.0552 - accuracy: 0.9847 - val_loss: 2.2683 - val_accuracy: 0.7092\n",
      "Epoch 108/150\n",
      "152/152 [==============================] - 9s 62ms/step - loss: 0.0476 - accuracy: 0.9851 - val_loss: 2.2882 - val_accuracy: 0.6857\n",
      "Epoch 109/150\n",
      "152/152 [==============================] - 9s 62ms/step - loss: 0.0357 - accuracy: 0.9886 - val_loss: 2.2847 - val_accuracy: 0.6956\n",
      "Epoch 110/150\n",
      "152/152 [==============================] - 9s 62ms/step - loss: 0.0504 - accuracy: 0.9843 - val_loss: 3.7505 - val_accuracy: 0.6813\n",
      "Epoch 111/150\n",
      "152/152 [==============================] - 9s 62ms/step - loss: 0.0429 - accuracy: 0.9884 - val_loss: 2.1959 - val_accuracy: 0.6968\n",
      "Epoch 112/150\n",
      "152/152 [==============================] - 9s 62ms/step - loss: 0.0209 - accuracy: 0.9944 - val_loss: 2.9493 - val_accuracy: 0.7061\n"
     ]
    },
    {
     "name": "stdout",
     "output_type": "stream",
     "text": [
      "Epoch 113/150\n",
      "152/152 [==============================] - 9s 62ms/step - loss: 0.0377 - accuracy: 0.9901 - val_loss: 2.3840 - val_accuracy: 0.7037\n",
      "Epoch 114/150\n",
      "152/152 [==============================] - 9s 62ms/step - loss: 0.0290 - accuracy: 0.9919 - val_loss: 2.1741 - val_accuracy: 0.6944\n",
      "Epoch 115/150\n",
      "152/152 [==============================] - 9s 62ms/step - loss: 0.0324 - accuracy: 0.9886 - val_loss: 5.1184 - val_accuracy: 0.7123\n",
      "Epoch 116/150\n",
      "152/152 [==============================] - 9s 62ms/step - loss: 0.0554 - accuracy: 0.9851 - val_loss: 2.4997 - val_accuracy: 0.6919\n",
      "Epoch 117/150\n",
      "152/152 [==============================] - 9s 62ms/step - loss: 0.0483 - accuracy: 0.9872 - val_loss: 2.4130 - val_accuracy: 0.6789\n",
      "Epoch 118/150\n",
      "152/152 [==============================] - 9s 61ms/step - loss: 0.0275 - accuracy: 0.9911 - val_loss: 5025.5156 - val_accuracy: 0.6987\n",
      "Epoch 119/150\n",
      "152/152 [==============================] - 9s 62ms/step - loss: 0.1063 - accuracy: 0.9675 - val_loss: 2.2401 - val_accuracy: 0.6745\n",
      "Epoch 120/150\n",
      "152/152 [==============================] - 9s 62ms/step - loss: 0.0257 - accuracy: 0.9921 - val_loss: 2.3070 - val_accuracy: 0.6950\n",
      "Epoch 121/150\n",
      "152/152 [==============================] - 9s 62ms/step - loss: 0.0109 - accuracy: 0.9969 - val_loss: 2.7523 - val_accuracy: 0.6987\n",
      "Epoch 122/150\n",
      "152/152 [==============================] - 9s 62ms/step - loss: 0.0196 - accuracy: 0.9932 - val_loss: 3.0966 - val_accuracy: 0.6801\n",
      "Epoch 123/150\n",
      "152/152 [==============================] - 9s 62ms/step - loss: 0.0525 - accuracy: 0.9870 - val_loss: 1.9357 - val_accuracy: 0.7024\n",
      "Epoch 124/150\n",
      "152/152 [==============================] - 9s 62ms/step - loss: 0.0190 - accuracy: 0.9940 - val_loss: 2.3199 - val_accuracy: 0.6875\n",
      "Epoch 125/150\n",
      "152/152 [==============================] - 9s 62ms/step - loss: 0.0205 - accuracy: 0.9944 - val_loss: 3.3940 - val_accuracy: 0.7049\n",
      "Epoch 126/150\n",
      "152/152 [==============================] - 9s 62ms/step - loss: 0.0158 - accuracy: 0.9940 - val_loss: 2.5492 - val_accuracy: 0.7055\n",
      "Epoch 127/150\n",
      "152/152 [==============================] - 9s 61ms/step - loss: 0.0290 - accuracy: 0.9911 - val_loss: 2.4710 - val_accuracy: 0.7068\n",
      "Epoch 128/150\n",
      "152/152 [==============================] - 9s 61ms/step - loss: 0.0377 - accuracy: 0.9880 - val_loss: 75729.2734 - val_accuracy: 0.6931\n",
      "Epoch 129/150\n",
      "152/152 [==============================] - 9s 62ms/step - loss: 0.0451 - accuracy: 0.9866 - val_loss: 2.2173 - val_accuracy: 0.6993\n",
      "Epoch 130/150\n",
      "152/152 [==============================] - 9s 62ms/step - loss: 0.0210 - accuracy: 0.9938 - val_loss: 2.2755 - val_accuracy: 0.7043\n",
      "Epoch 131/150\n",
      "152/152 [==============================] - 9s 62ms/step - loss: 0.0642 - accuracy: 0.9855 - val_loss: 1.9285 - val_accuracy: 0.7055\n",
      "Epoch 132/150\n",
      "152/152 [==============================] - 9s 62ms/step - loss: 0.0112 - accuracy: 0.9973 - val_loss: 11235.5098 - val_accuracy: 0.6962\n",
      "Epoch 133/150\n",
      "152/152 [==============================] - 9s 62ms/step - loss: 0.0063 - accuracy: 0.9971 - val_loss: 2.7755 - val_accuracy: 0.6913\n",
      "Epoch 134/150\n",
      "152/152 [==============================] - 9s 62ms/step - loss: 0.0173 - accuracy: 0.9955 - val_loss: 2.4711 - val_accuracy: 0.6925\n",
      "Epoch 135/150\n",
      "152/152 [==============================] - 9s 62ms/step - loss: 0.0303 - accuracy: 0.9924 - val_loss: 2.3843 - val_accuracy: 0.6919\n",
      "Epoch 136/150\n",
      "152/152 [==============================] - 9s 62ms/step - loss: 0.0096 - accuracy: 0.9981 - val_loss: 2.8024 - val_accuracy: 0.6987\n",
      "Epoch 137/150\n",
      "152/152 [==============================] - 9s 62ms/step - loss: 0.0360 - accuracy: 0.9882 - val_loss: 653589.9375 - val_accuracy: 0.6813\n",
      "Epoch 138/150\n",
      "152/152 [==============================] - 9s 62ms/step - loss: 0.0422 - accuracy: 0.9868 - val_loss: 1827.0701 - val_accuracy: 0.6931\n",
      "Epoch 139/150\n",
      "152/152 [==============================] - 9s 62ms/step - loss: 0.0222 - accuracy: 0.9942 - val_loss: 2.4519 - val_accuracy: 0.7099\n",
      "Epoch 140/150\n",
      "152/152 [==============================] - 9s 62ms/step - loss: 0.0624 - accuracy: 0.9785 - val_loss: 2.3118 - val_accuracy: 0.7012\n",
      "Epoch 141/150\n",
      "152/152 [==============================] - 9s 62ms/step - loss: 0.0479 - accuracy: 0.9853 - val_loss: 8.7908 - val_accuracy: 0.6144\n",
      "Epoch 142/150\n",
      "152/152 [==============================] - 9s 62ms/step - loss: 0.0522 - accuracy: 0.9831 - val_loss: 2.4866 - val_accuracy: 0.7111\n",
      "Epoch 143/150\n",
      "152/152 [==============================] - 9s 62ms/step - loss: 0.0346 - accuracy: 0.9917 - val_loss: 2.7182 - val_accuracy: 0.6900\n",
      "Epoch 144/150\n",
      "152/152 [==============================] - 9s 62ms/step - loss: 0.0236 - accuracy: 0.9940 - val_loss: 2.3244 - val_accuracy: 0.6838\n",
      "Epoch 145/150\n",
      "152/152 [==============================] - 9s 62ms/step - loss: 0.0379 - accuracy: 0.9893 - val_loss: 14786.5186 - val_accuracy: 0.6894\n",
      "Epoch 146/150\n",
      "152/152 [==============================] - 9s 62ms/step - loss: 0.0095 - accuracy: 0.9969 - val_loss: 2.7020 - val_accuracy: 0.6956\n",
      "Epoch 147/150\n",
      "152/152 [==============================] - 9s 62ms/step - loss: 0.0139 - accuracy: 0.9963 - val_loss: 5.2251 - val_accuracy: 0.7006\n",
      "Epoch 148/150\n",
      "152/152 [==============================] - 9s 62ms/step - loss: 0.0173 - accuracy: 0.9959 - val_loss: 412588.5312 - val_accuracy: 0.6882\n",
      "Epoch 149/150\n",
      "152/152 [==============================] - 9s 61ms/step - loss: 0.0621 - accuracy: 0.9822 - val_loss: 157047.3281 - val_accuracy: 0.7043\n",
      "Epoch 150/150\n",
      "152/152 [==============================] - 9s 62ms/step - loss: 0.0159 - accuracy: 0.9952 - val_loss: 2.4297 - val_accuracy: 0.6931\n",
      "elapsed time training dataset (sec): 1412.2676048278809\n"
     ]
    }
   ],
   "source": [
    "start_time = time.time()\n",
    "\n",
    "hist = model.fit(x_train, y_train,\n",
    "                 epochs=n_epochs,\n",
    "                 batch_size=batch_size,\n",
    "                 validation_split=validation_split,\n",
    "                 shuffle=True,\n",
    "                 verbose=1)\n",
    "\n",
    "print('elapsed time training dataset (sec):', time.time() - start_time)\n",
    "\n",
    "model.save(model_save_path)"
   ]
  },
  {
   "cell_type": "code",
   "execution_count": 16,
   "id": "b34313fb",
   "metadata": {},
   "outputs": [
    {
     "data": {
      "image/png": "[encoded data removed]",
      "text/plain": [
       "<Figure size 1080x360 with 2 Axes>"
      ]
     },
     "metadata": {
      "needs_background": "light"
     },
     "output_type": "display_data"
    }
   ],
   "source": [
    "history_dict = hist.history\n",
    "\n",
    "loss_values = history_dict['loss']\n",
    "acc_values = history_dict['accuracy']\n",
    "if split_val:\n",
    "    val_loss_values = history_dict['val_loss']\n",
    "    val_acc_values = history_dict['val_accuracy']\n",
    "\n",
    "fig, (ax1, ax2) = plt.subplots(1, 2, figsize=(15, 5))\n",
    "\n",
    "ax1.plot(loss_values, 'blue', label='Training Loss')\n",
    "if split_val:\n",
    "    ax1.plot(val_loss_values, 'orange', label='Validation Loss')\n",
    "ax1.set_title('Training and validation loss')\n",
    "ax1.set_xlabel('Epochs')\n",
    "ax1.set_ylabel('Loss')\n",
    "ax1.legend()\n",
    "\n",
    "ax2.plot(acc_values, 'blue', label='Training accuracy')\n",
    "if split_val:\n",
    "    ax2.plot(val_acc_values, 'orange', label='Validation accuracy')\n",
    "ax2.set_title('Training and validation accuracy')\n",
    "ax2.set_xlabel('Epochs')\n",
    "ax2.set_ylabel('Accuracy')\n",
    "ax2.legend()\n",
    "\n",
    "plt.show()"
   ]
  },
  {
   "cell_type": "code",
   "execution_count": 17,
   "id": "70146c37",
   "metadata": {},
   "outputs": [
    {
     "name": "stdout",
     "output_type": "stream",
     "text": [
      "51/51 [==============================] - 1s 19ms/step - loss: 2.8077 - accuracy: 0.7074\n",
      "test loss: 2.807722806930542\n",
      "test accuracy: 0.707377552986145\n"
     ]
    }
   ],
   "source": [
    "loss, accuracy = model.evaluate(x_test, y_test)\n",
    "print('test loss:', loss)\n",
    "print('test accuracy:', accuracy)"
   ]
  },
  {
   "cell_type": "markdown",
   "id": "a367cc71",
   "metadata": {},
   "source": [
    "# 파일 테스트"
   ]
  },
  {
   "cell_type": "code",
   "execution_count": null,
   "id": "95a5f7a5",
   "metadata": {},
   "outputs": [],
   "source": [
    "test_file_name = 'dataset/negative/1001_DFA_ANG_XX.wav'"
   ]
  },
  {
   "cell_type": "code",
   "execution_count": null,
   "id": "66148657",
   "metadata": {},
   "outputs": [],
   "source": [
    "prediction_feature = extract_feature(test_file_name, input_shape[0]).reshape((1, ) + input_shape)\n",
    "model = load_model(model_save_path)\n",
    "\n",
    "predicted_proba = model.predict(prediction_feature)[0]\n",
    "predicted_class = np.argmax(predicted_proba)\n",
    "\n",
    "print('classification result:', le.classes_[predicted_class])"
   ]
  },
  {
   "cell_type": "code",
   "execution_count": null,
   "id": "db540429",
   "metadata": {},
   "outputs": [],
   "source": []
  }
 ],
 "metadata": {
  "kernelspec": {
   "display_name": "emotion",
   "language": "python",
   "name": "emotion"
  },
  "language_info": {
   "codemirror_mode": {
    "name": "ipython",
    "version": 3
   },
   "file_extension": ".py",
   "mimetype": "text/x-python",
   "name": "python",
   "nbconvert_exporter": "python",
   "pygments_lexer": "ipython3",
   "version": "3.8.8"
  }
 },
 "nbformat": 4,
 "nbformat_minor": 5
}
