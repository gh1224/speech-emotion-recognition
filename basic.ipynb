{
 "cells": [
  {
   "cell_type": "code",
   "execution_count": null,
   "id": "90230a47",
   "metadata": {},
   "outputs": [],
   "source": [
    "\"\"\"\n",
    "데이터셋\n",
    "Crema, Ravdess, Tess, Savee\n",
    "\n",
    "Positive: happiness - 2323\n",
    "Neutral: neutral, calmness - 1895\n",
    "Negative: anger, sadness - 3846\n",
    "\"\"\""
   ]
  },
  {
   "cell_type": "code",
   "execution_count": 1,
   "id": "736ee2e8",
   "metadata": {},
   "outputs": [
    {
     "name": "stderr",
     "output_type": "stream",
     "text": [
      "C:\\Users\\DeepLearning_5\\Anaconda3\\lib\\site-packages\\requests\\__init__.py:89: RequestsDependencyWarning: urllib3 (1.24.3) or chardet (4.0.0) doesn't match a supported version!\n",
      "  warnings.warn(\"urllib3 ({}) or chardet ({}) doesn't match a supported \"\n"
     ]
    }
   ],
   "source": [
    "import numpy as np\n",
    "import time\n",
    "from tqdm import tqdm\n",
    "import os\n",
    "import librosa\n",
    "import matplotlib.pyplot as plt\n",
    "\n",
    "from sklearn.preprocessing import LabelEncoder\n",
    "from sklearn.model_selection import train_test_split\n",
    "\n",
    "from keras.utils.np_utils import to_categorical\n",
    "from keras.models import load_model, Sequential\n",
    "from keras.layers import Conv1D, MaxPooling1D, Flatten, BatchNormalization, Dense, Dropout"
   ]
  },
  {
   "cell_type": "code",
   "execution_count": 2,
   "id": "1ce1ef09",
   "metadata": {},
   "outputs": [],
   "source": [
    "base_dir = 'dataset'\n",
    "\n",
    "n_mfcc = 128\n",
    "num_rows = 150\n",
    "num_columns = 130\n",
    "input_shape = (num_rows, num_columns)\n",
    "\n",
    "n_epochs = 150\n",
    "batch_size = None\n",
    "split_val = True\n",
    "\n",
    "model_save_path = 'saved_models/model.h5'"
   ]
  },
  {
   "cell_type": "code",
   "execution_count": 3,
   "id": "a39885db",
   "metadata": {},
   "outputs": [],
   "source": [
    "def load_feature_tuple(file_name):\n",
    "    y, sr = librosa.load(file_name, mono=True)\n",
    "\n",
    "    mfcc = librosa.feature.mfcc(y=y, sr=sr, n_mfcc=n_mfcc)\n",
    "    spectral_centroid = librosa.feature.spectral_centroid(y=y, sr=sr)\n",
    "    spectral_rolloff = librosa.feature.spectral_rolloff(y=y, sr=sr)\n",
    "\n",
    "    return mfcc, spectral_centroid, spectral_rolloff"
   ]
  },
  {
   "cell_type": "code",
   "execution_count": 4,
   "id": "e8cccf27",
   "metadata": {},
   "outputs": [],
   "source": [
    "def pad_feature_width(feature, feature_width):\n",
    "    diff = feature_width - feature.shape[1]\n",
    "    if diff > 0:\n",
    "        return np.pad(feature, pad_width=((0, 0), (0, diff)), mode='constant')\n",
    "    elif diff < 0:\n",
    "        return np.delete(feature, np.arange(feature_width, feature.shape[1]), axis=1)\n",
    "    return feature"
   ]
  },
  {
   "cell_type": "code",
   "execution_count": 5,
   "id": "15aa2cbc",
   "metadata": {},
   "outputs": [],
   "source": [
    "def extract_feature(file_name, feature_width):\n",
    "    image = np.concatenate(load_feature_tuple(file_name), axis=0)\n",
    "    image = pad_feature_width(image, feature_width)\n",
    "    image = np.transpose(image)\n",
    "    return image"
   ]
  },
  {
   "cell_type": "code",
   "execution_count": 6,
   "id": "4158fb8c",
   "metadata": {},
   "outputs": [],
   "source": [
    "def fetch_dataset(dir_path, label):\n",
    "    _features = np.empty((0, ) + input_shape)\n",
    "    for file_name in tqdm(os.listdir(dir_path)):\n",
    "        file_path = os.path.join(dir_path, file_name)\n",
    "        feature = extract_feature(file_path, input_shape[0]).reshape((1, ) + input_shape)\n",
    "        _features = np.append(_features, feature, axis=0)\n",
    "\n",
    "    _labels = np.full((_features.shape[0], ), label)\n",
    "\n",
    "    return _features, _labels"
   ]
  },
  {
   "cell_type": "markdown",
   "id": "68afff4f",
   "metadata": {},
   "source": [
    "# 데이터셋 가져오기"
   ]
  },
  {
   "cell_type": "code",
   "execution_count": 7,
   "id": "168ee650",
   "metadata": {},
   "outputs": [
    {
     "name": "stderr",
     "output_type": "stream",
     "text": [
      "100%|██████████████████████████████████████████████████████████████████████████████| 2323/2323 [07:17<00:00,  5.31it/s]\n",
      "100%|██████████████████████████████████████████████████████████████████████████████| 1895/1895 [05:38<00:00,  5.60it/s]\n",
      "100%|██████████████████████████████████████████████████████████████████████████████| 3846/3846 [16:50<00:00,  3.81it/s]"
     ]
    },
    {
     "name": "stdout",
     "output_type": "stream",
     "text": [
      "elapsed time fetching dataset (sec): 1786.1477673053741\n"
     ]
    },
    {
     "name": "stderr",
     "output_type": "stream",
     "text": [
      "\n"
     ]
    }
   ],
   "source": [
    "start_time = time.time()\n",
    "\n",
    "positive_features, positive_labels = fetch_dataset(base_dir + '/positive', 'POSITIVE')\n",
    "neutral_features, neutral_labels = fetch_dataset(base_dir + '/neutral', 'NEUTRAL')\n",
    "negative_features, negative_labels = fetch_dataset(base_dir + '/negative', 'NEGATIVE')\n",
    "\n",
    "print('elapsed time fetching dataset (sec):', time.time() - start_time)"
   ]
  },
  {
   "cell_type": "code",
   "execution_count": 8,
   "id": "c1ca2ae7",
   "metadata": {},
   "outputs": [
    {
     "name": "stdout",
     "output_type": "stream",
     "text": [
      "features shape: (8064, 150, 130)\n",
      "labels shape before encoding: (8064,)\n"
     ]
    }
   ],
   "source": [
    "features = np.concatenate((positive_features, neutral_features, negative_features), axis=0)\n",
    "labels = np.concatenate((positive_labels, neutral_labels, negative_labels), axis=0)\n",
    "\n",
    "print('features shape:', features.shape)\n",
    "print('labels shape before encoding:', labels.shape)"
   ]
  },
  {
   "cell_type": "code",
   "execution_count": 9,
   "id": "ad68ccfe",
   "metadata": {},
   "outputs": [
    {
     "name": "stdout",
     "output_type": "stream",
     "text": [
      "labels shape after encoding: (8064, 3)\n",
      "label encoder classes: ['NEGATIVE' 'NEUTRAL' 'POSITIVE']\n"
     ]
    }
   ],
   "source": [
    "le = LabelEncoder()\n",
    "labels = to_categorical(le.fit_transform(labels))\n",
    "print('labels shape after encoding:', labels.shape)\n",
    "print('label encoder classes:', le.classes_)"
   ]
  },
  {
   "cell_type": "code",
   "execution_count": 10,
   "id": "e2fcddb0",
   "metadata": {},
   "outputs": [],
   "source": [
    "x_train, x_test, y_train, y_test = train_test_split(features, labels, test_size=0.2)"
   ]
  },
  {
   "cell_type": "markdown",
   "id": "bf4f35c8",
   "metadata": {},
   "source": [
    "# 학습"
   ]
  },
  {
   "cell_type": "code",
   "execution_count": 11,
   "id": "1d785a86",
   "metadata": {
    "scrolled": true
   },
   "outputs": [
    {
     "name": "stdout",
     "output_type": "stream",
     "text": [
      "Model: \"sequential\"\n",
      "_________________________________________________________________\n",
      " Layer (type)                Output Shape              Param #   \n",
      "=================================================================\n",
      " block1_conv1 (Conv1D)       (None, 150, 64)           25024     \n",
      "                                                                 \n",
      " block1_conv2 (Conv1D)       (None, 150, 64)           12352     \n",
      "                                                                 \n",
      " block1_pool (MaxPooling1D)  (None, 75, 64)            0         \n",
      "                                                                 \n",
      " block2_conv1 (Conv1D)       (None, 75, 128)           24704     \n",
      "                                                                 \n",
      " block2_conv2 (Conv1D)       (None, 75, 128)           49280     \n",
      "                                                                 \n",
      " block2_pool (MaxPooling1D)  (None, 37, 128)           0         \n",
      "                                                                 \n",
      " block3_conv1 (Conv1D)       (None, 37, 256)           98560     \n",
      "                                                                 \n",
      " block3_conv2 (Conv1D)       (None, 37, 256)           196864    \n",
      "                                                                 \n",
      " block3_conv3 (Conv1D)       (None, 37, 256)           196864    \n",
      "                                                                 \n",
      " block3_pool (MaxPooling1D)  (None, 18, 256)           0         \n",
      "                                                                 \n",
      " block4_conv1 (Conv1D)       (None, 18, 512)           393728    \n",
      "                                                                 \n",
      " block4_conv2 (Conv1D)       (None, 18, 512)           786944    \n",
      "                                                                 \n",
      " block4_conv3 (Conv1D)       (None, 18, 512)           786944    \n",
      "                                                                 \n",
      " block4_pool (MaxPooling1D)  (None, 9, 512)            0         \n",
      "                                                                 \n",
      " block5_conv1 (Conv1D)       (None, 9, 512)            786944    \n",
      "                                                                 \n",
      " block5_conv2 (Conv1D)       (None, 9, 512)            786944    \n",
      "                                                                 \n",
      " block5_conv3 (Conv1D)       (None, 9, 512)            786944    \n",
      "                                                                 \n",
      " block5_pool (MaxPooling1D)  (None, 4, 512)            0         \n",
      "                                                                 \n",
      " flatten (Flatten)           (None, 2048)              0         \n",
      "                                                                 \n",
      " batch_normalization (BatchN  (None, 2048)             8192      \n",
      " ormalization)                                                   \n",
      "                                                                 \n",
      " dense (Dense)               (None, 1024)              2098176   \n",
      "                                                                 \n",
      " dropout (Dropout)           (None, 1024)              0         \n",
      "                                                                 \n",
      " dense_1 (Dense)             (None, 3)                 3075      \n",
      "                                                                 \n",
      "=================================================================\n",
      "Total params: 7,041,539\n",
      "Trainable params: 7,037,443\n",
      "Non-trainable params: 4,096\n",
      "_________________________________________________________________\n"
     ]
    }
   ],
   "source": [
    "model = Sequential()\n",
    "\n",
    "# Block 1\n",
    "model.add(Conv1D(64, 3, activation='relu', padding='same', name='block1_conv1', input_shape=input_shape))\n",
    "model.add(Conv1D(64, 3, activation='relu', padding='same', name='block1_conv2'))\n",
    "model.add(MaxPooling1D(2, strides=2, name='block1_pool'))\n",
    "\n",
    "# Block 2\n",
    "model.add(Conv1D(128, 3, activation='relu', padding='same', name='block2_conv1'))\n",
    "model.add(Conv1D(128, 3, activation='relu', padding='same', name='block2_conv2'))\n",
    "model.add(MaxPooling1D(2, strides=2, name='block2_pool'))\n",
    "\n",
    "# Block 3\n",
    "model.add(Conv1D(256, 3, activation='relu', padding='same', name='block3_conv1'))\n",
    "model.add(Conv1D(256, 3, activation='relu', padding='same', name='block3_conv2'))\n",
    "model.add(Conv1D(256, 3, activation='relu', padding='same', name='block3_conv3'))\n",
    "model.add(MaxPooling1D(2, strides=2, name='block3_pool'))\n",
    "\n",
    "# Block 4\n",
    "model.add(Conv1D(512, 3, activation='relu', padding='same', name='block4_conv1'))\n",
    "model.add(Conv1D(512, 3, activation='relu', padding='same', name='block4_conv2'))\n",
    "model.add(Conv1D(512, 3, activation='relu', padding='same', name='block4_conv3'))\n",
    "model.add(MaxPooling1D(2, strides=2, name='block4_pool'))\n",
    "\n",
    "# Block 5\n",
    "model.add(Conv1D(512, 3, activation='relu', padding='same', name='block5_conv1'))\n",
    "model.add(Conv1D(512, 3, activation='relu', padding='same', name='block5_conv2'))\n",
    "model.add(Conv1D(512, 3, activation='relu', padding='same', name='block5_conv3'))\n",
    "model.add(MaxPooling1D(2, strides=2, name='block5_pool'))\n",
    "\n",
    "model.add(Flatten())\n",
    "model.add(BatchNormalization())\n",
    "model.add(Dense(1024, activation='relu'))\n",
    "model.add(Dropout(0.5))\n",
    "model.add(Dense(3, activation='softmax'))\n",
    "\n",
    "model.summary()"
   ]
  },
  {
   "cell_type": "code",
   "execution_count": 12,
   "id": "8afcb6a5",
   "metadata": {},
   "outputs": [],
   "source": [
    "model.compile(loss='categorical_crossentropy', metrics=['accuracy'], optimizer='adam')"
   ]
  },
  {
   "cell_type": "code",
   "execution_count": 13,
   "id": "8ed3004b",
   "metadata": {},
   "outputs": [],
   "source": [
    "if split_val:\n",
    "    validation_split = 0.25\n",
    "else:\n",
    "    validation_split = 0.0"
   ]
  },
  {
   "cell_type": "code",
   "execution_count": 14,
   "id": "2eb3a18d",
   "metadata": {},
   "outputs": [
    {
     "name": "stdout",
     "output_type": "stream",
     "text": [
      "Epoch 1/150\n",
      "152/152 [==============================] - 10s 26ms/step - loss: 2.3058 - accuracy: 0.4088 - val_loss: 4.3514 - val_accuracy: 0.4687\n",
      "Epoch 2/150\n",
      "152/152 [==============================] - 3s 20ms/step - loss: 1.5248 - accuracy: 0.4411 - val_loss: 4.7299 - val_accuracy: 0.4761\n",
      "Epoch 3/150\n",
      "152/152 [==============================] - 3s 20ms/step - loss: 1.0451 - accuracy: 0.5217 - val_loss: 4.1337 - val_accuracy: 0.4761\n",
      "Epoch 4/150\n",
      "152/152 [==============================] - 3s 20ms/step - loss: 0.8021 - accuracy: 0.6098 - val_loss: 397.8183 - val_accuracy: 0.4879\n",
      "Epoch 5/150\n",
      "152/152 [==============================] - 3s 20ms/step - loss: 0.7532 - accuracy: 0.6265 - val_loss: 0.7697 - val_accuracy: 0.6243\n",
      "Epoch 6/150\n",
      "152/152 [==============================] - 3s 20ms/step - loss: 0.7154 - accuracy: 0.6523 - val_loss: 0.8488 - val_accuracy: 0.5952\n",
      "Epoch 7/150\n",
      "152/152 [==============================] - 3s 20ms/step - loss: 0.6969 - accuracy: 0.6538 - val_loss: 0.7427 - val_accuracy: 0.6572\n",
      "Epoch 8/150\n",
      "152/152 [==============================] - 3s 20ms/step - loss: 0.8160 - accuracy: 0.6116 - val_loss: 7.9034 - val_accuracy: 0.2480\n",
      "Epoch 9/150\n",
      "152/152 [==============================] - 3s 20ms/step - loss: 1.0450 - accuracy: 0.4988 - val_loss: 361482.4375 - val_accuracy: 0.3211\n",
      "Epoch 10/150\n",
      "152/152 [==============================] - 3s 20ms/step - loss: 0.8140 - accuracy: 0.5978 - val_loss: 0.8767 - val_accuracy: 0.5989\n",
      "Epoch 11/150\n",
      "152/152 [==============================] - 3s 20ms/step - loss: 0.7310 - accuracy: 0.6397 - val_loss: 437.9656 - val_accuracy: 0.6175\n",
      "Epoch 12/150\n",
      "152/152 [==============================] - 3s 20ms/step - loss: 0.7088 - accuracy: 0.6503 - val_loss: 0.7545 - val_accuracy: 0.6398\n",
      "Epoch 13/150\n",
      "152/152 [==============================] - 3s 19ms/step - loss: 0.6925 - accuracy: 0.6612 - val_loss: 123.6253 - val_accuracy: 0.6466\n",
      "Epoch 14/150\n",
      "152/152 [==============================] - 3s 19ms/step - loss: 0.6776 - accuracy: 0.6635 - val_loss: 62.3099 - val_accuracy: 0.6262\n",
      "Epoch 15/150\n",
      "152/152 [==============================] - 4s 25ms/step - loss: 0.6672 - accuracy: 0.6823 - val_loss: 0.6386 - val_accuracy: 0.6857\n",
      "Epoch 16/150\n",
      "152/152 [==============================] - 3s 19ms/step - loss: 0.6490 - accuracy: 0.6931 - val_loss: 2.9652 - val_accuracy: 0.6733\n",
      "Epoch 17/150\n",
      "152/152 [==============================] - 3s 19ms/step - loss: 0.6487 - accuracy: 0.6986 - val_loss: 0.7313 - val_accuracy: 0.6553\n",
      "Epoch 18/150\n",
      "152/152 [==============================] - 3s 19ms/step - loss: 0.6429 - accuracy: 0.6949 - val_loss: 3.1636 - val_accuracy: 0.6088\n",
      "Epoch 19/150\n",
      "152/152 [==============================] - 3s 19ms/step - loss: 0.6321 - accuracy: 0.7036 - val_loss: 1.2283 - val_accuracy: 0.6795\n",
      "Epoch 20/150\n",
      "152/152 [==============================] - 3s 19ms/step - loss: 0.6295 - accuracy: 0.7084 - val_loss: 17.6415 - val_accuracy: 0.6801\n",
      "Epoch 21/150\n",
      "152/152 [==============================] - 3s 20ms/step - loss: 0.6241 - accuracy: 0.7210 - val_loss: 0.7602 - val_accuracy: 0.6683\n",
      "Epoch 22/150\n",
      "152/152 [==============================] - 3s 20ms/step - loss: 0.6083 - accuracy: 0.7205 - val_loss: 0.7224 - val_accuracy: 0.6572\n",
      "Epoch 23/150\n",
      "152/152 [==============================] - 3s 20ms/step - loss: 0.6058 - accuracy: 0.7236 - val_loss: 27.8800 - val_accuracy: 0.6727\n",
      "Epoch 24/150\n",
      "152/152 [==============================] - 3s 20ms/step - loss: 0.6029 - accuracy: 0.7191 - val_loss: 10599.3848 - val_accuracy: 0.6578\n",
      "Epoch 25/150\n",
      "152/152 [==============================] - 3s 20ms/step - loss: 0.5973 - accuracy: 0.7265 - val_loss: 0.6393 - val_accuracy: 0.6999\n",
      "Epoch 26/150\n",
      "152/152 [==============================] - 3s 20ms/step - loss: 0.5846 - accuracy: 0.7315 - val_loss: 0.7363 - val_accuracy: 0.6727\n",
      "Epoch 27/150\n",
      "152/152 [==============================] - 3s 20ms/step - loss: 0.5718 - accuracy: 0.7408 - val_loss: 2.7264 - val_accuracy: 0.6131\n",
      "Epoch 28/150\n",
      "152/152 [==============================] - 3s 20ms/step - loss: 0.5895 - accuracy: 0.7334 - val_loss: 0.7056 - val_accuracy: 0.6646\n",
      "Epoch 29/150\n",
      "152/152 [==============================] - 3s 20ms/step - loss: 0.5801 - accuracy: 0.7325 - val_loss: 5.1418 - val_accuracy: 0.6950\n",
      "Epoch 30/150\n",
      "152/152 [==============================] - 3s 19ms/step - loss: 0.5547 - accuracy: 0.7433 - val_loss: 18.8629 - val_accuracy: 0.6937\n",
      "Epoch 31/150\n",
      "152/152 [==============================] - 3s 19ms/step - loss: 0.5708 - accuracy: 0.7437 - val_loss: 14.5642 - val_accuracy: 0.7161\n",
      "Epoch 32/150\n",
      "152/152 [==============================] - 3s 19ms/step - loss: 0.5586 - accuracy: 0.7416 - val_loss: 893.4742 - val_accuracy: 0.6776\n",
      "Epoch 33/150\n",
      "152/152 [==============================] - 3s 20ms/step - loss: 0.5529 - accuracy: 0.7505 - val_loss: 0.6347 - val_accuracy: 0.6975\n",
      "Epoch 34/150\n",
      "152/152 [==============================] - 3s 20ms/step - loss: 0.5443 - accuracy: 0.7557 - val_loss: 0.6625 - val_accuracy: 0.6944\n",
      "Epoch 35/150\n",
      "152/152 [==============================] - 3s 20ms/step - loss: 0.5208 - accuracy: 0.7662 - val_loss: 0.8182 - val_accuracy: 0.6317\n",
      "Epoch 36/150\n",
      "152/152 [==============================] - 3s 20ms/step - loss: 0.5416 - accuracy: 0.7499 - val_loss: 2252519.0000 - val_accuracy: 0.6466\n",
      "Epoch 37/150\n",
      "152/152 [==============================] - 3s 20ms/step - loss: 0.5392 - accuracy: 0.7557 - val_loss: 0.8660 - val_accuracy: 0.6813\n",
      "Epoch 38/150\n",
      "152/152 [==============================] - 3s 20ms/step - loss: 0.5380 - accuracy: 0.7582 - val_loss: 1032.4312 - val_accuracy: 0.6702\n",
      "Epoch 39/150\n",
      "152/152 [==============================] - 3s 20ms/step - loss: 0.5196 - accuracy: 0.7697 - val_loss: 0.6960 - val_accuracy: 0.6869\n",
      "Epoch 40/150\n",
      "152/152 [==============================] - 3s 20ms/step - loss: 0.4975 - accuracy: 0.7728 - val_loss: 572.9509 - val_accuracy: 0.7018\n",
      "Epoch 41/150\n",
      "152/152 [==============================] - 3s 21ms/step - loss: 0.5367 - accuracy: 0.7640 - val_loss: 0.6433 - val_accuracy: 0.7055\n",
      "Epoch 42/150\n",
      "152/152 [==============================] - 3s 20ms/step - loss: 0.5249 - accuracy: 0.7631 - val_loss: 0.6517 - val_accuracy: 0.6981\n",
      "Epoch 43/150\n",
      "152/152 [==============================] - 3s 20ms/step - loss: 0.4978 - accuracy: 0.7817 - val_loss: 0.6485 - val_accuracy: 0.7148\n",
      "Epoch 44/150\n",
      "152/152 [==============================] - 3s 20ms/step - loss: 0.4837 - accuracy: 0.7836 - val_loss: 625.7775 - val_accuracy: 0.7235\n",
      "Epoch 45/150\n",
      "152/152 [==============================] - 3s 20ms/step - loss: 0.4747 - accuracy: 0.7885 - val_loss: 0.7613 - val_accuracy: 0.6764\n",
      "Epoch 46/150\n",
      "152/152 [==============================] - 3s 20ms/step - loss: 0.4880 - accuracy: 0.7867 - val_loss: 17.9545 - val_accuracy: 0.7117\n",
      "Epoch 47/150\n",
      "152/152 [==============================] - 3s 21ms/step - loss: 0.4932 - accuracy: 0.7770 - val_loss: 0.9580 - val_accuracy: 0.6621\n",
      "Epoch 48/150\n",
      "152/152 [==============================] - 3s 19ms/step - loss: 0.4687 - accuracy: 0.7937 - val_loss: 0.7224 - val_accuracy: 0.7024\n",
      "Epoch 49/150\n",
      "152/152 [==============================] - 3s 20ms/step - loss: 0.4516 - accuracy: 0.8041 - val_loss: 0.6922 - val_accuracy: 0.7173\n",
      "Epoch 50/150\n",
      "152/152 [==============================] - 3s 20ms/step - loss: 0.4755 - accuracy: 0.7834 - val_loss: 0.6752 - val_accuracy: 0.7037\n",
      "Epoch 51/150\n",
      "152/152 [==============================] - 3s 20ms/step - loss: 0.4552 - accuracy: 0.8103 - val_loss: 0.7221 - val_accuracy: 0.7043\n",
      "Epoch 52/150\n",
      "152/152 [==============================] - 3s 20ms/step - loss: 0.4633 - accuracy: 0.8032 - val_loss: 0.9519 - val_accuracy: 0.6410\n",
      "Epoch 53/150\n",
      "152/152 [==============================] - 3s 20ms/step - loss: 0.4529 - accuracy: 0.8020 - val_loss: 1127216.1250 - val_accuracy: 0.6472\n",
      "Epoch 54/150\n",
      "152/152 [==============================] - 3s 19ms/step - loss: 0.4440 - accuracy: 0.8078 - val_loss: 5813.6528 - val_accuracy: 0.7179\n",
      "Epoch 55/150\n",
      "152/152 [==============================] - 3s 19ms/step - loss: 0.4464 - accuracy: 0.8063 - val_loss: 2.9340 - val_accuracy: 0.6919\n",
      "Epoch 56/150\n",
      "152/152 [==============================] - 3s 19ms/step - loss: 0.4248 - accuracy: 0.8237 - val_loss: 0.8736 - val_accuracy: 0.6937\n",
      "Epoch 57/150\n"
     ]
    },
    {
     "name": "stdout",
     "output_type": "stream",
     "text": [
      "152/152 [==============================] - 3s 19ms/step - loss: 0.4172 - accuracy: 0.8212 - val_loss: 50.8740 - val_accuracy: 0.6857\n",
      "Epoch 58/150\n",
      "152/152 [==============================] - 3s 20ms/step - loss: 0.4422 - accuracy: 0.8115 - val_loss: 15767.5176 - val_accuracy: 0.7024\n",
      "Epoch 59/150\n",
      "152/152 [==============================] - 3s 19ms/step - loss: 0.4069 - accuracy: 0.8237 - val_loss: 0.7554 - val_accuracy: 0.7297\n",
      "Epoch 60/150\n",
      "152/152 [==============================] - 3s 19ms/step - loss: 0.3983 - accuracy: 0.8320 - val_loss: 0.7989 - val_accuracy: 0.6826\n",
      "Epoch 61/150\n",
      "152/152 [==============================] - 3s 19ms/step - loss: 0.3843 - accuracy: 0.8359 - val_loss: 28224.2012 - val_accuracy: 0.7353\n",
      "Epoch 62/150\n",
      "152/152 [==============================] - 3s 20ms/step - loss: 0.3718 - accuracy: 0.8382 - val_loss: 1.0684 - val_accuracy: 0.6931\n",
      "Epoch 63/150\n",
      "152/152 [==============================] - 3s 19ms/step - loss: 0.3825 - accuracy: 0.8446 - val_loss: 0.8116 - val_accuracy: 0.7229\n",
      "Epoch 64/150\n",
      "152/152 [==============================] - 3s 19ms/step - loss: 0.3783 - accuracy: 0.8452 - val_loss: 35331.1602 - val_accuracy: 0.7161\n",
      "Epoch 65/150\n",
      "152/152 [==============================] - 3s 19ms/step - loss: 0.3641 - accuracy: 0.8413 - val_loss: 24113.8516 - val_accuracy: 0.7024\n",
      "Epoch 66/150\n",
      "152/152 [==============================] - 3s 19ms/step - loss: 0.3525 - accuracy: 0.8535 - val_loss: 0.9379 - val_accuracy: 0.7285\n",
      "Epoch 67/150\n",
      "152/152 [==============================] - 3s 19ms/step - loss: 0.3658 - accuracy: 0.8497 - val_loss: 1.0357 - val_accuracy: 0.7353\n",
      "Epoch 68/150\n",
      "152/152 [==============================] - 3s 20ms/step - loss: 0.3447 - accuracy: 0.8590 - val_loss: 15043.0195 - val_accuracy: 0.7179\n",
      "Epoch 69/150\n",
      "152/152 [==============================] - 3s 20ms/step - loss: 0.3854 - accuracy: 0.8386 - val_loss: 4739.8276 - val_accuracy: 0.7297\n",
      "Epoch 70/150\n",
      "152/152 [==============================] - 3s 20ms/step - loss: 0.3405 - accuracy: 0.8551 - val_loss: 0.8383 - val_accuracy: 0.7334\n",
      "Epoch 71/150\n",
      "152/152 [==============================] - 3s 20ms/step - loss: 0.3325 - accuracy: 0.8630 - val_loss: 0.8800 - val_accuracy: 0.7229\n",
      "Epoch 72/150\n",
      "152/152 [==============================] - 3s 21ms/step - loss: 0.3589 - accuracy: 0.8479 - val_loss: 3.2052 - val_accuracy: 0.7254\n",
      "Epoch 73/150\n",
      "152/152 [==============================] - 3s 20ms/step - loss: 0.3062 - accuracy: 0.8716 - val_loss: 0.9528 - val_accuracy: 0.6999\n",
      "Epoch 74/150\n",
      "152/152 [==============================] - 3s 20ms/step - loss: 0.3997 - accuracy: 0.8295 - val_loss: 0.8883 - val_accuracy: 0.7297\n",
      "Epoch 75/150\n",
      "152/152 [==============================] - 3s 20ms/step - loss: 0.3127 - accuracy: 0.8694 - val_loss: 0.8673 - val_accuracy: 0.7309\n",
      "Epoch 76/150\n",
      "152/152 [==============================] - 3s 20ms/step - loss: 0.3089 - accuracy: 0.8687 - val_loss: 2359.4077 - val_accuracy: 0.7433\n",
      "Epoch 77/150\n",
      "152/152 [==============================] - 3s 21ms/step - loss: 0.3240 - accuracy: 0.8706 - val_loss: 1.2673 - val_accuracy: 0.6758\n",
      "Epoch 78/150\n",
      "152/152 [==============================] - 3s 20ms/step - loss: 0.2821 - accuracy: 0.8836 - val_loss: 1.0518 - val_accuracy: 0.7396\n",
      "Epoch 79/150\n",
      "152/152 [==============================] - 3s 20ms/step - loss: 0.2893 - accuracy: 0.8776 - val_loss: 1.0838 - val_accuracy: 0.7247\n",
      "Epoch 80/150\n",
      "152/152 [==============================] - 3s 20ms/step - loss: 0.2826 - accuracy: 0.8830 - val_loss: 1.0479 - val_accuracy: 0.7285\n",
      "Epoch 81/150\n",
      "152/152 [==============================] - 3s 20ms/step - loss: 0.2833 - accuracy: 0.8878 - val_loss: 30381.9297 - val_accuracy: 0.7347\n",
      "Epoch 82/150\n",
      "152/152 [==============================] - 3s 20ms/step - loss: 0.2741 - accuracy: 0.8905 - val_loss: 62079.8828 - val_accuracy: 0.7148\n",
      "Epoch 83/150\n",
      "152/152 [==============================] - 3s 20ms/step - loss: 0.2995 - accuracy: 0.8853 - val_loss: 1.1140 - val_accuracy: 0.7130\n",
      "Epoch 84/150\n",
      "152/152 [==============================] - 3s 21ms/step - loss: 0.2583 - accuracy: 0.8962 - val_loss: 1946.8732 - val_accuracy: 0.6807\n",
      "Epoch 85/150\n",
      "152/152 [==============================] - 3s 21ms/step - loss: 0.2590 - accuracy: 0.8979 - val_loss: 13546.7070 - val_accuracy: 0.7260\n",
      "Epoch 86/150\n",
      "152/152 [==============================] - 3s 21ms/step - loss: 0.2333 - accuracy: 0.9074 - val_loss: 4.8691 - val_accuracy: 0.7210\n",
      "Epoch 87/150\n",
      "152/152 [==============================] - 3s 20ms/step - loss: 0.2715 - accuracy: 0.8958 - val_loss: 1.0681 - val_accuracy: 0.7192\n",
      "Epoch 88/150\n",
      "152/152 [==============================] - 3s 20ms/step - loss: 0.2484 - accuracy: 0.9031 - val_loss: 686.2696 - val_accuracy: 0.7241\n",
      "Epoch 89/150\n",
      "152/152 [==============================] - 4s 27ms/step - loss: 0.3391 - accuracy: 0.8673 - val_loss: 1.1830 - val_accuracy: 0.6913\n",
      "Epoch 90/150\n",
      "152/152 [==============================] - 3s 22ms/step - loss: 0.2489 - accuracy: 0.8946 - val_loss: 1.1028 - val_accuracy: 0.7272\n",
      "Epoch 91/150\n",
      "152/152 [==============================] - 3s 21ms/step - loss: 0.2238 - accuracy: 0.9153 - val_loss: 8.3210 - val_accuracy: 0.7148\n",
      "Epoch 92/150\n",
      "152/152 [==============================] - 3s 22ms/step - loss: 0.2661 - accuracy: 0.8919 - val_loss: 1.8671 - val_accuracy: 0.6937\n",
      "Epoch 93/150\n",
      "152/152 [==============================] - 3s 21ms/step - loss: 0.2354 - accuracy: 0.9072 - val_loss: 1.6852 - val_accuracy: 0.7167\n",
      "Epoch 94/150\n",
      "152/152 [==============================] - 3s 21ms/step - loss: 0.2166 - accuracy: 0.9142 - val_loss: 2.6850 - val_accuracy: 0.7123\n",
      "Epoch 95/150\n",
      "152/152 [==============================] - 3s 21ms/step - loss: 0.2173 - accuracy: 0.9163 - val_loss: 27580.9551 - val_accuracy: 0.6342\n",
      "Epoch 96/150\n",
      "152/152 [==============================] - 4s 28ms/step - loss: 0.2255 - accuracy: 0.9128 - val_loss: 4499.0864 - val_accuracy: 0.7055\n",
      "Epoch 97/150\n",
      "152/152 [==============================] - 3s 22ms/step - loss: 0.3290 - accuracy: 0.8696 - val_loss: 1314.9742 - val_accuracy: 0.7334\n",
      "Epoch 98/150\n",
      "152/152 [==============================] - 4s 30ms/step - loss: 0.1913 - accuracy: 0.9219 - val_loss: 50918.0156 - val_accuracy: 0.6516\n",
      "Epoch 99/150\n",
      "152/152 [==============================] - 3s 20ms/step - loss: 0.1995 - accuracy: 0.9283 - val_loss: 22807.3730 - val_accuracy: 0.7111\n",
      "Epoch 100/150\n",
      "152/152 [==============================] - 3s 21ms/step - loss: 0.1990 - accuracy: 0.9243 - val_loss: 5047952.5000 - val_accuracy: 0.7285\n",
      "Epoch 101/150\n",
      "152/152 [==============================] - 4s 24ms/step - loss: 0.3195 - accuracy: 0.8772 - val_loss: 1.0101 - val_accuracy: 0.7229\n",
      "Epoch 102/150\n",
      "152/152 [==============================] - 3s 20ms/step - loss: 0.2005 - accuracy: 0.9248 - val_loss: 1.3029 - val_accuracy: 0.6950\n",
      "Epoch 103/150\n",
      "152/152 [==============================] - 3s 21ms/step - loss: 0.1685 - accuracy: 0.9359 - val_loss: 3678.8479 - val_accuracy: 0.7409\n",
      "Epoch 104/150\n",
      "152/152 [==============================] - 3s 20ms/step - loss: 0.1809 - accuracy: 0.9314 - val_loss: 1.5167 - val_accuracy: 0.7080\n",
      "Epoch 105/150\n",
      "152/152 [==============================] - 3s 22ms/step - loss: 0.2479 - accuracy: 0.9138 - val_loss: 1.2257 - val_accuracy: 0.7223\n",
      "Epoch 106/150\n",
      "152/152 [==============================] - 3s 20ms/step - loss: 0.1599 - accuracy: 0.9409 - val_loss: 3.2753 - val_accuracy: 0.7254\n",
      "Epoch 107/150\n",
      "152/152 [==============================] - 3s 20ms/step - loss: 0.1754 - accuracy: 0.9353 - val_loss: 3.4629 - val_accuracy: 0.7192\n",
      "Epoch 108/150\n",
      "152/152 [==============================] - 3s 20ms/step - loss: 0.1560 - accuracy: 0.9419 - val_loss: 1.3835 - val_accuracy: 0.7254\n",
      "Epoch 109/150\n",
      "152/152 [==============================] - 3s 20ms/step - loss: 0.1857 - accuracy: 0.9305 - val_loss: 6994.1729 - val_accuracy: 0.7136\n",
      "Epoch 110/150\n",
      "152/152 [==============================] - 3s 20ms/step - loss: 0.2023 - accuracy: 0.9233 - val_loss: 25847.2383 - val_accuracy: 0.7154\n",
      "Epoch 111/150\n",
      "152/152 [==============================] - 3s 21ms/step - loss: 0.1384 - accuracy: 0.9498 - val_loss: 43460.7656 - val_accuracy: 0.7223\n",
      "Epoch 112/150\n",
      "152/152 [==============================] - 3s 20ms/step - loss: 0.1797 - accuracy: 0.9322 - val_loss: 1.7873 - val_accuracy: 0.7030\n"
     ]
    },
    {
     "name": "stdout",
     "output_type": "stream",
     "text": [
      "Epoch 113/150\n",
      "152/152 [==============================] - 3s 20ms/step - loss: 0.1477 - accuracy: 0.9483 - val_loss: 1.6337 - val_accuracy: 0.7185\n",
      "Epoch 114/150\n",
      "152/152 [==============================] - 3s 20ms/step - loss: 0.1571 - accuracy: 0.9438 - val_loss: 1.3807 - val_accuracy: 0.7179\n",
      "Epoch 115/150\n",
      "152/152 [==============================] - 3s 20ms/step - loss: 0.1528 - accuracy: 0.9430 - val_loss: 1.3513 - val_accuracy: 0.7161\n",
      "Epoch 116/150\n",
      "152/152 [==============================] - 3s 20ms/step - loss: 0.1457 - accuracy: 0.9454 - val_loss: 10561.5000 - val_accuracy: 0.7198\n",
      "Epoch 117/150\n",
      "152/152 [==============================] - 3s 20ms/step - loss: 0.1852 - accuracy: 0.9316 - val_loss: 2.9694 - val_accuracy: 0.6255\n",
      "Epoch 118/150\n",
      "152/152 [==============================] - 3s 21ms/step - loss: 0.1569 - accuracy: 0.9417 - val_loss: 14379.3691 - val_accuracy: 0.7235\n",
      "Epoch 119/150\n",
      "152/152 [==============================] - 3s 20ms/step - loss: 0.1281 - accuracy: 0.9547 - val_loss: 1.6351 - val_accuracy: 0.7266\n",
      "Epoch 120/150\n",
      "152/152 [==============================] - 3s 20ms/step - loss: 0.1471 - accuracy: 0.9458 - val_loss: 1.3744 - val_accuracy: 0.6993\n",
      "Epoch 121/150\n",
      "152/152 [==============================] - 3s 20ms/step - loss: 0.1485 - accuracy: 0.9444 - val_loss: 1.5223 - val_accuracy: 0.7340\n",
      "Epoch 122/150\n",
      "152/152 [==============================] - 3s 20ms/step - loss: 0.2549 - accuracy: 0.9105 - val_loss: 1.6857 - val_accuracy: 0.7043\n",
      "Epoch 123/150\n",
      "152/152 [==============================] - 3s 20ms/step - loss: 0.1325 - accuracy: 0.9487 - val_loss: 1.5765 - val_accuracy: 0.7229\n",
      "Epoch 124/150\n",
      "152/152 [==============================] - 3s 20ms/step - loss: 0.1326 - accuracy: 0.9498 - val_loss: 1.3937 - val_accuracy: 0.7384\n",
      "Epoch 125/150\n",
      "152/152 [==============================] - 3s 20ms/step - loss: 0.1348 - accuracy: 0.9496 - val_loss: 209.6095 - val_accuracy: 0.7049\n",
      "Epoch 126/150\n",
      "152/152 [==============================] - 3s 20ms/step - loss: 0.1297 - accuracy: 0.9527 - val_loss: 1.8855 - val_accuracy: 0.7204\n",
      "Epoch 127/150\n",
      "152/152 [==============================] - 3s 20ms/step - loss: 0.2353 - accuracy: 0.9136 - val_loss: 1.2859 - val_accuracy: 0.7409\n",
      "Epoch 128/150\n",
      "152/152 [==============================] - 4s 26ms/step - loss: 0.1399 - accuracy: 0.9481 - val_loss: 65869.9219 - val_accuracy: 0.7322\n",
      "Epoch 129/150\n",
      "152/152 [==============================] - 3s 23ms/step - loss: 0.1169 - accuracy: 0.9618 - val_loss: 44707.5273 - val_accuracy: 0.7117\n",
      "Epoch 130/150\n",
      "152/152 [==============================] - 3s 22ms/step - loss: 0.1201 - accuracy: 0.9545 - val_loss: 222854.4844 - val_accuracy: 0.7272\n",
      "Epoch 131/150\n",
      "152/152 [==============================] - 3s 22ms/step - loss: 0.1399 - accuracy: 0.9531 - val_loss: 564076.1875 - val_accuracy: 0.7297\n",
      "Epoch 132/150\n",
      "152/152 [==============================] - 3s 22ms/step - loss: 0.0902 - accuracy: 0.9684 - val_loss: 269340.5938 - val_accuracy: 0.7123\n",
      "Epoch 133/150\n",
      "152/152 [==============================] - 3s 22ms/step - loss: 0.1160 - accuracy: 0.9568 - val_loss: 21473052.0000 - val_accuracy: 0.6851\n",
      "Epoch 134/150\n",
      "152/152 [==============================] - 3s 22ms/step - loss: 0.1406 - accuracy: 0.9531 - val_loss: 1767465.0000 - val_accuracy: 0.6925\n",
      "Epoch 135/150\n",
      "152/152 [==============================] - 6s 37ms/step - loss: 0.0951 - accuracy: 0.9647 - val_loss: 1.7266 - val_accuracy: 0.7322\n",
      "Epoch 136/150\n",
      "152/152 [==============================] - 3s 22ms/step - loss: 0.1107 - accuracy: 0.9595 - val_loss: 1.6239 - val_accuracy: 0.7328\n",
      "Epoch 137/150\n",
      "152/152 [==============================] - 3s 19ms/step - loss: 0.1057 - accuracy: 0.9636 - val_loss: 2.3962 - val_accuracy: 0.6832\n",
      "Epoch 138/150\n",
      "152/152 [==============================] - 3s 22ms/step - loss: 0.1571 - accuracy: 0.9475 - val_loss: 1.5261 - val_accuracy: 0.7260\n",
      "Epoch 139/150\n",
      "152/152 [==============================] - 4s 23ms/step - loss: 0.1760 - accuracy: 0.9413 - val_loss: 1.7382 - val_accuracy: 0.7198\n",
      "Epoch 140/150\n",
      "152/152 [==============================] - 4s 30ms/step - loss: 0.1310 - accuracy: 0.9527 - val_loss: 77215.2109 - val_accuracy: 0.7309\n",
      "Epoch 141/150\n",
      "152/152 [==============================] - 3s 23ms/step - loss: 0.1271 - accuracy: 0.9541 - val_loss: 1.6176 - val_accuracy: 0.7235\n",
      "Epoch 142/150\n",
      "152/152 [==============================] - 4s 24ms/step - loss: 0.1426 - accuracy: 0.9496 - val_loss: 1.5568 - val_accuracy: 0.7334\n",
      "Epoch 143/150\n",
      "152/152 [==============================] - 3s 22ms/step - loss: 0.0921 - accuracy: 0.9692 - val_loss: 14327803.0000 - val_accuracy: 0.6832\n",
      "Epoch 144/150\n",
      "152/152 [==============================] - 3s 22ms/step - loss: 0.1021 - accuracy: 0.9649 - val_loss: 1.7391 - val_accuracy: 0.7316\n",
      "Epoch 145/150\n",
      "152/152 [==============================] - 3s 21ms/step - loss: 0.0884 - accuracy: 0.9686 - val_loss: 2.1584 - val_accuracy: 0.6627\n",
      "Epoch 146/150\n",
      "152/152 [==============================] - 3s 21ms/step - loss: 0.1292 - accuracy: 0.9551 - val_loss: 17617.0918 - val_accuracy: 0.7068\n",
      "Epoch 147/150\n",
      "152/152 [==============================] - 3s 21ms/step - loss: 0.1026 - accuracy: 0.9690 - val_loss: 1.7812 - val_accuracy: 0.7347\n",
      "Epoch 148/150\n",
      "152/152 [==============================] - 3s 21ms/step - loss: 0.1114 - accuracy: 0.9649 - val_loss: 1.8028 - val_accuracy: 0.7328\n",
      "Epoch 149/150\n",
      "152/152 [==============================] - 3s 21ms/step - loss: 0.0674 - accuracy: 0.9764 - val_loss: 1.6462 - val_accuracy: 0.7347\n",
      "Epoch 150/150\n",
      "152/152 [==============================] - 3s 22ms/step - loss: 0.0959 - accuracy: 0.9702 - val_loss: 1.7454 - val_accuracy: 0.7291\n",
      "elapsed time training dataset (sec): 480.88362407684326\n"
     ]
    }
   ],
   "source": [
    "start_time = time.time()\n",
    "\n",
    "hist = model.fit(x_train, y_train,\n",
    "                 epochs=n_epochs,\n",
    "                 batch_size=batch_size,\n",
    "                 validation_split=validation_split,\n",
    "                 shuffle=True,\n",
    "                 verbose=1)\n",
    "\n",
    "print('elapsed time training dataset (sec):', time.time() - start_time)\n",
    "\n",
    "model.save(model_save_path)"
   ]
  },
  {
   "cell_type": "code",
   "execution_count": 15,
   "id": "b34313fb",
   "metadata": {},
   "outputs": [
    {
     "data": {
      "image/png": "[encoded data removed]",
      "text/plain": [
       "<Figure size 1080x360 with 2 Axes>"
      ]
     },
     "metadata": {
      "needs_background": "light"
     },
     "output_type": "display_data"
    }
   ],
   "source": [
    "history_dict = hist.history\n",
    "\n",
    "loss_values = history_dict['loss']\n",
    "acc_values = history_dict['accuracy']\n",
    "if split_val:\n",
    "    val_loss_values = history_dict['val_loss']\n",
    "    val_acc_values = history_dict['val_accuracy']\n",
    "\n",
    "fig, (ax1, ax2) = plt.subplots(1, 2, figsize=(15, 5))\n",
    "\n",
    "ax1.plot(loss_values, 'blue', label='Training Loss')\n",
    "if split_val:\n",
    "    ax1.plot(val_loss_values, 'orange', label='Validation Loss')\n",
    "ax1.set_title('Training and validation loss')\n",
    "ax1.set_xlabel('Epochs')\n",
    "ax1.set_ylabel('Loss')\n",
    "ax1.legend()\n",
    "\n",
    "ax2.plot(acc_values, 'blue', label='Training accuracy')\n",
    "if split_val:\n",
    "    ax2.plot(val_acc_values, 'orange', label='Validation accuracy')\n",
    "ax2.set_title('Training and validation accuracy')\n",
    "ax2.set_xlabel('Epochs')\n",
    "ax2.set_ylabel('Accuracy')\n",
    "ax2.legend()\n",
    "\n",
    "plt.show()"
   ]
  },
  {
   "cell_type": "code",
   "execution_count": 16,
   "id": "70146c37",
   "metadata": {},
   "outputs": [
    {
     "name": "stdout",
     "output_type": "stream",
     "text": [
      "51/51 [==============================] - 0s 8ms/step - loss: 1.4759 - accuracy: 0.7489\n",
      "test loss: 1.475866675376892\n",
      "test accuracy: 0.7489150762557983\n"
     ]
    }
   ],
   "source": [
    "loss, accuracy = model.evaluate(x_test, y_test)\n",
    "print('test loss:', loss)\n",
    "print('test accuracy:', accuracy)"
   ]
  },
  {
   "cell_type": "markdown",
   "id": "a367cc71",
   "metadata": {},
   "source": [
    "# 파일 테스트"
   ]
  },
  {
   "cell_type": "code",
   "execution_count": 17,
   "id": "95a5f7a5",
   "metadata": {},
   "outputs": [],
   "source": [
    "test_file_name = 'dataset/negative/1001_DFA_ANG_XX.wav'"
   ]
  },
  {
   "cell_type": "code",
   "execution_count": 18,
   "id": "66148657",
   "metadata": {},
   "outputs": [
    {
     "name": "stdout",
     "output_type": "stream",
     "text": [
      "classification result: NEGATIVE\n"
     ]
    }
   ],
   "source": [
    "prediction_feature = extract_feature(test_file_name, input_shape[0]).reshape((1, ) + input_shape)\n",
    "model = load_model(model_save_path)\n",
    "\n",
    "predicted_proba = model.predict(prediction_feature)[0]\n",
    "predicted_class = np.argmax(predicted_proba)\n",
    "\n",
    "print('classification result:', le.classes_[predicted_class])"
   ]
  },
  {
   "cell_type": "code",
   "execution_count": null,
   "id": "db540429",
   "metadata": {},
   "outputs": [],
   "source": []
  }
 ],
 "metadata": {
  "kernelspec": {
   "display_name": "emotion",
   "language": "python",
   "name": "emotion"
  },
  "language_info": {
   "codemirror_mode": {
    "name": "ipython",
    "version": 3
   },
   "file_extension": ".py",
   "mimetype": "text/x-python",
   "name": "python",
   "nbconvert_exporter": "python",
   "pygments_lexer": "ipython3",
   "version": "3.8.8"
  }
 },
 "nbformat": 4,
 "nbformat_minor": 5
}
