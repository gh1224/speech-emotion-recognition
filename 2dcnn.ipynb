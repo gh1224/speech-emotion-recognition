{
 "cells": [
  {
   "cell_type": "code",
   "execution_count": null,
   "id": "90230a47",
   "metadata": {},
   "outputs": [],
   "source": [
    "\"\"\"\n",
    "데이터셋\n",
    "Crema, Ravdess, Tess, Savee\n",
    "\n",
    "Positive: happiness - 2323\n",
    "Neutral: neutral, calmness - 1895\n",
    "Negative: anger, sadness - 3846\n",
    "\"\"\""
   ]
  },
  {
   "cell_type": "code",
   "execution_count": 1,
   "id": "736ee2e8",
   "metadata": {},
   "outputs": [
    {
     "name": "stderr",
     "output_type": "stream",
     "text": [
      "C:\\Users\\DeepLearning_5\\Anaconda3\\lib\\site-packages\\requests\\__init__.py:89: RequestsDependencyWarning: urllib3 (1.24.3) or chardet (4.0.0) doesn't match a supported version!\n",
      "  warnings.warn(\"urllib3 ({}) or chardet ({}) doesn't match a supported \"\n"
     ]
    }
   ],
   "source": [
    "import numpy as np\n",
    "import time\n",
    "from tqdm import tqdm\n",
    "import os\n",
    "import librosa\n",
    "import matplotlib.pyplot as plt\n",
    "\n",
    "from sklearn.preprocessing import LabelEncoder\n",
    "from sklearn.model_selection import train_test_split\n",
    "\n",
    "from keras.utils.np_utils import to_categorical\n",
    "from keras.models import load_model, Sequential\n",
    "from keras.layers import Conv2D, MaxPooling2D, Flatten, BatchNormalization, Dense, Dropout"
   ]
  },
  {
   "cell_type": "code",
   "execution_count": 2,
   "id": "1ce1ef09",
   "metadata": {},
   "outputs": [],
   "source": [
    "base_dir = 'dataset'\n",
    "\n",
    "n_mfcc = 128\n",
    "num_rows = 150\n",
    "num_columns = 130\n",
    "input_shape = (num_rows, num_columns, 1)\n",
    "\n",
    "n_epochs = 150\n",
    "batch_size = None\n",
    "split_val = True\n",
    "\n",
    "model_save_path = 'saved_models/model.h5'"
   ]
  },
  {
   "cell_type": "code",
   "execution_count": 3,
   "id": "a39885db",
   "metadata": {},
   "outputs": [],
   "source": [
    "def load_feature_tuple(file_name):\n",
    "    y, sr = librosa.load(file_name, mono=True)\n",
    "\n",
    "    mfcc = librosa.feature.mfcc(y=y, sr=sr, n_mfcc=n_mfcc)\n",
    "    spectral_centroid = librosa.feature.spectral_centroid(y=y, sr=sr)\n",
    "    spectral_rolloff = librosa.feature.spectral_rolloff(y=y, sr=sr)\n",
    "\n",
    "    return mfcc, spectral_centroid, spectral_rolloff"
   ]
  },
  {
   "cell_type": "code",
   "execution_count": 4,
   "id": "e8cccf27",
   "metadata": {},
   "outputs": [],
   "source": [
    "def pad_feature_width(feature, feature_width):\n",
    "    diff = feature_width - feature.shape[1]\n",
    "    if diff > 0:\n",
    "        return np.pad(feature, pad_width=((0, 0), (0, diff)), mode='constant')\n",
    "    elif diff < 0:\n",
    "        return np.delete(feature, np.arange(feature_width, feature.shape[1]), axis=1)\n",
    "    return feature"
   ]
  },
  {
   "cell_type": "code",
   "execution_count": 5,
   "id": "15aa2cbc",
   "metadata": {},
   "outputs": [],
   "source": [
    "def extract_feature(file_name, feature_width):\n",
    "    image = np.concatenate(load_feature_tuple(file_name), axis=0)\n",
    "    image = pad_feature_width(image, feature_width)\n",
    "    image = np.transpose(image)\n",
    "    return image"
   ]
  },
  {
   "cell_type": "code",
   "execution_count": 6,
   "id": "4158fb8c",
   "metadata": {},
   "outputs": [],
   "source": [
    "def fetch_dataset(dir_path, label):\n",
    "    _features = np.empty((0, ) + input_shape)\n",
    "    for file_name in tqdm(os.listdir(dir_path)):\n",
    "        file_path = os.path.join(dir_path, file_name)\n",
    "        feature = extract_feature(file_path, input_shape[0]).reshape((1, ) + input_shape)\n",
    "        _features = np.append(_features, feature, axis=0)\n",
    "\n",
    "    _labels = np.full((_features.shape[0], ), label)\n",
    "\n",
    "    return _features, _labels"
   ]
  },
  {
   "cell_type": "markdown",
   "id": "68afff4f",
   "metadata": {},
   "source": [
    "# 데이터셋 가져오기"
   ]
  },
  {
   "cell_type": "code",
   "execution_count": 7,
   "id": "168ee650",
   "metadata": {},
   "outputs": [
    {
     "name": "stderr",
     "output_type": "stream",
     "text": [
      "100%|██████████████████████████████████████████████████████████████████████████████| 2323/2323 [07:17<00:00,  5.31it/s]\n",
      "100%|██████████████████████████████████████████████████████████████████████████████| 1895/1895 [05:27<00:00,  5.79it/s]\n",
      "100%|██████████████████████████████████████████████████████████████████████████████| 3846/3846 [16:04<00:00,  3.99it/s]"
     ]
    },
    {
     "name": "stdout",
     "output_type": "stream",
     "text": [
      "elapsed time fetching dataset (sec): 1729.2398381233215\n"
     ]
    },
    {
     "name": "stderr",
     "output_type": "stream",
     "text": [
      "\n"
     ]
    }
   ],
   "source": [
    "start_time = time.time()\n",
    "\n",
    "positive_features, positive_labels = fetch_dataset(base_dir + '/positive', 'POSITIVE')\n",
    "neutral_features, neutral_labels = fetch_dataset(base_dir + '/neutral', 'NEUTRAL')\n",
    "negative_features, negative_labels = fetch_dataset(base_dir + '/negative', 'NEGATIVE')\n",
    "\n",
    "print('elapsed time fetching dataset (sec):', time.time() - start_time)"
   ]
  },
  {
   "cell_type": "code",
   "execution_count": 8,
   "id": "c1ca2ae7",
   "metadata": {},
   "outputs": [
    {
     "name": "stdout",
     "output_type": "stream",
     "text": [
      "features shape: (8064, 150, 130, 1)\n",
      "labels shape before encoding: (8064,)\n"
     ]
    }
   ],
   "source": [
    "features = np.concatenate((positive_features, neutral_features, negative_features), axis=0)\n",
    "labels = np.concatenate((positive_labels, neutral_labels, negative_labels), axis=0)\n",
    "\n",
    "print('features shape:', features.shape)\n",
    "print('labels shape before encoding:', labels.shape)"
   ]
  },
  {
   "cell_type": "code",
   "execution_count": 9,
   "id": "ad68ccfe",
   "metadata": {},
   "outputs": [
    {
     "name": "stdout",
     "output_type": "stream",
     "text": [
      "labels shape after encoding: (8064, 3)\n",
      "label encoder classes: ['NEGATIVE' 'NEUTRAL' 'POSITIVE']\n"
     ]
    }
   ],
   "source": [
    "le = LabelEncoder()\n",
    "labels = to_categorical(le.fit_transform(labels))\n",
    "print('labels shape after encoding:', labels.shape)\n",
    "print('label encoder classes:', le.classes_)"
   ]
  },
  {
   "cell_type": "code",
   "execution_count": 10,
   "id": "e2fcddb0",
   "metadata": {},
   "outputs": [],
   "source": [
    "x_train, x_test, y_train, y_test = train_test_split(features, labels, test_size=0.2)"
   ]
  },
  {
   "cell_type": "markdown",
   "id": "bf4f35c8",
   "metadata": {},
   "source": [
    "# 학습"
   ]
  },
  {
   "cell_type": "code",
   "execution_count": 11,
   "id": "1d785a86",
   "metadata": {
    "scrolled": true
   },
   "outputs": [
    {
     "name": "stdout",
     "output_type": "stream",
     "text": [
      "Model: \"sequential\"\n",
      "_________________________________________________________________\n",
      " Layer (type)                Output Shape              Param #   \n",
      "=================================================================\n",
      " block1_conv1 (Conv2D)       (None, 150, 130, 64)      640       \n",
      "                                                                 \n",
      " block1_conv2 (Conv2D)       (None, 150, 130, 64)      36928     \n",
      "                                                                 \n",
      " block1_pool (MaxPooling2D)  (None, 75, 65, 64)        0         \n",
      "                                                                 \n",
      " block2_conv1 (Conv2D)       (None, 75, 65, 128)       73856     \n",
      "                                                                 \n",
      " block2_conv2 (Conv2D)       (None, 75, 65, 128)       147584    \n",
      "                                                                 \n",
      " block2_pool (MaxPooling2D)  (None, 37, 32, 128)       0         \n",
      "                                                                 \n",
      " block3_conv1 (Conv2D)       (None, 37, 32, 256)       295168    \n",
      "                                                                 \n",
      " block3_conv2 (Conv2D)       (None, 37, 32, 256)       590080    \n",
      "                                                                 \n",
      " block3_conv3 (Conv2D)       (None, 37, 32, 256)       590080    \n",
      "                                                                 \n",
      " block3_pool (MaxPooling2D)  (None, 18, 16, 256)       0         \n",
      "                                                                 \n",
      " block4_conv1 (Conv2D)       (None, 18, 16, 512)       1180160   \n",
      "                                                                 \n",
      " block4_conv2 (Conv2D)       (None, 18, 16, 512)       2359808   \n",
      "                                                                 \n",
      " block4_conv3 (Conv2D)       (None, 18, 16, 512)       2359808   \n",
      "                                                                 \n",
      " block4_pool (MaxPooling2D)  (None, 9, 8, 512)         0         \n",
      "                                                                 \n",
      " block5_conv1 (Conv2D)       (None, 9, 8, 512)         2359808   \n",
      "                                                                 \n",
      " block5_conv2 (Conv2D)       (None, 9, 8, 512)         2359808   \n",
      "                                                                 \n",
      " block5_conv3 (Conv2D)       (None, 9, 8, 512)         2359808   \n",
      "                                                                 \n",
      " block5_pool (MaxPooling2D)  (None, 4, 4, 512)         0         \n",
      "                                                                 \n",
      " flatten (Flatten)           (None, 8192)              0         \n",
      "                                                                 \n",
      " batch_normalization (BatchN  (None, 8192)             32768     \n",
      " ormalization)                                                   \n",
      "                                                                 \n",
      " dense (Dense)               (None, 1024)              8389632   \n",
      "                                                                 \n",
      " dropout (Dropout)           (None, 1024)              0         \n",
      "                                                                 \n",
      " dense_1 (Dense)             (None, 3)                 3075      \n",
      "                                                                 \n",
      "=================================================================\n",
      "Total params: 23,139,011\n",
      "Trainable params: 23,122,627\n",
      "Non-trainable params: 16,384\n",
      "_________________________________________________________________\n"
     ]
    }
   ],
   "source": [
    "model = Sequential()\n",
    "\n",
    "# Block 1\n",
    "model.add(Conv2D(64, (3, 3), activation='relu', padding='same', name='block1_conv1', input_shape=input_shape))\n",
    "model.add(Conv2D(64, (3, 3), activation='relu', padding='same', name='block1_conv2'))\n",
    "model.add(MaxPooling2D(2, strides=(2, 2), name='block1_pool'))\n",
    "\n",
    "# Block 2\n",
    "model.add(Conv2D(128, (3, 3), activation='relu', padding='same', name='block2_conv1'))\n",
    "model.add(Conv2D(128, (3, 3), activation='relu', padding='same', name='block2_conv2'))\n",
    "model.add(MaxPooling2D(2, strides=(2, 2), name='block2_pool'))\n",
    "\n",
    "# Block 3\n",
    "model.add(Conv2D(256, (3, 3), activation='relu', padding='same', name='block3_conv1'))\n",
    "model.add(Conv2D(256, (3, 3), activation='relu', padding='same', name='block3_conv2'))\n",
    "model.add(Conv2D(256, (3, 3), activation='relu', padding='same', name='block3_conv3'))\n",
    "model.add(MaxPooling2D(2, strides=(2, 2), name='block3_pool'))\n",
    "\n",
    "# Block 4\n",
    "model.add(Conv2D(512, (3, 3), activation='relu', padding='same', name='block4_conv1'))\n",
    "model.add(Conv2D(512, (3, 3), activation='relu', padding='same', name='block4_conv2'))\n",
    "model.add(Conv2D(512, (3, 3), activation='relu', padding='same', name='block4_conv3'))\n",
    "model.add(MaxPooling2D(2, strides=(2, 2), name='block4_pool'))\n",
    "\n",
    "# Block 5\n",
    "model.add(Conv2D(512, (3, 3), activation='relu', padding='same', name='block5_conv1'))\n",
    "model.add(Conv2D(512, (3, 3), activation='relu', padding='same', name='block5_conv2'))\n",
    "model.add(Conv2D(512, (3, 3), activation='relu', padding='same', name='block5_conv3'))\n",
    "model.add(MaxPooling2D(2, strides=(2, 2), name='block5_pool'))\n",
    "\n",
    "model.add(Flatten())\n",
    "model.add(BatchNormalization())\n",
    "model.add(Dense(1024, activation='relu'))\n",
    "model.add(Dropout(0.5))\n",
    "model.add(Dense(3, activation='softmax'))\n",
    "\n",
    "model.summary()"
   ]
  },
  {
   "cell_type": "code",
   "execution_count": 12,
   "id": "8afcb6a5",
   "metadata": {},
   "outputs": [],
   "source": [
    "model.compile(loss='categorical_crossentropy', metrics=['accuracy'], optimizer='adam')"
   ]
  },
  {
   "cell_type": "code",
   "execution_count": 13,
   "id": "8ed3004b",
   "metadata": {},
   "outputs": [],
   "source": [
    "if split_val:\n",
    "    validation_split = 0.25\n",
    "else:\n",
    "    validation_split = 0.0"
   ]
  },
  {
   "cell_type": "code",
   "execution_count": 14,
   "id": "2eb3a18d",
   "metadata": {
    "scrolled": true
   },
   "outputs": [
    {
     "name": "stdout",
     "output_type": "stream",
     "text": [
      "Epoch 1/150\n",
      "152/152 [==============================] - 23s 133ms/step - loss: 3.9724 - accuracy: 0.5110 - val_loss: 8497.4355 - val_accuracy: 0.4476\n",
      "Epoch 2/150\n",
      "152/152 [==============================] - 19s 124ms/step - loss: 1.2621 - accuracy: 0.6013 - val_loss: 187.5041 - val_accuracy: 0.5387\n",
      "Epoch 3/150\n",
      "152/152 [==============================] - 19s 125ms/step - loss: 0.7894 - accuracy: 0.6496 - val_loss: 5.6234 - val_accuracy: 0.6200\n",
      "Epoch 4/150\n",
      "152/152 [==============================] - 19s 125ms/step - loss: 0.7078 - accuracy: 0.6621 - val_loss: 42.5531 - val_accuracy: 0.6665\n",
      "Epoch 5/150\n",
      "152/152 [==============================] - 19s 125ms/step - loss: 0.6605 - accuracy: 0.6840 - val_loss: 69.4822 - val_accuracy: 0.6863\n",
      "Epoch 6/150\n",
      "152/152 [==============================] - 19s 125ms/step - loss: 0.6703 - accuracy: 0.6776 - val_loss: 3978.2727 - val_accuracy: 0.6826\n",
      "Epoch 7/150\n",
      "152/152 [==============================] - 19s 124ms/step - loss: 0.6619 - accuracy: 0.6846 - val_loss: 859.1678 - val_accuracy: 0.5666\n",
      "Epoch 8/150\n",
      "152/152 [==============================] - 19s 125ms/step - loss: 0.6403 - accuracy: 0.6833 - val_loss: 19013.2715 - val_accuracy: 0.6404\n",
      "Epoch 9/150\n",
      "152/152 [==============================] - 19s 125ms/step - loss: 0.6680 - accuracy: 0.6873 - val_loss: 23359.3457 - val_accuracy: 0.6286\n",
      "Epoch 10/150\n",
      "152/152 [==============================] - 19s 125ms/step - loss: 0.7751 - accuracy: 0.6523 - val_loss: 890.4779 - val_accuracy: 0.6082\n",
      "Epoch 11/150\n",
      "152/152 [==============================] - 19s 125ms/step - loss: 0.6628 - accuracy: 0.6776 - val_loss: 0.6402 - val_accuracy: 0.6925\n",
      "Epoch 12/150\n",
      "152/152 [==============================] - 19s 125ms/step - loss: 0.6389 - accuracy: 0.6914 - val_loss: 2.7193 - val_accuracy: 0.6851\n",
      "Epoch 13/150\n",
      "152/152 [==============================] - 19s 125ms/step - loss: 0.6190 - accuracy: 0.6999 - val_loss: 0.6518 - val_accuracy: 0.6956\n",
      "Epoch 14/150\n",
      "152/152 [==============================] - 19s 125ms/step - loss: 0.6306 - accuracy: 0.7036 - val_loss: 17.1938 - val_accuracy: 0.5927\n",
      "Epoch 15/150\n",
      "152/152 [==============================] - 19s 124ms/step - loss: 0.6133 - accuracy: 0.7131 - val_loss: 1.8207 - val_accuracy: 0.7099\n",
      "Epoch 16/150\n",
      "152/152 [==============================] - 19s 124ms/step - loss: 0.6059 - accuracy: 0.7181 - val_loss: 9143432.0000 - val_accuracy: 0.3087\n",
      "Epoch 17/150\n",
      "152/152 [==============================] - 19s 125ms/step - loss: 0.5914 - accuracy: 0.7251 - val_loss: 0.7233 - val_accuracy: 0.7024\n",
      "Epoch 18/150\n",
      "152/152 [==============================] - 19s 125ms/step - loss: 0.5969 - accuracy: 0.7234 - val_loss: 1.3318 - val_accuracy: 0.7099\n",
      "Epoch 19/150\n",
      "152/152 [==============================] - 19s 124ms/step - loss: 0.5710 - accuracy: 0.7385 - val_loss: 51132.4141 - val_accuracy: 0.7055\n",
      "Epoch 20/150\n",
      "152/152 [==============================] - 19s 124ms/step - loss: 0.5709 - accuracy: 0.7414 - val_loss: 0.5826 - val_accuracy: 0.7452\n",
      "Epoch 21/150\n",
      "152/152 [==============================] - 19s 124ms/step - loss: 0.5711 - accuracy: 0.7431 - val_loss: 417.2859 - val_accuracy: 0.6038\n",
      "Epoch 22/150\n",
      "152/152 [==============================] - 19s 125ms/step - loss: 0.5832 - accuracy: 0.7389 - val_loss: 31399.4512 - val_accuracy: 0.7533\n",
      "Epoch 23/150\n",
      "152/152 [==============================] - 19s 125ms/step - loss: 0.5665 - accuracy: 0.7379 - val_loss: 16179841.0000 - val_accuracy: 0.4203\n",
      "Epoch 24/150\n",
      "152/152 [==============================] - 19s 125ms/step - loss: 0.5597 - accuracy: 0.7482 - val_loss: 1.0069 - val_accuracy: 0.6472\n",
      "Epoch 25/150\n",
      "152/152 [==============================] - 19s 125ms/step - loss: 0.5372 - accuracy: 0.7598 - val_loss: 324129.9688 - val_accuracy: 0.5741\n",
      "Epoch 26/150\n",
      "152/152 [==============================] - 19s 125ms/step - loss: 0.5765 - accuracy: 0.7301 - val_loss: 63148208.0000 - val_accuracy: 0.5871\n",
      "Epoch 27/150\n",
      "152/152 [==============================] - 19s 125ms/step - loss: 0.5911 - accuracy: 0.7338 - val_loss: 3.0145 - val_accuracy: 0.6888\n",
      "Epoch 28/150\n",
      "152/152 [==============================] - 19s 125ms/step - loss: 0.5500 - accuracy: 0.7511 - val_loss: 20050308.0000 - val_accuracy: 0.6448\n",
      "Epoch 29/150\n",
      "152/152 [==============================] - 19s 125ms/step - loss: 0.5317 - accuracy: 0.7592 - val_loss: 197.4350 - val_accuracy: 0.7018\n",
      "Epoch 30/150\n",
      "152/152 [==============================] - 19s 125ms/step - loss: 0.5148 - accuracy: 0.7776 - val_loss: 2.4144 - val_accuracy: 0.7545\n",
      "Epoch 31/150\n",
      "152/152 [==============================] - 19s 125ms/step - loss: 0.5134 - accuracy: 0.7720 - val_loss: 388388192.0000 - val_accuracy: 0.7030\n",
      "Epoch 32/150\n",
      "152/152 [==============================] - 19s 125ms/step - loss: 0.5112 - accuracy: 0.7722 - val_loss: 5886714.5000 - val_accuracy: 0.5332\n",
      "Epoch 33/150\n",
      "152/152 [==============================] - 19s 125ms/step - loss: 0.5346 - accuracy: 0.7627 - val_loss: 392514.6250 - val_accuracy: 0.7396\n",
      "Epoch 34/150\n",
      "152/152 [==============================] - 19s 125ms/step - loss: 0.4869 - accuracy: 0.7896 - val_loss: 0.7777 - val_accuracy: 0.7204\n",
      "Epoch 35/150\n",
      "152/152 [==============================] - 19s 125ms/step - loss: 0.4847 - accuracy: 0.7857 - val_loss: 8.6316 - val_accuracy: 0.6485\n",
      "Epoch 36/150\n",
      "152/152 [==============================] - 19s 125ms/step - loss: 0.4792 - accuracy: 0.7906 - val_loss: 0.6882 - val_accuracy: 0.7359\n",
      "Epoch 37/150\n",
      "152/152 [==============================] - 19s 125ms/step - loss: 0.4696 - accuracy: 0.8010 - val_loss: 4650.5054 - val_accuracy: 0.7328\n",
      "Epoch 38/150\n",
      "152/152 [==============================] - 19s 125ms/step - loss: 0.4721 - accuracy: 0.7952 - val_loss: 5366186.5000 - val_accuracy: 0.6392\n",
      "Epoch 39/150\n",
      "152/152 [==============================] - 19s 125ms/step - loss: 0.5400 - accuracy: 0.7592 - val_loss: 126244152.0000 - val_accuracy: 0.5245\n",
      "Epoch 40/150\n",
      "152/152 [==============================] - 19s 125ms/step - loss: 0.4949 - accuracy: 0.7815 - val_loss: 0.5779 - val_accuracy: 0.7489\n",
      "Epoch 41/150\n",
      "152/152 [==============================] - 19s 125ms/step - loss: 0.4530 - accuracy: 0.8020 - val_loss: 1.4166 - val_accuracy: 0.5896\n",
      "Epoch 42/150\n",
      "152/152 [==============================] - 19s 125ms/step - loss: 0.4400 - accuracy: 0.8154 - val_loss: 0.7822 - val_accuracy: 0.7142\n",
      "Epoch 43/150\n",
      "152/152 [==============================] - 19s 125ms/step - loss: 0.4370 - accuracy: 0.8183 - val_loss: 1065102.1250 - val_accuracy: 0.7390\n",
      "Epoch 44/150\n",
      "152/152 [==============================] - 19s 125ms/step - loss: 0.4217 - accuracy: 0.8224 - val_loss: 3.1558 - val_accuracy: 0.5790\n",
      "Epoch 45/150\n",
      "152/152 [==============================] - 19s 125ms/step - loss: 0.3912 - accuracy: 0.8317 - val_loss: 0.7866 - val_accuracy: 0.7353\n",
      "Epoch 46/150\n",
      "152/152 [==============================] - 19s 125ms/step - loss: 0.3984 - accuracy: 0.8342 - val_loss: 3037437.0000 - val_accuracy: 0.7557\n",
      "Epoch 47/150\n",
      "152/152 [==============================] - 19s 125ms/step - loss: 0.3693 - accuracy: 0.8408 - val_loss: 0.8143 - val_accuracy: 0.7347\n",
      "Epoch 48/150\n",
      "152/152 [==============================] - 19s 125ms/step - loss: 0.3851 - accuracy: 0.8365 - val_loss: 5387422208.0000 - val_accuracy: 0.6863\n",
      "Epoch 49/150\n",
      "152/152 [==============================] - 19s 125ms/step - loss: 0.3695 - accuracy: 0.8439 - val_loss: 0.7382 - val_accuracy: 0.7458\n",
      "Epoch 50/150\n",
      "152/152 [==============================] - 19s 125ms/step - loss: 0.3535 - accuracy: 0.8551 - val_loss: 449182.4688 - val_accuracy: 0.7285\n",
      "Epoch 51/150\n",
      "152/152 [==============================] - 19s 125ms/step - loss: 0.3437 - accuracy: 0.8578 - val_loss: 225285.3594 - val_accuracy: 0.7644\n",
      "Epoch 52/150\n",
      "152/152 [==============================] - 19s 125ms/step - loss: 0.3422 - accuracy: 0.8621 - val_loss: 0.7011 - val_accuracy: 0.7619\n",
      "Epoch 53/150\n",
      "152/152 [==============================] - 19s 125ms/step - loss: 0.3146 - accuracy: 0.8712 - val_loss: 0.8140 - val_accuracy: 0.7793\n",
      "Epoch 54/150\n",
      "152/152 [==============================] - 19s 125ms/step - loss: 0.2938 - accuracy: 0.8871 - val_loss: 2.9183 - val_accuracy: 0.7080\n",
      "Epoch 55/150\n",
      "152/152 [==============================] - 19s 125ms/step - loss: 0.2769 - accuracy: 0.8905 - val_loss: 171211.0312 - val_accuracy: 0.7136\n"
     ]
    },
    {
     "name": "stdout",
     "output_type": "stream",
     "text": [
      "Epoch 56/150\n",
      "152/152 [==============================] - 19s 125ms/step - loss: 0.2557 - accuracy: 0.8993 - val_loss: 200274.2188 - val_accuracy: 0.6776\n",
      "Epoch 57/150\n",
      "152/152 [==============================] - 19s 125ms/step - loss: 0.2649 - accuracy: 0.8954 - val_loss: 9126626.0000 - val_accuracy: 0.6677\n",
      "Epoch 58/150\n",
      "152/152 [==============================] - 19s 125ms/step - loss: 0.2767 - accuracy: 0.8909 - val_loss: 0.9149 - val_accuracy: 0.7719\n",
      "Epoch 59/150\n",
      "152/152 [==============================] - 19s 125ms/step - loss: 0.2533 - accuracy: 0.9012 - val_loss: 38662204.0000 - val_accuracy: 0.7241\n",
      "Epoch 60/150\n",
      "152/152 [==============================] - 19s 125ms/step - loss: 0.2241 - accuracy: 0.9122 - val_loss: 40194060.0000 - val_accuracy: 0.7409\n",
      "Epoch 61/150\n",
      "152/152 [==============================] - 19s 124ms/step - loss: 0.2162 - accuracy: 0.9144 - val_loss: 16697241.0000 - val_accuracy: 0.6162\n",
      "Epoch 62/150\n",
      "152/152 [==============================] - 19s 124ms/step - loss: 0.2196 - accuracy: 0.9163 - val_loss: 18357530.0000 - val_accuracy: 0.7223\n",
      "Epoch 63/150\n",
      "152/152 [==============================] - 19s 124ms/step - loss: 0.1884 - accuracy: 0.9272 - val_loss: 4323706.5000 - val_accuracy: 0.7006\n",
      "Epoch 64/150\n",
      "152/152 [==============================] - 19s 124ms/step - loss: 0.2055 - accuracy: 0.9250 - val_loss: 324.6546 - val_accuracy: 0.7960\n",
      "Epoch 65/150\n",
      "152/152 [==============================] - 19s 124ms/step - loss: 0.1475 - accuracy: 0.9419 - val_loss: 3.1365 - val_accuracy: 0.5983\n",
      "Epoch 66/150\n",
      "152/152 [==============================] - 19s 124ms/step - loss: 0.1320 - accuracy: 0.9516 - val_loss: 23111.2754 - val_accuracy: 0.7762\n",
      "Epoch 67/150\n",
      "152/152 [==============================] - 19s 124ms/step - loss: 0.1881 - accuracy: 0.9305 - val_loss: 239.6228 - val_accuracy: 0.7185\n",
      "Epoch 68/150\n",
      "152/152 [==============================] - 19s 125ms/step - loss: 0.1615 - accuracy: 0.9361 - val_loss: 960363.7500 - val_accuracy: 0.6658\n",
      "Epoch 69/150\n",
      "152/152 [==============================] - 19s 124ms/step - loss: 0.1677 - accuracy: 0.9370 - val_loss: 1.8478 - val_accuracy: 0.7849\n",
      "Epoch 70/150\n",
      "152/152 [==============================] - 19s 124ms/step - loss: 0.1591 - accuracy: 0.9456 - val_loss: 48221052.0000 - val_accuracy: 0.7657\n",
      "Epoch 71/150\n",
      "152/152 [==============================] - 19s 125ms/step - loss: 0.1704 - accuracy: 0.9372 - val_loss: 13166.8076 - val_accuracy: 0.7539\n",
      "Epoch 72/150\n",
      "152/152 [==============================] - 19s 125ms/step - loss: 0.1513 - accuracy: 0.9442 - val_loss: 1236250496.0000 - val_accuracy: 0.7545\n",
      "Epoch 73/150\n",
      "152/152 [==============================] - 19s 124ms/step - loss: 0.1047 - accuracy: 0.9595 - val_loss: 520139.3438 - val_accuracy: 0.7644\n",
      "Epoch 74/150\n",
      "152/152 [==============================] - 19s 124ms/step - loss: 0.1118 - accuracy: 0.9618 - val_loss: 5153519.0000 - val_accuracy: 0.7334\n",
      "Epoch 75/150\n",
      "152/152 [==============================] - 19s 124ms/step - loss: 0.1031 - accuracy: 0.9640 - val_loss: 4840523.0000 - val_accuracy: 0.7886\n",
      "Epoch 76/150\n",
      "152/152 [==============================] - 19s 125ms/step - loss: 0.0978 - accuracy: 0.9663 - val_loss: 59114992.0000 - val_accuracy: 0.7743\n",
      "Epoch 77/150\n",
      "152/152 [==============================] - 19s 125ms/step - loss: 0.0815 - accuracy: 0.9696 - val_loss: 487.4325 - val_accuracy: 0.7520\n",
      "Epoch 78/150\n",
      "152/152 [==============================] - 19s 125ms/step - loss: 0.1087 - accuracy: 0.9628 - val_loss: 19666138.0000 - val_accuracy: 0.7787\n",
      "Epoch 79/150\n",
      "152/152 [==============================] - 19s 125ms/step - loss: 0.0851 - accuracy: 0.9706 - val_loss: 132332864.0000 - val_accuracy: 0.7471\n",
      "Epoch 80/150\n",
      "152/152 [==============================] - 19s 125ms/step - loss: 0.1188 - accuracy: 0.9576 - val_loss: 350083328.0000 - val_accuracy: 0.7055\n",
      "Epoch 81/150\n",
      "152/152 [==============================] - 19s 125ms/step - loss: 0.1275 - accuracy: 0.9529 - val_loss: 6596448768.0000 - val_accuracy: 0.7446\n",
      "Epoch 82/150\n",
      "152/152 [==============================] - 19s 125ms/step - loss: 0.0742 - accuracy: 0.9719 - val_loss: 45825184.0000 - val_accuracy: 0.7960\n",
      "Epoch 83/150\n",
      "152/152 [==============================] - 19s 125ms/step - loss: 0.0860 - accuracy: 0.9702 - val_loss: 81.3543 - val_accuracy: 0.7272\n",
      "Epoch 84/150\n",
      "152/152 [==============================] - 19s 124ms/step - loss: 0.0787 - accuracy: 0.9746 - val_loss: 11450481.0000 - val_accuracy: 0.7477\n",
      "Epoch 85/150\n",
      "152/152 [==============================] - 19s 124ms/step - loss: 0.1290 - accuracy: 0.9533 - val_loss: 24571468.0000 - val_accuracy: 0.7799\n",
      "Epoch 86/150\n",
      "152/152 [==============================] - 19s 124ms/step - loss: 0.0859 - accuracy: 0.9692 - val_loss: 5557948.0000 - val_accuracy: 0.7886\n",
      "Epoch 87/150\n",
      "152/152 [==============================] - 19s 124ms/step - loss: 0.0870 - accuracy: 0.9709 - val_loss: 27035060.0000 - val_accuracy: 0.7291\n",
      "Epoch 88/150\n",
      "152/152 [==============================] - 19s 125ms/step - loss: 0.1012 - accuracy: 0.9665 - val_loss: 3963148.0000 - val_accuracy: 0.7266\n",
      "Epoch 89/150\n",
      "152/152 [==============================] - 19s 125ms/step - loss: 0.0721 - accuracy: 0.9756 - val_loss: 1.2930 - val_accuracy: 0.7768\n",
      "Epoch 90/150\n",
      "152/152 [==============================] - 19s 125ms/step - loss: 0.0549 - accuracy: 0.9808 - val_loss: 6822238.5000 - val_accuracy: 0.7712\n",
      "Epoch 91/150\n",
      "152/152 [==============================] - 19s 124ms/step - loss: 0.0588 - accuracy: 0.9785 - val_loss: 29709684.0000 - val_accuracy: 0.7576\n",
      "Epoch 92/150\n",
      "152/152 [==============================] - 19s 125ms/step - loss: 0.0552 - accuracy: 0.9795 - val_loss: 13388218.0000 - val_accuracy: 0.7787\n",
      "Epoch 93/150\n",
      "152/152 [==============================] - 19s 125ms/step - loss: 0.0749 - accuracy: 0.9764 - val_loss: 2.4222 - val_accuracy: 0.7595\n",
      "Epoch 94/150\n",
      "152/152 [==============================] - 19s 125ms/step - loss: 0.1305 - accuracy: 0.9599 - val_loss: 5357838.0000 - val_accuracy: 0.7688\n",
      "Epoch 95/150\n",
      "152/152 [==============================] - 19s 125ms/step - loss: 0.2387 - accuracy: 0.9175 - val_loss: 52526084.0000 - val_accuracy: 0.7247\n",
      "Epoch 96/150\n",
      "152/152 [==============================] - 19s 125ms/step - loss: 0.0924 - accuracy: 0.9684 - val_loss: 36216036.0000 - val_accuracy: 0.7619\n",
      "Epoch 97/150\n",
      "152/152 [==============================] - 19s 125ms/step - loss: 0.0587 - accuracy: 0.9795 - val_loss: 622944320.0000 - val_accuracy: 0.7334\n",
      "Epoch 98/150\n",
      "152/152 [==============================] - 19s 124ms/step - loss: 0.0468 - accuracy: 0.9839 - val_loss: 289796768.0000 - val_accuracy: 0.7781\n",
      "Epoch 99/150\n",
      "152/152 [==============================] - 19s 125ms/step - loss: 0.0747 - accuracy: 0.9760 - val_loss: 5148785664.0000 - val_accuracy: 0.7539\n",
      "Epoch 100/150\n",
      "152/152 [==============================] - 19s 125ms/step - loss: 0.0545 - accuracy: 0.9833 - val_loss: 4075904.0000 - val_accuracy: 0.7787\n",
      "Epoch 101/150\n",
      "152/152 [==============================] - 19s 125ms/step - loss: 0.0677 - accuracy: 0.9773 - val_loss: 1.5319 - val_accuracy: 0.7675\n",
      "Epoch 102/150\n",
      "152/152 [==============================] - 19s 125ms/step - loss: 0.0392 - accuracy: 0.9882 - val_loss: 2.2018 - val_accuracy: 0.7626\n",
      "Epoch 103/150\n",
      "152/152 [==============================] - 19s 125ms/step - loss: 0.0704 - accuracy: 0.9781 - val_loss: 1.7967 - val_accuracy: 0.7719\n",
      "Epoch 104/150\n",
      "152/152 [==============================] - 19s 125ms/step - loss: 0.0982 - accuracy: 0.9711 - val_loss: 7787.9028 - val_accuracy: 0.7613\n",
      "Epoch 105/150\n",
      "152/152 [==============================] - 19s 125ms/step - loss: 0.0476 - accuracy: 0.9824 - val_loss: 1.6591 - val_accuracy: 0.7781\n",
      "Epoch 106/150\n",
      "152/152 [==============================] - 19s 125ms/step - loss: 0.0594 - accuracy: 0.9804 - val_loss: 99.0718 - val_accuracy: 0.7743\n",
      "Epoch 107/150\n",
      "152/152 [==============================] - 19s 125ms/step - loss: 0.0444 - accuracy: 0.9866 - val_loss: 1.7632 - val_accuracy: 0.7805\n",
      "Epoch 108/150\n",
      "152/152 [==============================] - 19s 125ms/step - loss: 0.0461 - accuracy: 0.9837 - val_loss: 1.8673 - val_accuracy: 0.7712\n",
      "Epoch 109/150\n",
      "152/152 [==============================] - 19s 124ms/step - loss: 0.4380 - accuracy: 0.8404 - val_loss: 0.7894 - val_accuracy: 0.7861\n"
     ]
    },
    {
     "name": "stdout",
     "output_type": "stream",
     "text": [
      "Epoch 110/150\n",
      "152/152 [==============================] - 19s 125ms/step - loss: 0.1527 - accuracy: 0.9458 - val_loss: 3802231.2500 - val_accuracy: 0.7297\n",
      "Epoch 111/150\n",
      "152/152 [==============================] - 19s 125ms/step - loss: 0.0871 - accuracy: 0.9678 - val_loss: 3421369600.0000 - val_accuracy: 0.7905\n",
      "Epoch 112/150\n",
      "152/152 [==============================] - 19s 125ms/step - loss: 0.0615 - accuracy: 0.9785 - val_loss: 23111837696.0000 - val_accuracy: 0.7359\n",
      "Epoch 113/150\n",
      "152/152 [==============================] - 19s 124ms/step - loss: 0.0455 - accuracy: 0.9843 - val_loss: 1.6384 - val_accuracy: 0.7750\n",
      "Epoch 114/150\n",
      "152/152 [==============================] - 19s 125ms/step - loss: 0.0389 - accuracy: 0.9862 - val_loss: 11240.2852 - val_accuracy: 0.7458\n",
      "Epoch 115/150\n",
      "152/152 [==============================] - 19s 125ms/step - loss: 0.0595 - accuracy: 0.9806 - val_loss: 9.4530 - val_accuracy: 0.7818\n",
      "Epoch 116/150\n",
      "152/152 [==============================] - 19s 124ms/step - loss: 0.0515 - accuracy: 0.9847 - val_loss: 14555667456.0000 - val_accuracy: 0.7818\n",
      "Epoch 117/150\n",
      "152/152 [==============================] - 19s 124ms/step - loss: 0.0319 - accuracy: 0.9878 - val_loss: 2862753.0000 - val_accuracy: 0.7830\n",
      "Epoch 118/150\n",
      "152/152 [==============================] - 19s 124ms/step - loss: 0.0408 - accuracy: 0.9859 - val_loss: 3.2656 - val_accuracy: 0.7384\n",
      "Epoch 119/150\n",
      "152/152 [==============================] - 19s 124ms/step - loss: 0.0583 - accuracy: 0.9789 - val_loss: 1.9479 - val_accuracy: 0.7849\n",
      "Epoch 120/150\n",
      "152/152 [==============================] - 19s 125ms/step - loss: 0.0311 - accuracy: 0.9907 - val_loss: 8591203.0000 - val_accuracy: 0.7750\n",
      "Epoch 121/150\n",
      "152/152 [==============================] - 19s 125ms/step - loss: 0.0553 - accuracy: 0.9857 - val_loss: 17010054.0000 - val_accuracy: 0.7483\n",
      "Epoch 122/150\n",
      "152/152 [==============================] - 19s 125ms/step - loss: 0.0444 - accuracy: 0.9859 - val_loss: 13434047.0000 - val_accuracy: 0.7861\n",
      "Epoch 123/150\n",
      "152/152 [==============================] - 19s 125ms/step - loss: 0.0400 - accuracy: 0.9855 - val_loss: 1993359232.0000 - val_accuracy: 0.7681\n",
      "Epoch 124/150\n",
      "152/152 [==============================] - 19s 125ms/step - loss: 0.0577 - accuracy: 0.9814 - val_loss: 1.9011 - val_accuracy: 0.7750\n",
      "Epoch 125/150\n",
      "152/152 [==============================] - 19s 125ms/step - loss: 0.0354 - accuracy: 0.9866 - val_loss: 2.2074 - val_accuracy: 0.7774\n",
      "Epoch 126/150\n",
      "152/152 [==============================] - 19s 125ms/step - loss: 0.0407 - accuracy: 0.9874 - val_loss: 2.3235 - val_accuracy: 0.7650\n",
      "Epoch 127/150\n",
      "152/152 [==============================] - 19s 125ms/step - loss: 0.0189 - accuracy: 0.9946 - val_loss: 2.9341 - val_accuracy: 0.7638\n",
      "Epoch 128/150\n",
      "152/152 [==============================] - 19s 125ms/step - loss: 0.0872 - accuracy: 0.9735 - val_loss: 151010624.0000 - val_accuracy: 0.7787\n",
      "Epoch 129/150\n",
      "152/152 [==============================] - 19s 125ms/step - loss: 0.0665 - accuracy: 0.9758 - val_loss: 14710693888.0000 - val_accuracy: 0.7458\n",
      "Epoch 130/150\n",
      "152/152 [==============================] - 19s 125ms/step - loss: 0.0268 - accuracy: 0.9911 - val_loss: 7843326464.0000 - val_accuracy: 0.7694\n",
      "Epoch 131/150\n",
      "152/152 [==============================] - 19s 125ms/step - loss: 0.1001 - accuracy: 0.9717 - val_loss: 7.2372 - val_accuracy: 0.7514\n",
      "Epoch 132/150\n",
      "152/152 [==============================] - 19s 125ms/step - loss: 0.0549 - accuracy: 0.9839 - val_loss: 1.7963 - val_accuracy: 0.7886\n",
      "Epoch 133/150\n",
      "152/152 [==============================] - 19s 125ms/step - loss: 0.0385 - accuracy: 0.9874 - val_loss: 2668962048.0000 - val_accuracy: 0.7942\n",
      "Epoch 134/150\n",
      "152/152 [==============================] - 19s 125ms/step - loss: 0.0655 - accuracy: 0.9822 - val_loss: 16907471872.0000 - val_accuracy: 0.7973\n",
      "Epoch 135/150\n",
      "152/152 [==============================] - 19s 125ms/step - loss: 0.0462 - accuracy: 0.9851 - val_loss: 2068471808.0000 - val_accuracy: 0.7867\n",
      "Epoch 136/150\n",
      "152/152 [==============================] - 19s 125ms/step - loss: 0.0348 - accuracy: 0.9880 - val_loss: 219792880.0000 - val_accuracy: 0.7768\n",
      "Epoch 137/150\n",
      "152/152 [==============================] - 19s 125ms/step - loss: 0.0715 - accuracy: 0.9779 - val_loss: 19.4828 - val_accuracy: 0.7886\n",
      "Epoch 138/150\n",
      "152/152 [==============================] - 19s 125ms/step - loss: 0.0440 - accuracy: 0.9855 - val_loss: 2.1381 - val_accuracy: 0.7762\n",
      "Epoch 139/150\n",
      "152/152 [==============================] - 19s 125ms/step - loss: 0.0502 - accuracy: 0.9841 - val_loss: 488.5288 - val_accuracy: 0.7787\n",
      "Epoch 140/150\n",
      "152/152 [==============================] - 19s 125ms/step - loss: 0.0482 - accuracy: 0.9849 - val_loss: 39471076.0000 - val_accuracy: 0.7867\n",
      "Epoch 141/150\n",
      "152/152 [==============================] - 19s 125ms/step - loss: 0.0698 - accuracy: 0.9791 - val_loss: 38431812.0000 - val_accuracy: 0.7824\n",
      "Epoch 142/150\n",
      "152/152 [==============================] - 19s 125ms/step - loss: 0.0406 - accuracy: 0.9868 - val_loss: 2461668096.0000 - val_accuracy: 0.7669\n",
      "Epoch 143/150\n",
      "152/152 [==============================] - 19s 125ms/step - loss: 0.0510 - accuracy: 0.9857 - val_loss: 1428.1167 - val_accuracy: 0.7712\n",
      "Epoch 144/150\n",
      "152/152 [==============================] - 19s 125ms/step - loss: 0.0357 - accuracy: 0.9905 - val_loss: 351974.9375 - val_accuracy: 0.7781\n",
      "Epoch 145/150\n",
      "152/152 [==============================] - 19s 125ms/step - loss: 0.0498 - accuracy: 0.9872 - val_loss: 27239804928.0000 - val_accuracy: 0.7830\n",
      "Epoch 146/150\n",
      "152/152 [==============================] - 19s 125ms/step - loss: 0.0392 - accuracy: 0.9880 - val_loss: 477375872.0000 - val_accuracy: 0.7867\n",
      "Epoch 147/150\n",
      "152/152 [==============================] - 19s 125ms/step - loss: 0.0200 - accuracy: 0.9930 - val_loss: 2.7696 - val_accuracy: 0.7570\n",
      "Epoch 148/150\n",
      "152/152 [==============================] - 19s 125ms/step - loss: 0.0162 - accuracy: 0.9936 - val_loss: 303499584.0000 - val_accuracy: 0.7731\n",
      "Epoch 149/150\n",
      "152/152 [==============================] - 19s 125ms/step - loss: 0.0393 - accuracy: 0.9884 - val_loss: 9765701.0000 - val_accuracy: 0.7192\n",
      "Epoch 150/150\n",
      "152/152 [==============================] - 19s 124ms/step - loss: 0.0605 - accuracy: 0.9818 - val_loss: 50326.3672 - val_accuracy: 0.7291\n",
      "elapsed time training dataset (sec): 2844.2740952968597\n"
     ]
    }
   ],
   "source": [
    "start_time = time.time()\n",
    "\n",
    "hist = model.fit(x_train, y_train,\n",
    "                 epochs=n_epochs,\n",
    "                 batch_size=batch_size,\n",
    "                 validation_split=validation_split,\n",
    "                 shuffle=True,\n",
    "                 verbose=1)\n",
    "\n",
    "print('elapsed time training dataset (sec):', time.time() - start_time)\n",
    "\n",
    "model.save(model_save_path)"
   ]
  },
  {
   "cell_type": "code",
   "execution_count": 15,
   "id": "b34313fb",
   "metadata": {},
   "outputs": [
    {
     "data": {
      "image/png": "[encoded data removed]",
      "text/plain": [
       "<Figure size 1080x360 with 2 Axes>"
      ]
     },
     "metadata": {
      "needs_background": "light"
     },
     "output_type": "display_data"
    }
   ],
   "source": [
    "history_dict = hist.history\n",
    "\n",
    "loss_values = history_dict['loss']\n",
    "acc_values = history_dict['accuracy']\n",
    "if split_val:\n",
    "    val_loss_values = history_dict['val_loss']\n",
    "    val_acc_values = history_dict['val_accuracy']\n",
    "\n",
    "fig, (ax1, ax2) = plt.subplots(1, 2, figsize=(15, 5))\n",
    "\n",
    "ax1.plot(loss_values, 'blue', label='Training Loss')\n",
    "if split_val:\n",
    "    ax1.plot(val_loss_values, 'orange', label='Validation Loss')\n",
    "ax1.set_title('Training and validation loss')\n",
    "ax1.set_xlabel('Epochs')\n",
    "ax1.set_ylabel('Loss')\n",
    "ax1.legend()\n",
    "\n",
    "ax2.plot(acc_values, 'blue', label='Training accuracy')\n",
    "if split_val:\n",
    "    ax2.plot(val_acc_values, 'orange', label='Validation accuracy')\n",
    "ax2.set_title('Training and validation accuracy')\n",
    "ax2.set_xlabel('Epochs')\n",
    "ax2.set_ylabel('Accuracy')\n",
    "ax2.legend()\n",
    "\n",
    "plt.show()"
   ]
  },
  {
   "cell_type": "code",
   "execution_count": 16,
   "id": "70146c37",
   "metadata": {},
   "outputs": [
    {
     "name": "stdout",
     "output_type": "stream",
     "text": [
      "51/51 [==============================] - 2s 38ms/step - loss: 62963328.0000 - accuracy: 0.7328\n",
      "test loss: 62963328.0\n",
      "test accuracy: 0.7327960133552551\n"
     ]
    }
   ],
   "source": [
    "loss, accuracy = model.evaluate(x_test, y_test)\n",
    "print('test loss:', loss)\n",
    "print('test accuracy:', accuracy)"
   ]
  },
  {
   "cell_type": "markdown",
   "id": "a367cc71",
   "metadata": {},
   "source": [
    "# 파일 테스트"
   ]
  },
  {
   "cell_type": "code",
   "execution_count": null,
   "id": "95a5f7a5",
   "metadata": {},
   "outputs": [],
   "source": [
    "test_file_name = 'dataset/negative/1001_DFA_ANG_XX.wav'"
   ]
  },
  {
   "cell_type": "code",
   "execution_count": null,
   "id": "66148657",
   "metadata": {},
   "outputs": [],
   "source": [
    "prediction_feature = extract_feature(test_file_name, input_shape[0]).reshape((1, ) + input_shape)\n",
    "model = load_model(model_save_path)\n",
    "\n",
    "predicted_proba = model.predict(prediction_feature)[0]\n",
    "predicted_class = np.argmax(predicted_proba)\n",
    "\n",
    "print('classification result:', le.classes_[predicted_class])"
   ]
  },
  {
   "cell_type": "code",
   "execution_count": null,
   "id": "db540429",
   "metadata": {},
   "outputs": [],
   "source": []
  }
 ],
 "metadata": {
  "kernelspec": {
   "display_name": "emotion",
   "language": "python",
   "name": "emotion"
  },
  "language_info": {
   "codemirror_mode": {
    "name": "ipython",
    "version": 3
   },
   "file_extension": ".py",
   "mimetype": "text/x-python",
   "name": "python",
   "nbconvert_exporter": "python",
   "pygments_lexer": "ipython3",
   "version": "3.8.8"
  }
 },
 "nbformat": 4,
 "nbformat_minor": 5
}
