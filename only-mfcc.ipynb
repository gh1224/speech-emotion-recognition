{
 "cells": [
  {
   "cell_type": "code",
   "execution_count": null,
   "id": "90230a47",
   "metadata": {},
   "outputs": [],
   "source": [
    "\"\"\"\n",
    "데이터셋\n",
    "Crema, Ravdess, Tess, Savee\n",
    "\n",
    "Positive: happiness - 2323\n",
    "Neutral: neutral, calmness - 1895\n",
    "Negative: anger, sadness - 3846\n",
    "\"\"\""
   ]
  },
  {
   "cell_type": "code",
   "execution_count": 1,
   "id": "736ee2e8",
   "metadata": {},
   "outputs": [
    {
     "name": "stderr",
     "output_type": "stream",
     "text": [
      "C:\\Users\\DeepLearning_5\\Anaconda3\\lib\\site-packages\\requests\\__init__.py:89: RequestsDependencyWarning: urllib3 (1.24.3) or chardet (4.0.0) doesn't match a supported version!\n",
      "  warnings.warn(\"urllib3 ({}) or chardet ({}) doesn't match a supported \"\n"
     ]
    }
   ],
   "source": [
    "import numpy as np\n",
    "import time\n",
    "from tqdm import tqdm\n",
    "import os\n",
    "import librosa\n",
    "import matplotlib.pyplot as plt\n",
    "\n",
    "from sklearn.preprocessing import LabelEncoder\n",
    "from sklearn.model_selection import train_test_split\n",
    "\n",
    "from keras.utils.np_utils import to_categorical\n",
    "from keras.models import load_model, Sequential\n",
    "from keras.layers import Conv1D, MaxPooling1D, Flatten, BatchNormalization, Dense, Dropout"
   ]
  },
  {
   "cell_type": "code",
   "execution_count": 2,
   "id": "1ce1ef09",
   "metadata": {},
   "outputs": [],
   "source": [
    "base_dir = 'dataset'\n",
    "\n",
    "n_mfcc = 128\n",
    "num_rows = 150\n",
    "num_columns = 128\n",
    "input_shape = (num_rows, num_columns)\n",
    "\n",
    "n_epochs = 150\n",
    "batch_size = None\n",
    "split_val = True\n",
    "\n",
    "model_save_path = 'saved_models/model.h5'"
   ]
  },
  {
   "cell_type": "code",
   "execution_count": 3,
   "id": "a39885db",
   "metadata": {},
   "outputs": [],
   "source": [
    "def load_feature_tuple(file_name):\n",
    "    y, sr = librosa.load(file_name, mono=True)\n",
    "\n",
    "    mfcc = librosa.feature.mfcc(y=y, sr=sr, n_mfcc=n_mfcc)\n",
    "\n",
    "    return mfcc"
   ]
  },
  {
   "cell_type": "code",
   "execution_count": 4,
   "id": "e8cccf27",
   "metadata": {},
   "outputs": [],
   "source": [
    "def pad_feature_width(feature, feature_width):\n",
    "    diff = feature_width - feature.shape[1]\n",
    "    if diff > 0:\n",
    "        return np.pad(feature, pad_width=((0, 0), (0, diff)), mode='constant')\n",
    "    elif diff < 0:\n",
    "        return np.delete(feature, np.arange(feature_width, feature.shape[1]), axis=1)\n",
    "    return feature"
   ]
  },
  {
   "cell_type": "code",
   "execution_count": 5,
   "id": "15aa2cbc",
   "metadata": {},
   "outputs": [],
   "source": [
    "def extract_feature(file_name, feature_width):\n",
    "    image = load_feature_tuple(file_name)\n",
    "    image = pad_feature_width(image, feature_width)\n",
    "    image = np.transpose(image)\n",
    "    return image"
   ]
  },
  {
   "cell_type": "code",
   "execution_count": 6,
   "id": "4158fb8c",
   "metadata": {},
   "outputs": [],
   "source": [
    "def fetch_dataset(dir_path, label):\n",
    "    _features = np.empty((0, ) + input_shape)\n",
    "    for file_name in tqdm(os.listdir(dir_path)):\n",
    "        file_path = os.path.join(dir_path, file_name)\n",
    "        feature = extract_feature(file_path, input_shape[0]).reshape((1, ) + input_shape)\n",
    "        _features = np.append(_features, feature, axis=0)\n",
    "\n",
    "    _labels = np.full((_features.shape[0], ), label)\n",
    "\n",
    "    return _features, _labels"
   ]
  },
  {
   "cell_type": "markdown",
   "id": "68afff4f",
   "metadata": {},
   "source": [
    "# 데이터셋 가져오기"
   ]
  },
  {
   "cell_type": "code",
   "execution_count": 7,
   "id": "168ee650",
   "metadata": {},
   "outputs": [
    {
     "name": "stderr",
     "output_type": "stream",
     "text": [
      "100%|██████████████████████████████████████████████████████████████████████████████| 2323/2323 [06:31<00:00,  5.93it/s]\n",
      "100%|██████████████████████████████████████████████████████████████████████████████| 1895/1895 [05:06<00:00,  6.17it/s]\n",
      "100%|██████████████████████████████████████████████████████████████████████████████| 3846/3846 [15:10<00:00,  4.23it/s]"
     ]
    },
    {
     "name": "stdout",
     "output_type": "stream",
     "text": [
      "elapsed time fetching dataset (sec): 1608.6704494953156\n"
     ]
    },
    {
     "name": "stderr",
     "output_type": "stream",
     "text": [
      "\n"
     ]
    }
   ],
   "source": [
    "start_time = time.time()\n",
    "\n",
    "positive_features, positive_labels = fetch_dataset(base_dir + '/positive', 'POSITIVE')\n",
    "neutral_features, neutral_labels = fetch_dataset(base_dir + '/neutral', 'NEUTRAL')\n",
    "negative_features, negative_labels = fetch_dataset(base_dir + '/negative', 'NEGATIVE')\n",
    "\n",
    "print('elapsed time fetching dataset (sec):', time.time() - start_time)"
   ]
  },
  {
   "cell_type": "code",
   "execution_count": 8,
   "id": "c1ca2ae7",
   "metadata": {},
   "outputs": [
    {
     "name": "stdout",
     "output_type": "stream",
     "text": [
      "features shape: (8064, 150, 128)\n",
      "labels shape before encoding: (8064,)\n"
     ]
    }
   ],
   "source": [
    "features = np.concatenate((positive_features, neutral_features, negative_features), axis=0)\n",
    "labels = np.concatenate((positive_labels, neutral_labels, negative_labels), axis=0)\n",
    "\n",
    "print('features shape:', features.shape)\n",
    "print('labels shape before encoding:', labels.shape)"
   ]
  },
  {
   "cell_type": "code",
   "execution_count": 9,
   "id": "ad68ccfe",
   "metadata": {},
   "outputs": [
    {
     "name": "stdout",
     "output_type": "stream",
     "text": [
      "labels shape after encoding: (8064, 3)\n",
      "label encoder classes: ['NEGATIVE' 'NEUTRAL' 'POSITIVE']\n"
     ]
    }
   ],
   "source": [
    "le = LabelEncoder()\n",
    "labels = to_categorical(le.fit_transform(labels))\n",
    "print('labels shape after encoding:', labels.shape)\n",
    "print('label encoder classes:', le.classes_)"
   ]
  },
  {
   "cell_type": "code",
   "execution_count": 10,
   "id": "e2fcddb0",
   "metadata": {},
   "outputs": [],
   "source": [
    "x_train, x_test, y_train, y_test = train_test_split(features, labels, test_size=0.2)"
   ]
  },
  {
   "cell_type": "markdown",
   "id": "bf4f35c8",
   "metadata": {},
   "source": [
    "# 학습"
   ]
  },
  {
   "cell_type": "code",
   "execution_count": 11,
   "id": "1d785a86",
   "metadata": {
    "scrolled": true
   },
   "outputs": [
    {
     "name": "stdout",
     "output_type": "stream",
     "text": [
      "Model: \"sequential\"\n",
      "_________________________________________________________________\n",
      " Layer (type)                Output Shape              Param #   \n",
      "=================================================================\n",
      " block1_conv1 (Conv1D)       (None, 150, 64)           24640     \n",
      "                                                                 \n",
      " block1_conv2 (Conv1D)       (None, 150, 64)           12352     \n",
      "                                                                 \n",
      " block1_pool (MaxPooling1D)  (None, 75, 64)            0         \n",
      "                                                                 \n",
      " block2_conv1 (Conv1D)       (None, 75, 128)           24704     \n",
      "                                                                 \n",
      " block2_conv2 (Conv1D)       (None, 75, 128)           49280     \n",
      "                                                                 \n",
      " block2_pool (MaxPooling1D)  (None, 37, 128)           0         \n",
      "                                                                 \n",
      " block3_conv1 (Conv1D)       (None, 37, 256)           98560     \n",
      "                                                                 \n",
      " block3_conv2 (Conv1D)       (None, 37, 256)           196864    \n",
      "                                                                 \n",
      " block3_conv3 (Conv1D)       (None, 37, 256)           196864    \n",
      "                                                                 \n",
      " block3_pool (MaxPooling1D)  (None, 18, 256)           0         \n",
      "                                                                 \n",
      " block4_conv1 (Conv1D)       (None, 18, 512)           393728    \n",
      "                                                                 \n",
      " block4_conv2 (Conv1D)       (None, 18, 512)           786944    \n",
      "                                                                 \n",
      " block4_conv3 (Conv1D)       (None, 18, 512)           786944    \n",
      "                                                                 \n",
      " block4_pool (MaxPooling1D)  (None, 9, 512)            0         \n",
      "                                                                 \n",
      " block5_conv1 (Conv1D)       (None, 9, 512)            786944    \n",
      "                                                                 \n",
      " block5_conv2 (Conv1D)       (None, 9, 512)            786944    \n",
      "                                                                 \n",
      " block5_conv3 (Conv1D)       (None, 9, 512)            786944    \n",
      "                                                                 \n",
      " block5_pool (MaxPooling1D)  (None, 4, 512)            0         \n",
      "                                                                 \n",
      " flatten (Flatten)           (None, 2048)              0         \n",
      "                                                                 \n",
      " batch_normalization (BatchN  (None, 2048)             8192      \n",
      " ormalization)                                                   \n",
      "                                                                 \n",
      " dense (Dense)               (None, 1024)              2098176   \n",
      "                                                                 \n",
      " dropout (Dropout)           (None, 1024)              0         \n",
      "                                                                 \n",
      " dense_1 (Dense)             (None, 3)                 3075      \n",
      "                                                                 \n",
      "=================================================================\n",
      "Total params: 7,041,155\n",
      "Trainable params: 7,037,059\n",
      "Non-trainable params: 4,096\n",
      "_________________________________________________________________\n"
     ]
    }
   ],
   "source": [
    "model = Sequential()\n",
    "\n",
    "# Block 1\n",
    "model.add(Conv1D(64, 3, activation='relu', padding='same', name='block1_conv1', input_shape=input_shape))\n",
    "model.add(Conv1D(64, 3, activation='relu', padding='same', name='block1_conv2'))\n",
    "model.add(MaxPooling1D(2, strides=2, name='block1_pool'))\n",
    "\n",
    "# Block 2\n",
    "model.add(Conv1D(128, 3, activation='relu', padding='same', name='block2_conv1'))\n",
    "model.add(Conv1D(128, 3, activation='relu', padding='same', name='block2_conv2'))\n",
    "model.add(MaxPooling1D(2, strides=2, name='block2_pool'))\n",
    "\n",
    "# Block 3\n",
    "model.add(Conv1D(256, 3, activation='relu', padding='same', name='block3_conv1'))\n",
    "model.add(Conv1D(256, 3, activation='relu', padding='same', name='block3_conv2'))\n",
    "model.add(Conv1D(256, 3, activation='relu', padding='same', name='block3_conv3'))\n",
    "model.add(MaxPooling1D(2, strides=2, name='block3_pool'))\n",
    "\n",
    "# Block 4\n",
    "model.add(Conv1D(512, 3, activation='relu', padding='same', name='block4_conv1'))\n",
    "model.add(Conv1D(512, 3, activation='relu', padding='same', name='block4_conv2'))\n",
    "model.add(Conv1D(512, 3, activation='relu', padding='same', name='block4_conv3'))\n",
    "model.add(MaxPooling1D(2, strides=2, name='block4_pool'))\n",
    "\n",
    "# Block 5\n",
    "model.add(Conv1D(512, 3, activation='relu', padding='same', name='block5_conv1'))\n",
    "model.add(Conv1D(512, 3, activation='relu', padding='same', name='block5_conv2'))\n",
    "model.add(Conv1D(512, 3, activation='relu', padding='same', name='block5_conv3'))\n",
    "model.add(MaxPooling1D(2, strides=2, name='block5_pool'))\n",
    "\n",
    "model.add(Flatten())\n",
    "model.add(BatchNormalization())\n",
    "model.add(Dense(1024, activation='relu'))\n",
    "model.add(Dropout(0.5))\n",
    "model.add(Dense(3, activation='softmax'))\n",
    "\n",
    "model.summary()"
   ]
  },
  {
   "cell_type": "code",
   "execution_count": 12,
   "id": "8afcb6a5",
   "metadata": {},
   "outputs": [],
   "source": [
    "model.compile(loss='categorical_crossentropy', metrics=['accuracy'], optimizer='adam')"
   ]
  },
  {
   "cell_type": "code",
   "execution_count": 13,
   "id": "8ed3004b",
   "metadata": {},
   "outputs": [],
   "source": [
    "if split_val:\n",
    "    validation_split = 0.25\n",
    "else:\n",
    "    validation_split = 0.0"
   ]
  },
  {
   "cell_type": "code",
   "execution_count": 14,
   "id": "2eb3a18d",
   "metadata": {},
   "outputs": [
    {
     "name": "stdout",
     "output_type": "stream",
     "text": [
      "Epoch 1/150\n",
      "152/152 [==============================] - 7s 26ms/step - loss: 1.5317 - accuracy: 0.5149 - val_loss: 19.0237 - val_accuracy: 0.3069\n",
      "Epoch 2/150\n",
      "152/152 [==============================] - 3s 20ms/step - loss: 0.9296 - accuracy: 0.5905 - val_loss: 14.1279 - val_accuracy: 0.4290\n",
      "Epoch 3/150\n",
      "152/152 [==============================] - 3s 20ms/step - loss: 0.8469 - accuracy: 0.6077 - val_loss: 1.5210 - val_accuracy: 0.4823\n",
      "Epoch 4/150\n",
      "152/152 [==============================] - 3s 20ms/step - loss: 0.7331 - accuracy: 0.6284 - val_loss: 1.0442 - val_accuracy: 0.4718\n",
      "Epoch 5/150\n",
      "152/152 [==============================] - 3s 20ms/step - loss: 0.7161 - accuracy: 0.6445 - val_loss: 0.7348 - val_accuracy: 0.6193\n",
      "Epoch 6/150\n",
      "152/152 [==============================] - 3s 20ms/step - loss: 0.6850 - accuracy: 0.6612 - val_loss: 0.6582 - val_accuracy: 0.6795\n",
      "Epoch 7/150\n",
      "152/152 [==============================] - 3s 20ms/step - loss: 0.6707 - accuracy: 0.6592 - val_loss: 0.6557 - val_accuracy: 0.6820\n",
      "Epoch 8/150\n",
      "152/152 [==============================] - 3s 20ms/step - loss: 0.6693 - accuracy: 0.6701 - val_loss: 2.4934 - val_accuracy: 0.5084\n",
      "Epoch 9/150\n",
      "152/152 [==============================] - 3s 20ms/step - loss: 0.6581 - accuracy: 0.6740 - val_loss: 1.9665 - val_accuracy: 0.6057\n",
      "Epoch 10/150\n",
      "152/152 [==============================] - 3s 20ms/step - loss: 0.6564 - accuracy: 0.6759 - val_loss: 0.9897 - val_accuracy: 0.6187\n",
      "Epoch 11/150\n",
      "152/152 [==============================] - 3s 20ms/step - loss: 0.6204 - accuracy: 0.6887 - val_loss: 10.7328 - val_accuracy: 0.6510\n",
      "Epoch 12/150\n",
      "152/152 [==============================] - 3s 20ms/step - loss: 0.6155 - accuracy: 0.6997 - val_loss: 0.6728 - val_accuracy: 0.7260\n",
      "Epoch 13/150\n",
      "152/152 [==============================] - 3s 20ms/step - loss: 0.6261 - accuracy: 0.7042 - val_loss: 0.8035 - val_accuracy: 0.6038\n",
      "Epoch 14/150\n",
      "152/152 [==============================] - 3s 20ms/step - loss: 0.6027 - accuracy: 0.7141 - val_loss: 2.5057 - val_accuracy: 0.6020\n",
      "Epoch 15/150\n",
      "152/152 [==============================] - 3s 20ms/step - loss: 0.5965 - accuracy: 0.7152 - val_loss: 0.5964 - val_accuracy: 0.7161\n",
      "Epoch 16/150\n",
      "152/152 [==============================] - 3s 20ms/step - loss: 0.6124 - accuracy: 0.7042 - val_loss: 0.7840 - val_accuracy: 0.6646\n",
      "Epoch 17/150\n",
      "152/152 [==============================] - 3s 20ms/step - loss: 0.5735 - accuracy: 0.7272 - val_loss: 35.4443 - val_accuracy: 0.6714\n",
      "Epoch 18/150\n",
      "152/152 [==============================] - 3s 20ms/step - loss: 0.6020 - accuracy: 0.7053 - val_loss: 33.7435 - val_accuracy: 0.6379\n",
      "Epoch 19/150\n",
      "152/152 [==============================] - 3s 20ms/step - loss: 0.5670 - accuracy: 0.7340 - val_loss: 3.7158 - val_accuracy: 0.6255\n",
      "Epoch 20/150\n",
      "152/152 [==============================] - 3s 20ms/step - loss: 0.5760 - accuracy: 0.7263 - val_loss: 219.1790 - val_accuracy: 0.6138\n",
      "Epoch 21/150\n",
      "152/152 [==============================] - 3s 20ms/step - loss: 0.5556 - accuracy: 0.7340 - val_loss: 144.0643 - val_accuracy: 0.6231\n",
      "Epoch 22/150\n",
      "152/152 [==============================] - 3s 19ms/step - loss: 0.5611 - accuracy: 0.7313 - val_loss: 1.7797 - val_accuracy: 0.6057\n",
      "Epoch 23/150\n",
      "152/152 [==============================] - 3s 19ms/step - loss: 0.5606 - accuracy: 0.7414 - val_loss: 26918.0293 - val_accuracy: 0.4327\n",
      "Epoch 24/150\n",
      "152/152 [==============================] - 3s 19ms/step - loss: 0.5210 - accuracy: 0.7544 - val_loss: 0.6507 - val_accuracy: 0.7130\n",
      "Epoch 25/150\n",
      "152/152 [==============================] - 3s 20ms/step - loss: 0.5347 - accuracy: 0.7542 - val_loss: 159.8737 - val_accuracy: 0.7446\n",
      "Epoch 26/150\n",
      "152/152 [==============================] - 3s 20ms/step - loss: 0.5334 - accuracy: 0.7520 - val_loss: 0.7162 - val_accuracy: 0.6423\n",
      "Epoch 27/150\n",
      "152/152 [==============================] - 3s 20ms/step - loss: 0.5059 - accuracy: 0.7621 - val_loss: 0.6485 - val_accuracy: 0.7204\n",
      "Epoch 28/150\n",
      "152/152 [==============================] - 3s 20ms/step - loss: 0.5009 - accuracy: 0.7720 - val_loss: 753.2999 - val_accuracy: 0.6851\n",
      "Epoch 29/150\n",
      "152/152 [==============================] - 3s 20ms/step - loss: 0.5213 - accuracy: 0.7592 - val_loss: 0.9452 - val_accuracy: 0.6541\n",
      "Epoch 30/150\n",
      "152/152 [==============================] - 3s 20ms/step - loss: 0.4994 - accuracy: 0.7720 - val_loss: 0.7611 - val_accuracy: 0.6460\n",
      "Epoch 31/150\n",
      "152/152 [==============================] - 3s 20ms/step - loss: 0.4771 - accuracy: 0.7873 - val_loss: 1.6502 - val_accuracy: 0.6268\n",
      "Epoch 32/150\n",
      "152/152 [==============================] - 3s 20ms/step - loss: 0.4668 - accuracy: 0.7954 - val_loss: 2666.3738 - val_accuracy: 0.7092\n",
      "Epoch 33/150\n",
      "152/152 [==============================] - 3s 20ms/step - loss: 0.4979 - accuracy: 0.7699 - val_loss: 45004.0820 - val_accuracy: 0.7204\n",
      "Epoch 34/150\n",
      "152/152 [==============================] - 3s 20ms/step - loss: 0.4657 - accuracy: 0.7925 - val_loss: 3077.7859 - val_accuracy: 0.6144\n",
      "Epoch 35/150\n",
      "152/152 [==============================] - 3s 20ms/step - loss: 0.4539 - accuracy: 0.7945 - val_loss: 71889.0078 - val_accuracy: 0.6999\n",
      "Epoch 36/150\n",
      "152/152 [==============================] - 3s 20ms/step - loss: 0.4296 - accuracy: 0.8078 - val_loss: 0.7853 - val_accuracy: 0.7247\n",
      "Epoch 37/150\n",
      "152/152 [==============================] - 3s 20ms/step - loss: 0.4344 - accuracy: 0.8098 - val_loss: 0.6668 - val_accuracy: 0.7123\n",
      "Epoch 38/150\n",
      "152/152 [==============================] - 3s 20ms/step - loss: 0.4499 - accuracy: 0.8007 - val_loss: 5474.4302 - val_accuracy: 0.7266\n",
      "Epoch 39/150\n",
      "152/152 [==============================] - 3s 20ms/step - loss: 0.4228 - accuracy: 0.8119 - val_loss: 0.6229 - val_accuracy: 0.7303\n",
      "Epoch 40/150\n",
      "152/152 [==============================] - 3s 20ms/step - loss: 0.4143 - accuracy: 0.8198 - val_loss: 43.0365 - val_accuracy: 0.6925\n",
      "Epoch 41/150\n",
      "152/152 [==============================] - 4s 24ms/step - loss: 0.4139 - accuracy: 0.8179 - val_loss: 0.6175 - val_accuracy: 0.7322\n",
      "Epoch 42/150\n",
      "152/152 [==============================] - 3s 20ms/step - loss: 0.3859 - accuracy: 0.8346 - val_loss: 637.1896 - val_accuracy: 0.6181\n",
      "Epoch 43/150\n",
      "152/152 [==============================] - 3s 20ms/step - loss: 0.4115 - accuracy: 0.8251 - val_loss: 0.7675 - val_accuracy: 0.6770\n",
      "Epoch 44/150\n",
      "152/152 [==============================] - 3s 20ms/step - loss: 0.3649 - accuracy: 0.8421 - val_loss: 1660.1339 - val_accuracy: 0.7179\n",
      "Epoch 45/150\n",
      "152/152 [==============================] - 3s 20ms/step - loss: 0.3885 - accuracy: 0.8332 - val_loss: 0.8722 - val_accuracy: 0.7328\n",
      "Epoch 46/150\n",
      "152/152 [==============================] - 3s 20ms/step - loss: 0.3596 - accuracy: 0.8466 - val_loss: 0.8560 - val_accuracy: 0.7185\n",
      "Epoch 47/150\n",
      "152/152 [==============================] - 3s 20ms/step - loss: 0.3594 - accuracy: 0.8537 - val_loss: 663.6345 - val_accuracy: 0.6875\n",
      "Epoch 48/150\n",
      "152/152 [==============================] - 3s 20ms/step - loss: 0.3309 - accuracy: 0.8611 - val_loss: 23.1260 - val_accuracy: 0.6503\n",
      "Epoch 49/150\n",
      "152/152 [==============================] - 3s 20ms/step - loss: 0.3421 - accuracy: 0.8605 - val_loss: 1925.4872 - val_accuracy: 0.7136\n",
      "Epoch 50/150\n",
      "152/152 [==============================] - 3s 20ms/step - loss: 0.3311 - accuracy: 0.8578 - val_loss: 168.3377 - val_accuracy: 0.7216\n",
      "Epoch 51/150\n",
      "152/152 [==============================] - 3s 20ms/step - loss: 0.2971 - accuracy: 0.8783 - val_loss: 1908.8795 - val_accuracy: 0.6454\n",
      "Epoch 52/150\n",
      "152/152 [==============================] - 3s 20ms/step - loss: 0.3366 - accuracy: 0.8630 - val_loss: 2029.1240 - val_accuracy: 0.7260\n",
      "Epoch 53/150\n",
      "152/152 [==============================] - 3s 20ms/step - loss: 0.2992 - accuracy: 0.8811 - val_loss: 1.0516 - val_accuracy: 0.7167\n",
      "Epoch 54/150\n",
      "152/152 [==============================] - 3s 20ms/step - loss: 0.2816 - accuracy: 0.8822 - val_loss: 547.7488 - val_accuracy: 0.7167\n",
      "Epoch 55/150\n",
      "152/152 [==============================] - 3s 20ms/step - loss: 0.3024 - accuracy: 0.8809 - val_loss: 11734.4951 - val_accuracy: 0.7365\n",
      "Epoch 56/150\n",
      "152/152 [==============================] - 3s 20ms/step - loss: 0.2727 - accuracy: 0.8911 - val_loss: 1.2155 - val_accuracy: 0.7334\n",
      "Epoch 57/150\n"
     ]
    },
    {
     "name": "stdout",
     "output_type": "stream",
     "text": [
      "152/152 [==============================] - 3s 20ms/step - loss: 0.3020 - accuracy: 0.8758 - val_loss: 1.3458 - val_accuracy: 0.7130\n",
      "Epoch 58/150\n",
      "152/152 [==============================] - 3s 20ms/step - loss: 0.3900 - accuracy: 0.8452 - val_loss: 0.8237 - val_accuracy: 0.7235\n",
      "Epoch 59/150\n",
      "152/152 [==============================] - 3s 19ms/step - loss: 0.3172 - accuracy: 0.8685 - val_loss: 142317.6562 - val_accuracy: 0.7309\n",
      "Epoch 60/150\n",
      "152/152 [==============================] - 3s 20ms/step - loss: 0.2478 - accuracy: 0.8991 - val_loss: 1.0530 - val_accuracy: 0.7254\n",
      "Epoch 61/150\n",
      "152/152 [==============================] - 3s 20ms/step - loss: 0.2339 - accuracy: 0.9091 - val_loss: 1.5146 - val_accuracy: 0.6981\n",
      "Epoch 62/150\n",
      "152/152 [==============================] - 3s 19ms/step - loss: 0.2261 - accuracy: 0.9113 - val_loss: 14960.7773 - val_accuracy: 0.7297\n",
      "Epoch 63/150\n",
      "152/152 [==============================] - 3s 20ms/step - loss: 0.2249 - accuracy: 0.9155 - val_loss: 18538.6777 - val_accuracy: 0.7241\n",
      "Epoch 64/150\n",
      "152/152 [==============================] - 3s 20ms/step - loss: 0.2403 - accuracy: 0.9062 - val_loss: 1.3022 - val_accuracy: 0.6510\n",
      "Epoch 65/150\n",
      "152/152 [==============================] - 3s 20ms/step - loss: 0.2082 - accuracy: 0.9188 - val_loss: 370.5206 - val_accuracy: 0.6429\n",
      "Epoch 66/150\n",
      "152/152 [==============================] - 4s 23ms/step - loss: 0.2075 - accuracy: 0.9192 - val_loss: 302.1306 - val_accuracy: 0.7142\n",
      "Epoch 67/150\n",
      "152/152 [==============================] - 3s 20ms/step - loss: 0.1862 - accuracy: 0.9246 - val_loss: 1.6485 - val_accuracy: 0.7105\n",
      "Epoch 68/150\n",
      "152/152 [==============================] - 3s 19ms/step - loss: 0.1850 - accuracy: 0.9330 - val_loss: 2.7518 - val_accuracy: 0.7154\n",
      "Epoch 69/150\n",
      "152/152 [==============================] - 3s 19ms/step - loss: 0.1882 - accuracy: 0.9274 - val_loss: 6.3401 - val_accuracy: 0.7210\n",
      "Epoch 70/150\n",
      "152/152 [==============================] - 3s 20ms/step - loss: 0.1923 - accuracy: 0.9305 - val_loss: 12454.3203 - val_accuracy: 0.6931\n",
      "Epoch 71/150\n",
      "152/152 [==============================] - 3s 19ms/step - loss: 0.2285 - accuracy: 0.9103 - val_loss: 1.5292 - val_accuracy: 0.7198\n",
      "Epoch 72/150\n",
      "152/152 [==============================] - 3s 20ms/step - loss: 0.2187 - accuracy: 0.9186 - val_loss: 2.2913 - val_accuracy: 0.7266\n",
      "Epoch 73/150\n",
      "152/152 [==============================] - 3s 20ms/step - loss: 0.1767 - accuracy: 0.9374 - val_loss: 1.8158 - val_accuracy: 0.6751\n",
      "Epoch 74/150\n",
      "152/152 [==============================] - 3s 20ms/step - loss: 0.1640 - accuracy: 0.9384 - val_loss: 1.4662 - val_accuracy: 0.7092\n",
      "Epoch 75/150\n",
      "152/152 [==============================] - 3s 20ms/step - loss: 0.1502 - accuracy: 0.9423 - val_loss: 7.8745 - val_accuracy: 0.7123\n",
      "Epoch 76/150\n",
      "152/152 [==============================] - 3s 20ms/step - loss: 0.1924 - accuracy: 0.9314 - val_loss: 10012.3154 - val_accuracy: 0.7092\n",
      "Epoch 77/150\n",
      "152/152 [==============================] - 3s 20ms/step - loss: 0.1699 - accuracy: 0.9339 - val_loss: 3921.0378 - val_accuracy: 0.7198\n",
      "Epoch 78/150\n",
      "152/152 [==============================] - 3s 19ms/step - loss: 0.1491 - accuracy: 0.9442 - val_loss: 26013.9023 - val_accuracy: 0.7235\n",
      "Epoch 79/150\n",
      "152/152 [==============================] - 3s 20ms/step - loss: 0.1305 - accuracy: 0.9520 - val_loss: 38525.4766 - val_accuracy: 0.7148\n",
      "Epoch 80/150\n",
      "152/152 [==============================] - 3s 22ms/step - loss: 0.1340 - accuracy: 0.9556 - val_loss: 13337.9863 - val_accuracy: 0.7161\n",
      "Epoch 81/150\n",
      "152/152 [==============================] - 3s 20ms/step - loss: 0.1410 - accuracy: 0.9471 - val_loss: 15595.9766 - val_accuracy: 0.7328\n",
      "Epoch 82/150\n",
      "152/152 [==============================] - 3s 20ms/step - loss: 0.1440 - accuracy: 0.9496 - val_loss: 1.7835 - val_accuracy: 0.7136\n",
      "Epoch 83/150\n",
      "152/152 [==============================] - 3s 20ms/step - loss: 0.1511 - accuracy: 0.9504 - val_loss: 1.4540 - val_accuracy: 0.7030\n",
      "Epoch 84/150\n",
      "152/152 [==============================] - 3s 20ms/step - loss: 0.1545 - accuracy: 0.9434 - val_loss: 1.4951 - val_accuracy: 0.7049\n",
      "Epoch 85/150\n",
      "152/152 [==============================] - 3s 20ms/step - loss: 0.1976 - accuracy: 0.9305 - val_loss: 1.3055 - val_accuracy: 0.7440\n",
      "Epoch 86/150\n",
      "152/152 [==============================] - 3s 20ms/step - loss: 0.1225 - accuracy: 0.9547 - val_loss: 1.7237 - val_accuracy: 0.7123\n",
      "Epoch 87/150\n",
      "152/152 [==============================] - 3s 20ms/step - loss: 0.1198 - accuracy: 0.9601 - val_loss: 433.5617 - val_accuracy: 0.6739\n",
      "Epoch 88/150\n",
      "152/152 [==============================] - 3s 20ms/step - loss: 0.1078 - accuracy: 0.9597 - val_loss: 2.1219 - val_accuracy: 0.6621\n",
      "Epoch 89/150\n",
      "152/152 [==============================] - 3s 20ms/step - loss: 0.1105 - accuracy: 0.9613 - val_loss: 1.5635 - val_accuracy: 0.7148\n",
      "Epoch 90/150\n",
      "152/152 [==============================] - 3s 20ms/step - loss: 0.1069 - accuracy: 0.9653 - val_loss: 1.8564 - val_accuracy: 0.7161\n",
      "Epoch 91/150\n",
      "152/152 [==============================] - 3s 20ms/step - loss: 0.1108 - accuracy: 0.9607 - val_loss: 1.7964 - val_accuracy: 0.7241\n",
      "Epoch 92/150\n",
      "152/152 [==============================] - 3s 20ms/step - loss: 0.1120 - accuracy: 0.9624 - val_loss: 2.2291 - val_accuracy: 0.7185\n",
      "Epoch 93/150\n",
      "152/152 [==============================] - 3s 20ms/step - loss: 0.1458 - accuracy: 0.9496 - val_loss: 1.5729 - val_accuracy: 0.7334\n",
      "Epoch 94/150\n",
      "152/152 [==============================] - 3s 20ms/step - loss: 0.1416 - accuracy: 0.9547 - val_loss: 2.0985 - val_accuracy: 0.7006\n",
      "Epoch 95/150\n",
      "152/152 [==============================] - 3s 20ms/step - loss: 0.2185 - accuracy: 0.9233 - val_loss: 106871.9375 - val_accuracy: 0.7210\n",
      "Epoch 96/150\n",
      "152/152 [==============================] - 3s 20ms/step - loss: 0.1125 - accuracy: 0.9593 - val_loss: 3.8090 - val_accuracy: 0.6534\n",
      "Epoch 97/150\n",
      "152/152 [==============================] - 3s 20ms/step - loss: 0.1853 - accuracy: 0.9361 - val_loss: 1681506.3750 - val_accuracy: 0.7241\n",
      "Epoch 98/150\n",
      "152/152 [==============================] - 3s 20ms/step - loss: 0.1140 - accuracy: 0.9582 - val_loss: 1.8157 - val_accuracy: 0.7216\n",
      "Epoch 99/150\n",
      "152/152 [==============================] - 3s 20ms/step - loss: 0.0785 - accuracy: 0.9737 - val_loss: 2.4402 - val_accuracy: 0.7111\n",
      "Epoch 100/150\n",
      "152/152 [==============================] - 3s 20ms/step - loss: 0.0923 - accuracy: 0.9698 - val_loss: 1.7648 - val_accuracy: 0.7353\n",
      "Epoch 101/150\n",
      "152/152 [==============================] - 3s 20ms/step - loss: 0.1012 - accuracy: 0.9620 - val_loss: 1.8830 - val_accuracy: 0.7266\n",
      "Epoch 102/150\n",
      "152/152 [==============================] - 3s 20ms/step - loss: 0.1487 - accuracy: 0.9560 - val_loss: 1.9002 - val_accuracy: 0.7229\n",
      "Epoch 103/150\n",
      "152/152 [==============================] - 3s 20ms/step - loss: 0.0791 - accuracy: 0.9733 - val_loss: 1.7338 - val_accuracy: 0.7161\n",
      "Epoch 104/150\n",
      "152/152 [==============================] - 3s 20ms/step - loss: 0.0986 - accuracy: 0.9692 - val_loss: 1.9625 - val_accuracy: 0.7179\n",
      "Epoch 105/150\n",
      "152/152 [==============================] - 3s 20ms/step - loss: 0.0647 - accuracy: 0.9785 - val_loss: 2.2054 - val_accuracy: 0.7068\n",
      "Epoch 106/150\n",
      "152/152 [==============================] - 3s 20ms/step - loss: 0.0997 - accuracy: 0.9671 - val_loss: 1.7815 - val_accuracy: 0.7216\n",
      "Epoch 107/150\n",
      "152/152 [==============================] - 3s 20ms/step - loss: 0.0848 - accuracy: 0.9723 - val_loss: 54040.7695 - val_accuracy: 0.7117\n",
      "Epoch 108/150\n",
      "152/152 [==============================] - 3s 20ms/step - loss: 0.0917 - accuracy: 0.9692 - val_loss: 1.9697 - val_accuracy: 0.7198\n",
      "Epoch 109/150\n",
      "152/152 [==============================] - 3s 20ms/step - loss: 0.1246 - accuracy: 0.9611 - val_loss: 185893.7656 - val_accuracy: 0.7260\n",
      "Epoch 110/150\n",
      "152/152 [==============================] - 3s 20ms/step - loss: 0.1063 - accuracy: 0.9642 - val_loss: 60321.7070 - val_accuracy: 0.7247\n",
      "Epoch 111/150\n",
      "152/152 [==============================] - 3s 20ms/step - loss: 0.0688 - accuracy: 0.9775 - val_loss: 1.8436 - val_accuracy: 0.7006\n",
      "Epoch 112/150\n",
      "152/152 [==============================] - 3s 20ms/step - loss: 0.0502 - accuracy: 0.9818 - val_loss: 2.2699 - val_accuracy: 0.7278\n",
      "Epoch 113/150\n"
     ]
    },
    {
     "name": "stdout",
     "output_type": "stream",
     "text": [
      "152/152 [==============================] - 3s 20ms/step - loss: 0.1061 - accuracy: 0.9634 - val_loss: 1.9897 - val_accuracy: 0.7161\n",
      "Epoch 114/150\n",
      "152/152 [==============================] - 3s 20ms/step - loss: 0.1254 - accuracy: 0.9582 - val_loss: 1.6699 - val_accuracy: 0.7291\n",
      "Epoch 115/150\n",
      "152/152 [==============================] - 3s 20ms/step - loss: 0.0632 - accuracy: 0.9793 - val_loss: 2.0428 - val_accuracy: 0.7173\n",
      "Epoch 116/150\n",
      "152/152 [==============================] - 3s 20ms/step - loss: 0.0857 - accuracy: 0.9702 - val_loss: 2.1555 - val_accuracy: 0.7353\n",
      "Epoch 117/150\n",
      "152/152 [==============================] - 3s 20ms/step - loss: 0.1017 - accuracy: 0.9649 - val_loss: 140228.7031 - val_accuracy: 0.7204\n",
      "Epoch 118/150\n",
      "152/152 [==============================] - 3s 20ms/step - loss: 0.0490 - accuracy: 0.9857 - val_loss: 2.1980 - val_accuracy: 0.6956\n",
      "Epoch 119/150\n",
      "152/152 [==============================] - 3s 20ms/step - loss: 0.0480 - accuracy: 0.9808 - val_loss: 2.2311 - val_accuracy: 0.7142\n",
      "Epoch 120/150\n",
      "152/152 [==============================] - 3s 20ms/step - loss: 0.0814 - accuracy: 0.9764 - val_loss: 1.9180 - val_accuracy: 0.7297\n",
      "Epoch 121/150\n",
      "152/152 [==============================] - 3s 20ms/step - loss: 0.1142 - accuracy: 0.9640 - val_loss: 1.9079 - val_accuracy: 0.6665\n",
      "Epoch 122/150\n",
      "152/152 [==============================] - 3s 20ms/step - loss: 0.0767 - accuracy: 0.9754 - val_loss: 2.0070 - val_accuracy: 0.7136\n",
      "Epoch 123/150\n",
      "152/152 [==============================] - 3s 20ms/step - loss: 0.0365 - accuracy: 0.9870 - val_loss: 2.3652 - val_accuracy: 0.7309\n",
      "Epoch 124/150\n",
      "152/152 [==============================] - 3s 20ms/step - loss: 0.0777 - accuracy: 0.9756 - val_loss: 621571.3750 - val_accuracy: 0.7117\n",
      "Epoch 125/150\n",
      "152/152 [==============================] - 3s 20ms/step - loss: 0.0459 - accuracy: 0.9849 - val_loss: 2.4695 - val_accuracy: 0.7272\n",
      "Epoch 126/150\n",
      "152/152 [==============================] - 3s 20ms/step - loss: 0.1050 - accuracy: 0.9665 - val_loss: 3.0558 - val_accuracy: 0.6410\n",
      "Epoch 127/150\n",
      "152/152 [==============================] - 3s 20ms/step - loss: 0.1190 - accuracy: 0.9636 - val_loss: 4.7998 - val_accuracy: 0.7216\n",
      "Epoch 128/150\n",
      "152/152 [==============================] - 3s 20ms/step - loss: 0.0446 - accuracy: 0.9835 - val_loss: 2.0609 - val_accuracy: 0.7334\n",
      "Epoch 129/150\n",
      "152/152 [==============================] - 3s 20ms/step - loss: 0.0643 - accuracy: 0.9804 - val_loss: 299091.7500 - val_accuracy: 0.7154\n",
      "Epoch 130/150\n",
      "152/152 [==============================] - 3s 20ms/step - loss: 0.1018 - accuracy: 0.9704 - val_loss: 25261.6953 - val_accuracy: 0.6156\n",
      "Epoch 131/150\n",
      "152/152 [==============================] - 3s 20ms/step - loss: 0.1097 - accuracy: 0.9618 - val_loss: 6275.6421 - val_accuracy: 0.7247\n",
      "Epoch 132/150\n",
      "152/152 [==============================] - 3s 20ms/step - loss: 0.0318 - accuracy: 0.9886 - val_loss: 2.5521 - val_accuracy: 0.7260\n",
      "Epoch 133/150\n",
      "152/152 [==============================] - 3s 20ms/step - loss: 0.0461 - accuracy: 0.9845 - val_loss: 2.2728 - val_accuracy: 0.7142\n",
      "Epoch 134/150\n",
      "152/152 [==============================] - 3s 20ms/step - loss: 0.0936 - accuracy: 0.9715 - val_loss: 1.8219 - val_accuracy: 0.7272\n",
      "Epoch 135/150\n",
      "152/152 [==============================] - 3s 20ms/step - loss: 0.0699 - accuracy: 0.9787 - val_loss: 2.3173 - val_accuracy: 0.7080\n",
      "Epoch 136/150\n",
      "152/152 [==============================] - 3s 20ms/step - loss: 0.0830 - accuracy: 0.9760 - val_loss: 1242.6084 - val_accuracy: 0.7192\n",
      "Epoch 137/150\n",
      "152/152 [==============================] - 3s 20ms/step - loss: 0.0796 - accuracy: 0.9758 - val_loss: 892786.2500 - val_accuracy: 0.7241\n",
      "Epoch 138/150\n",
      "152/152 [==============================] - 3s 20ms/step - loss: 0.0510 - accuracy: 0.9839 - val_loss: 565196.0000 - val_accuracy: 0.7390\n",
      "Epoch 139/150\n",
      "152/152 [==============================] - 3s 20ms/step - loss: 0.0642 - accuracy: 0.9775 - val_loss: 2.0556 - val_accuracy: 0.7415\n",
      "Epoch 140/150\n",
      "152/152 [==============================] - 3s 20ms/step - loss: 0.0660 - accuracy: 0.9800 - val_loss: 5097215.0000 - val_accuracy: 0.7099\n",
      "Epoch 141/150\n",
      "152/152 [==============================] - 3s 20ms/step - loss: 0.0356 - accuracy: 0.9874 - val_loss: 2.3676 - val_accuracy: 0.7328\n",
      "Epoch 142/150\n",
      "152/152 [==============================] - 3s 20ms/step - loss: 0.0342 - accuracy: 0.9903 - val_loss: 356117.9375 - val_accuracy: 0.7285\n",
      "Epoch 143/150\n",
      "152/152 [==============================] - 3s 20ms/step - loss: 0.1228 - accuracy: 0.9609 - val_loss: 2.1339 - val_accuracy: 0.7309\n",
      "Epoch 144/150\n",
      "152/152 [==============================] - 3s 20ms/step - loss: 0.0956 - accuracy: 0.9711 - val_loss: 2.1644 - val_accuracy: 0.7185\n",
      "Epoch 145/150\n",
      "152/152 [==============================] - 3s 20ms/step - loss: 0.0600 - accuracy: 0.9797 - val_loss: 11134052.0000 - val_accuracy: 0.7334\n",
      "Epoch 146/150\n",
      "152/152 [==============================] - 3s 20ms/step - loss: 0.0383 - accuracy: 0.9890 - val_loss: 1935927.3750 - val_accuracy: 0.6869\n",
      "Epoch 147/150\n",
      "152/152 [==============================] - 3s 20ms/step - loss: 0.0655 - accuracy: 0.9795 - val_loss: 2.4734 - val_accuracy: 0.7241\n",
      "Epoch 148/150\n",
      "152/152 [==============================] - 3s 20ms/step - loss: 0.0456 - accuracy: 0.9876 - val_loss: 2.2819 - val_accuracy: 0.7272\n",
      "Epoch 149/150\n",
      "152/152 [==============================] - 3s 20ms/step - loss: 0.0617 - accuracy: 0.9831 - val_loss: 2.4332 - val_accuracy: 0.7260\n",
      "Epoch 150/150\n",
      "152/152 [==============================] - 3s 20ms/step - loss: 0.0307 - accuracy: 0.9899 - val_loss: 3.3338 - val_accuracy: 0.6677\n",
      "elapsed time training dataset (sec): 457.01188015937805\n"
     ]
    }
   ],
   "source": [
    "start_time = time.time()\n",
    "\n",
    "hist = model.fit(x_train, y_train,\n",
    "                 epochs=n_epochs,\n",
    "                 batch_size=batch_size,\n",
    "                 validation_split=validation_split,\n",
    "                 shuffle=True,\n",
    "                 verbose=1)\n",
    "\n",
    "print('elapsed time training dataset (sec):', time.time() - start_time)\n",
    "\n",
    "model.save(model_save_path)"
   ]
  },
  {
   "cell_type": "code",
   "execution_count": 15,
   "id": "b34313fb",
   "metadata": {},
   "outputs": [
    {
     "data": {
      "image/png": "[encoded data removed]",
      "text/plain": [
       "<Figure size 1080x360 with 2 Axes>"
      ]
     },
     "metadata": {
      "needs_background": "light"
     },
     "output_type": "display_data"
    }
   ],
   "source": [
    "history_dict = hist.history\n",
    "\n",
    "loss_values = history_dict['loss']\n",
    "acc_values = history_dict['accuracy']\n",
    "if split_val:\n",
    "    val_loss_values = history_dict['val_loss']\n",
    "    val_acc_values = history_dict['val_accuracy']\n",
    "\n",
    "fig, (ax1, ax2) = plt.subplots(1, 2, figsize=(15, 5))\n",
    "\n",
    "ax1.plot(loss_values, 'blue', label='Training Loss')\n",
    "if split_val:\n",
    "    ax1.plot(val_loss_values, 'orange', label='Validation Loss')\n",
    "ax1.set_title('Training and validation loss')\n",
    "ax1.set_xlabel('Epochs')\n",
    "ax1.set_ylabel('Loss')\n",
    "ax1.legend()\n",
    "\n",
    "ax2.plot(acc_values, 'blue', label='Training accuracy')\n",
    "if split_val:\n",
    "    ax2.plot(val_acc_values, 'orange', label='Validation accuracy')\n",
    "ax2.set_title('Training and validation accuracy')\n",
    "ax2.set_xlabel('Epochs')\n",
    "ax2.set_ylabel('Accuracy')\n",
    "ax2.legend()\n",
    "\n",
    "plt.show()"
   ]
  },
  {
   "cell_type": "code",
   "execution_count": 16,
   "id": "70146c37",
   "metadata": {},
   "outputs": [
    {
     "name": "stdout",
     "output_type": "stream",
     "text": [
      "51/51 [==============================] - 0s 8ms/step - loss: 3.3844 - accuracy: 0.6516\n",
      "test loss: 3.384441614151001\n",
      "test accuracy: 0.6515809297561646\n"
     ]
    }
   ],
   "source": [
    "loss, accuracy = model.evaluate(x_test, y_test)\n",
    "print('test loss:', loss)\n",
    "print('test accuracy:', accuracy)"
   ]
  },
  {
   "cell_type": "markdown",
   "id": "a367cc71",
   "metadata": {},
   "source": [
    "# 파일 테스트"
   ]
  },
  {
   "cell_type": "code",
   "execution_count": null,
   "id": "95a5f7a5",
   "metadata": {},
   "outputs": [],
   "source": [
    "test_file_name = 'dataset/negative/1001_DFA_ANG_XX.wav'"
   ]
  },
  {
   "cell_type": "code",
   "execution_count": null,
   "id": "66148657",
   "metadata": {},
   "outputs": [],
   "source": [
    "prediction_feature = extract_feature(test_file_name, input_shape[0]).reshape((1, ) + input_shape)\n",
    "model = load_model(model_save_path)\n",
    "\n",
    "predicted_proba = model.predict(prediction_feature)[0]\n",
    "predicted_class = np.argmax(predicted_proba)\n",
    "\n",
    "print('classification result:', le.classes_[predicted_class])"
   ]
  },
  {
   "cell_type": "code",
   "execution_count": null,
   "id": "db540429",
   "metadata": {},
   "outputs": [],
   "source": []
  }
 ],
 "metadata": {
  "kernelspec": {
   "display_name": "emotion",
   "language": "python",
   "name": "emotion"
  },
  "language_info": {
   "codemirror_mode": {
    "name": "ipython",
    "version": 3
   },
   "file_extension": ".py",
   "mimetype": "text/x-python",
   "name": "python",
   "nbconvert_exporter": "python",
   "pygments_lexer": "ipython3",
   "version": "3.8.8"
  }
 },
 "nbformat": 4,
 "nbformat_minor": 5
}
