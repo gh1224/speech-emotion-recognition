{
 "cells": [
  {
   "cell_type": "code",
   "execution_count": null,
   "id": "90230a47",
   "metadata": {},
   "outputs": [],
   "source": [
    "\"\"\"\n",
    "데이터셋\n",
    "Crema, Ravdess, Tess, Savee\n",
    "\n",
    "Positive: happiness - 2323\n",
    "Neutral: neutral, calmness - 1895\n",
    "Negative: anger, sadness - 3846\n",
    "\"\"\""
   ]
  },
  {
   "cell_type": "code",
   "execution_count": 1,
   "id": "736ee2e8",
   "metadata": {},
   "outputs": [
    {
     "name": "stderr",
     "output_type": "stream",
     "text": [
      "C:\\Users\\DeepLearning_5\\Anaconda3\\lib\\site-packages\\requests\\__init__.py:89: RequestsDependencyWarning: urllib3 (1.24.3) or chardet (4.0.0) doesn't match a supported version!\n",
      "  warnings.warn(\"urllib3 ({}) or chardet ({}) doesn't match a supported \"\n"
     ]
    }
   ],
   "source": [
    "import numpy as np\n",
    "import time\n",
    "from tqdm import tqdm\n",
    "import os\n",
    "import librosa\n",
    "import matplotlib.pyplot as plt\n",
    "\n",
    "from sklearn.preprocessing import LabelEncoder, StandardScaler\n",
    "from sklearn.model_selection import train_test_split\n",
    "from sklearn.decomposition import PCA\n",
    "\n",
    "from keras.utils.np_utils import to_categorical\n",
    "from keras.models import load_model, Sequential\n",
    "from keras.layers import Conv1D, MaxPooling1D, Flatten, BatchNormalization, Dense, Dropout"
   ]
  },
  {
   "cell_type": "code",
   "execution_count": 2,
   "id": "1ce1ef09",
   "metadata": {},
   "outputs": [],
   "source": [
    "base_dir = 'dataset'\n",
    "\n",
    "n_mfcc = 128\n",
    "num_rows = 150\n",
    "num_columns = 153\n",
    "pca_components = 50\n",
    "feature_shape = (num_rows, num_columns)\n",
    "input_shape = (num_rows, pca_components)\n",
    "\n",
    "n_epochs = 150\n",
    "batch_size = None\n",
    "split_val = True\n",
    "\n",
    "model_save_path = 'saved_models/model.h5'"
   ]
  },
  {
   "cell_type": "code",
   "execution_count": 3,
   "id": "a39885db",
   "metadata": {},
   "outputs": [],
   "source": [
    "def load_feature_tuple(file_name):\n",
    "    y, sr = librosa.load(file_name, mono=True)\n",
    "\n",
    "    mfcc = librosa.feature.mfcc(y=y, sr=sr, n_mfcc=n_mfcc)\n",
    "    \n",
    "    spectral_centroid = librosa.feature.spectral_centroid(y=y, sr=sr)\n",
    "    spectral_bandwidth = librosa.feature.spectral_bandwidth(y=y, sr=sr)\n",
    "    spectral_contrast = librosa.feature.spectral_contrast(y=y, sr=sr)\n",
    "    spectral_flatness = librosa.feature.spectral_flatness(y=y)\n",
    "    spectral_rolloff = librosa.feature.spectral_rolloff(y=y, sr=sr)\n",
    "    \n",
    "    zero_crossing_rate = librosa.feature.zero_crossing_rate(y=y)\n",
    "    \n",
    "    chroma_stft = librosa.feature.chroma_stft(y=y, sr=sr)\n",
    "    \n",
    "    rms = librosa.feature.rms(y=y)\n",
    "    \n",
    "    return mfcc, spectral_centroid, spectral_bandwidth, spectral_contrast, spectral_flatness, spectral_rolloff, zero_crossing_rate, chroma_stft, rms"
   ]
  },
  {
   "cell_type": "code",
   "execution_count": 4,
   "id": "e8cccf27",
   "metadata": {},
   "outputs": [],
   "source": [
    "def pad_feature_width(feature, feature_width):\n",
    "    diff = feature_width - feature.shape[1]\n",
    "    if diff > 0:\n",
    "        return np.pad(feature, pad_width=((0, 0), (0, diff)), mode='constant')\n",
    "    elif diff < 0:\n",
    "        return np.delete(feature, np.arange(feature_width, feature.shape[1]), axis=1)\n",
    "    return feature"
   ]
  },
  {
   "cell_type": "code",
   "execution_count": 5,
   "id": "15aa2cbc",
   "metadata": {},
   "outputs": [],
   "source": [
    "def extract_feature(file_name, feature_width):\n",
    "    image = np.concatenate(load_feature_tuple(file_name), axis=0)\n",
    "    image = pad_feature_width(image, feature_width)\n",
    "    image = np.transpose(image)\n",
    "    return image"
   ]
  },
  {
   "cell_type": "code",
   "execution_count": 6,
   "id": "4158fb8c",
   "metadata": {},
   "outputs": [],
   "source": [
    "def fetch_dataset(dir_path, label):\n",
    "    _features = np.empty((0, ) + feature_shape)\n",
    "    for file_name in tqdm(os.listdir(dir_path)):\n",
    "        file_path = os.path.join(dir_path, file_name)\n",
    "        feature = extract_feature(file_path, feature_shape[0]).reshape((1, ) + feature_shape)\n",
    "        _features = np.append(_features, feature, axis=0)\n",
    "\n",
    "    _labels = np.full((_features.shape[0], ), label)\n",
    "\n",
    "    return _features, _labels"
   ]
  },
  {
   "cell_type": "markdown",
   "id": "68afff4f",
   "metadata": {},
   "source": [
    "# 데이터셋 가져오기"
   ]
  },
  {
   "cell_type": "code",
   "execution_count": 7,
   "id": "168ee650",
   "metadata": {},
   "outputs": [
    {
     "name": "stderr",
     "output_type": "stream",
     "text": [
      "100%|██████████████████████████████████████████████████████████████████████████████| 2323/2323 [09:03<00:00,  4.27it/s]\n",
      "100%|██████████████████████████████████████████████████████████████████████████████| 1895/1895 [06:54<00:00,  4.57it/s]\n",
      " 65%|██████████████████████████████████████████████████▋                           | 2497/3846 [10:23<07:39,  2.94it/s]C:\\Users\\DeepLearning_5\\Anaconda3\\lib\\site-packages\\librosa\\core\\pitch.py:153: UserWarning: Trying to estimate tuning from empty frequency set.\n",
      "  warnings.warn(\"Trying to estimate tuning from empty frequency set.\")\n",
      "100%|██████████████████████████████████████████████████████████████████████████████| 3846/3846 [19:44<00:00,  3.25it/s]"
     ]
    },
    {
     "name": "stdout",
     "output_type": "stream",
     "text": [
      "elapsed time fetching dataset (sec): 2143.6600782871246\n"
     ]
    },
    {
     "name": "stderr",
     "output_type": "stream",
     "text": [
      "\n"
     ]
    }
   ],
   "source": [
    "start_time = time.time()\n",
    "\n",
    "positive_features, positive_labels = fetch_dataset(base_dir + '/positive', 'POSITIVE')\n",
    "neutral_features, neutral_labels = fetch_dataset(base_dir + '/neutral', 'NEUTRAL')\n",
    "negative_features, negative_labels = fetch_dataset(base_dir + '/negative', 'NEGATIVE')\n",
    "\n",
    "print('elapsed time fetching dataset (sec):', time.time() - start_time)"
   ]
  },
  {
   "cell_type": "code",
   "execution_count": 8,
   "id": "c1ca2ae7",
   "metadata": {},
   "outputs": [
    {
     "name": "stdout",
     "output_type": "stream",
     "text": [
      "features shape: (8064, 150, 153)\n",
      "labels shape before encoding: (8064,)\n"
     ]
    }
   ],
   "source": [
    "features = np.concatenate((positive_features, neutral_features, negative_features), axis=0)\n",
    "labels = np.concatenate((positive_labels, neutral_labels, negative_labels), axis=0)\n",
    "\n",
    "print('features shape:', features.shape)\n",
    "print('labels shape before encoding:', labels.shape)"
   ]
  },
  {
   "cell_type": "code",
   "execution_count": 9,
   "id": "ad68ccfe",
   "metadata": {},
   "outputs": [
    {
     "name": "stdout",
     "output_type": "stream",
     "text": [
      "labels shape after encoding: (8064, 3)\n",
      "label encoder classes: ['NEGATIVE' 'NEUTRAL' 'POSITIVE']\n"
     ]
    }
   ],
   "source": [
    "le = LabelEncoder()\n",
    "labels = to_categorical(le.fit_transform(labels))\n",
    "print('labels shape after encoding:', labels.shape)\n",
    "print('label encoder classes:', le.classes_)"
   ]
  },
  {
   "cell_type": "code",
   "execution_count": 10,
   "id": "e2fcddb0",
   "metadata": {},
   "outputs": [],
   "source": [
    "x_train, x_test, y_train, y_test = train_test_split(features, labels, test_size=0.2)"
   ]
  },
  {
   "cell_type": "code",
   "execution_count": 11,
   "id": "c070e329",
   "metadata": {},
   "outputs": [],
   "source": [
    "scaler = StandardScaler(copy=True, with_mean=True, with_std=True)\n",
    "x_train = scaler.fit_transform(x_train.reshape((-1, num_columns))).reshape((-1,) + feature_shape)\n",
    "x_test = scaler.transform(x_test.reshape((-1, num_columns))).reshape((-1,) + feature_shape)"
   ]
  },
  {
   "cell_type": "code",
   "execution_count": 12,
   "id": "b4d15514",
   "metadata": {},
   "outputs": [
    {
     "name": "stdout",
     "output_type": "stream",
     "text": [
      "x_train shape before PCA: (6451, 150, 153)\n",
      "x_test shape before PCA: (1613, 150, 153)\n",
      "x_train shape after PCA: (6451, 150, 50)\n",
      "x_test shape after PCA: (1613, 150, 50)\n"
     ]
    }
   ],
   "source": [
    "print('x_train shape before PCA:', x_train.shape)\n",
    "print('x_test shape before PCA:', x_test.shape)\n",
    "\n",
    "pca = PCA(n_components=pca_components)\n",
    "x_train = pca.fit_transform(x_train.reshape((-1, num_columns))).reshape((-1,) + input_shape)\n",
    "x_test = pca.transform(x_test.reshape((-1, num_columns))).reshape((-1,) + input_shape)\n",
    "\n",
    "print('x_train shape after PCA:', x_train.shape)\n",
    "print('x_test shape after PCA:', x_test.shape)"
   ]
  },
  {
   "cell_type": "markdown",
   "id": "bf4f35c8",
   "metadata": {},
   "source": [
    "# 학습"
   ]
  },
  {
   "cell_type": "code",
   "execution_count": 13,
   "id": "1d785a86",
   "metadata": {
    "scrolled": true
   },
   "outputs": [
    {
     "name": "stdout",
     "output_type": "stream",
     "text": [
      "Model: \"sequential\"\n",
      "_________________________________________________________________\n",
      " Layer (type)                Output Shape              Param #   \n",
      "=================================================================\n",
      " block1_conv1 (Conv1D)       (None, 150, 64)           9664      \n",
      "                                                                 \n",
      " block1_conv2 (Conv1D)       (None, 150, 64)           12352     \n",
      "                                                                 \n",
      " block1_pool (MaxPooling1D)  (None, 75, 64)            0         \n",
      "                                                                 \n",
      " block2_conv1 (Conv1D)       (None, 75, 128)           24704     \n",
      "                                                                 \n",
      " block2_conv2 (Conv1D)       (None, 75, 128)           49280     \n",
      "                                                                 \n",
      " block2_pool (MaxPooling1D)  (None, 37, 128)           0         \n",
      "                                                                 \n",
      " block3_conv1 (Conv1D)       (None, 37, 256)           98560     \n",
      "                                                                 \n",
      " block3_conv2 (Conv1D)       (None, 37, 256)           196864    \n",
      "                                                                 \n",
      " block3_conv3 (Conv1D)       (None, 37, 256)           196864    \n",
      "                                                                 \n",
      " block3_pool (MaxPooling1D)  (None, 18, 256)           0         \n",
      "                                                                 \n",
      " block4_conv1 (Conv1D)       (None, 18, 512)           393728    \n",
      "                                                                 \n",
      " block4_conv2 (Conv1D)       (None, 18, 512)           786944    \n",
      "                                                                 \n",
      " block4_conv3 (Conv1D)       (None, 18, 512)           786944    \n",
      "                                                                 \n",
      " block4_pool (MaxPooling1D)  (None, 9, 512)            0         \n",
      "                                                                 \n",
      " block5_conv1 (Conv1D)       (None, 9, 512)            786944    \n",
      "                                                                 \n",
      " block5_conv2 (Conv1D)       (None, 9, 512)            786944    \n",
      "                                                                 \n",
      " block5_conv3 (Conv1D)       (None, 9, 512)            786944    \n",
      "                                                                 \n",
      " block5_pool (MaxPooling1D)  (None, 4, 512)            0         \n",
      "                                                                 \n",
      " flatten (Flatten)           (None, 2048)              0         \n",
      "                                                                 \n",
      " batch_normalization (BatchN  (None, 2048)             8192      \n",
      " ormalization)                                                   \n",
      "                                                                 \n",
      " dense (Dense)               (None, 1024)              2098176   \n",
      "                                                                 \n",
      " dropout (Dropout)           (None, 1024)              0         \n",
      "                                                                 \n",
      " dense_1 (Dense)             (None, 3)                 3075      \n",
      "                                                                 \n",
      "=================================================================\n",
      "Total params: 7,026,179\n",
      "Trainable params: 7,022,083\n",
      "Non-trainable params: 4,096\n",
      "_________________________________________________________________\n"
     ]
    }
   ],
   "source": [
    "model = Sequential()\n",
    "\n",
    "# Block 1\n",
    "model.add(Conv1D(64, 3, activation='relu', padding='same', name='block1_conv1', input_shape=input_shape))\n",
    "model.add(Conv1D(64, 3, activation='relu', padding='same', name='block1_conv2'))\n",
    "model.add(MaxPooling1D(2, strides=2, name='block1_pool'))\n",
    "\n",
    "# Block 2\n",
    "model.add(Conv1D(128, 3, activation='relu', padding='same', name='block2_conv1'))\n",
    "model.add(Conv1D(128, 3, activation='relu', padding='same', name='block2_conv2'))\n",
    "model.add(MaxPooling1D(2, strides=2, name='block2_pool'))\n",
    "\n",
    "# Block 3\n",
    "model.add(Conv1D(256, 3, activation='relu', padding='same', name='block3_conv1'))\n",
    "model.add(Conv1D(256, 3, activation='relu', padding='same', name='block3_conv2'))\n",
    "model.add(Conv1D(256, 3, activation='relu', padding='same', name='block3_conv3'))\n",
    "model.add(MaxPooling1D(2, strides=2, name='block3_pool'))\n",
    "\n",
    "# Block 4\n",
    "model.add(Conv1D(512, 3, activation='relu', padding='same', name='block4_conv1'))\n",
    "model.add(Conv1D(512, 3, activation='relu', padding='same', name='block4_conv2'))\n",
    "model.add(Conv1D(512, 3, activation='relu', padding='same', name='block4_conv3'))\n",
    "model.add(MaxPooling1D(2, strides=2, name='block4_pool'))\n",
    "\n",
    "# Block 5\n",
    "model.add(Conv1D(512, 3, activation='relu', padding='same', name='block5_conv1'))\n",
    "model.add(Conv1D(512, 3, activation='relu', padding='same', name='block5_conv2'))\n",
    "model.add(Conv1D(512, 3, activation='relu', padding='same', name='block5_conv3'))\n",
    "model.add(MaxPooling1D(2, strides=2, name='block5_pool'))\n",
    "\n",
    "model.add(Flatten())\n",
    "model.add(BatchNormalization())\n",
    "model.add(Dense(1024, activation='relu'))\n",
    "model.add(Dropout(0.5))\n",
    "model.add(Dense(3, activation='softmax'))\n",
    "\n",
    "model.summary()"
   ]
  },
  {
   "cell_type": "code",
   "execution_count": 14,
   "id": "8afcb6a5",
   "metadata": {},
   "outputs": [],
   "source": [
    "model.compile(loss='categorical_crossentropy', metrics=['accuracy'], optimizer='adam')"
   ]
  },
  {
   "cell_type": "code",
   "execution_count": 15,
   "id": "8ed3004b",
   "metadata": {},
   "outputs": [],
   "source": [
    "if split_val:\n",
    "    validation_split = 0.25\n",
    "else:\n",
    "    validation_split = 0.0"
   ]
  },
  {
   "cell_type": "code",
   "execution_count": 16,
   "id": "2eb3a18d",
   "metadata": {},
   "outputs": [
    {
     "name": "stdout",
     "output_type": "stream",
     "text": [
      "Epoch 1/150\n",
      "152/152 [==============================] - 7s 26ms/step - loss: 0.9212 - accuracy: 0.5544 - val_loss: 1.0550 - val_accuracy: 0.4768\n",
      "Epoch 2/150\n",
      "152/152 [==============================] - 3s 20ms/step - loss: 0.7940 - accuracy: 0.6033 - val_loss: 0.9671 - val_accuracy: 0.5065\n",
      "Epoch 3/150\n",
      "152/152 [==============================] - 3s 20ms/step - loss: 0.7645 - accuracy: 0.6124 - val_loss: 1.5775 - val_accuracy: 0.5009\n",
      "Epoch 4/150\n",
      "152/152 [==============================] - 3s 20ms/step - loss: 0.7066 - accuracy: 0.6279 - val_loss: 4.8139 - val_accuracy: 0.5710\n",
      "Epoch 5/150\n",
      "152/152 [==============================] - 3s 20ms/step - loss: 0.6858 - accuracy: 0.6379 - val_loss: 7.8086 - val_accuracy: 0.4768\n",
      "Epoch 6/150\n",
      "152/152 [==============================] - 3s 20ms/step - loss: 0.6570 - accuracy: 0.6447 - val_loss: 7.5133 - val_accuracy: 0.5084\n",
      "Epoch 7/150\n",
      "152/152 [==============================] - 3s 20ms/step - loss: 0.6590 - accuracy: 0.6530 - val_loss: 10.3094 - val_accuracy: 0.2753\n",
      "Epoch 8/150\n",
      "152/152 [==============================] - 3s 20ms/step - loss: 0.6601 - accuracy: 0.6538 - val_loss: 6.1596 - val_accuracy: 0.4662\n",
      "Epoch 9/150\n",
      "152/152 [==============================] - 3s 19ms/step - loss: 0.6356 - accuracy: 0.6691 - val_loss: 1.4477 - val_accuracy: 0.6286\n",
      "Epoch 10/150\n",
      "152/152 [==============================] - 3s 20ms/step - loss: 0.6043 - accuracy: 0.6955 - val_loss: 7.0702 - val_accuracy: 0.5679\n",
      "Epoch 11/150\n",
      "152/152 [==============================] - 3s 20ms/step - loss: 0.6041 - accuracy: 0.6962 - val_loss: 0.8148 - val_accuracy: 0.6435\n",
      "Epoch 12/150\n",
      "152/152 [==============================] - 3s 20ms/step - loss: 0.5493 - accuracy: 0.7346 - val_loss: 0.9746 - val_accuracy: 0.6727\n",
      "Epoch 13/150\n",
      "152/152 [==============================] - 3s 20ms/step - loss: 0.5708 - accuracy: 0.7253 - val_loss: 1.7503 - val_accuracy: 0.6200\n",
      "Epoch 14/150\n",
      "152/152 [==============================] - 3s 20ms/step - loss: 0.5562 - accuracy: 0.7332 - val_loss: 0.7327 - val_accuracy: 0.6466\n",
      "Epoch 15/150\n",
      "152/152 [==============================] - 3s 20ms/step - loss: 0.5466 - accuracy: 0.7524 - val_loss: 1.2264 - val_accuracy: 0.6435\n",
      "Epoch 16/150\n",
      "152/152 [==============================] - 3s 20ms/step - loss: 0.4632 - accuracy: 0.7947 - val_loss: 0.7575 - val_accuracy: 0.6869\n",
      "Epoch 17/150\n",
      "152/152 [==============================] - 3s 21ms/step - loss: 0.4064 - accuracy: 0.8146 - val_loss: 0.8570 - val_accuracy: 0.6640\n",
      "Epoch 18/150\n",
      "152/152 [==============================] - 3s 20ms/step - loss: 0.4211 - accuracy: 0.8179 - val_loss: 1.7940 - val_accuracy: 0.6193\n",
      "Epoch 19/150\n",
      "152/152 [==============================] - 3s 20ms/step - loss: 0.3714 - accuracy: 0.8365 - val_loss: 1.3700 - val_accuracy: 0.6528\n",
      "Epoch 20/150\n",
      "152/152 [==============================] - 3s 20ms/step - loss: 0.3171 - accuracy: 0.8708 - val_loss: 1.1807 - val_accuracy: 0.6665\n",
      "Epoch 21/150\n",
      "152/152 [==============================] - 3s 20ms/step - loss: 0.2996 - accuracy: 0.8729 - val_loss: 1.2096 - val_accuracy: 0.6665\n",
      "Epoch 22/150\n",
      "152/152 [==============================] - 3s 20ms/step - loss: 0.2611 - accuracy: 0.8964 - val_loss: 1.2098 - val_accuracy: 0.6448\n",
      "Epoch 23/150\n",
      "152/152 [==============================] - 3s 20ms/step - loss: 0.2736 - accuracy: 0.8902 - val_loss: 1.2593 - val_accuracy: 0.6795\n",
      "Epoch 24/150\n",
      "152/152 [==============================] - 3s 20ms/step - loss: 0.2519 - accuracy: 0.8973 - val_loss: 1.3910 - val_accuracy: 0.6646\n",
      "Epoch 25/150\n",
      "152/152 [==============================] - 3s 20ms/step - loss: 0.2128 - accuracy: 0.9225 - val_loss: 1.6391 - val_accuracy: 0.6801\n",
      "Epoch 26/150\n",
      "152/152 [==============================] - 3s 20ms/step - loss: 0.2221 - accuracy: 0.9155 - val_loss: 1.7250 - val_accuracy: 0.6683\n",
      "Epoch 27/150\n",
      "152/152 [==============================] - 3s 20ms/step - loss: 0.1904 - accuracy: 0.9262 - val_loss: 1.2814 - val_accuracy: 0.6739\n",
      "Epoch 28/150\n",
      "152/152 [==============================] - 3s 20ms/step - loss: 0.1747 - accuracy: 0.9355 - val_loss: 1.3965 - val_accuracy: 0.6739\n",
      "Epoch 29/150\n",
      "152/152 [==============================] - 3s 20ms/step - loss: 0.1676 - accuracy: 0.9401 - val_loss: 1.6393 - val_accuracy: 0.6689\n",
      "Epoch 30/150\n",
      "152/152 [==============================] - 3s 20ms/step - loss: 0.1526 - accuracy: 0.9446 - val_loss: 1.6209 - val_accuracy: 0.6714\n",
      "Epoch 31/150\n",
      "152/152 [==============================] - 3s 20ms/step - loss: 0.1334 - accuracy: 0.9477 - val_loss: 1.9193 - val_accuracy: 0.6733\n",
      "Epoch 32/150\n",
      "152/152 [==============================] - 3s 20ms/step - loss: 0.1145 - accuracy: 0.9626 - val_loss: 1.7249 - val_accuracy: 0.6807\n",
      "Epoch 33/150\n",
      "152/152 [==============================] - 3s 20ms/step - loss: 0.1727 - accuracy: 0.9386 - val_loss: 1.5248 - val_accuracy: 0.6795\n",
      "Epoch 34/150\n",
      "152/152 [==============================] - 3s 20ms/step - loss: 0.1148 - accuracy: 0.9582 - val_loss: 2.0029 - val_accuracy: 0.6559\n",
      "Epoch 35/150\n",
      "152/152 [==============================] - 3s 20ms/step - loss: 0.2076 - accuracy: 0.9256 - val_loss: 1.9798 - val_accuracy: 0.6169\n",
      "Epoch 36/150\n",
      "152/152 [==============================] - 3s 20ms/step - loss: 0.1823 - accuracy: 0.9332 - val_loss: 1.9064 - val_accuracy: 0.6603\n",
      "Epoch 37/150\n",
      "152/152 [==============================] - 3s 20ms/step - loss: 0.1185 - accuracy: 0.9587 - val_loss: 2.4479 - val_accuracy: 0.6541\n",
      "Epoch 38/150\n",
      "152/152 [==============================] - 3s 20ms/step - loss: 0.1149 - accuracy: 0.9566 - val_loss: 2.1534 - val_accuracy: 0.6429\n",
      "Epoch 39/150\n",
      "152/152 [==============================] - 3s 20ms/step - loss: 0.1180 - accuracy: 0.9562 - val_loss: 1.6883 - val_accuracy: 0.6801\n",
      "Epoch 40/150\n",
      "152/152 [==============================] - 3s 20ms/step - loss: 0.1068 - accuracy: 0.9653 - val_loss: 1.7482 - val_accuracy: 0.6677\n",
      "Epoch 41/150\n",
      "152/152 [==============================] - 3s 20ms/step - loss: 0.1165 - accuracy: 0.9638 - val_loss: 1.6312 - val_accuracy: 0.6838\n",
      "Epoch 42/150\n",
      "152/152 [==============================] - 3s 20ms/step - loss: 0.0867 - accuracy: 0.9727 - val_loss: 2.0074 - val_accuracy: 0.6745\n",
      "Epoch 43/150\n",
      "152/152 [==============================] - 3s 20ms/step - loss: 0.0791 - accuracy: 0.9729 - val_loss: 2.0404 - val_accuracy: 0.6733\n",
      "Epoch 44/150\n",
      "152/152 [==============================] - 3s 20ms/step - loss: 0.0732 - accuracy: 0.9779 - val_loss: 2.9537 - val_accuracy: 0.6727\n",
      "Epoch 45/150\n",
      "152/152 [==============================] - 3s 20ms/step - loss: 0.0504 - accuracy: 0.9828 - val_loss: 2.6240 - val_accuracy: 0.6429\n",
      "Epoch 46/150\n",
      "152/152 [==============================] - 3s 20ms/step - loss: 0.2298 - accuracy: 0.9134 - val_loss: 18.5586 - val_accuracy: 0.3001\n",
      "Epoch 47/150\n",
      "152/152 [==============================] - 3s 20ms/step - loss: 0.4787 - accuracy: 0.8028 - val_loss: 1.9914 - val_accuracy: 0.5933\n",
      "Epoch 48/150\n",
      "152/152 [==============================] - 3s 20ms/step - loss: 0.3232 - accuracy: 0.8799 - val_loss: 1.3865 - val_accuracy: 0.6584\n",
      "Epoch 49/150\n",
      "152/152 [==============================] - 3s 20ms/step - loss: 0.1706 - accuracy: 0.9372 - val_loss: 1.4549 - val_accuracy: 0.6578\n",
      "Epoch 50/150\n",
      "152/152 [==============================] - 3s 19ms/step - loss: 0.1594 - accuracy: 0.9425 - val_loss: 1.7066 - val_accuracy: 0.6733\n",
      "Epoch 51/150\n",
      "152/152 [==============================] - 3s 20ms/step - loss: 0.0936 - accuracy: 0.9669 - val_loss: 1.8201 - val_accuracy: 0.6776\n",
      "Epoch 52/150\n",
      "152/152 [==============================] - 3s 20ms/step - loss: 0.0605 - accuracy: 0.9783 - val_loss: 2.4957 - val_accuracy: 0.6479\n",
      "Epoch 53/150\n",
      "152/152 [==============================] - 3s 20ms/step - loss: 0.0881 - accuracy: 0.9678 - val_loss: 2.3596 - val_accuracy: 0.6609\n",
      "Epoch 54/150\n",
      "152/152 [==============================] - 3s 20ms/step - loss: 0.0686 - accuracy: 0.9773 - val_loss: 2.0708 - val_accuracy: 0.6727\n",
      "Epoch 55/150\n",
      "152/152 [==============================] - 3s 20ms/step - loss: 0.0661 - accuracy: 0.9785 - val_loss: 2.4387 - val_accuracy: 0.6460\n",
      "Epoch 56/150\n",
      "152/152 [==============================] - 3s 20ms/step - loss: 0.0804 - accuracy: 0.9744 - val_loss: 2.6457 - val_accuracy: 0.6510\n",
      "Epoch 57/150\n"
     ]
    },
    {
     "name": "stdout",
     "output_type": "stream",
     "text": [
      "152/152 [==============================] - 3s 20ms/step - loss: 0.0662 - accuracy: 0.9764 - val_loss: 2.1488 - val_accuracy: 0.6634\n",
      "Epoch 58/150\n",
      "152/152 [==============================] - 3s 20ms/step - loss: 0.0637 - accuracy: 0.9791 - val_loss: 2.3432 - val_accuracy: 0.6603\n",
      "Epoch 59/150\n",
      "152/152 [==============================] - 3s 20ms/step - loss: 0.0934 - accuracy: 0.9709 - val_loss: 1.9289 - val_accuracy: 0.6751\n",
      "Epoch 60/150\n",
      "152/152 [==============================] - 3s 20ms/step - loss: 0.0461 - accuracy: 0.9843 - val_loss: 2.2961 - val_accuracy: 0.6739\n",
      "Epoch 61/150\n",
      "152/152 [==============================] - 3s 20ms/step - loss: 0.0587 - accuracy: 0.9797 - val_loss: 2.4965 - val_accuracy: 0.6671\n",
      "Epoch 62/150\n",
      "152/152 [==============================] - 3s 20ms/step - loss: 0.0624 - accuracy: 0.9812 - val_loss: 2.5597 - val_accuracy: 0.6677\n",
      "Epoch 63/150\n",
      "152/152 [==============================] - 3s 20ms/step - loss: 0.1206 - accuracy: 0.9630 - val_loss: 1.6999 - val_accuracy: 0.6838\n",
      "Epoch 64/150\n",
      "152/152 [==============================] - 3s 20ms/step - loss: 0.0555 - accuracy: 0.9839 - val_loss: 1.6592 - val_accuracy: 0.6733\n",
      "Epoch 65/150\n",
      "152/152 [==============================] - 3s 20ms/step - loss: 0.0654 - accuracy: 0.9791 - val_loss: 2.1578 - val_accuracy: 0.6894\n",
      "Epoch 66/150\n",
      "152/152 [==============================] - 3s 20ms/step - loss: 0.0422 - accuracy: 0.9862 - val_loss: 1.9679 - val_accuracy: 0.6813\n",
      "Epoch 67/150\n",
      "152/152 [==============================] - 3s 20ms/step - loss: 0.0389 - accuracy: 0.9862 - val_loss: 2.4953 - val_accuracy: 0.6826\n",
      "Epoch 68/150\n",
      "152/152 [==============================] - 3s 20ms/step - loss: 0.0411 - accuracy: 0.9868 - val_loss: 2.3054 - val_accuracy: 0.6863\n",
      "Epoch 69/150\n",
      "152/152 [==============================] - 3s 20ms/step - loss: 0.0700 - accuracy: 0.9773 - val_loss: 2.2151 - val_accuracy: 0.6820\n",
      "Epoch 70/150\n",
      "152/152 [==============================] - 3s 20ms/step - loss: 0.0547 - accuracy: 0.9828 - val_loss: 2.6984 - val_accuracy: 0.6764\n",
      "Epoch 71/150\n",
      "152/152 [==============================] - 3s 20ms/step - loss: 0.0616 - accuracy: 0.9791 - val_loss: 1.9157 - val_accuracy: 0.6745\n",
      "Epoch 72/150\n",
      "152/152 [==============================] - 3s 20ms/step - loss: 0.0560 - accuracy: 0.9822 - val_loss: 3.0511 - val_accuracy: 0.6627\n",
      "Epoch 73/150\n",
      "152/152 [==============================] - 3s 20ms/step - loss: 0.0627 - accuracy: 0.9802 - val_loss: 3.6614 - val_accuracy: 0.6572\n",
      "Epoch 74/150\n",
      "152/152 [==============================] - 3s 19ms/step - loss: 0.0435 - accuracy: 0.9864 - val_loss: 2.6303 - val_accuracy: 0.6851\n",
      "Epoch 75/150\n",
      "152/152 [==============================] - 3s 20ms/step - loss: 0.0551 - accuracy: 0.9839 - val_loss: 2.4262 - val_accuracy: 0.6944\n",
      "Epoch 76/150\n",
      "152/152 [==============================] - 3s 20ms/step - loss: 0.0490 - accuracy: 0.9841 - val_loss: 2.5259 - val_accuracy: 0.6801\n",
      "Epoch 77/150\n",
      "152/152 [==============================] - 3s 20ms/step - loss: 0.0416 - accuracy: 0.9866 - val_loss: 2.3921 - val_accuracy: 0.6696\n",
      "Epoch 78/150\n",
      "152/152 [==============================] - 3s 20ms/step - loss: 0.0550 - accuracy: 0.9845 - val_loss: 2.0815 - val_accuracy: 0.6479\n",
      "Epoch 79/150\n",
      "152/152 [==============================] - 3s 20ms/step - loss: 0.0506 - accuracy: 0.9851 - val_loss: 2.6138 - val_accuracy: 0.6758\n",
      "Epoch 80/150\n",
      "152/152 [==============================] - 3s 20ms/step - loss: 0.0441 - accuracy: 0.9888 - val_loss: 2.2044 - val_accuracy: 0.6820\n",
      "Epoch 81/150\n",
      "152/152 [==============================] - 3s 20ms/step - loss: 0.0588 - accuracy: 0.9797 - val_loss: 2.1763 - val_accuracy: 0.6764\n",
      "Epoch 82/150\n",
      "152/152 [==============================] - 3s 20ms/step - loss: 0.0310 - accuracy: 0.9899 - val_loss: 3.2733 - val_accuracy: 0.6590\n",
      "Epoch 83/150\n",
      "152/152 [==============================] - 3s 20ms/step - loss: 0.0609 - accuracy: 0.9793 - val_loss: 2.9945 - val_accuracy: 0.6733\n",
      "Epoch 84/150\n",
      "152/152 [==============================] - 3s 20ms/step - loss: 0.0623 - accuracy: 0.9800 - val_loss: 1.8160 - val_accuracy: 0.6851\n",
      "Epoch 85/150\n",
      "152/152 [==============================] - 3s 20ms/step - loss: 0.0498 - accuracy: 0.9849 - val_loss: 2.3867 - val_accuracy: 0.6553\n",
      "Epoch 86/150\n",
      "152/152 [==============================] - 3s 19ms/step - loss: 0.0537 - accuracy: 0.9822 - val_loss: 2.3972 - val_accuracy: 0.6634\n",
      "Epoch 87/150\n",
      "152/152 [==============================] - 3s 20ms/step - loss: 0.0437 - accuracy: 0.9874 - val_loss: 2.4020 - val_accuracy: 0.6665\n",
      "Epoch 88/150\n",
      "152/152 [==============================] - 3s 20ms/step - loss: 0.0478 - accuracy: 0.9876 - val_loss: 2.7182 - val_accuracy: 0.6559\n",
      "Epoch 89/150\n",
      "152/152 [==============================] - 3s 20ms/step - loss: 0.0307 - accuracy: 0.9913 - val_loss: 2.6576 - val_accuracy: 0.6658\n",
      "Epoch 90/150\n",
      "152/152 [==============================] - 3s 20ms/step - loss: 0.0851 - accuracy: 0.9715 - val_loss: 2.0089 - val_accuracy: 0.6696\n",
      "Epoch 91/150\n",
      "152/152 [==============================] - 3s 19ms/step - loss: 0.0639 - accuracy: 0.9785 - val_loss: 2.5240 - val_accuracy: 0.6479\n",
      "Epoch 92/150\n",
      "152/152 [==============================] - 3s 20ms/step - loss: 0.0902 - accuracy: 0.9692 - val_loss: 2.2612 - val_accuracy: 0.6603\n",
      "Epoch 93/150\n",
      "152/152 [==============================] - 3s 20ms/step - loss: 0.0387 - accuracy: 0.9878 - val_loss: 2.7727 - val_accuracy: 0.6658\n",
      "Epoch 94/150\n",
      "152/152 [==============================] - 3s 20ms/step - loss: 0.0260 - accuracy: 0.9919 - val_loss: 2.9382 - val_accuracy: 0.6658\n",
      "Epoch 95/150\n",
      "152/152 [==============================] - 3s 20ms/step - loss: 0.0328 - accuracy: 0.9905 - val_loss: 2.9974 - val_accuracy: 0.6534\n",
      "Epoch 96/150\n",
      "152/152 [==============================] - 3s 20ms/step - loss: 0.0377 - accuracy: 0.9859 - val_loss: 3.4250 - val_accuracy: 0.6609\n",
      "Epoch 97/150\n",
      "152/152 [==============================] - 3s 19ms/step - loss: 0.0352 - accuracy: 0.9888 - val_loss: 3.2156 - val_accuracy: 0.6553\n",
      "Epoch 98/150\n",
      "152/152 [==============================] - 3s 20ms/step - loss: 0.0586 - accuracy: 0.9793 - val_loss: 3.2706 - val_accuracy: 0.6491\n",
      "Epoch 99/150\n",
      "152/152 [==============================] - 3s 19ms/step - loss: 0.0542 - accuracy: 0.9822 - val_loss: 2.8786 - val_accuracy: 0.6466\n",
      "Epoch 100/150\n",
      "152/152 [==============================] - 3s 20ms/step - loss: 0.0357 - accuracy: 0.9880 - val_loss: 2.6569 - val_accuracy: 0.6534\n",
      "Epoch 101/150\n",
      "152/152 [==============================] - 3s 20ms/step - loss: 0.0485 - accuracy: 0.9841 - val_loss: 2.6240 - val_accuracy: 0.6522\n",
      "Epoch 102/150\n",
      "152/152 [==============================] - 3s 19ms/step - loss: 0.0484 - accuracy: 0.9870 - val_loss: 3.0105 - val_accuracy: 0.6460\n",
      "Epoch 103/150\n",
      "152/152 [==============================] - 3s 20ms/step - loss: 0.0400 - accuracy: 0.9876 - val_loss: 3.8044 - val_accuracy: 0.6541\n",
      "Epoch 104/150\n",
      "152/152 [==============================] - 3s 20ms/step - loss: 0.0310 - accuracy: 0.9903 - val_loss: 3.3723 - val_accuracy: 0.6541\n",
      "Epoch 105/150\n",
      "152/152 [==============================] - 3s 20ms/step - loss: 0.0486 - accuracy: 0.9837 - val_loss: 3.8014 - val_accuracy: 0.6231\n",
      "Epoch 106/150\n",
      "152/152 [==============================] - 3s 20ms/step - loss: 0.0696 - accuracy: 0.9791 - val_loss: 2.4917 - val_accuracy: 0.6634\n",
      "Epoch 107/150\n",
      "152/152 [==============================] - 3s 20ms/step - loss: 0.0486 - accuracy: 0.9845 - val_loss: 2.5312 - val_accuracy: 0.6665\n",
      "Epoch 108/150\n",
      "152/152 [==============================] - 3s 20ms/step - loss: 0.0597 - accuracy: 0.9853 - val_loss: 2.9986 - val_accuracy: 0.6547\n",
      "Epoch 109/150\n",
      "152/152 [==============================] - 3s 20ms/step - loss: 0.0543 - accuracy: 0.9847 - val_loss: 2.6696 - val_accuracy: 0.6652\n",
      "Epoch 110/150\n",
      "152/152 [==============================] - 3s 20ms/step - loss: 0.0420 - accuracy: 0.9868 - val_loss: 9.9328 - val_accuracy: 0.6634\n",
      "Epoch 111/150\n",
      "152/152 [==============================] - 3s 20ms/step - loss: 0.0390 - accuracy: 0.9864 - val_loss: 2.6860 - val_accuracy: 0.6652\n",
      "Epoch 112/150\n",
      "152/152 [==============================] - 3s 20ms/step - loss: 0.0335 - accuracy: 0.9913 - val_loss: 4.9535 - val_accuracy: 0.5666\n",
      "Epoch 113/150\n"
     ]
    },
    {
     "name": "stdout",
     "output_type": "stream",
     "text": [
      "152/152 [==============================] - 3s 20ms/step - loss: 0.1066 - accuracy: 0.9671 - val_loss: 2.2775 - val_accuracy: 0.6702\n",
      "Epoch 114/150\n",
      "152/152 [==============================] - 3s 19ms/step - loss: 0.0334 - accuracy: 0.9899 - val_loss: 2.6569 - val_accuracy: 0.6764\n",
      "Epoch 115/150\n",
      "152/152 [==============================] - 3s 20ms/step - loss: 0.0148 - accuracy: 0.9955 - val_loss: 2.8306 - val_accuracy: 0.6559\n",
      "Epoch 116/150\n",
      "152/152 [==============================] - 3s 20ms/step - loss: 0.0354 - accuracy: 0.9907 - val_loss: 2.4237 - val_accuracy: 0.6696\n",
      "Epoch 117/150\n",
      "152/152 [==============================] - 3s 20ms/step - loss: 0.0210 - accuracy: 0.9940 - val_loss: 2.6675 - val_accuracy: 0.6665\n",
      "Epoch 118/150\n",
      "152/152 [==============================] - 3s 20ms/step - loss: 0.0438 - accuracy: 0.9876 - val_loss: 2.4190 - val_accuracy: 0.6832\n",
      "Epoch 119/150\n",
      "152/152 [==============================] - 3s 20ms/step - loss: 0.0200 - accuracy: 0.9950 - val_loss: 2.6119 - val_accuracy: 0.6615\n",
      "Epoch 120/150\n",
      "152/152 [==============================] - 3s 19ms/step - loss: 0.0426 - accuracy: 0.9874 - val_loss: 2.4535 - val_accuracy: 0.6696\n",
      "Epoch 121/150\n",
      "152/152 [==============================] - 3s 19ms/step - loss: 0.0671 - accuracy: 0.9793 - val_loss: 2.6487 - val_accuracy: 0.6596\n",
      "Epoch 122/150\n",
      "152/152 [==============================] - 3s 20ms/step - loss: 0.0178 - accuracy: 0.9938 - val_loss: 2.9750 - val_accuracy: 0.6671\n",
      "Epoch 123/150\n",
      "152/152 [==============================] - 3s 20ms/step - loss: 0.0281 - accuracy: 0.9911 - val_loss: 2.5532 - val_accuracy: 0.6634\n",
      "Epoch 124/150\n",
      "152/152 [==============================] - 3s 20ms/step - loss: 0.0365 - accuracy: 0.9897 - val_loss: 3.3458 - val_accuracy: 0.6553\n",
      "Epoch 125/150\n",
      "152/152 [==============================] - 3s 20ms/step - loss: 0.0729 - accuracy: 0.9787 - val_loss: 2.2164 - val_accuracy: 0.6702\n",
      "Epoch 126/150\n",
      "152/152 [==============================] - 3s 20ms/step - loss: 0.0334 - accuracy: 0.9888 - val_loss: 2.5113 - val_accuracy: 0.6683\n",
      "Epoch 127/150\n",
      "152/152 [==============================] - 3s 20ms/step - loss: 0.0309 - accuracy: 0.9897 - val_loss: 2.5863 - val_accuracy: 0.6807\n",
      "Epoch 128/150\n",
      "152/152 [==============================] - 3s 20ms/step - loss: 0.0554 - accuracy: 0.9853 - val_loss: 2.2345 - val_accuracy: 0.6640\n",
      "Epoch 129/150\n",
      "152/152 [==============================] - 3s 20ms/step - loss: 0.0196 - accuracy: 0.9938 - val_loss: 2.9735 - val_accuracy: 0.6745\n",
      "Epoch 130/150\n",
      "152/152 [==============================] - 3s 20ms/step - loss: 0.0377 - accuracy: 0.9888 - val_loss: 2.7312 - val_accuracy: 0.6807\n",
      "Epoch 131/150\n",
      "152/152 [==============================] - 3s 20ms/step - loss: 0.0409 - accuracy: 0.9862 - val_loss: 2.6499 - val_accuracy: 0.6627\n",
      "Epoch 132/150\n",
      "152/152 [==============================] - 3s 20ms/step - loss: 0.0268 - accuracy: 0.9909 - val_loss: 3.6380 - val_accuracy: 0.6491\n",
      "Epoch 133/150\n",
      "152/152 [==============================] - 3s 20ms/step - loss: 0.0316 - accuracy: 0.9893 - val_loss: 3.2914 - val_accuracy: 0.6702\n",
      "Epoch 134/150\n",
      "152/152 [==============================] - 3s 20ms/step - loss: 0.0213 - accuracy: 0.9932 - val_loss: 2.9696 - val_accuracy: 0.6689\n",
      "Epoch 135/150\n",
      "152/152 [==============================] - 3s 20ms/step - loss: 0.0309 - accuracy: 0.9893 - val_loss: 2.8535 - val_accuracy: 0.6758\n",
      "Epoch 136/150\n",
      "152/152 [==============================] - 3s 20ms/step - loss: 0.0366 - accuracy: 0.9890 - val_loss: 2.7160 - val_accuracy: 0.6627\n",
      "Epoch 137/150\n",
      "152/152 [==============================] - 3s 20ms/step - loss: 0.0353 - accuracy: 0.9899 - val_loss: 2.8245 - val_accuracy: 0.6522\n",
      "Epoch 138/150\n",
      "152/152 [==============================] - 3s 20ms/step - loss: 0.0276 - accuracy: 0.9928 - val_loss: 3.2282 - val_accuracy: 0.6627\n",
      "Epoch 139/150\n",
      "152/152 [==============================] - 3s 20ms/step - loss: 0.0976 - accuracy: 0.9725 - val_loss: 2.8736 - val_accuracy: 0.6590\n",
      "Epoch 140/150\n",
      "152/152 [==============================] - 3s 20ms/step - loss: 0.0308 - accuracy: 0.9919 - val_loss: 2.4650 - val_accuracy: 0.6789\n",
      "Epoch 141/150\n",
      "152/152 [==============================] - 3s 20ms/step - loss: 0.0169 - accuracy: 0.9944 - val_loss: 3.2444 - val_accuracy: 0.6683\n",
      "Epoch 142/150\n",
      "152/152 [==============================] - 3s 20ms/step - loss: 0.0285 - accuracy: 0.9930 - val_loss: 2.7349 - val_accuracy: 0.6615\n",
      "Epoch 143/150\n",
      "152/152 [==============================] - 3s 20ms/step - loss: 0.0386 - accuracy: 0.9886 - val_loss: 2.6644 - val_accuracy: 0.6652\n",
      "Epoch 144/150\n",
      "152/152 [==============================] - 3s 20ms/step - loss: 0.0145 - accuracy: 0.9963 - val_loss: 2.7135 - val_accuracy: 0.6720\n",
      "Epoch 145/150\n",
      "152/152 [==============================] - 3s 19ms/step - loss: 0.0247 - accuracy: 0.9928 - val_loss: 3.4408 - val_accuracy: 0.6689\n",
      "Epoch 146/150\n",
      "152/152 [==============================] - 3s 20ms/step - loss: 0.0336 - accuracy: 0.9903 - val_loss: 11.3420 - val_accuracy: 0.6851\n",
      "Epoch 147/150\n",
      "152/152 [==============================] - 3s 20ms/step - loss: 0.0221 - accuracy: 0.9938 - val_loss: 2.8800 - val_accuracy: 0.6652\n",
      "Epoch 148/150\n",
      "152/152 [==============================] - 3s 19ms/step - loss: 0.0726 - accuracy: 0.9748 - val_loss: 2.7101 - val_accuracy: 0.6677\n",
      "Epoch 149/150\n",
      "152/152 [==============================] - 3s 20ms/step - loss: 0.0419 - accuracy: 0.9866 - val_loss: 11.0940 - val_accuracy: 0.6702\n",
      "Epoch 150/150\n",
      "152/152 [==============================] - 3s 20ms/step - loss: 0.0147 - accuracy: 0.9965 - val_loss: 3.3339 - val_accuracy: 0.6534\n",
      "elapsed time training dataset (sec): 455.0563294887543\n"
     ]
    }
   ],
   "source": [
    "start_time = time.time()\n",
    "\n",
    "hist = model.fit(x_train, y_train,\n",
    "                 epochs=n_epochs,\n",
    "                 batch_size=batch_size,\n",
    "                 validation_split=validation_split,\n",
    "                 shuffle=True,\n",
    "                 verbose=1)\n",
    "\n",
    "print('elapsed time training dataset (sec):', time.time() - start_time)\n",
    "\n",
    "model.save(model_save_path)"
   ]
  },
  {
   "cell_type": "code",
   "execution_count": 17,
   "id": "b34313fb",
   "metadata": {},
   "outputs": [
    {
     "data": {
      "image/png": "[encoded data removed]",
      "text/plain": [
       "<Figure size 1080x360 with 2 Axes>"
      ]
     },
     "metadata": {
      "needs_background": "light"
     },
     "output_type": "display_data"
    }
   ],
   "source": [
    "history_dict = hist.history\n",
    "\n",
    "loss_values = history_dict['loss']\n",
    "acc_values = history_dict['accuracy']\n",
    "if split_val:\n",
    "    val_loss_values = history_dict['val_loss']\n",
    "    val_acc_values = history_dict['val_accuracy']\n",
    "\n",
    "fig, (ax1, ax2) = plt.subplots(1, 2, figsize=(15, 5))\n",
    "\n",
    "ax1.plot(loss_values, 'blue', label='Training Loss')\n",
    "if split_val:\n",
    "    ax1.plot(val_loss_values, 'orange', label='Validation Loss')\n",
    "ax1.set_title('Training and validation loss')\n",
    "ax1.set_xlabel('Epochs')\n",
    "ax1.set_ylabel('Loss')\n",
    "ax1.legend()\n",
    "\n",
    "ax2.plot(acc_values, 'blue', label='Training accuracy')\n",
    "if split_val:\n",
    "    ax2.plot(val_acc_values, 'orange', label='Validation accuracy')\n",
    "ax2.set_title('Training and validation accuracy')\n",
    "ax2.set_xlabel('Epochs')\n",
    "ax2.set_ylabel('Accuracy')\n",
    "ax2.legend()\n",
    "\n",
    "plt.show()"
   ]
  },
  {
   "cell_type": "code",
   "execution_count": 18,
   "id": "70146c37",
   "metadata": {},
   "outputs": [
    {
     "name": "stdout",
     "output_type": "stream",
     "text": [
      "51/51 [==============================] - 0s 8ms/step - loss: 3.5964 - accuracy: 0.6745\n",
      "test loss: 3.5963635444641113\n",
      "test accuracy: 0.6745195388793945\n"
     ]
    }
   ],
   "source": [
    "loss, accuracy = model.evaluate(x_test, y_test)\n",
    "print('test loss:', loss)\n",
    "print('test accuracy:', accuracy)"
   ]
  },
  {
   "cell_type": "markdown",
   "id": "a367cc71",
   "metadata": {},
   "source": [
    "# 파일 테스트"
   ]
  },
  {
   "cell_type": "code",
   "execution_count": null,
   "id": "95a5f7a5",
   "metadata": {},
   "outputs": [],
   "source": [
    "test_file_name = 'dataset/negative/1001_DFA_ANG_XX.wav'"
   ]
  },
  {
   "cell_type": "code",
   "execution_count": null,
   "id": "66148657",
   "metadata": {},
   "outputs": [],
   "source": [
    "prediction_feature = extract_feature(test_file_name, input_shape[0]).reshape((1, ) + input_shape)\n",
    "model = load_model(model_save_path)\n",
    "\n",
    "predicted_proba = model.predict(prediction_feature)[0]\n",
    "predicted_class = np.argmax(predicted_proba)\n",
    "\n",
    "print('classification result:', le.classes_[predicted_class])"
   ]
  },
  {
   "cell_type": "code",
   "execution_count": null,
   "id": "db540429",
   "metadata": {},
   "outputs": [],
   "source": []
  }
 ],
 "metadata": {
  "kernelspec": {
   "display_name": "emotion",
   "language": "python",
   "name": "emotion"
  },
  "language_info": {
   "codemirror_mode": {
    "name": "ipython",
    "version": 3
   },
   "file_extension": ".py",
   "mimetype": "text/x-python",
   "name": "python",
   "nbconvert_exporter": "python",
   "pygments_lexer": "ipython3",
   "version": "3.8.8"
  }
 },
 "nbformat": 4,
 "nbformat_minor": 5
}
