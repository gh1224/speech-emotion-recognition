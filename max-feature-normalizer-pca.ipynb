{
 "cells": [
  {
   "cell_type": "code",
   "execution_count": null,
   "id": "90230a47",
   "metadata": {},
   "outputs": [],
   "source": [
    "\"\"\"\n",
    "데이터셋\n",
    "Crema, Ravdess, Tess, Savee\n",
    "\n",
    "Positive: happiness - 2323\n",
    "Neutral: neutral, calmness - 1895\n",
    "Negative: anger, sadness - 3846\n",
    "\"\"\""
   ]
  },
  {
   "cell_type": "code",
   "execution_count": 1,
   "id": "736ee2e8",
   "metadata": {},
   "outputs": [
    {
     "name": "stderr",
     "output_type": "stream",
     "text": [
      "C:\\Users\\DeepLearning_5\\Anaconda3\\lib\\site-packages\\requests\\__init__.py:89: RequestsDependencyWarning: urllib3 (1.24.3) or chardet (4.0.0) doesn't match a supported version!\n",
      "  warnings.warn(\"urllib3 ({}) or chardet ({}) doesn't match a supported \"\n"
     ]
    }
   ],
   "source": [
    "import numpy as np\n",
    "import time\n",
    "from tqdm import tqdm\n",
    "import os\n",
    "import librosa\n",
    "import matplotlib.pyplot as plt\n",
    "\n",
    "from sklearn.preprocessing import LabelEncoder, Normalizer\n",
    "from sklearn.model_selection import train_test_split\n",
    "from sklearn.decomposition import PCA\n",
    "\n",
    "from keras.utils.np_utils import to_categorical\n",
    "from keras.models import load_model, Sequential\n",
    "from keras.layers import Conv1D, MaxPooling1D, Flatten, BatchNormalization, Dense, Dropout"
   ]
  },
  {
   "cell_type": "code",
   "execution_count": 2,
   "id": "1ce1ef09",
   "metadata": {},
   "outputs": [],
   "source": [
    "base_dir = 'dataset'\n",
    "\n",
    "n_mfcc = 128\n",
    "num_rows = 150\n",
    "num_columns = 153\n",
    "pca_components = 50\n",
    "feature_shape = (num_rows, num_columns)\n",
    "input_shape = (num_rows, pca_components)\n",
    "\n",
    "n_epochs = 150\n",
    "batch_size = None\n",
    "split_val = True\n",
    "\n",
    "model_save_path = 'saved_models/model.h5'"
   ]
  },
  {
   "cell_type": "code",
   "execution_count": 3,
   "id": "a39885db",
   "metadata": {},
   "outputs": [],
   "source": [
    "def load_feature_tuple(file_name):\n",
    "    y, sr = librosa.load(file_name, mono=True)\n",
    "\n",
    "    mfcc = librosa.feature.mfcc(y=y, sr=sr, n_mfcc=n_mfcc)\n",
    "    \n",
    "    spectral_centroid = librosa.feature.spectral_centroid(y=y, sr=sr)\n",
    "    spectral_bandwidth = librosa.feature.spectral_bandwidth(y=y, sr=sr)\n",
    "    spectral_contrast = librosa.feature.spectral_contrast(y=y, sr=sr)\n",
    "    spectral_flatness = librosa.feature.spectral_flatness(y=y)\n",
    "    spectral_rolloff = librosa.feature.spectral_rolloff(y=y, sr=sr)\n",
    "    \n",
    "    zero_crossing_rate = librosa.feature.zero_crossing_rate(y=y)\n",
    "    \n",
    "    chroma_stft = librosa.feature.chroma_stft(y=y, sr=sr)\n",
    "    \n",
    "    rms = librosa.feature.rms(y=y)\n",
    "    \n",
    "    return mfcc, spectral_centroid, spectral_bandwidth, spectral_contrast, spectral_flatness, spectral_rolloff, zero_crossing_rate, chroma_stft, rms"
   ]
  },
  {
   "cell_type": "code",
   "execution_count": 4,
   "id": "e8cccf27",
   "metadata": {},
   "outputs": [],
   "source": [
    "def pad_feature_width(feature, feature_width):\n",
    "    diff = feature_width - feature.shape[1]\n",
    "    if diff > 0:\n",
    "        return np.pad(feature, pad_width=((0, 0), (0, diff)), mode='constant')\n",
    "    elif diff < 0:\n",
    "        return np.delete(feature, np.arange(feature_width, feature.shape[1]), axis=1)\n",
    "    return feature"
   ]
  },
  {
   "cell_type": "code",
   "execution_count": 5,
   "id": "15aa2cbc",
   "metadata": {},
   "outputs": [],
   "source": [
    "def extract_feature(file_name, feature_width):\n",
    "    image = np.concatenate(load_feature_tuple(file_name), axis=0)\n",
    "    image = pad_feature_width(image, feature_width)\n",
    "    image = np.transpose(image)\n",
    "    return image"
   ]
  },
  {
   "cell_type": "code",
   "execution_count": 6,
   "id": "4158fb8c",
   "metadata": {},
   "outputs": [],
   "source": [
    "def fetch_dataset(dir_path, label):\n",
    "    _features = np.empty((0, ) + feature_shape)\n",
    "    for file_name in tqdm(os.listdir(dir_path)):\n",
    "        file_path = os.path.join(dir_path, file_name)\n",
    "        feature = extract_feature(file_path, feature_shape[0]).reshape((1, ) + feature_shape)\n",
    "        _features = np.append(_features, feature, axis=0)\n",
    "\n",
    "    _labels = np.full((_features.shape[0], ), label)\n",
    "\n",
    "    return _features, _labels"
   ]
  },
  {
   "cell_type": "markdown",
   "id": "68afff4f",
   "metadata": {},
   "source": [
    "# 데이터셋 가져오기"
   ]
  },
  {
   "cell_type": "code",
   "execution_count": 7,
   "id": "168ee650",
   "metadata": {},
   "outputs": [
    {
     "name": "stderr",
     "output_type": "stream",
     "text": [
      "100%|██████████████████████████████████████████████████████████████████████████████| 2323/2323 [09:18<00:00,  4.16it/s]\n",
      "100%|██████████████████████████████████████████████████████████████████████████████| 1895/1895 [07:07<00:00,  4.44it/s]\n",
      " 65%|██████████████████████████████████████████████████▋                           | 2497/3846 [10:43<08:00,  2.81it/s]C:\\Users\\DeepLearning_5\\Anaconda3\\lib\\site-packages\\librosa\\core\\pitch.py:153: UserWarning: Trying to estimate tuning from empty frequency set.\n",
      "  warnings.warn(\"Trying to estimate tuning from empty frequency set.\")\n",
      "100%|██████████████████████████████████████████████████████████████████████████████| 3846/3846 [20:19<00:00,  3.15it/s]"
     ]
    },
    {
     "name": "stdout",
     "output_type": "stream",
     "text": [
      "elapsed time fetching dataset (sec): 2205.991271495819\n"
     ]
    },
    {
     "name": "stderr",
     "output_type": "stream",
     "text": [
      "\n"
     ]
    }
   ],
   "source": [
    "start_time = time.time()\n",
    "\n",
    "positive_features, positive_labels = fetch_dataset(base_dir + '/positive', 'POSITIVE')\n",
    "neutral_features, neutral_labels = fetch_dataset(base_dir + '/neutral', 'NEUTRAL')\n",
    "negative_features, negative_labels = fetch_dataset(base_dir + '/negative', 'NEGATIVE')\n",
    "\n",
    "print('elapsed time fetching dataset (sec):', time.time() - start_time)"
   ]
  },
  {
   "cell_type": "code",
   "execution_count": 8,
   "id": "c1ca2ae7",
   "metadata": {},
   "outputs": [
    {
     "name": "stdout",
     "output_type": "stream",
     "text": [
      "features shape: (8064, 150, 153)\n",
      "labels shape before encoding: (8064,)\n"
     ]
    }
   ],
   "source": [
    "features = np.concatenate((positive_features, neutral_features, negative_features), axis=0)\n",
    "labels = np.concatenate((positive_labels, neutral_labels, negative_labels), axis=0)\n",
    "\n",
    "print('features shape:', features.shape)\n",
    "print('labels shape before encoding:', labels.shape)"
   ]
  },
  {
   "cell_type": "code",
   "execution_count": 9,
   "id": "ad68ccfe",
   "metadata": {},
   "outputs": [
    {
     "name": "stdout",
     "output_type": "stream",
     "text": [
      "labels shape after encoding: (8064, 3)\n",
      "label encoder classes: ['NEGATIVE' 'NEUTRAL' 'POSITIVE']\n"
     ]
    }
   ],
   "source": [
    "le = LabelEncoder()\n",
    "labels = to_categorical(le.fit_transform(labels))\n",
    "print('labels shape after encoding:', labels.shape)\n",
    "print('label encoder classes:', le.classes_)"
   ]
  },
  {
   "cell_type": "code",
   "execution_count": 10,
   "id": "e2fcddb0",
   "metadata": {},
   "outputs": [],
   "source": [
    "x_train, x_test, y_train, y_test = train_test_split(features, labels, test_size=0.2)"
   ]
  },
  {
   "cell_type": "code",
   "execution_count": 11,
   "id": "bf061516",
   "metadata": {},
   "outputs": [],
   "source": [
    "normalizer = Normalizer()\n",
    "x_train = normalizer.fit_transform(x_train.reshape((-1, num_columns)))\n",
    "x_test = normalizer.transform(x_test.reshape((-1, num_columns)))"
   ]
  },
  {
   "cell_type": "code",
   "execution_count": 12,
   "id": "8b3ec103",
   "metadata": {},
   "outputs": [
    {
     "name": "stdout",
     "output_type": "stream",
     "text": [
      "x_train shape before PCA: (967650, 153)\n",
      "x_test shape before PCA: (241950, 153)\n",
      "x_train shape after PCA: (6451, 150, 50)\n",
      "x_test shape after PCA: (1613, 150, 50)\n"
     ]
    }
   ],
   "source": [
    "print('x_train shape before PCA:', x_train.shape)\n",
    "print('x_test shape before PCA:', x_test.shape)\n",
    "\n",
    "pca = PCA(n_components=pca_components)\n",
    "x_train = pca.fit_transform(x_train).reshape((-1,) + input_shape)\n",
    "x_test = pca.transform(x_test).reshape((-1,) + input_shape)\n",
    "\n",
    "print('x_train shape after PCA:', x_train.shape)\n",
    "print('x_test shape after PCA:', x_test.shape)"
   ]
  },
  {
   "cell_type": "markdown",
   "id": "bf4f35c8",
   "metadata": {},
   "source": [
    "# 학습"
   ]
  },
  {
   "cell_type": "code",
   "execution_count": 13,
   "id": "1d785a86",
   "metadata": {
    "scrolled": true
   },
   "outputs": [
    {
     "name": "stdout",
     "output_type": "stream",
     "text": [
      "Model: \"sequential\"\n",
      "_________________________________________________________________\n",
      " Layer (type)                Output Shape              Param #   \n",
      "=================================================================\n",
      " block1_conv1 (Conv1D)       (None, 150, 64)           9664      \n",
      "                                                                 \n",
      " block1_conv2 (Conv1D)       (None, 150, 64)           12352     \n",
      "                                                                 \n",
      " block1_pool (MaxPooling1D)  (None, 75, 64)            0         \n",
      "                                                                 \n",
      " block2_conv1 (Conv1D)       (None, 75, 128)           24704     \n",
      "                                                                 \n",
      " block2_conv2 (Conv1D)       (None, 75, 128)           49280     \n",
      "                                                                 \n",
      " block2_pool (MaxPooling1D)  (None, 37, 128)           0         \n",
      "                                                                 \n",
      " block3_conv1 (Conv1D)       (None, 37, 256)           98560     \n",
      "                                                                 \n",
      " block3_conv2 (Conv1D)       (None, 37, 256)           196864    \n",
      "                                                                 \n",
      " block3_conv3 (Conv1D)       (None, 37, 256)           196864    \n",
      "                                                                 \n",
      " block3_pool (MaxPooling1D)  (None, 18, 256)           0         \n",
      "                                                                 \n",
      " block4_conv1 (Conv1D)       (None, 18, 512)           393728    \n",
      "                                                                 \n",
      " block4_conv2 (Conv1D)       (None, 18, 512)           786944    \n",
      "                                                                 \n",
      " block4_conv3 (Conv1D)       (None, 18, 512)           786944    \n",
      "                                                                 \n",
      " block4_pool (MaxPooling1D)  (None, 9, 512)            0         \n",
      "                                                                 \n",
      " block5_conv1 (Conv1D)       (None, 9, 512)            786944    \n",
      "                                                                 \n",
      " block5_conv2 (Conv1D)       (None, 9, 512)            786944    \n",
      "                                                                 \n",
      " block5_conv3 (Conv1D)       (None, 9, 512)            786944    \n",
      "                                                                 \n",
      " block5_pool (MaxPooling1D)  (None, 4, 512)            0         \n",
      "                                                                 \n",
      " flatten (Flatten)           (None, 2048)              0         \n",
      "                                                                 \n",
      " batch_normalization (BatchN  (None, 2048)             8192      \n",
      " ormalization)                                                   \n",
      "                                                                 \n",
      " dense (Dense)               (None, 1024)              2098176   \n",
      "                                                                 \n",
      " dropout (Dropout)           (None, 1024)              0         \n",
      "                                                                 \n",
      " dense_1 (Dense)             (None, 3)                 3075      \n",
      "                                                                 \n",
      "=================================================================\n",
      "Total params: 7,026,179\n",
      "Trainable params: 7,022,083\n",
      "Non-trainable params: 4,096\n",
      "_________________________________________________________________\n"
     ]
    }
   ],
   "source": [
    "model = Sequential()\n",
    "\n",
    "# Block 1\n",
    "model.add(Conv1D(64, 3, activation='relu', padding='same', name='block1_conv1', input_shape=input_shape))\n",
    "model.add(Conv1D(64, 3, activation='relu', padding='same', name='block1_conv2'))\n",
    "model.add(MaxPooling1D(2, strides=2, name='block1_pool'))\n",
    "\n",
    "# Block 2\n",
    "model.add(Conv1D(128, 3, activation='relu', padding='same', name='block2_conv1'))\n",
    "model.add(Conv1D(128, 3, activation='relu', padding='same', name='block2_conv2'))\n",
    "model.add(MaxPooling1D(2, strides=2, name='block2_pool'))\n",
    "\n",
    "# Block 3\n",
    "model.add(Conv1D(256, 3, activation='relu', padding='same', name='block3_conv1'))\n",
    "model.add(Conv1D(256, 3, activation='relu', padding='same', name='block3_conv2'))\n",
    "model.add(Conv1D(256, 3, activation='relu', padding='same', name='block3_conv3'))\n",
    "model.add(MaxPooling1D(2, strides=2, name='block3_pool'))\n",
    "\n",
    "# Block 4\n",
    "model.add(Conv1D(512, 3, activation='relu', padding='same', name='block4_conv1'))\n",
    "model.add(Conv1D(512, 3, activation='relu', padding='same', name='block4_conv2'))\n",
    "model.add(Conv1D(512, 3, activation='relu', padding='same', name='block4_conv3'))\n",
    "model.add(MaxPooling1D(2, strides=2, name='block4_pool'))\n",
    "\n",
    "# Block 5\n",
    "model.add(Conv1D(512, 3, activation='relu', padding='same', name='block5_conv1'))\n",
    "model.add(Conv1D(512, 3, activation='relu', padding='same', name='block5_conv2'))\n",
    "model.add(Conv1D(512, 3, activation='relu', padding='same', name='block5_conv3'))\n",
    "model.add(MaxPooling1D(2, strides=2, name='block5_pool'))\n",
    "\n",
    "model.add(Flatten())\n",
    "model.add(BatchNormalization())\n",
    "model.add(Dense(1024, activation='relu'))\n",
    "model.add(Dropout(0.5))\n",
    "model.add(Dense(3, activation='softmax'))\n",
    "\n",
    "model.summary()"
   ]
  },
  {
   "cell_type": "code",
   "execution_count": 14,
   "id": "8afcb6a5",
   "metadata": {},
   "outputs": [],
   "source": [
    "model.compile(loss='categorical_crossentropy', metrics=['accuracy'], optimizer='adam')"
   ]
  },
  {
   "cell_type": "code",
   "execution_count": 15,
   "id": "8ed3004b",
   "metadata": {},
   "outputs": [],
   "source": [
    "if split_val:\n",
    "    validation_split = 0.25\n",
    "else:\n",
    "    validation_split = 0.0"
   ]
  },
  {
   "cell_type": "code",
   "execution_count": 16,
   "id": "2eb3a18d",
   "metadata": {},
   "outputs": [
    {
     "name": "stdout",
     "output_type": "stream",
     "text": [
      "Epoch 1/150\n",
      "152/152 [==============================] - 9s 24ms/step - loss: 0.9740 - accuracy: 0.4758 - val_loss: 2.4122 - val_accuracy: 0.4687\n",
      "Epoch 2/150\n",
      "152/152 [==============================] - 3s 18ms/step - loss: 0.8324 - accuracy: 0.5754 - val_loss: 1.8765 - val_accuracy: 0.2877\n",
      "Epoch 3/150\n",
      "152/152 [==============================] - 3s 18ms/step - loss: 0.7484 - accuracy: 0.6205 - val_loss: 4.0324 - val_accuracy: 0.4687\n",
      "Epoch 4/150\n",
      "152/152 [==============================] - 3s 19ms/step - loss: 0.7366 - accuracy: 0.6356 - val_loss: 30.2683 - val_accuracy: 0.4687\n",
      "Epoch 5/150\n",
      "152/152 [==============================] - 3s 19ms/step - loss: 0.7046 - accuracy: 0.6604 - val_loss: 4.6922 - val_accuracy: 0.4606\n",
      "Epoch 6/150\n",
      "152/152 [==============================] - 3s 18ms/step - loss: 0.6997 - accuracy: 0.6654 - val_loss: 6.4029 - val_accuracy: 0.4935\n",
      "Epoch 7/150\n",
      "152/152 [==============================] - 3s 19ms/step - loss: 0.6804 - accuracy: 0.6716 - val_loss: 31.8461 - val_accuracy: 0.4687\n",
      "Epoch 8/150\n",
      "152/152 [==============================] - 3s 19ms/step - loss: 0.6866 - accuracy: 0.6676 - val_loss: 34.2114 - val_accuracy: 0.2877\n",
      "Epoch 9/150\n",
      "152/152 [==============================] - 3s 18ms/step - loss: 0.6488 - accuracy: 0.6881 - val_loss: 2.3403 - val_accuracy: 0.3180\n",
      "Epoch 10/150\n",
      "152/152 [==============================] - 3s 18ms/step - loss: 0.6500 - accuracy: 0.6918 - val_loss: 104.0452 - val_accuracy: 0.5195\n",
      "Epoch 11/150\n",
      "152/152 [==============================] - 3s 19ms/step - loss: 0.6762 - accuracy: 0.6819 - val_loss: 313.9003 - val_accuracy: 0.4687\n",
      "Epoch 12/150\n",
      "152/152 [==============================] - 3s 18ms/step - loss: 0.6508 - accuracy: 0.6908 - val_loss: 20.6245 - val_accuracy: 0.2436\n",
      "Epoch 13/150\n",
      "152/152 [==============================] - 3s 18ms/step - loss: 0.6533 - accuracy: 0.6914 - val_loss: 164.5162 - val_accuracy: 0.2877\n",
      "Epoch 14/150\n",
      "152/152 [==============================] - 3s 18ms/step - loss: 0.6423 - accuracy: 0.7013 - val_loss: 125.1228 - val_accuracy: 0.4687\n",
      "Epoch 15/150\n",
      "152/152 [==============================] - 3s 19ms/step - loss: 0.6345 - accuracy: 0.7034 - val_loss: 56.2540 - val_accuracy: 0.4687\n",
      "Epoch 16/150\n",
      "152/152 [==============================] - 3s 19ms/step - loss: 0.6492 - accuracy: 0.6947 - val_loss: 700.8477 - val_accuracy: 0.4687\n",
      "Epoch 17/150\n",
      "152/152 [==============================] - 3s 19ms/step - loss: 0.6262 - accuracy: 0.6988 - val_loss: 19.3140 - val_accuracy: 0.4687\n",
      "Epoch 18/150\n",
      "152/152 [==============================] - 3s 19ms/step - loss: 0.6089 - accuracy: 0.7115 - val_loss: 15.0590 - val_accuracy: 0.4687\n",
      "Epoch 19/150\n",
      "152/152 [==============================] - 3s 19ms/step - loss: 0.5990 - accuracy: 0.7224 - val_loss: 31.2856 - val_accuracy: 0.4817\n",
      "Epoch 20/150\n",
      "152/152 [==============================] - 3s 18ms/step - loss: 0.5946 - accuracy: 0.7131 - val_loss: 38.8703 - val_accuracy: 0.5046\n",
      "Epoch 21/150\n",
      "152/152 [==============================] - 3s 19ms/step - loss: 0.5932 - accuracy: 0.7290 - val_loss: 32.5272 - val_accuracy: 0.4687\n",
      "Epoch 22/150\n",
      "152/152 [==============================] - 3s 18ms/step - loss: 0.5779 - accuracy: 0.7336 - val_loss: 12.0656 - val_accuracy: 0.2734\n",
      "Epoch 23/150\n",
      "152/152 [==============================] - 3s 19ms/step - loss: 0.5960 - accuracy: 0.7257 - val_loss: 324.5205 - val_accuracy: 0.2877\n",
      "Epoch 24/150\n",
      "152/152 [==============================] - 3s 19ms/step - loss: 0.5730 - accuracy: 0.7381 - val_loss: 52.8240 - val_accuracy: 0.4569\n",
      "Epoch 25/150\n",
      "152/152 [==============================] - 3s 19ms/step - loss: 0.5881 - accuracy: 0.7315 - val_loss: 205.5206 - val_accuracy: 0.4687\n",
      "Epoch 26/150\n",
      "152/152 [==============================] - 3s 18ms/step - loss: 0.5639 - accuracy: 0.7373 - val_loss: 4.4204 - val_accuracy: 0.3825\n",
      "Epoch 27/150\n",
      "152/152 [==============================] - 3s 19ms/step - loss: 0.5627 - accuracy: 0.7422 - val_loss: 32.4816 - val_accuracy: 0.2877\n",
      "Epoch 28/150\n",
      "152/152 [==============================] - 3s 19ms/step - loss: 0.5612 - accuracy: 0.7503 - val_loss: 70.8780 - val_accuracy: 0.2877\n",
      "Epoch 29/150\n",
      "152/152 [==============================] - 3s 18ms/step - loss: 0.6118 - accuracy: 0.7160 - val_loss: 9.3327 - val_accuracy: 0.4780\n",
      "Epoch 30/150\n",
      "152/152 [==============================] - 3s 19ms/step - loss: 0.5826 - accuracy: 0.7325 - val_loss: 565.6683 - val_accuracy: 0.4687\n",
      "Epoch 31/150\n",
      "152/152 [==============================] - 3s 19ms/step - loss: 0.5593 - accuracy: 0.7439 - val_loss: 1563.9102 - val_accuracy: 0.4687\n",
      "Epoch 32/150\n",
      "152/152 [==============================] - 3s 19ms/step - loss: 0.5810 - accuracy: 0.7336 - val_loss: 554.6689 - val_accuracy: 0.2877\n",
      "Epoch 33/150\n",
      "152/152 [==============================] - 3s 19ms/step - loss: 0.5404 - accuracy: 0.7547 - val_loss: 123.9708 - val_accuracy: 0.4687\n",
      "Epoch 34/150\n",
      "152/152 [==============================] - 3s 19ms/step - loss: 0.5435 - accuracy: 0.7540 - val_loss: 85.7475 - val_accuracy: 0.4687\n",
      "Epoch 35/150\n",
      "152/152 [==============================] - 3s 19ms/step - loss: 0.5457 - accuracy: 0.7544 - val_loss: 36.7262 - val_accuracy: 0.2877\n",
      "Epoch 36/150\n",
      "152/152 [==============================] - 3s 18ms/step - loss: 0.5140 - accuracy: 0.7735 - val_loss: 44.0979 - val_accuracy: 0.4687\n",
      "Epoch 37/150\n",
      "152/152 [==============================] - 3s 19ms/step - loss: 0.5181 - accuracy: 0.7695 - val_loss: 33.9933 - val_accuracy: 0.2399\n",
      "Epoch 38/150\n",
      "152/152 [==============================] - 3s 19ms/step - loss: 0.5033 - accuracy: 0.7799 - val_loss: 558.7324 - val_accuracy: 0.4687\n",
      "Epoch 39/150\n",
      "152/152 [==============================] - 3s 19ms/step - loss: 0.5026 - accuracy: 0.7745 - val_loss: 391.4316 - val_accuracy: 0.4687\n",
      "Epoch 40/150\n",
      "152/152 [==============================] - 3s 19ms/step - loss: 0.4976 - accuracy: 0.7819 - val_loss: 49.1587 - val_accuracy: 0.4687\n",
      "Epoch 41/150\n",
      "152/152 [==============================] - 3s 19ms/step - loss: 0.4825 - accuracy: 0.7910 - val_loss: 18.9434 - val_accuracy: 0.2405\n",
      "Epoch 42/150\n",
      "152/152 [==============================] - 3s 19ms/step - loss: 0.4823 - accuracy: 0.7859 - val_loss: 18.3199 - val_accuracy: 0.2939\n",
      "Epoch 43/150\n",
      "152/152 [==============================] - 3s 19ms/step - loss: 0.4849 - accuracy: 0.7852 - val_loss: 32.5709 - val_accuracy: 0.5189\n",
      "Epoch 44/150\n",
      "152/152 [==============================] - 3s 19ms/step - loss: 0.4716 - accuracy: 0.8001 - val_loss: 12.8497 - val_accuracy: 0.4848\n",
      "Epoch 45/150\n",
      "152/152 [==============================] - 3s 19ms/step - loss: 0.5054 - accuracy: 0.7778 - val_loss: 15.2987 - val_accuracy: 0.4941\n",
      "Epoch 46/150\n",
      "152/152 [==============================] - 3s 19ms/step - loss: 0.4620 - accuracy: 0.8030 - val_loss: 104.4053 - val_accuracy: 0.4687\n",
      "Epoch 47/150\n",
      "152/152 [==============================] - 3s 19ms/step - loss: 0.5067 - accuracy: 0.7830 - val_loss: 16.8480 - val_accuracy: 0.2443\n",
      "Epoch 48/150\n",
      "152/152 [==============================] - 3s 18ms/step - loss: 0.4521 - accuracy: 0.8032 - val_loss: 11.0777 - val_accuracy: 0.4687\n",
      "Epoch 49/150\n",
      "152/152 [==============================] - 3s 18ms/step - loss: 0.4328 - accuracy: 0.8154 - val_loss: 113.1027 - val_accuracy: 0.4687\n",
      "Epoch 50/150\n",
      "152/152 [==============================] - 3s 19ms/step - loss: 0.4469 - accuracy: 0.8022 - val_loss: 29.9468 - val_accuracy: 0.3559\n",
      "Epoch 51/150\n",
      "152/152 [==============================] - 3s 19ms/step - loss: 0.4231 - accuracy: 0.8200 - val_loss: 61.9650 - val_accuracy: 0.4687\n",
      "Epoch 52/150\n",
      "152/152 [==============================] - 3s 19ms/step - loss: 0.4504 - accuracy: 0.8067 - val_loss: 23.3544 - val_accuracy: 0.2877\n",
      "Epoch 53/150\n",
      "152/152 [==============================] - 3s 18ms/step - loss: 0.4499 - accuracy: 0.8144 - val_loss: 152.1538 - val_accuracy: 0.4687\n",
      "Epoch 54/150\n",
      "152/152 [==============================] - 3s 18ms/step - loss: 0.4691 - accuracy: 0.8001 - val_loss: 1062.7341 - val_accuracy: 0.4687\n",
      "Epoch 55/150\n",
      "152/152 [==============================] - 3s 18ms/step - loss: 0.4675 - accuracy: 0.7919 - val_loss: 2238.9043 - val_accuracy: 0.4687\n",
      "Epoch 56/150\n",
      "152/152 [==============================] - 3s 18ms/step - loss: 0.4303 - accuracy: 0.8212 - val_loss: 214.8027 - val_accuracy: 0.4687\n",
      "Epoch 57/150\n"
     ]
    },
    {
     "name": "stdout",
     "output_type": "stream",
     "text": [
      "152/152 [==============================] - 3s 19ms/step - loss: 0.4210 - accuracy: 0.8231 - val_loss: 62.1760 - val_accuracy: 0.2436\n",
      "Epoch 58/150\n",
      "152/152 [==============================] - 3s 18ms/step - loss: 0.3976 - accuracy: 0.8299 - val_loss: 752.3580 - val_accuracy: 0.4687\n",
      "Epoch 59/150\n",
      "152/152 [==============================] - 3s 18ms/step - loss: 0.3979 - accuracy: 0.8305 - val_loss: 328.6678 - val_accuracy: 0.4687\n",
      "Epoch 60/150\n",
      "152/152 [==============================] - 3s 18ms/step - loss: 0.3771 - accuracy: 0.8425 - val_loss: 58.5125 - val_accuracy: 0.2436\n",
      "Epoch 61/150\n",
      "152/152 [==============================] - 3s 19ms/step - loss: 0.3681 - accuracy: 0.8526 - val_loss: 43.3103 - val_accuracy: 0.4687\n",
      "Epoch 62/150\n",
      "152/152 [==============================] - 3s 18ms/step - loss: 0.3809 - accuracy: 0.8431 - val_loss: 252.6207 - val_accuracy: 0.4687\n",
      "Epoch 63/150\n",
      "152/152 [==============================] - 3s 19ms/step - loss: 0.3499 - accuracy: 0.8549 - val_loss: 38.7261 - val_accuracy: 0.5071\n",
      "Epoch 64/150\n",
      "152/152 [==============================] - 3s 19ms/step - loss: 0.3530 - accuracy: 0.8541 - val_loss: 79.4896 - val_accuracy: 0.4687\n",
      "Epoch 65/150\n",
      "152/152 [==============================] - 3s 18ms/step - loss: 0.3653 - accuracy: 0.8479 - val_loss: 106.3098 - val_accuracy: 0.4687\n",
      "Epoch 66/150\n",
      "152/152 [==============================] - 3s 19ms/step - loss: 0.3404 - accuracy: 0.8636 - val_loss: 768.6826 - val_accuracy: 0.4687\n",
      "Epoch 67/150\n",
      "152/152 [==============================] - 3s 19ms/step - loss: 0.3865 - accuracy: 0.8437 - val_loss: 39.1686 - val_accuracy: 0.2455\n",
      "Epoch 68/150\n",
      "152/152 [==============================] - 3s 19ms/step - loss: 0.3410 - accuracy: 0.8572 - val_loss: 91.6819 - val_accuracy: 0.2436\n",
      "Epoch 69/150\n",
      "152/152 [==============================] - 3s 19ms/step - loss: 0.3552 - accuracy: 0.8518 - val_loss: 22.7668 - val_accuracy: 0.4687\n",
      "Epoch 70/150\n",
      "152/152 [==============================] - 3s 19ms/step - loss: 0.3325 - accuracy: 0.8675 - val_loss: 52.4534 - val_accuracy: 0.4687\n",
      "Epoch 71/150\n",
      "152/152 [==============================] - 3s 19ms/step - loss: 0.3215 - accuracy: 0.8702 - val_loss: 73.8856 - val_accuracy: 0.4687\n",
      "Epoch 72/150\n",
      "152/152 [==============================] - 3s 19ms/step - loss: 0.3034 - accuracy: 0.8762 - val_loss: 37.4572 - val_accuracy: 0.4687\n",
      "Epoch 73/150\n",
      "152/152 [==============================] - 3s 18ms/step - loss: 0.3157 - accuracy: 0.8760 - val_loss: 116.3418 - val_accuracy: 0.4687\n",
      "Epoch 74/150\n",
      "152/152 [==============================] - 3s 19ms/step - loss: 0.3426 - accuracy: 0.8615 - val_loss: 34.8429 - val_accuracy: 0.2877\n",
      "Epoch 75/150\n",
      "152/152 [==============================] - 3s 19ms/step - loss: 0.3047 - accuracy: 0.8778 - val_loss: 71.6336 - val_accuracy: 0.4687\n",
      "Epoch 76/150\n",
      "152/152 [==============================] - 3s 19ms/step - loss: 0.3101 - accuracy: 0.8774 - val_loss: 45.1250 - val_accuracy: 0.4464\n",
      "Epoch 77/150\n",
      "152/152 [==============================] - 3s 18ms/step - loss: 0.2779 - accuracy: 0.8923 - val_loss: 89.8453 - val_accuracy: 0.2436\n",
      "Epoch 78/150\n",
      "152/152 [==============================] - 3s 19ms/step - loss: 0.2815 - accuracy: 0.8880 - val_loss: 25.9052 - val_accuracy: 0.5059\n",
      "Epoch 79/150\n",
      "152/152 [==============================] - 3s 19ms/step - loss: 0.3334 - accuracy: 0.8636 - val_loss: 120.8813 - val_accuracy: 0.4687\n",
      "Epoch 80/150\n",
      "152/152 [==============================] - 3s 18ms/step - loss: 0.3291 - accuracy: 0.8704 - val_loss: 936.5078 - val_accuracy: 0.4687\n",
      "Epoch 81/150\n",
      "152/152 [==============================] - 3s 19ms/step - loss: 0.4334 - accuracy: 0.8129 - val_loss: 52.7720 - val_accuracy: 0.5096\n",
      "Epoch 82/150\n",
      "152/152 [==============================] - 3s 18ms/step - loss: 0.3021 - accuracy: 0.8754 - val_loss: 90.0361 - val_accuracy: 0.4687\n",
      "Epoch 83/150\n",
      "152/152 [==============================] - 3s 18ms/step - loss: 0.2692 - accuracy: 0.8902 - val_loss: 36.3096 - val_accuracy: 0.4774\n",
      "Epoch 84/150\n",
      "152/152 [==============================] - 3s 19ms/step - loss: 0.2845 - accuracy: 0.8923 - val_loss: 42.8114 - val_accuracy: 0.2883\n",
      "Epoch 85/150\n",
      "152/152 [==============================] - 3s 19ms/step - loss: 0.2727 - accuracy: 0.8950 - val_loss: 77.0055 - val_accuracy: 0.2436\n",
      "Epoch 86/150\n",
      "152/152 [==============================] - 3s 18ms/step - loss: 0.2783 - accuracy: 0.8876 - val_loss: 55.2629 - val_accuracy: 0.4687\n",
      "Epoch 87/150\n",
      "152/152 [==============================] - 3s 18ms/step - loss: 0.2597 - accuracy: 0.8975 - val_loss: 47.5895 - val_accuracy: 0.2436\n",
      "Epoch 88/150\n",
      "152/152 [==============================] - 3s 18ms/step - loss: 0.2635 - accuracy: 0.8983 - val_loss: 14.7135 - val_accuracy: 0.5028\n",
      "Epoch 89/150\n",
      "152/152 [==============================] - 3s 18ms/step - loss: 0.3101 - accuracy: 0.8745 - val_loss: 52.1736 - val_accuracy: 0.4687\n",
      "Epoch 90/150\n",
      "152/152 [==============================] - 3s 18ms/step - loss: 0.2650 - accuracy: 0.8983 - val_loss: 58.7042 - val_accuracy: 0.4687\n",
      "Epoch 91/150\n",
      "152/152 [==============================] - 3s 18ms/step - loss: 0.2355 - accuracy: 0.9119 - val_loss: 61.0529 - val_accuracy: 0.4687\n",
      "Epoch 92/150\n",
      "152/152 [==============================] - 3s 18ms/step - loss: 0.2527 - accuracy: 0.9006 - val_loss: 33.4683 - val_accuracy: 0.4693\n",
      "Epoch 93/150\n",
      "152/152 [==============================] - 3s 18ms/step - loss: 0.2546 - accuracy: 0.9049 - val_loss: 298.3574 - val_accuracy: 0.4687\n",
      "Epoch 94/150\n",
      "152/152 [==============================] - 3s 18ms/step - loss: 0.2288 - accuracy: 0.9103 - val_loss: 12.7755 - val_accuracy: 0.2480\n",
      "Epoch 95/150\n",
      "152/152 [==============================] - 3s 18ms/step - loss: 0.2343 - accuracy: 0.9130 - val_loss: 31.5077 - val_accuracy: 0.4687\n",
      "Epoch 96/150\n",
      "152/152 [==============================] - 3s 18ms/step - loss: 0.2334 - accuracy: 0.9084 - val_loss: 36.8203 - val_accuracy: 0.2436\n",
      "Epoch 97/150\n",
      "152/152 [==============================] - 3s 18ms/step - loss: 0.2325 - accuracy: 0.9115 - val_loss: 106.4659 - val_accuracy: 0.4687\n",
      "Epoch 98/150\n",
      "152/152 [==============================] - 3s 19ms/step - loss: 0.2626 - accuracy: 0.8993 - val_loss: 110.9128 - val_accuracy: 0.4687\n",
      "Epoch 99/150\n",
      "152/152 [==============================] - 3s 18ms/step - loss: 0.2214 - accuracy: 0.9130 - val_loss: 112.7959 - val_accuracy: 0.4687\n",
      "Epoch 100/150\n",
      "152/152 [==============================] - 3s 19ms/step - loss: 0.2077 - accuracy: 0.9206 - val_loss: 81.0750 - val_accuracy: 0.4687\n",
      "Epoch 101/150\n",
      "152/152 [==============================] - 3s 19ms/step - loss: 0.2782 - accuracy: 0.8900 - val_loss: 22.5766 - val_accuracy: 0.2449\n",
      "Epoch 102/150\n",
      "152/152 [==============================] - 3s 18ms/step - loss: 0.2321 - accuracy: 0.9103 - val_loss: 6.1374 - val_accuracy: 0.2678\n",
      "Epoch 103/150\n",
      "152/152 [==============================] - 3s 19ms/step - loss: 0.2181 - accuracy: 0.9142 - val_loss: 79.5673 - val_accuracy: 0.4687\n",
      "Epoch 104/150\n",
      "152/152 [==============================] - 3s 19ms/step - loss: 0.1734 - accuracy: 0.9382 - val_loss: 158.8764 - val_accuracy: 0.4687\n",
      "Epoch 105/150\n",
      "152/152 [==============================] - 3s 18ms/step - loss: 0.2056 - accuracy: 0.9210 - val_loss: 72.8404 - val_accuracy: 0.2436\n",
      "Epoch 106/150\n",
      "152/152 [==============================] - 3s 18ms/step - loss: 0.2205 - accuracy: 0.9140 - val_loss: 51.3873 - val_accuracy: 0.4693\n",
      "Epoch 107/150\n",
      "152/152 [==============================] - 3s 19ms/step - loss: 0.1958 - accuracy: 0.9285 - val_loss: 51.0726 - val_accuracy: 0.4687\n",
      "Epoch 108/150\n",
      "152/152 [==============================] - 3s 19ms/step - loss: 0.1984 - accuracy: 0.9231 - val_loss: 29.9123 - val_accuracy: 0.5189\n",
      "Epoch 109/150\n",
      "152/152 [==============================] - 3s 19ms/step - loss: 0.2312 - accuracy: 0.9091 - val_loss: 13.5504 - val_accuracy: 0.3255\n",
      "Epoch 110/150\n",
      "152/152 [==============================] - 3s 18ms/step - loss: 0.1980 - accuracy: 0.9264 - val_loss: 93.1638 - val_accuracy: 0.4687\n",
      "Epoch 111/150\n",
      "152/152 [==============================] - 3s 19ms/step - loss: 0.1895 - accuracy: 0.9316 - val_loss: 21.1257 - val_accuracy: 0.4687\n",
      "Epoch 112/150\n",
      "152/152 [==============================] - 3s 18ms/step - loss: 0.1829 - accuracy: 0.9310 - val_loss: 46.0391 - val_accuracy: 0.2901\n",
      "Epoch 113/150\n"
     ]
    },
    {
     "name": "stdout",
     "output_type": "stream",
     "text": [
      "152/152 [==============================] - 3s 19ms/step - loss: 0.2335 - accuracy: 0.9086 - val_loss: 69.8276 - val_accuracy: 0.2436\n",
      "Epoch 114/150\n",
      "152/152 [==============================] - 3s 18ms/step - loss: 0.2021 - accuracy: 0.9208 - val_loss: 418.9520 - val_accuracy: 0.4687\n",
      "Epoch 115/150\n",
      "152/152 [==============================] - 3s 18ms/step - loss: 0.1816 - accuracy: 0.9285 - val_loss: 274.7843 - val_accuracy: 0.4687\n",
      "Epoch 116/150\n",
      "152/152 [==============================] - 3s 19ms/step - loss: 0.2214 - accuracy: 0.9173 - val_loss: 29.8439 - val_accuracy: 0.4253\n",
      "Epoch 117/150\n",
      "152/152 [==============================] - 3s 19ms/step - loss: 0.1868 - accuracy: 0.9308 - val_loss: 22.1900 - val_accuracy: 0.4687\n",
      "Epoch 118/150\n",
      "152/152 [==============================] - 3s 19ms/step - loss: 0.2001 - accuracy: 0.9252 - val_loss: 17.6127 - val_accuracy: 0.4898\n",
      "Epoch 119/150\n",
      "152/152 [==============================] - 3s 19ms/step - loss: 0.1763 - accuracy: 0.9355 - val_loss: 13.7056 - val_accuracy: 0.5183\n",
      "Epoch 120/150\n",
      "152/152 [==============================] - 3s 19ms/step - loss: 0.1966 - accuracy: 0.9270 - val_loss: 11.9573 - val_accuracy: 0.3856\n",
      "Epoch 121/150\n",
      "152/152 [==============================] - 3s 19ms/step - loss: 0.1954 - accuracy: 0.9262 - val_loss: 7.0699 - val_accuracy: 0.4935\n",
      "Epoch 122/150\n",
      "152/152 [==============================] - 3s 19ms/step - loss: 0.1713 - accuracy: 0.9368 - val_loss: 23.3119 - val_accuracy: 0.4699\n",
      "Epoch 123/150\n",
      "152/152 [==============================] - 3s 19ms/step - loss: 0.1839 - accuracy: 0.9277 - val_loss: 33.4411 - val_accuracy: 0.4247\n",
      "Epoch 124/150\n",
      "152/152 [==============================] - 3s 18ms/step - loss: 0.1766 - accuracy: 0.9328 - val_loss: 44.5067 - val_accuracy: 0.4737\n",
      "Epoch 125/150\n",
      "152/152 [==============================] - 3s 19ms/step - loss: 0.2096 - accuracy: 0.9188 - val_loss: 89.2208 - val_accuracy: 0.4687\n",
      "Epoch 126/150\n",
      "152/152 [==============================] - 3s 19ms/step - loss: 0.2650 - accuracy: 0.8954 - val_loss: 372.9008 - val_accuracy: 0.2436\n",
      "Epoch 127/150\n",
      "152/152 [==============================] - 3s 19ms/step - loss: 0.1996 - accuracy: 0.9277 - val_loss: 114.8501 - val_accuracy: 0.4687\n",
      "Epoch 128/150\n",
      "152/152 [==============================] - 3s 19ms/step - loss: 0.2289 - accuracy: 0.9138 - val_loss: 126.7566 - val_accuracy: 0.4687\n",
      "Epoch 129/150\n",
      "152/152 [==============================] - 3s 19ms/step - loss: 0.2467 - accuracy: 0.9095 - val_loss: 404.2885 - val_accuracy: 0.4687\n",
      "Epoch 130/150\n",
      "152/152 [==============================] - 3s 18ms/step - loss: 0.1625 - accuracy: 0.9376 - val_loss: 61.6154 - val_accuracy: 0.4687\n",
      "Epoch 131/150\n",
      "152/152 [==============================] - 3s 19ms/step - loss: 0.1753 - accuracy: 0.9337 - val_loss: 283.3484 - val_accuracy: 0.4687\n",
      "Epoch 132/150\n",
      "152/152 [==============================] - 3s 19ms/step - loss: 0.1855 - accuracy: 0.9258 - val_loss: 143.4946 - val_accuracy: 0.4687\n",
      "Epoch 133/150\n",
      "152/152 [==============================] - 3s 19ms/step - loss: 0.1678 - accuracy: 0.9382 - val_loss: 79.9209 - val_accuracy: 0.4687\n",
      "Epoch 134/150\n",
      "152/152 [==============================] - 3s 18ms/step - loss: 0.1738 - accuracy: 0.9374 - val_loss: 61.0676 - val_accuracy: 0.4687\n",
      "Epoch 135/150\n",
      "152/152 [==============================] - 3s 18ms/step - loss: 0.1737 - accuracy: 0.9378 - val_loss: 216.4914 - val_accuracy: 0.4687\n",
      "Epoch 136/150\n",
      "152/152 [==============================] - 3s 18ms/step - loss: 0.1436 - accuracy: 0.9467 - val_loss: 100.3352 - val_accuracy: 0.4687\n",
      "Epoch 137/150\n",
      "152/152 [==============================] - 3s 18ms/step - loss: 0.1566 - accuracy: 0.9440 - val_loss: 140.4611 - val_accuracy: 0.4687\n",
      "Epoch 138/150\n",
      "152/152 [==============================] - 3s 18ms/step - loss: 0.1727 - accuracy: 0.9370 - val_loss: 252.0076 - val_accuracy: 0.4687\n",
      "Epoch 139/150\n",
      "152/152 [==============================] - 3s 19ms/step - loss: 0.1637 - accuracy: 0.9403 - val_loss: 227.1820 - val_accuracy: 0.4687\n",
      "Epoch 140/150\n",
      "152/152 [==============================] - 3s 19ms/step - loss: 0.1429 - accuracy: 0.9469 - val_loss: 149.9021 - val_accuracy: 0.4687\n",
      "Epoch 141/150\n",
      "152/152 [==============================] - 3s 18ms/step - loss: 0.1826 - accuracy: 0.9305 - val_loss: 49.3725 - val_accuracy: 0.4687\n",
      "Epoch 142/150\n",
      "152/152 [==============================] - 3s 19ms/step - loss: 0.1853 - accuracy: 0.9326 - val_loss: 19.7686 - val_accuracy: 0.4699\n",
      "Epoch 143/150\n",
      "152/152 [==============================] - 3s 18ms/step - loss: 0.1547 - accuracy: 0.9432 - val_loss: 145.2907 - val_accuracy: 0.4687\n",
      "Epoch 144/150\n",
      "152/152 [==============================] - 3s 18ms/step - loss: 0.1635 - accuracy: 0.9363 - val_loss: 87.3875 - val_accuracy: 0.4687\n",
      "Epoch 145/150\n",
      "152/152 [==============================] - 3s 18ms/step - loss: 0.1647 - accuracy: 0.9427 - val_loss: 26.7842 - val_accuracy: 0.2424\n",
      "Epoch 146/150\n",
      "152/152 [==============================] - 3s 19ms/step - loss: 0.1591 - accuracy: 0.9419 - val_loss: 109.5541 - val_accuracy: 0.4687\n",
      "Epoch 147/150\n",
      "152/152 [==============================] - 3s 18ms/step - loss: 0.1823 - accuracy: 0.9337 - val_loss: 106.4955 - val_accuracy: 0.2436\n",
      "Epoch 148/150\n",
      "152/152 [==============================] - 3s 18ms/step - loss: 0.2412 - accuracy: 0.9043 - val_loss: 1094.2697 - val_accuracy: 0.4687\n",
      "Epoch 149/150\n",
      "152/152 [==============================] - 3s 18ms/step - loss: 0.1738 - accuracy: 0.9363 - val_loss: 487.2628 - val_accuracy: 0.2436\n",
      "Epoch 150/150\n",
      "152/152 [==============================] - 3s 18ms/step - loss: 0.1542 - accuracy: 0.9425 - val_loss: 181.4234 - val_accuracy: 0.4687\n",
      "elapsed time training dataset (sec): 427.6557385921478\n"
     ]
    }
   ],
   "source": [
    "start_time = time.time()\n",
    "\n",
    "hist = model.fit(x_train, y_train,\n",
    "                 epochs=n_epochs,\n",
    "                 batch_size=batch_size,\n",
    "                 validation_split=validation_split,\n",
    "                 shuffle=True,\n",
    "                 verbose=1)\n",
    "\n",
    "print('elapsed time training dataset (sec):', time.time() - start_time)\n",
    "\n",
    "model.save(model_save_path)"
   ]
  },
  {
   "cell_type": "code",
   "execution_count": 17,
   "id": "b34313fb",
   "metadata": {},
   "outputs": [
    {
     "data": {
      "image/png": "[encoded data removed]",
      "text/plain": [
       "<Figure size 1080x360 with 2 Axes>"
      ]
     },
     "metadata": {
      "needs_background": "light"
     },
     "output_type": "display_data"
    }
   ],
   "source": [
    "history_dict = hist.history\n",
    "\n",
    "loss_values = history_dict['loss']\n",
    "acc_values = history_dict['accuracy']\n",
    "if split_val:\n",
    "    val_loss_values = history_dict['val_loss']\n",
    "    val_acc_values = history_dict['val_accuracy']\n",
    "\n",
    "fig, (ax1, ax2) = plt.subplots(1, 2, figsize=(15, 5))\n",
    "\n",
    "ax1.plot(loss_values, 'blue', label='Training Loss')\n",
    "if split_val:\n",
    "    ax1.plot(val_loss_values, 'orange', label='Validation Loss')\n",
    "ax1.set_title('Training and validation loss')\n",
    "ax1.set_xlabel('Epochs')\n",
    "ax1.set_ylabel('Loss')\n",
    "ax1.legend()\n",
    "\n",
    "ax2.plot(acc_values, 'blue', label='Training accuracy')\n",
    "if split_val:\n",
    "    ax2.plot(val_acc_values, 'orange', label='Validation accuracy')\n",
    "ax2.set_title('Training and validation accuracy')\n",
    "ax2.set_xlabel('Epochs')\n",
    "ax2.set_ylabel('Accuracy')\n",
    "ax2.legend()\n",
    "\n",
    "plt.show()"
   ]
  },
  {
   "cell_type": "code",
   "execution_count": 18,
   "id": "70146c37",
   "metadata": {},
   "outputs": [
    {
     "name": "stdout",
     "output_type": "stream",
     "text": [
      "51/51 [==============================] - 0s 7ms/step - loss: 185.1701 - accuracy: 0.4898\n",
      "test loss: 185.17005920410156\n",
      "test accuracy: 0.4897706210613251\n"
     ]
    }
   ],
   "source": [
    "loss, accuracy = model.evaluate(x_test, y_test)\n",
    "print('test loss:', loss)\n",
    "print('test accuracy:', accuracy)"
   ]
  },
  {
   "cell_type": "markdown",
   "id": "a367cc71",
   "metadata": {},
   "source": [
    "# 파일 테스트"
   ]
  },
  {
   "cell_type": "code",
   "execution_count": null,
   "id": "95a5f7a5",
   "metadata": {},
   "outputs": [],
   "source": [
    "test_file_name = 'dataset/negative/1001_DFA_ANG_XX.wav'"
   ]
  },
  {
   "cell_type": "code",
   "execution_count": null,
   "id": "66148657",
   "metadata": {},
   "outputs": [],
   "source": [
    "prediction_feature = extract_feature(test_file_name, input_shape[0]).reshape((1, ) + input_shape)\n",
    "model = load_model(model_save_path)\n",
    "\n",
    "predicted_proba = model.predict(prediction_feature)[0]\n",
    "predicted_class = np.argmax(predicted_proba)\n",
    "\n",
    "print('classification result:', le.classes_[predicted_class])"
   ]
  },
  {
   "cell_type": "code",
   "execution_count": null,
   "id": "db540429",
   "metadata": {},
   "outputs": [],
   "source": []
  }
 ],
 "metadata": {
  "kernelspec": {
   "display_name": "emotion",
   "language": "python",
   "name": "emotion"
  },
  "language_info": {
   "codemirror_mode": {
    "name": "ipython",
    "version": 3
   },
   "file_extension": ".py",
   "mimetype": "text/x-python",
   "name": "python",
   "nbconvert_exporter": "python",
   "pygments_lexer": "ipython3",
   "version": "3.8.8"
  }
 },
 "nbformat": 4,
 "nbformat_minor": 5
}
