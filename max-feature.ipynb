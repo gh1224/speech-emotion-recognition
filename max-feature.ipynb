{
 "cells": [
  {
   "cell_type": "code",
   "execution_count": null,
   "id": "90230a47",
   "metadata": {},
   "outputs": [],
   "source": [
    "\"\"\"\n",
    "데이터셋\n",
    "Crema, Ravdess, Tess, Savee\n",
    "\n",
    "Positive: happiness - 2323\n",
    "Neutral: neutral, calmness - 1895\n",
    "Negative: anger, sadness - 3846\n",
    "\"\"\""
   ]
  },
  {
   "cell_type": "code",
   "execution_count": 1,
   "id": "736ee2e8",
   "metadata": {},
   "outputs": [
    {
     "name": "stderr",
     "output_type": "stream",
     "text": [
      "C:\\Users\\DeepLearning_5\\Anaconda3\\lib\\site-packages\\requests\\__init__.py:89: RequestsDependencyWarning: urllib3 (1.24.3) or chardet (4.0.0) doesn't match a supported version!\n",
      "  warnings.warn(\"urllib3 ({}) or chardet ({}) doesn't match a supported \"\n"
     ]
    }
   ],
   "source": [
    "import numpy as np\n",
    "import time\n",
    "from tqdm import tqdm\n",
    "import os\n",
    "import librosa\n",
    "import matplotlib.pyplot as plt\n",
    "\n",
    "from sklearn.preprocessing import LabelEncoder\n",
    "from sklearn.model_selection import train_test_split\n",
    "\n",
    "from keras.utils.np_utils import to_categorical\n",
    "from keras.models import load_model, Sequential\n",
    "from keras.layers import Conv1D, MaxPooling1D, Flatten, BatchNormalization, Dense, Dropout"
   ]
  },
  {
   "cell_type": "code",
   "execution_count": 2,
   "id": "1ce1ef09",
   "metadata": {},
   "outputs": [],
   "source": [
    "base_dir = 'dataset'\n",
    "\n",
    "n_mfcc = 128\n",
    "num_rows = 150\n",
    "num_columns = 153\n",
    "input_shape = (num_rows, num_columns)\n",
    "\n",
    "n_epochs = 150\n",
    "batch_size = None\n",
    "split_val = True\n",
    "\n",
    "model_save_path = 'saved_models/model.h5'"
   ]
  },
  {
   "cell_type": "code",
   "execution_count": 3,
   "id": "a39885db",
   "metadata": {},
   "outputs": [],
   "source": [
    "def load_feature_tuple(file_name):\n",
    "    y, sr = librosa.load(file_name, mono=True)\n",
    "\n",
    "    mfcc = librosa.feature.mfcc(y=y, sr=sr, n_mfcc=n_mfcc)\n",
    "    \n",
    "    spectral_centroid = librosa.feature.spectral_centroid(y=y, sr=sr)\n",
    "    spectral_bandwidth = librosa.feature.spectral_bandwidth(y=y, sr=sr)\n",
    "    spectral_contrast = librosa.feature.spectral_contrast(y=y, sr=sr)\n",
    "    spectral_flatness = librosa.feature.spectral_flatness(y=y)\n",
    "    spectral_rolloff = librosa.feature.spectral_rolloff(y=y, sr=sr)\n",
    "    \n",
    "    zero_crossing_rate = librosa.feature.zero_crossing_rate(y=y)\n",
    "    \n",
    "    chroma_stft = librosa.feature.chroma_stft(y=y, sr=sr)\n",
    "    \n",
    "    rms = librosa.feature.rms(y=y)\n",
    "    \n",
    "    return mfcc, spectral_centroid, spectral_bandwidth, spectral_contrast, spectral_flatness, spectral_rolloff, zero_crossing_rate, chroma_stft, rms"
   ]
  },
  {
   "cell_type": "code",
   "execution_count": 4,
   "id": "e8cccf27",
   "metadata": {},
   "outputs": [],
   "source": [
    "def pad_feature_width(feature, feature_width):\n",
    "    diff = feature_width - feature.shape[1]\n",
    "    if diff > 0:\n",
    "        return np.pad(feature, pad_width=((0, 0), (0, diff)), mode='constant')\n",
    "    elif diff < 0:\n",
    "        return np.delete(feature, np.arange(feature_width, feature.shape[1]), axis=1)\n",
    "    return feature"
   ]
  },
  {
   "cell_type": "code",
   "execution_count": 5,
   "id": "15aa2cbc",
   "metadata": {},
   "outputs": [],
   "source": [
    "def extract_feature(file_name, feature_width):\n",
    "    image = np.concatenate(load_feature_tuple(file_name), axis=0)\n",
    "    image = pad_feature_width(image, feature_width)\n",
    "    image = np.transpose(image)\n",
    "    return image"
   ]
  },
  {
   "cell_type": "code",
   "execution_count": 6,
   "id": "4158fb8c",
   "metadata": {},
   "outputs": [],
   "source": [
    "def fetch_dataset(dir_path, label):\n",
    "    _features = np.empty((0, ) + input_shape)\n",
    "    for file_name in tqdm(os.listdir(dir_path)):\n",
    "        file_path = os.path.join(dir_path, file_name)\n",
    "        feature = extract_feature(file_path, input_shape[0]).reshape((1, ) + input_shape)\n",
    "        _features = np.append(_features, feature, axis=0)\n",
    "\n",
    "    _labels = np.full((_features.shape[0], ), label)\n",
    "\n",
    "    return _features, _labels"
   ]
  },
  {
   "cell_type": "markdown",
   "id": "68afff4f",
   "metadata": {},
   "source": [
    "# 데이터셋 가져오기"
   ]
  },
  {
   "cell_type": "code",
   "execution_count": 7,
   "id": "168ee650",
   "metadata": {},
   "outputs": [
    {
     "name": "stderr",
     "output_type": "stream",
     "text": [
      "100%|██████████████████████████████████████████████████████████████████████████████| 2323/2323 [10:38<00:00,  3.64it/s]\n",
      "100%|██████████████████████████████████████████████████████████████████████████████| 1895/1895 [08:24<00:00,  3.75it/s]\n",
      " 65%|██████████████████████████████████████████████████▋                           | 2497/3846 [10:44<07:26,  3.02it/s]C:\\Users\\DeepLearning_5\\Anaconda3\\lib\\site-packages\\librosa\\core\\pitch.py:153: UserWarning: Trying to estimate tuning from empty frequency set.\n",
      "  warnings.warn(\"Trying to estimate tuning from empty frequency set.\")\n",
      "100%|██████████████████████████████████████████████████████████████████████████████| 3846/3846 [20:11<00:00,  3.17it/s]"
     ]
    },
    {
     "name": "stdout",
     "output_type": "stream",
     "text": [
      "elapsed time fetching dataset (sec): 2354.389931201935\n"
     ]
    },
    {
     "name": "stderr",
     "output_type": "stream",
     "text": [
      "\n"
     ]
    }
   ],
   "source": [
    "start_time = time.time()\n",
    "\n",
    "positive_features, positive_labels = fetch_dataset(base_dir + '/positive', 'POSITIVE')\n",
    "neutral_features, neutral_labels = fetch_dataset(base_dir + '/neutral', 'NEUTRAL')\n",
    "negative_features, negative_labels = fetch_dataset(base_dir + '/negative', 'NEGATIVE')\n",
    "\n",
    "print('elapsed time fetching dataset (sec):', time.time() - start_time)"
   ]
  },
  {
   "cell_type": "code",
   "execution_count": 8,
   "id": "c1ca2ae7",
   "metadata": {},
   "outputs": [
    {
     "name": "stdout",
     "output_type": "stream",
     "text": [
      "features shape: (8064, 150, 153)\n",
      "labels shape before encoding: (8064,)\n"
     ]
    }
   ],
   "source": [
    "features = np.concatenate((positive_features, neutral_features, negative_features), axis=0)\n",
    "labels = np.concatenate((positive_labels, neutral_labels, negative_labels), axis=0)\n",
    "\n",
    "print('features shape:', features.shape)\n",
    "print('labels shape before encoding:', labels.shape)"
   ]
  },
  {
   "cell_type": "code",
   "execution_count": 9,
   "id": "ad68ccfe",
   "metadata": {},
   "outputs": [
    {
     "name": "stdout",
     "output_type": "stream",
     "text": [
      "labels shape after encoding: (8064, 3)\n",
      "label encoder classes: ['NEGATIVE' 'NEUTRAL' 'POSITIVE']\n"
     ]
    }
   ],
   "source": [
    "le = LabelEncoder()\n",
    "labels = to_categorical(le.fit_transform(labels))\n",
    "print('labels shape after encoding:', labels.shape)\n",
    "print('label encoder classes:', le.classes_)"
   ]
  },
  {
   "cell_type": "code",
   "execution_count": 10,
   "id": "e2fcddb0",
   "metadata": {},
   "outputs": [],
   "source": [
    "x_train, x_test, y_train, y_test = train_test_split(features, labels, test_size=0.2)"
   ]
  },
  {
   "cell_type": "markdown",
   "id": "bf4f35c8",
   "metadata": {},
   "source": [
    "# 학습"
   ]
  },
  {
   "cell_type": "code",
   "execution_count": 11,
   "id": "1d785a86",
   "metadata": {
    "scrolled": true
   },
   "outputs": [
    {
     "name": "stdout",
     "output_type": "stream",
     "text": [
      "Model: \"sequential\"\n",
      "_________________________________________________________________\n",
      " Layer (type)                Output Shape              Param #   \n",
      "=================================================================\n",
      " block1_conv1 (Conv1D)       (None, 150, 64)           29440     \n",
      "                                                                 \n",
      " block1_conv2 (Conv1D)       (None, 150, 64)           12352     \n",
      "                                                                 \n",
      " block1_pool (MaxPooling1D)  (None, 75, 64)            0         \n",
      "                                                                 \n",
      " block2_conv1 (Conv1D)       (None, 75, 128)           24704     \n",
      "                                                                 \n",
      " block2_conv2 (Conv1D)       (None, 75, 128)           49280     \n",
      "                                                                 \n",
      " block2_pool (MaxPooling1D)  (None, 37, 128)           0         \n",
      "                                                                 \n",
      " block3_conv1 (Conv1D)       (None, 37, 256)           98560     \n",
      "                                                                 \n",
      " block3_conv2 (Conv1D)       (None, 37, 256)           196864    \n",
      "                                                                 \n",
      " block3_conv3 (Conv1D)       (None, 37, 256)           196864    \n",
      "                                                                 \n",
      " block3_pool (MaxPooling1D)  (None, 18, 256)           0         \n",
      "                                                                 \n",
      " block4_conv1 (Conv1D)       (None, 18, 512)           393728    \n",
      "                                                                 \n",
      " block4_conv2 (Conv1D)       (None, 18, 512)           786944    \n",
      "                                                                 \n",
      " block4_conv3 (Conv1D)       (None, 18, 512)           786944    \n",
      "                                                                 \n",
      " block4_pool (MaxPooling1D)  (None, 9, 512)            0         \n",
      "                                                                 \n",
      " block5_conv1 (Conv1D)       (None, 9, 512)            786944    \n",
      "                                                                 \n",
      " block5_conv2 (Conv1D)       (None, 9, 512)            786944    \n",
      "                                                                 \n",
      " block5_conv3 (Conv1D)       (None, 9, 512)            786944    \n",
      "                                                                 \n",
      " block5_pool (MaxPooling1D)  (None, 4, 512)            0         \n",
      "                                                                 \n",
      " flatten (Flatten)           (None, 2048)              0         \n",
      "                                                                 \n",
      " batch_normalization (BatchN  (None, 2048)             8192      \n",
      " ormalization)                                                   \n",
      "                                                                 \n",
      " dense (Dense)               (None, 1024)              2098176   \n",
      "                                                                 \n",
      " dropout (Dropout)           (None, 1024)              0         \n",
      "                                                                 \n",
      " dense_1 (Dense)             (None, 3)                 3075      \n",
      "                                                                 \n",
      "=================================================================\n",
      "Total params: 7,045,955\n",
      "Trainable params: 7,041,859\n",
      "Non-trainable params: 4,096\n",
      "_________________________________________________________________\n"
     ]
    }
   ],
   "source": [
    "model = Sequential()\n",
    "\n",
    "# Block 1\n",
    "model.add(Conv1D(64, 3, activation='relu', padding='same', name='block1_conv1', input_shape=input_shape))\n",
    "model.add(Conv1D(64, 3, activation='relu', padding='same', name='block1_conv2'))\n",
    "model.add(MaxPooling1D(2, strides=2, name='block1_pool'))\n",
    "\n",
    "# Block 2\n",
    "model.add(Conv1D(128, 3, activation='relu', padding='same', name='block2_conv1'))\n",
    "model.add(Conv1D(128, 3, activation='relu', padding='same', name='block2_conv2'))\n",
    "model.add(MaxPooling1D(2, strides=2, name='block2_pool'))\n",
    "\n",
    "# Block 3\n",
    "model.add(Conv1D(256, 3, activation='relu', padding='same', name='block3_conv1'))\n",
    "model.add(Conv1D(256, 3, activation='relu', padding='same', name='block3_conv2'))\n",
    "model.add(Conv1D(256, 3, activation='relu', padding='same', name='block3_conv3'))\n",
    "model.add(MaxPooling1D(2, strides=2, name='block3_pool'))\n",
    "\n",
    "# Block 4\n",
    "model.add(Conv1D(512, 3, activation='relu', padding='same', name='block4_conv1'))\n",
    "model.add(Conv1D(512, 3, activation='relu', padding='same', name='block4_conv2'))\n",
    "model.add(Conv1D(512, 3, activation='relu', padding='same', name='block4_conv3'))\n",
    "model.add(MaxPooling1D(2, strides=2, name='block4_pool'))\n",
    "\n",
    "# Block 5\n",
    "model.add(Conv1D(512, 3, activation='relu', padding='same', name='block5_conv1'))\n",
    "model.add(Conv1D(512, 3, activation='relu', padding='same', name='block5_conv2'))\n",
    "model.add(Conv1D(512, 3, activation='relu', padding='same', name='block5_conv3'))\n",
    "model.add(MaxPooling1D(2, strides=2, name='block5_pool'))\n",
    "\n",
    "model.add(Flatten())\n",
    "model.add(BatchNormalization())\n",
    "model.add(Dense(1024, activation='relu'))\n",
    "model.add(Dropout(0.5))\n",
    "model.add(Dense(3, activation='softmax'))\n",
    "\n",
    "model.summary()"
   ]
  },
  {
   "cell_type": "code",
   "execution_count": 12,
   "id": "8afcb6a5",
   "metadata": {},
   "outputs": [],
   "source": [
    "model.compile(loss='categorical_crossentropy', metrics=['accuracy'], optimizer='adam')"
   ]
  },
  {
   "cell_type": "code",
   "execution_count": 13,
   "id": "8ed3004b",
   "metadata": {},
   "outputs": [],
   "source": [
    "if split_val:\n",
    "    validation_split = 0.25\n",
    "else:\n",
    "    validation_split = 0.0"
   ]
  },
  {
   "cell_type": "code",
   "execution_count": 14,
   "id": "2eb3a18d",
   "metadata": {},
   "outputs": [
    {
     "name": "stdout",
     "output_type": "stream",
     "text": [
      "Epoch 1/150\n",
      "152/152 [==============================] - 9s 27ms/step - loss: 2.0967 - accuracy: 0.3975 - val_loss: 18.9076 - val_accuracy: 0.3385\n",
      "Epoch 2/150\n",
      "152/152 [==============================] - 3s 20ms/step - loss: 1.2690 - accuracy: 0.4909 - val_loss: 3.4432 - val_accuracy: 0.4737\n",
      "Epoch 3/150\n",
      "152/152 [==============================] - 3s 20ms/step - loss: 0.9005 - accuracy: 0.5661 - val_loss: 1.3445 - val_accuracy: 0.4966\n",
      "Epoch 4/150\n",
      "152/152 [==============================] - 3s 21ms/step - loss: 0.8088 - accuracy: 0.6027 - val_loss: 2.3895 - val_accuracy: 0.4737\n",
      "Epoch 5/150\n",
      "152/152 [==============================] - 3s 21ms/step - loss: 0.7701 - accuracy: 0.6240 - val_loss: 0.8032 - val_accuracy: 0.6020\n",
      "Epoch 6/150\n",
      "152/152 [==============================] - 3s 20ms/step - loss: 0.7472 - accuracy: 0.6387 - val_loss: 1.3088 - val_accuracy: 0.5139\n",
      "Epoch 7/150\n",
      "152/152 [==============================] - 3s 20ms/step - loss: 0.7317 - accuracy: 0.6476 - val_loss: 3.0261 - val_accuracy: 0.3639\n",
      "Epoch 8/150\n",
      "152/152 [==============================] - 3s 20ms/step - loss: 0.7205 - accuracy: 0.6465 - val_loss: 1.0543 - val_accuracy: 0.5840\n",
      "Epoch 9/150\n",
      "152/152 [==============================] - 3s 20ms/step - loss: 0.7176 - accuracy: 0.6490 - val_loss: 4.4788 - val_accuracy: 0.4743\n",
      "Epoch 10/150\n",
      "152/152 [==============================] - 3s 20ms/step - loss: 0.7150 - accuracy: 0.6556 - val_loss: 12.4917 - val_accuracy: 0.5722\n",
      "Epoch 11/150\n",
      "152/152 [==============================] - 3s 20ms/step - loss: 0.7052 - accuracy: 0.6556 - val_loss: 32.3619 - val_accuracy: 0.6609\n",
      "Epoch 12/150\n",
      "152/152 [==============================] - 3s 20ms/step - loss: 0.6845 - accuracy: 0.6718 - val_loss: 0.8151 - val_accuracy: 0.6348\n",
      "Epoch 13/150\n",
      "152/152 [==============================] - 3s 20ms/step - loss: 0.7245 - accuracy: 0.6561 - val_loss: 13895.3926 - val_accuracy: 0.6237\n",
      "Epoch 14/150\n",
      "152/152 [==============================] - 3s 20ms/step - loss: 0.7015 - accuracy: 0.6633 - val_loss: 0.8051 - val_accuracy: 0.6113\n",
      "Epoch 15/150\n",
      "152/152 [==============================] - 3s 21ms/step - loss: 0.6959 - accuracy: 0.6641 - val_loss: 2254.7908 - val_accuracy: 0.5239\n",
      "Epoch 16/150\n",
      "152/152 [==============================] - 3s 20ms/step - loss: 0.6913 - accuracy: 0.6633 - val_loss: 2.6415 - val_accuracy: 0.4823\n",
      "Epoch 17/150\n",
      "152/152 [==============================] - 3s 20ms/step - loss: 0.6782 - accuracy: 0.6714 - val_loss: 591.0862 - val_accuracy: 0.4972\n",
      "Epoch 18/150\n",
      "152/152 [==============================] - 3s 20ms/step - loss: 0.6599 - accuracy: 0.6862 - val_loss: 0.6697 - val_accuracy: 0.6745\n",
      "Epoch 19/150\n",
      "152/152 [==============================] - 3s 21ms/step - loss: 0.6650 - accuracy: 0.6796 - val_loss: 5.1955 - val_accuracy: 0.5034\n",
      "Epoch 20/150\n",
      "152/152 [==============================] - 3s 20ms/step - loss: 0.6798 - accuracy: 0.6724 - val_loss: 30.6618 - val_accuracy: 0.4569\n",
      "Epoch 21/150\n",
      "152/152 [==============================] - 3s 20ms/step - loss: 0.6586 - accuracy: 0.6840 - val_loss: 6990.7705 - val_accuracy: 0.5245\n",
      "Epoch 22/150\n",
      "152/152 [==============================] - 3s 20ms/step - loss: 0.6490 - accuracy: 0.6840 - val_loss: 0.7008 - val_accuracy: 0.6851\n",
      "Epoch 23/150\n",
      "152/152 [==============================] - 3s 21ms/step - loss: 0.6387 - accuracy: 0.6924 - val_loss: 0.8019 - val_accuracy: 0.6417\n",
      "Epoch 24/150\n",
      "152/152 [==============================] - 3s 20ms/step - loss: 0.6507 - accuracy: 0.6883 - val_loss: 0.6463 - val_accuracy: 0.7012\n",
      "Epoch 25/150\n",
      "152/152 [==============================] - 3s 20ms/step - loss: 0.6642 - accuracy: 0.6788 - val_loss: 1968.4822 - val_accuracy: 0.5511\n",
      "Epoch 26/150\n",
      "152/152 [==============================] - 3s 20ms/step - loss: 0.6851 - accuracy: 0.6685 - val_loss: 20993.6855 - val_accuracy: 0.6472\n",
      "Epoch 27/150\n",
      "152/152 [==============================] - 3s 20ms/step - loss: 0.6486 - accuracy: 0.6833 - val_loss: 10597.1533 - val_accuracy: 0.6206\n",
      "Epoch 28/150\n",
      "152/152 [==============================] - 3s 20ms/step - loss: 0.6681 - accuracy: 0.6866 - val_loss: 0.8137 - val_accuracy: 0.6708\n",
      "Epoch 29/150\n",
      "152/152 [==============================] - 3s 20ms/step - loss: 0.6415 - accuracy: 0.6970 - val_loss: 0.6629 - val_accuracy: 0.6838\n",
      "Epoch 30/150\n",
      "152/152 [==============================] - 3s 20ms/step - loss: 0.6210 - accuracy: 0.7048 - val_loss: 0.6717 - val_accuracy: 0.6708\n",
      "Epoch 31/150\n",
      "152/152 [==============================] - 3s 20ms/step - loss: 0.6201 - accuracy: 0.6984 - val_loss: 0.7635 - val_accuracy: 0.6807\n",
      "Epoch 32/150\n",
      "152/152 [==============================] - 3s 20ms/step - loss: 0.6356 - accuracy: 0.6966 - val_loss: 389.0074 - val_accuracy: 0.5511\n",
      "Epoch 33/150\n",
      "152/152 [==============================] - 3s 20ms/step - loss: 0.6346 - accuracy: 0.6916 - val_loss: 79102.2578 - val_accuracy: 0.6119\n",
      "Epoch 34/150\n",
      "152/152 [==============================] - 3s 20ms/step - loss: 0.6196 - accuracy: 0.6959 - val_loss: 2.4910 - val_accuracy: 0.5077\n",
      "Epoch 35/150\n",
      "152/152 [==============================] - 3s 20ms/step - loss: 0.6154 - accuracy: 0.7040 - val_loss: 2.2634 - val_accuracy: 0.5183\n",
      "Epoch 36/150\n",
      "152/152 [==============================] - 3s 21ms/step - loss: 0.6164 - accuracy: 0.7069 - val_loss: 1.2672 - val_accuracy: 0.5797\n",
      "Epoch 37/150\n",
      "152/152 [==============================] - 3s 21ms/step - loss: 0.6317 - accuracy: 0.6910 - val_loss: 1.4049 - val_accuracy: 0.5456\n",
      "Epoch 38/150\n",
      "152/152 [==============================] - 3s 20ms/step - loss: 0.6044 - accuracy: 0.7026 - val_loss: 0.6449 - val_accuracy: 0.7074\n",
      "Epoch 39/150\n",
      "152/152 [==============================] - 3s 20ms/step - loss: 0.6056 - accuracy: 0.7055 - val_loss: 17420.4961 - val_accuracy: 0.6913\n",
      "Epoch 40/150\n",
      "152/152 [==============================] - 3s 21ms/step - loss: 0.6097 - accuracy: 0.7119 - val_loss: 128930.7969 - val_accuracy: 0.5201\n",
      "Epoch 41/150\n",
      "152/152 [==============================] - 3s 21ms/step - loss: 0.6326 - accuracy: 0.6980 - val_loss: 0.8726 - val_accuracy: 0.5778\n",
      "Epoch 42/150\n",
      "152/152 [==============================] - 3s 20ms/step - loss: 0.6402 - accuracy: 0.6924 - val_loss: 3.0480 - val_accuracy: 0.5493\n",
      "Epoch 43/150\n",
      "152/152 [==============================] - 3s 20ms/step - loss: 0.6129 - accuracy: 0.7036 - val_loss: 309155.7188 - val_accuracy: 0.6361\n",
      "Epoch 44/150\n",
      "152/152 [==============================] - 3s 20ms/step - loss: 0.5850 - accuracy: 0.7135 - val_loss: 1.1109 - val_accuracy: 0.5896\n",
      "Epoch 45/150\n",
      "152/152 [==============================] - 3s 20ms/step - loss: 0.5970 - accuracy: 0.7195 - val_loss: 1.3344 - val_accuracy: 0.5654\n",
      "Epoch 46/150\n",
      "152/152 [==============================] - 3s 20ms/step - loss: 0.5876 - accuracy: 0.7158 - val_loss: 5.1116 - val_accuracy: 0.5660\n",
      "Epoch 47/150\n",
      "152/152 [==============================] - 3s 20ms/step - loss: 0.5872 - accuracy: 0.7249 - val_loss: 0.6801 - val_accuracy: 0.6696\n",
      "Epoch 48/150\n",
      "152/152 [==============================] - 3s 20ms/step - loss: 0.6140 - accuracy: 0.7088 - val_loss: 7208579.5000 - val_accuracy: 0.5363\n",
      "Epoch 49/150\n",
      "152/152 [==============================] - 3s 20ms/step - loss: 0.6021 - accuracy: 0.7135 - val_loss: 1.6543 - val_accuracy: 0.5214\n",
      "Epoch 50/150\n",
      "152/152 [==============================] - 3s 20ms/step - loss: 0.5913 - accuracy: 0.7133 - val_loss: 1196600.0000 - val_accuracy: 0.6937\n",
      "Epoch 51/150\n",
      "152/152 [==============================] - 3s 20ms/step - loss: 0.5908 - accuracy: 0.7152 - val_loss: 0.6718 - val_accuracy: 0.6640\n",
      "Epoch 52/150\n",
      "152/152 [==============================] - 3s 20ms/step - loss: 0.6096 - accuracy: 0.7152 - val_loss: 2.7940 - val_accuracy: 0.5697\n",
      "Epoch 53/150\n",
      "152/152 [==============================] - 3s 21ms/step - loss: 0.5770 - accuracy: 0.7284 - val_loss: 1016535.5000 - val_accuracy: 0.6590\n",
      "Epoch 54/150\n",
      "152/152 [==============================] - 3s 20ms/step - loss: 0.6015 - accuracy: 0.6990 - val_loss: 1177197.8750 - val_accuracy: 0.5480\n",
      "Epoch 55/150\n",
      "152/152 [==============================] - 3s 20ms/step - loss: 0.5684 - accuracy: 0.7321 - val_loss: 0.9942 - val_accuracy: 0.6088\n",
      "Epoch 56/150\n",
      "152/152 [==============================] - 3s 20ms/step - loss: 0.5668 - accuracy: 0.7290 - val_loss: 0.6764 - val_accuracy: 0.6851\n",
      "Epoch 57/150\n"
     ]
    },
    {
     "name": "stdout",
     "output_type": "stream",
     "text": [
      "152/152 [==============================] - 3s 20ms/step - loss: 0.5603 - accuracy: 0.7261 - val_loss: 1.6100 - val_accuracy: 0.5338\n",
      "Epoch 58/150\n",
      "152/152 [==============================] - 3s 20ms/step - loss: 0.6007 - accuracy: 0.7158 - val_loss: 1.2172 - val_accuracy: 0.5896\n",
      "Epoch 59/150\n",
      "152/152 [==============================] - 3s 20ms/step - loss: 0.5580 - accuracy: 0.7340 - val_loss: 1.1788 - val_accuracy: 0.5406\n",
      "Epoch 60/150\n",
      "152/152 [==============================] - 3s 20ms/step - loss: 0.5641 - accuracy: 0.7292 - val_loss: 555971840.0000 - val_accuracy: 0.5146\n",
      "Epoch 61/150\n",
      "152/152 [==============================] - 3s 20ms/step - loss: 0.5908 - accuracy: 0.7218 - val_loss: 0.8967 - val_accuracy: 0.6497\n",
      "Epoch 62/150\n",
      "152/152 [==============================] - 3s 20ms/step - loss: 0.5640 - accuracy: 0.7377 - val_loss: 937.0306 - val_accuracy: 0.5728\n",
      "Epoch 63/150\n",
      "152/152 [==============================] - 3s 21ms/step - loss: 0.5469 - accuracy: 0.7416 - val_loss: 314205.8438 - val_accuracy: 0.6348\n",
      "Epoch 64/150\n",
      "152/152 [==============================] - 3s 20ms/step - loss: 0.5499 - accuracy: 0.7396 - val_loss: 366728.8438 - val_accuracy: 0.7055\n",
      "Epoch 65/150\n",
      "152/152 [==============================] - 3s 20ms/step - loss: 0.5562 - accuracy: 0.7336 - val_loss: 10139593.0000 - val_accuracy: 0.6485\n",
      "Epoch 66/150\n",
      "152/152 [==============================] - 3s 21ms/step - loss: 0.5498 - accuracy: 0.7416 - val_loss: 11215.6631 - val_accuracy: 0.6931\n",
      "Epoch 67/150\n",
      "152/152 [==============================] - 3s 20ms/step - loss: 0.5492 - accuracy: 0.7377 - val_loss: 111430.0234 - val_accuracy: 0.6838\n",
      "Epoch 68/150\n",
      "152/152 [==============================] - 3s 20ms/step - loss: 0.5676 - accuracy: 0.7369 - val_loss: 0.7587 - val_accuracy: 0.6485\n",
      "Epoch 69/150\n",
      "152/152 [==============================] - 3s 20ms/step - loss: 0.5420 - accuracy: 0.7435 - val_loss: 0.6311 - val_accuracy: 0.7024\n",
      "Epoch 70/150\n",
      "152/152 [==============================] - 3s 20ms/step - loss: 0.5652 - accuracy: 0.7317 - val_loss: 3360799.0000 - val_accuracy: 0.6702\n",
      "Epoch 71/150\n",
      "152/152 [==============================] - 3s 20ms/step - loss: 0.5636 - accuracy: 0.7367 - val_loss: 1785373.3750 - val_accuracy: 0.6057\n",
      "Epoch 72/150\n",
      "152/152 [==============================] - 3s 20ms/step - loss: 0.5441 - accuracy: 0.7391 - val_loss: 5927861.0000 - val_accuracy: 0.5567\n",
      "Epoch 73/150\n",
      "152/152 [==============================] - 3s 20ms/step - loss: 0.5358 - accuracy: 0.7410 - val_loss: 11339377.0000 - val_accuracy: 0.5381\n",
      "Epoch 74/150\n",
      "152/152 [==============================] - 3s 20ms/step - loss: 0.5388 - accuracy: 0.7516 - val_loss: 720653.3125 - val_accuracy: 0.5976\n",
      "Epoch 75/150\n",
      "152/152 [==============================] - 3s 20ms/step - loss: 0.5359 - accuracy: 0.7406 - val_loss: 0.7246 - val_accuracy: 0.6968\n",
      "Epoch 76/150\n",
      "152/152 [==============================] - 3s 20ms/step - loss: 0.5351 - accuracy: 0.7503 - val_loss: 1.7812 - val_accuracy: 0.5040\n",
      "Epoch 77/150\n",
      "152/152 [==============================] - 3s 20ms/step - loss: 0.5296 - accuracy: 0.7449 - val_loss: 122.5945 - val_accuracy: 0.6237\n",
      "Epoch 78/150\n",
      "152/152 [==============================] - 3s 20ms/step - loss: 0.5438 - accuracy: 0.7400 - val_loss: 1.0058 - val_accuracy: 0.6212\n",
      "Epoch 79/150\n",
      "152/152 [==============================] - 3s 21ms/step - loss: 0.5249 - accuracy: 0.7578 - val_loss: 1.6855 - val_accuracy: 0.6348\n",
      "Epoch 80/150\n",
      "152/152 [==============================] - 3s 21ms/step - loss: 0.5657 - accuracy: 0.7404 - val_loss: 0.6453 - val_accuracy: 0.6900\n",
      "Epoch 81/150\n",
      "152/152 [==============================] - 3s 20ms/step - loss: 0.5201 - accuracy: 0.7573 - val_loss: 4.4437 - val_accuracy: 0.5183\n",
      "Epoch 82/150\n",
      "152/152 [==============================] - 3s 20ms/step - loss: 0.5107 - accuracy: 0.7586 - val_loss: 922255.9375 - val_accuracy: 0.6919\n",
      "Epoch 83/150\n",
      "152/152 [==============================] - 4s 25ms/step - loss: 0.5031 - accuracy: 0.7559 - val_loss: 1.3261 - val_accuracy: 0.5778\n",
      "Epoch 84/150\n",
      "152/152 [==============================] - 3s 21ms/step - loss: 0.4956 - accuracy: 0.7629 - val_loss: 17975142.0000 - val_accuracy: 0.6894\n",
      "Epoch 85/150\n",
      "152/152 [==============================] - 3s 20ms/step - loss: 0.5195 - accuracy: 0.7555 - val_loss: 0.7315 - val_accuracy: 0.6627\n",
      "Epoch 86/150\n",
      "152/152 [==============================] - 3s 20ms/step - loss: 0.5509 - accuracy: 0.7416 - val_loss: 9368683.0000 - val_accuracy: 0.6931\n",
      "Epoch 87/150\n",
      "152/152 [==============================] - 3s 21ms/step - loss: 0.5244 - accuracy: 0.7565 - val_loss: 1.1722 - val_accuracy: 0.6237\n",
      "Epoch 88/150\n",
      "152/152 [==============================] - 3s 20ms/step - loss: 0.4926 - accuracy: 0.7675 - val_loss: 1.6342 - val_accuracy: 0.5313\n",
      "Epoch 89/150\n",
      "152/152 [==============================] - 3s 20ms/step - loss: 0.5038 - accuracy: 0.7654 - val_loss: 13095156.0000 - val_accuracy: 0.6621\n",
      "Epoch 90/150\n",
      "152/152 [==============================] - 3s 20ms/step - loss: 0.4963 - accuracy: 0.7633 - val_loss: 0.5924 - val_accuracy: 0.7117\n",
      "Epoch 91/150\n",
      "152/152 [==============================] - 3s 20ms/step - loss: 0.4927 - accuracy: 0.7660 - val_loss: 0.8406 - val_accuracy: 0.6609\n",
      "Epoch 92/150\n",
      "152/152 [==============================] - 3s 20ms/step - loss: 0.4977 - accuracy: 0.7675 - val_loss: 0.7054 - val_accuracy: 0.7012\n",
      "Epoch 93/150\n",
      "152/152 [==============================] - 3s 20ms/step - loss: 0.4870 - accuracy: 0.7739 - val_loss: 1.0826 - val_accuracy: 0.6944\n",
      "Epoch 94/150\n",
      "152/152 [==============================] - 3s 20ms/step - loss: 0.4947 - accuracy: 0.7648 - val_loss: 0.6426 - val_accuracy: 0.7068\n",
      "Epoch 95/150\n",
      "152/152 [==============================] - 3s 20ms/step - loss: 0.4768 - accuracy: 0.7761 - val_loss: 0.6190 - val_accuracy: 0.7223\n",
      "Epoch 96/150\n",
      "152/152 [==============================] - 3s 20ms/step - loss: 0.4653 - accuracy: 0.7885 - val_loss: 1.7802 - val_accuracy: 0.5573\n",
      "Epoch 97/150\n",
      "152/152 [==============================] - 3s 20ms/step - loss: 0.4865 - accuracy: 0.7735 - val_loss: 0.7216 - val_accuracy: 0.6745\n",
      "Epoch 98/150\n",
      "152/152 [==============================] - 3s 20ms/step - loss: 0.4775 - accuracy: 0.7702 - val_loss: 0.9270 - val_accuracy: 0.6541\n",
      "Epoch 99/150\n",
      "152/152 [==============================] - 3s 20ms/step - loss: 0.4621 - accuracy: 0.7803 - val_loss: 1.6681 - val_accuracy: 0.5958\n",
      "Epoch 100/150\n",
      "152/152 [==============================] - 3s 20ms/step - loss: 0.4504 - accuracy: 0.7937 - val_loss: 2303090.0000 - val_accuracy: 0.6720\n",
      "Epoch 101/150\n",
      "152/152 [==============================] - 3s 20ms/step - loss: 0.4662 - accuracy: 0.7817 - val_loss: 10256.9775 - val_accuracy: 0.6007\n",
      "Epoch 102/150\n",
      "152/152 [==============================] - 3s 20ms/step - loss: 0.5145 - accuracy: 0.7695 - val_loss: 0.7086 - val_accuracy: 0.7086\n",
      "Epoch 103/150\n",
      "152/152 [==============================] - 3s 20ms/step - loss: 0.4566 - accuracy: 0.7927 - val_loss: 0.6473 - val_accuracy: 0.7173\n",
      "Epoch 104/150\n",
      "152/152 [==============================] - 3s 20ms/step - loss: 0.4758 - accuracy: 0.7832 - val_loss: 3.6604 - val_accuracy: 0.5759\n",
      "Epoch 105/150\n",
      "152/152 [==============================] - 3s 20ms/step - loss: 0.4561 - accuracy: 0.7861 - val_loss: 1.0535 - val_accuracy: 0.6472\n",
      "Epoch 106/150\n",
      "152/152 [==============================] - 3s 20ms/step - loss: 0.4457 - accuracy: 0.7923 - val_loss: 1535.7804 - val_accuracy: 0.6894\n",
      "Epoch 107/150\n",
      "152/152 [==============================] - 3s 20ms/step - loss: 0.4512 - accuracy: 0.7937 - val_loss: 0.8042 - val_accuracy: 0.6801\n",
      "Epoch 108/150\n",
      "152/152 [==============================] - 3s 21ms/step - loss: 0.4568 - accuracy: 0.7968 - val_loss: 0.8130 - val_accuracy: 0.6919\n",
      "Epoch 109/150\n",
      "152/152 [==============================] - 3s 20ms/step - loss: 0.4326 - accuracy: 0.8024 - val_loss: 0.9055 - val_accuracy: 0.6565\n",
      "Epoch 110/150\n",
      "152/152 [==============================] - 3s 20ms/step - loss: 0.4624 - accuracy: 0.7871 - val_loss: 0.7173 - val_accuracy: 0.6733\n",
      "Epoch 111/150\n",
      "152/152 [==============================] - 3s 20ms/step - loss: 0.4256 - accuracy: 0.8049 - val_loss: 1.7517 - val_accuracy: 0.5772\n",
      "Epoch 112/150\n",
      "152/152 [==============================] - 3s 21ms/step - loss: 0.4256 - accuracy: 0.8069 - val_loss: 1.0010 - val_accuracy: 0.6212\n"
     ]
    },
    {
     "name": "stdout",
     "output_type": "stream",
     "text": [
      "Epoch 113/150\n",
      "152/152 [==============================] - 3s 20ms/step - loss: 0.4346 - accuracy: 0.8032 - val_loss: 0.9216 - val_accuracy: 0.6751\n",
      "Epoch 114/150\n",
      "152/152 [==============================] - 3s 20ms/step - loss: 0.4569 - accuracy: 0.8001 - val_loss: 4.0934 - val_accuracy: 0.5821\n",
      "Epoch 115/150\n",
      "152/152 [==============================] - 3s 20ms/step - loss: 0.4339 - accuracy: 0.8016 - val_loss: 0.7654 - val_accuracy: 0.6609\n",
      "Epoch 116/150\n",
      "152/152 [==============================] - 3s 20ms/step - loss: 0.4404 - accuracy: 0.8090 - val_loss: 0.9619 - val_accuracy: 0.6559\n",
      "Epoch 117/150\n",
      "152/152 [==============================] - 3s 21ms/step - loss: 0.4128 - accuracy: 0.8181 - val_loss: 0.9803 - val_accuracy: 0.6665\n",
      "Epoch 118/150\n",
      "152/152 [==============================] - 3s 20ms/step - loss: 0.4065 - accuracy: 0.8208 - val_loss: 0.9000 - val_accuracy: 0.6925\n",
      "Epoch 119/150\n",
      "152/152 [==============================] - 3s 20ms/step - loss: 0.4204 - accuracy: 0.8125 - val_loss: 0.8291 - val_accuracy: 0.6516\n",
      "Epoch 120/150\n",
      "152/152 [==============================] - 3s 20ms/step - loss: 0.3790 - accuracy: 0.8282 - val_loss: 13868546.0000 - val_accuracy: 0.7043\n",
      "Epoch 121/150\n",
      "152/152 [==============================] - 3s 20ms/step - loss: 0.3966 - accuracy: 0.8262 - val_loss: 0.8465 - val_accuracy: 0.7055\n",
      "Epoch 122/150\n",
      "152/152 [==============================] - 3s 20ms/step - loss: 0.3949 - accuracy: 0.8224 - val_loss: 13356419.0000 - val_accuracy: 0.7055\n",
      "Epoch 123/150\n",
      "152/152 [==============================] - 3s 20ms/step - loss: 0.3933 - accuracy: 0.8301 - val_loss: 4.2121 - val_accuracy: 0.5902\n",
      "Epoch 124/150\n",
      "152/152 [==============================] - 3s 20ms/step - loss: 0.3881 - accuracy: 0.8301 - val_loss: 22787942.0000 - val_accuracy: 0.6888\n",
      "Epoch 125/150\n",
      "152/152 [==============================] - 3s 20ms/step - loss: 0.3915 - accuracy: 0.8251 - val_loss: 1.6336 - val_accuracy: 0.6193\n",
      "Epoch 126/150\n",
      "152/152 [==============================] - 4s 23ms/step - loss: 0.3888 - accuracy: 0.8264 - val_loss: 81659672.0000 - val_accuracy: 0.7024\n",
      "Epoch 127/150\n",
      "152/152 [==============================] - 3s 20ms/step - loss: 0.3777 - accuracy: 0.8299 - val_loss: 8.6934 - val_accuracy: 0.6547\n",
      "Epoch 128/150\n",
      "152/152 [==============================] - 3s 20ms/step - loss: 0.3884 - accuracy: 0.8243 - val_loss: 6103121920.0000 - val_accuracy: 0.6441\n",
      "Epoch 129/150\n",
      "152/152 [==============================] - 3s 20ms/step - loss: 0.4056 - accuracy: 0.8196 - val_loss: 376795104.0000 - val_accuracy: 0.6162\n",
      "Epoch 130/150\n",
      "152/152 [==============================] - 3s 20ms/step - loss: 0.3870 - accuracy: 0.8320 - val_loss: 557073664.0000 - val_accuracy: 0.6243\n",
      "Epoch 131/150\n",
      "152/152 [==============================] - 3s 20ms/step - loss: 0.3639 - accuracy: 0.8408 - val_loss: 203543296.0000 - val_accuracy: 0.6782\n",
      "Epoch 132/150\n",
      "152/152 [==============================] - 3s 20ms/step - loss: 0.3537 - accuracy: 0.8555 - val_loss: 1.0094 - val_accuracy: 0.7099\n",
      "Epoch 133/150\n",
      "152/152 [==============================] - 3s 20ms/step - loss: 0.3849 - accuracy: 0.8264 - val_loss: 1.1782 - val_accuracy: 0.6640\n",
      "Epoch 134/150\n",
      "152/152 [==============================] - 3s 20ms/step - loss: 0.3488 - accuracy: 0.8483 - val_loss: 1.1137 - val_accuracy: 0.6882\n",
      "Epoch 135/150\n",
      "152/152 [==============================] - 3s 20ms/step - loss: 0.3407 - accuracy: 0.8532 - val_loss: 0.9884 - val_accuracy: 0.6925\n",
      "Epoch 136/150\n",
      "152/152 [==============================] - 3s 20ms/step - loss: 0.3456 - accuracy: 0.8481 - val_loss: 48222428.0000 - val_accuracy: 0.6888\n",
      "Epoch 137/150\n",
      "152/152 [==============================] - 3s 20ms/step - loss: 0.3515 - accuracy: 0.8514 - val_loss: 16.4423 - val_accuracy: 0.6782\n",
      "Epoch 138/150\n",
      "152/152 [==============================] - 3s 20ms/step - loss: 0.3394 - accuracy: 0.8477 - val_loss: 1739323.3750 - val_accuracy: 0.6621\n",
      "Epoch 139/150\n",
      "152/152 [==============================] - 3s 20ms/step - loss: 0.3386 - accuracy: 0.8549 - val_loss: 52.1932 - val_accuracy: 0.6968\n",
      "Epoch 140/150\n",
      "152/152 [==============================] - 3s 20ms/step - loss: 0.3411 - accuracy: 0.8470 - val_loss: 12703575.0000 - val_accuracy: 0.6286\n",
      "Epoch 141/150\n",
      "152/152 [==============================] - 3s 20ms/step - loss: 0.3023 - accuracy: 0.8747 - val_loss: 1.0189 - val_accuracy: 0.6751\n",
      "Epoch 142/150\n",
      "152/152 [==============================] - 3s 22ms/step - loss: 0.3250 - accuracy: 0.8661 - val_loss: 1.0746 - val_accuracy: 0.6844\n",
      "Epoch 143/150\n",
      "152/152 [==============================] - 3s 20ms/step - loss: 0.3523 - accuracy: 0.8487 - val_loss: 2908346.0000 - val_accuracy: 0.7055\n",
      "Epoch 144/150\n",
      "152/152 [==============================] - 3s 20ms/step - loss: 0.3187 - accuracy: 0.8632 - val_loss: 2.3471 - val_accuracy: 0.6348\n",
      "Epoch 145/150\n",
      "152/152 [==============================] - 3s 20ms/step - loss: 0.3065 - accuracy: 0.8756 - val_loss: 0.9159 - val_accuracy: 0.6981\n",
      "Epoch 146/150\n",
      "152/152 [==============================] - 3s 20ms/step - loss: 0.3164 - accuracy: 0.8661 - val_loss: 3193439.5000 - val_accuracy: 0.6900\n",
      "Epoch 147/150\n",
      "152/152 [==============================] - 3s 21ms/step - loss: 0.3035 - accuracy: 0.8698 - val_loss: 21591468.0000 - val_accuracy: 0.6987\n",
      "Epoch 148/150\n",
      "152/152 [==============================] - 3s 20ms/step - loss: 0.3348 - accuracy: 0.8607 - val_loss: 1.0738 - val_accuracy: 0.6937\n",
      "Epoch 149/150\n",
      "152/152 [==============================] - 3s 20ms/step - loss: 0.2975 - accuracy: 0.8811 - val_loss: 0.9557 - val_accuracy: 0.6844\n",
      "Epoch 150/150\n",
      "152/152 [==============================] - 3s 20ms/step - loss: 0.3040 - accuracy: 0.8690 - val_loss: 65391308.0000 - val_accuracy: 0.6913\n",
      "elapsed time training dataset (sec): 472.7672505378723\n"
     ]
    }
   ],
   "source": [
    "start_time = time.time()\n",
    "\n",
    "hist = model.fit(x_train, y_train,\n",
    "                 epochs=n_epochs,\n",
    "                 batch_size=batch_size,\n",
    "                 validation_split=validation_split,\n",
    "                 shuffle=True,\n",
    "                 verbose=1)\n",
    "\n",
    "print('elapsed time training dataset (sec):', time.time() - start_time)\n",
    "\n",
    "model.save(model_save_path)"
   ]
  },
  {
   "cell_type": "code",
   "execution_count": 15,
   "id": "b34313fb",
   "metadata": {},
   "outputs": [
    {
     "data": {
      "image/png": "[encoded data removed]",
      "text/plain": [
       "<Figure size 1080x360 with 2 Axes>"
      ]
     },
     "metadata": {
      "needs_background": "light"
     },
     "output_type": "display_data"
    }
   ],
   "source": [
    "history_dict = hist.history\n",
    "\n",
    "loss_values = history_dict['loss']\n",
    "acc_values = history_dict['accuracy']\n",
    "if split_val:\n",
    "    val_loss_values = history_dict['val_loss']\n",
    "    val_acc_values = history_dict['val_accuracy']\n",
    "\n",
    "fig, (ax1, ax2) = plt.subplots(1, 2, figsize=(15, 5))\n",
    "\n",
    "ax1.plot(loss_values, 'blue', label='Training Loss')\n",
    "if split_val:\n",
    "    ax1.plot(val_loss_values, 'orange', label='Validation Loss')\n",
    "ax1.set_title('Training and validation loss')\n",
    "ax1.set_xlabel('Epochs')\n",
    "ax1.set_ylabel('Loss')\n",
    "ax1.legend()\n",
    "\n",
    "ax2.plot(acc_values, 'blue', label='Training accuracy')\n",
    "if split_val:\n",
    "    ax2.plot(val_acc_values, 'orange', label='Validation accuracy')\n",
    "ax2.set_title('Training and validation accuracy')\n",
    "ax2.set_xlabel('Epochs')\n",
    "ax2.set_ylabel('Accuracy')\n",
    "ax2.legend()\n",
    "\n",
    "plt.show()"
   ]
  },
  {
   "cell_type": "code",
   "execution_count": 16,
   "id": "70146c37",
   "metadata": {},
   "outputs": [
    {
     "name": "stdout",
     "output_type": "stream",
     "text": [
      "51/51 [==============================] - 0s 9ms/step - loss: 21158542.0000 - accuracy: 0.6894\n",
      "test loss: 21158542.0\n",
      "test accuracy: 0.6893986463546753\n"
     ]
    }
   ],
   "source": [
    "loss, accuracy = model.evaluate(x_test, y_test)\n",
    "print('test loss:', loss)\n",
    "print('test accuracy:', accuracy)"
   ]
  },
  {
   "cell_type": "markdown",
   "id": "a367cc71",
   "metadata": {},
   "source": [
    "# 파일 테스트"
   ]
  },
  {
   "cell_type": "code",
   "execution_count": 17,
   "id": "95a5f7a5",
   "metadata": {},
   "outputs": [],
   "source": [
    "test_file_name = 'dataset/negative/1001_DFA_ANG_XX.wav'"
   ]
  },
  {
   "cell_type": "code",
   "execution_count": 18,
   "id": "66148657",
   "metadata": {},
   "outputs": [
    {
     "name": "stdout",
     "output_type": "stream",
     "text": [
      "classification result: NEGATIVE\n"
     ]
    }
   ],
   "source": [
    "prediction_feature = extract_feature(test_file_name, input_shape[0]).reshape((1, ) + input_shape)\n",
    "model = load_model(model_save_path)\n",
    "\n",
    "predicted_proba = model.predict(prediction_feature)[0]\n",
    "predicted_class = np.argmax(predicted_proba)\n",
    "\n",
    "print('classification result:', le.classes_[predicted_class])"
   ]
  },
  {
   "cell_type": "code",
   "execution_count": null,
   "id": "db540429",
   "metadata": {},
   "outputs": [],
   "source": []
  }
 ],
 "metadata": {
  "kernelspec": {
   "display_name": "emotion",
   "language": "python",
   "name": "emotion"
  },
  "language_info": {
   "codemirror_mode": {
    "name": "ipython",
    "version": 3
   },
   "file_extension": ".py",
   "mimetype": "text/x-python",
   "name": "python",
   "nbconvert_exporter": "python",
   "pygments_lexer": "ipython3",
   "version": "3.8.8"
  }
 },
 "nbformat": 4,
 "nbformat_minor": 5
}
