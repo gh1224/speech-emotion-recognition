{
 "cells": [
  {
   "cell_type": "code",
   "execution_count": null,
   "id": "90230a47",
   "metadata": {},
   "outputs": [],
   "source": [
    "\"\"\"\n",
    "데이터셋\n",
    "Crema, Ravdess, Tess, Savee\n",
    "\n",
    "Positive: happiness - 2323\n",
    "Neutral: neutral, calmness - 1895\n",
    "Negative: anger, sadness - 3846\n",
    "\"\"\""
   ]
  },
  {
   "cell_type": "code",
   "execution_count": 1,
   "id": "736ee2e8",
   "metadata": {},
   "outputs": [
    {
     "name": "stderr",
     "output_type": "stream",
     "text": [
      "C:\\Users\\DeepLearning_5\\Anaconda3\\lib\\site-packages\\requests\\__init__.py:89: RequestsDependencyWarning: urllib3 (1.24.3) or chardet (4.0.0) doesn't match a supported version!\n",
      "  warnings.warn(\"urllib3 ({}) or chardet ({}) doesn't match a supported \"\n"
     ]
    }
   ],
   "source": [
    "import numpy as np\n",
    "import time\n",
    "from tqdm import tqdm\n",
    "import os\n",
    "import librosa\n",
    "import matplotlib.pyplot as plt\n",
    "\n",
    "from sklearn.preprocessing import LabelEncoder\n",
    "from sklearn.model_selection import train_test_split\n",
    "from sklearn.decomposition import PCA\n",
    "\n",
    "from keras.utils.np_utils import to_categorical\n",
    "from keras.models import load_model, Sequential\n",
    "from keras.layers import Conv1D, MaxPooling1D, Flatten, BatchNormalization, Dense, Dropout"
   ]
  },
  {
   "cell_type": "code",
   "execution_count": 2,
   "id": "1ce1ef09",
   "metadata": {},
   "outputs": [],
   "source": [
    "base_dir = 'dataset'\n",
    "\n",
    "n_mfcc = 128\n",
    "num_features = 153\n",
    "feature_shape = (num_features, )\n",
    "\n",
    "n_epochs = 150\n",
    "batch_size = None\n",
    "split_val = True\n",
    "\n",
    "model_save_path = 'saved_models/model.h5'"
   ]
  },
  {
   "cell_type": "code",
   "execution_count": 3,
   "id": "a39885db",
   "metadata": {},
   "outputs": [],
   "source": [
    "def load_feature_tuple(file_name):\n",
    "    y, sr = librosa.load(file_name, mono=True)\n",
    "\n",
    "    mfcc = librosa.feature.mfcc(y=y, sr=sr, n_mfcc=n_mfcc)\n",
    "    \n",
    "    spectral_centroid = librosa.feature.spectral_centroid(y=y, sr=sr)\n",
    "    spectral_bandwidth = librosa.feature.spectral_bandwidth(y=y, sr=sr)\n",
    "    spectral_contrast = librosa.feature.spectral_contrast(y=y, sr=sr)\n",
    "    spectral_flatness = librosa.feature.spectral_flatness(y=y)\n",
    "    spectral_rolloff = librosa.feature.spectral_rolloff(y=y, sr=sr)\n",
    "    \n",
    "    zero_crossing_rate = librosa.feature.zero_crossing_rate(y=y)\n",
    "    \n",
    "    chroma_stft = librosa.feature.chroma_stft(y=y, sr=sr)\n",
    "    \n",
    "    rms = librosa.feature.rms(y=y)\n",
    "    \n",
    "    \n",
    "    image = []\n",
    "    \n",
    "    for row in mfcc:\n",
    "        image.append(np.mean(row))\n",
    "    \n",
    "    image.append(np.mean(spectral_centroid))\n",
    "    image.append(np.mean(spectral_bandwidth))\n",
    "    for row in spectral_contrast:\n",
    "        image.append(np.mean(row))\n",
    "    image.append(np.mean(spectral_flatness))\n",
    "    image.append(np.mean(spectral_rolloff))\n",
    "    \n",
    "    image.append(np.mean(zero_crossing_rate))\n",
    "    for row in chroma_stft:\n",
    "        image.append(np.mean(row))\n",
    "    image.append(np.mean(rms))\n",
    "    \n",
    "    return np.array(image)"
   ]
  },
  {
   "cell_type": "code",
   "execution_count": 4,
   "id": "15aa2cbc",
   "metadata": {},
   "outputs": [],
   "source": [
    "def extract_feature(file_name):\n",
    "    return load_feature_tuple(file_name)"
   ]
  },
  {
   "cell_type": "code",
   "execution_count": 5,
   "id": "4158fb8c",
   "metadata": {},
   "outputs": [],
   "source": [
    "def fetch_dataset(dir_path, label):\n",
    "    _features = np.empty((0, ) + feature_shape)\n",
    "    for file_name in tqdm(os.listdir(dir_path)):\n",
    "        file_path = os.path.join(dir_path, file_name)\n",
    "        feature = extract_feature(file_path).reshape((1, ) + feature_shape)\n",
    "        _features = np.append(_features, feature, axis=0)\n",
    "\n",
    "    _labels = np.full((_features.shape[0], ), label)\n",
    "\n",
    "    return _features, _labels"
   ]
  },
  {
   "cell_type": "markdown",
   "id": "68afff4f",
   "metadata": {},
   "source": [
    "# 데이터셋 가져오기"
   ]
  },
  {
   "cell_type": "code",
   "execution_count": 6,
   "id": "168ee650",
   "metadata": {},
   "outputs": [
    {
     "name": "stderr",
     "output_type": "stream",
     "text": [
      "100%|██████████████████████████████████████████████████████████████████████████████| 2323/2323 [04:48<00:00,  8.06it/s]\n",
      "100%|██████████████████████████████████████████████████████████████████████████████| 1895/1895 [03:54<00:00,  8.10it/s]\n",
      " 65%|██████████████████████████████████████████████████▌                           | 2496/3846 [05:12<02:28,  9.11it/s]C:\\Users\\DeepLearning_5\\Anaconda3\\lib\\site-packages\\librosa\\core\\pitch.py:153: UserWarning: Trying to estimate tuning from empty frequency set.\n",
      "  warnings.warn(\"Trying to estimate tuning from empty frequency set.\")\n",
      "100%|██████████████████████████████████████████████████████████████████████████████| 3846/3846 [07:37<00:00,  8.41it/s]"
     ]
    },
    {
     "name": "stdout",
     "output_type": "stream",
     "text": [
      "elapsed time fetching dataset (sec): 979.7444789409637\n"
     ]
    },
    {
     "name": "stderr",
     "output_type": "stream",
     "text": [
      "\n"
     ]
    }
   ],
   "source": [
    "start_time = time.time()\n",
    "\n",
    "positive_features, positive_labels = fetch_dataset(base_dir + '/positive', 'POSITIVE')\n",
    "neutral_features, neutral_labels = fetch_dataset(base_dir + '/neutral', 'NEUTRAL')\n",
    "negative_features, negative_labels = fetch_dataset(base_dir + '/negative', 'NEGATIVE')\n",
    "\n",
    "print('elapsed time fetching dataset (sec):', time.time() - start_time)"
   ]
  },
  {
   "cell_type": "code",
   "execution_count": 7,
   "id": "c1ca2ae7",
   "metadata": {},
   "outputs": [
    {
     "name": "stdout",
     "output_type": "stream",
     "text": [
      "features shape: (8064, 153)\n",
      "labels shape before encoding: (8064,)\n"
     ]
    }
   ],
   "source": [
    "features = np.concatenate((positive_features, neutral_features, negative_features), axis=0)\n",
    "labels = np.concatenate((positive_labels, neutral_labels, negative_labels), axis=0)\n",
    "\n",
    "print('features shape:', features.shape)\n",
    "print('labels shape before encoding:', labels.shape)"
   ]
  },
  {
   "cell_type": "code",
   "execution_count": 8,
   "id": "ad68ccfe",
   "metadata": {},
   "outputs": [
    {
     "name": "stdout",
     "output_type": "stream",
     "text": [
      "labels shape after encoding: (8064, 3)\n",
      "label encoder classes: ['NEGATIVE' 'NEUTRAL' 'POSITIVE']\n"
     ]
    }
   ],
   "source": [
    "le = LabelEncoder()\n",
    "labels = to_categorical(le.fit_transform(labels))\n",
    "print('labels shape after encoding:', labels.shape)\n",
    "print('label encoder classes:', le.classes_)"
   ]
  },
  {
   "cell_type": "code",
   "execution_count": 9,
   "id": "e2fcddb0",
   "metadata": {},
   "outputs": [],
   "source": [
    "x_train, x_test, y_train, y_test = train_test_split(features, labels, test_size=0.2)"
   ]
  },
  {
   "cell_type": "code",
   "execution_count": 10,
   "id": "57d1fdb8",
   "metadata": {},
   "outputs": [
    {
     "name": "stdout",
     "output_type": "stream",
     "text": [
      "x_train shape before PCA: (6451, 153)\n",
      "x_test shape before PCA: (1613, 153)\n",
      "x_train shape after PCA: (6451, 50)\n",
      "x_test shape after PCA: (1613, 50)\n"
     ]
    }
   ],
   "source": [
    "print('x_train shape before PCA:', x_train.shape)\n",
    "print('x_test shape before PCA:', x_test.shape)\n",
    "\n",
    "pca = PCA(n_components=50)\n",
    "x_train = pca.fit_transform(x_train)\n",
    "x_test = pca.transform(x_test)\n",
    "\n",
    "print('x_train shape after PCA:', x_train.shape)\n",
    "print('x_test shape after PCA:', x_test.shape)"
   ]
  },
  {
   "cell_type": "code",
   "execution_count": 11,
   "id": "8fb5a64c",
   "metadata": {},
   "outputs": [],
   "source": [
    "x_train = x_train.reshape(x_train.shape + (1, ))\n",
    "x_test = x_test.reshape(x_test.shape + (1, ))\n",
    "\n",
    "input_shape = x_train.shape[1:]"
   ]
  },
  {
   "cell_type": "markdown",
   "id": "bf4f35c8",
   "metadata": {},
   "source": [
    "# 학습"
   ]
  },
  {
   "cell_type": "code",
   "execution_count": 12,
   "id": "1d785a86",
   "metadata": {
    "scrolled": true
   },
   "outputs": [
    {
     "name": "stdout",
     "output_type": "stream",
     "text": [
      "Model: \"sequential\"\n",
      "_________________________________________________________________\n",
      " Layer (type)                Output Shape              Param #   \n",
      "=================================================================\n",
      " block1_conv1 (Conv1D)       (None, 50, 64)            256       \n",
      "                                                                 \n",
      " block1_conv2 (Conv1D)       (None, 50, 64)            12352     \n",
      "                                                                 \n",
      " block1_pool (MaxPooling1D)  (None, 25, 64)            0         \n",
      "                                                                 \n",
      " block2_conv1 (Conv1D)       (None, 25, 128)           24704     \n",
      "                                                                 \n",
      " block2_conv2 (Conv1D)       (None, 25, 128)           49280     \n",
      "                                                                 \n",
      " block2_pool (MaxPooling1D)  (None, 12, 128)           0         \n",
      "                                                                 \n",
      " block3_conv1 (Conv1D)       (None, 12, 256)           98560     \n",
      "                                                                 \n",
      " block3_conv2 (Conv1D)       (None, 12, 256)           196864    \n",
      "                                                                 \n",
      " block3_conv3 (Conv1D)       (None, 12, 256)           196864    \n",
      "                                                                 \n",
      " block3_pool (MaxPooling1D)  (None, 6, 256)            0         \n",
      "                                                                 \n",
      " block4_conv1 (Conv1D)       (None, 6, 512)            393728    \n",
      "                                                                 \n",
      " block4_conv2 (Conv1D)       (None, 6, 512)            786944    \n",
      "                                                                 \n",
      " block4_conv3 (Conv1D)       (None, 6, 512)            786944    \n",
      "                                                                 \n",
      " block4_pool (MaxPooling1D)  (None, 3, 512)            0         \n",
      "                                                                 \n",
      " block5_conv1 (Conv1D)       (None, 3, 512)            786944    \n",
      "                                                                 \n",
      " block5_conv2 (Conv1D)       (None, 3, 512)            786944    \n",
      "                                                                 \n",
      " block5_conv3 (Conv1D)       (None, 3, 512)            786944    \n",
      "                                                                 \n",
      " block5_pool (MaxPooling1D)  (None, 1, 512)            0         \n",
      "                                                                 \n",
      " flatten (Flatten)           (None, 512)               0         \n",
      "                                                                 \n",
      " batch_normalization (BatchN  (None, 512)              2048      \n",
      " ormalization)                                                   \n",
      "                                                                 \n",
      " dense (Dense)               (None, 1024)              525312    \n",
      "                                                                 \n",
      " dropout (Dropout)           (None, 1024)              0         \n",
      "                                                                 \n",
      " dense_1 (Dense)             (None, 3)                 3075      \n",
      "                                                                 \n",
      "=================================================================\n",
      "Total params: 5,437,763\n",
      "Trainable params: 5,436,739\n",
      "Non-trainable params: 1,024\n",
      "_________________________________________________________________\n"
     ]
    }
   ],
   "source": [
    "model = Sequential()\n",
    "\n",
    "# Block 1\n",
    "model.add(Conv1D(64, 3, activation='relu', padding='same', name='block1_conv1', input_shape=input_shape))\n",
    "model.add(Conv1D(64, 3, activation='relu', padding='same', name='block1_conv2'))\n",
    "model.add(MaxPooling1D(2, strides=2, name='block1_pool'))\n",
    "\n",
    "# Block 2\n",
    "model.add(Conv1D(128, 3, activation='relu', padding='same', name='block2_conv1'))\n",
    "model.add(Conv1D(128, 3, activation='relu', padding='same', name='block2_conv2'))\n",
    "model.add(MaxPooling1D(2, strides=2, name='block2_pool'))\n",
    "\n",
    "# Block 3\n",
    "model.add(Conv1D(256, 3, activation='relu', padding='same', name='block3_conv1'))\n",
    "model.add(Conv1D(256, 3, activation='relu', padding='same', name='block3_conv2'))\n",
    "model.add(Conv1D(256, 3, activation='relu', padding='same', name='block3_conv3'))\n",
    "model.add(MaxPooling1D(2, strides=2, name='block3_pool'))\n",
    "\n",
    "# Block 4\n",
    "model.add(Conv1D(512, 3, activation='relu', padding='same', name='block4_conv1'))\n",
    "model.add(Conv1D(512, 3, activation='relu', padding='same', name='block4_conv2'))\n",
    "model.add(Conv1D(512, 3, activation='relu', padding='same', name='block4_conv3'))\n",
    "model.add(MaxPooling1D(2, strides=2, name='block4_pool'))\n",
    "\n",
    "# Block 5\n",
    "model.add(Conv1D(512, 3, activation='relu', padding='same', name='block5_conv1'))\n",
    "model.add(Conv1D(512, 3, activation='relu', padding='same', name='block5_conv2'))\n",
    "model.add(Conv1D(512, 3, activation='relu', padding='same', name='block5_conv3'))\n",
    "model.add(MaxPooling1D(2, strides=2, name='block5_pool'))\n",
    "\n",
    "model.add(Flatten())\n",
    "model.add(BatchNormalization())\n",
    "model.add(Dense(1024, activation='relu'))\n",
    "model.add(Dropout(0.5))\n",
    "model.add(Dense(3, activation='softmax'))\n",
    "\n",
    "model.summary()"
   ]
  },
  {
   "cell_type": "code",
   "execution_count": 13,
   "id": "8afcb6a5",
   "metadata": {},
   "outputs": [],
   "source": [
    "model.compile(loss='categorical_crossentropy', metrics=['accuracy'], optimizer='adam')"
   ]
  },
  {
   "cell_type": "code",
   "execution_count": 14,
   "id": "8ed3004b",
   "metadata": {},
   "outputs": [],
   "source": [
    "if split_val:\n",
    "    validation_split = 0.25\n",
    "else:\n",
    "    validation_split = 0.0"
   ]
  },
  {
   "cell_type": "code",
   "execution_count": 15,
   "id": "2eb3a18d",
   "metadata": {},
   "outputs": [
    {
     "name": "stdout",
     "output_type": "stream",
     "text": [
      "Epoch 1/150\n",
      "152/152 [==============================] - 8s 19ms/step - loss: 1.4337 - accuracy: 0.3950 - val_loss: 1.1763 - val_accuracy: 0.4792\n",
      "Epoch 2/150\n",
      "152/152 [==============================] - 2s 16ms/step - loss: 1.2835 - accuracy: 0.4146 - val_loss: 1.1698 - val_accuracy: 0.4792\n",
      "Epoch 3/150\n",
      "152/152 [==============================] - 2s 16ms/step - loss: 1.1356 - accuracy: 0.4458 - val_loss: 1.0424 - val_accuracy: 0.4830\n",
      "Epoch 4/150\n",
      "152/152 [==============================] - 2s 16ms/step - loss: 1.1033 - accuracy: 0.4603 - val_loss: 1.0787 - val_accuracy: 0.4873\n",
      "Epoch 5/150\n",
      "152/152 [==============================] - 2s 16ms/step - loss: 1.0827 - accuracy: 0.4704 - val_loss: 1.0324 - val_accuracy: 0.4792\n",
      "Epoch 6/150\n",
      "152/152 [==============================] - 2s 16ms/step - loss: 1.0642 - accuracy: 0.4845 - val_loss: 1.0195 - val_accuracy: 0.4923\n",
      "Epoch 7/150\n",
      "152/152 [==============================] - 2s 16ms/step - loss: 0.9756 - accuracy: 0.5076 - val_loss: 1.0120 - val_accuracy: 0.4786\n",
      "Epoch 8/150\n",
      "152/152 [==============================] - 2s 16ms/step - loss: 0.9034 - accuracy: 0.5384 - val_loss: 0.9475 - val_accuracy: 0.5214\n",
      "Epoch 9/150\n",
      "152/152 [==============================] - 2s 16ms/step - loss: 0.8758 - accuracy: 0.5608 - val_loss: 0.9422 - val_accuracy: 0.5276\n",
      "Epoch 10/150\n",
      "152/152 [==============================] - 2s 16ms/step - loss: 0.8575 - accuracy: 0.5862 - val_loss: 0.8659 - val_accuracy: 0.6107\n",
      "Epoch 11/150\n",
      "152/152 [==============================] - 2s 16ms/step - loss: 0.8671 - accuracy: 0.5794 - val_loss: 2.0763 - val_accuracy: 0.4321\n",
      "Epoch 12/150\n",
      "152/152 [==============================] - 2s 16ms/step - loss: 0.8076 - accuracy: 0.6211 - val_loss: 0.8217 - val_accuracy: 0.5964\n",
      "Epoch 13/150\n",
      "152/152 [==============================] - 2s 16ms/step - loss: 0.7544 - accuracy: 0.6449 - val_loss: 0.7445 - val_accuracy: 0.6392\n",
      "Epoch 14/150\n",
      "152/152 [==============================] - 2s 16ms/step - loss: 0.7211 - accuracy: 0.6594 - val_loss: 0.9808 - val_accuracy: 0.5890\n",
      "Epoch 15/150\n",
      "152/152 [==============================] - 2s 16ms/step - loss: 0.7093 - accuracy: 0.6587 - val_loss: 0.7301 - val_accuracy: 0.6559\n",
      "Epoch 16/150\n",
      "152/152 [==============================] - 2s 16ms/step - loss: 0.6894 - accuracy: 0.6664 - val_loss: 1.5996 - val_accuracy: 0.5592\n",
      "Epoch 17/150\n",
      "152/152 [==============================] - 2s 16ms/step - loss: 0.6705 - accuracy: 0.6776 - val_loss: 0.6927 - val_accuracy: 0.6801\n",
      "Epoch 18/150\n",
      "152/152 [==============================] - 2s 16ms/step - loss: 0.6443 - accuracy: 0.6910 - val_loss: 0.7386 - val_accuracy: 0.6739\n",
      "Epoch 19/150\n",
      "152/152 [==============================] - 2s 16ms/step - loss: 0.6281 - accuracy: 0.7017 - val_loss: 0.6725 - val_accuracy: 0.6720\n",
      "Epoch 20/150\n",
      "152/152 [==============================] - 2s 16ms/step - loss: 0.6210 - accuracy: 0.7021 - val_loss: 0.6631 - val_accuracy: 0.7006\n",
      "Epoch 21/150\n",
      "152/152 [==============================] - 2s 16ms/step - loss: 0.6134 - accuracy: 0.7079 - val_loss: 0.6913 - val_accuracy: 0.6832\n",
      "Epoch 22/150\n",
      "152/152 [==============================] - 2s 16ms/step - loss: 0.5967 - accuracy: 0.7150 - val_loss: 0.7567 - val_accuracy: 0.6820\n",
      "Epoch 23/150\n",
      "152/152 [==============================] - 2s 16ms/step - loss: 0.5827 - accuracy: 0.7309 - val_loss: 0.6589 - val_accuracy: 0.6857\n",
      "Epoch 24/150\n",
      "152/152 [==============================] - 2s 16ms/step - loss: 0.5636 - accuracy: 0.7437 - val_loss: 0.6483 - val_accuracy: 0.7006\n",
      "Epoch 25/150\n",
      "152/152 [==============================] - 2s 16ms/step - loss: 0.5432 - accuracy: 0.7565 - val_loss: 0.8602 - val_accuracy: 0.6640\n",
      "Epoch 26/150\n",
      "152/152 [==============================] - 2s 16ms/step - loss: 0.5444 - accuracy: 0.7538 - val_loss: 0.9650 - val_accuracy: 0.5530\n",
      "Epoch 27/150\n",
      "152/152 [==============================] - 2s 16ms/step - loss: 0.5086 - accuracy: 0.7724 - val_loss: 0.7089 - val_accuracy: 0.6652\n",
      "Epoch 28/150\n",
      "152/152 [==============================] - 2s 16ms/step - loss: 0.5050 - accuracy: 0.7786 - val_loss: 0.6799 - val_accuracy: 0.7111\n",
      "Epoch 29/150\n",
      "152/152 [==============================] - 2s 16ms/step - loss: 0.4835 - accuracy: 0.7900 - val_loss: 0.7911 - val_accuracy: 0.6652\n",
      "Epoch 30/150\n",
      "152/152 [==============================] - 2s 16ms/step - loss: 0.4665 - accuracy: 0.8005 - val_loss: 0.7049 - val_accuracy: 0.6993\n",
      "Epoch 31/150\n",
      "152/152 [==============================] - 2s 16ms/step - loss: 0.4186 - accuracy: 0.8175 - val_loss: 0.7488 - val_accuracy: 0.6944\n",
      "Epoch 32/150\n",
      "152/152 [==============================] - 2s 16ms/step - loss: 0.4099 - accuracy: 0.8270 - val_loss: 0.7806 - val_accuracy: 0.6937\n",
      "Epoch 33/150\n",
      "152/152 [==============================] - 2s 16ms/step - loss: 0.3775 - accuracy: 0.8429 - val_loss: 0.9373 - val_accuracy: 0.6696\n",
      "Epoch 34/150\n",
      "152/152 [==============================] - 2s 16ms/step - loss: 0.3486 - accuracy: 0.8570 - val_loss: 1.0058 - val_accuracy: 0.6317\n",
      "Epoch 35/150\n",
      "152/152 [==============================] - 2s 16ms/step - loss: 0.3385 - accuracy: 0.8603 - val_loss: 0.8730 - val_accuracy: 0.6832\n",
      "Epoch 36/150\n",
      "152/152 [==============================] - 2s 16ms/step - loss: 0.2849 - accuracy: 0.8842 - val_loss: 1.4573 - val_accuracy: 0.6522\n",
      "Epoch 37/150\n",
      "152/152 [==============================] - 2s 16ms/step - loss: 0.2928 - accuracy: 0.8805 - val_loss: 1.2685 - val_accuracy: 0.6640\n",
      "Epoch 38/150\n",
      "152/152 [==============================] - 2s 16ms/step - loss: 0.2325 - accuracy: 0.9095 - val_loss: 91.0947 - val_accuracy: 0.7018\n",
      "Epoch 39/150\n",
      "152/152 [==============================] - 2s 16ms/step - loss: 0.2089 - accuracy: 0.9171 - val_loss: 1.0663 - val_accuracy: 0.6851\n",
      "Epoch 40/150\n",
      "152/152 [==============================] - 2s 16ms/step - loss: 0.2090 - accuracy: 0.9204 - val_loss: 1.1347 - val_accuracy: 0.6937\n",
      "Epoch 41/150\n",
      "152/152 [==============================] - 2s 16ms/step - loss: 0.1831 - accuracy: 0.9308 - val_loss: 1.5013 - val_accuracy: 0.6677\n",
      "Epoch 42/150\n",
      "152/152 [==============================] - 2s 16ms/step - loss: 0.1484 - accuracy: 0.9463 - val_loss: 1.2746 - val_accuracy: 0.7043\n",
      "Epoch 43/150\n",
      "152/152 [==============================] - 2s 16ms/step - loss: 0.1277 - accuracy: 0.9533 - val_loss: 2.6728 - val_accuracy: 0.6441\n",
      "Epoch 44/150\n",
      "152/152 [==============================] - 2s 16ms/step - loss: 0.1241 - accuracy: 0.9589 - val_loss: 1.3806 - val_accuracy: 0.6913\n",
      "Epoch 45/150\n",
      "152/152 [==============================] - 2s 16ms/step - loss: 0.1288 - accuracy: 0.9554 - val_loss: 1.7552 - val_accuracy: 0.6795\n",
      "Epoch 46/150\n",
      "152/152 [==============================] - 2s 16ms/step - loss: 0.1559 - accuracy: 0.9434 - val_loss: 1.6185 - val_accuracy: 0.6789\n",
      "Epoch 47/150\n",
      "152/152 [==============================] - 2s 16ms/step - loss: 0.1199 - accuracy: 0.9556 - val_loss: 1.6087 - val_accuracy: 0.6801\n",
      "Epoch 48/150\n",
      "152/152 [==============================] - 2s 16ms/step - loss: 0.0876 - accuracy: 0.9702 - val_loss: 1.4855 - val_accuracy: 0.6956\n",
      "Epoch 49/150\n",
      "152/152 [==============================] - 2s 16ms/step - loss: 0.0788 - accuracy: 0.9731 - val_loss: 2.1098 - val_accuracy: 0.6683\n",
      "Epoch 50/150\n",
      "152/152 [==============================] - 2s 16ms/step - loss: 0.0904 - accuracy: 0.9700 - val_loss: 2.1818 - val_accuracy: 0.6671\n",
      "Epoch 51/150\n",
      "152/152 [==============================] - 2s 16ms/step - loss: 0.0779 - accuracy: 0.9735 - val_loss: 4.6451 - val_accuracy: 0.6758\n",
      "Epoch 52/150\n",
      "152/152 [==============================] - 2s 16ms/step - loss: 0.0536 - accuracy: 0.9802 - val_loss: 1.9380 - val_accuracy: 0.6975\n",
      "Epoch 53/150\n",
      "152/152 [==============================] - 2s 16ms/step - loss: 0.0603 - accuracy: 0.9781 - val_loss: 1.7290 - val_accuracy: 0.6869\n",
      "Epoch 54/150\n",
      "152/152 [==============================] - 2s 16ms/step - loss: 0.0894 - accuracy: 0.9723 - val_loss: 1.9269 - val_accuracy: 0.6801\n",
      "Epoch 55/150\n",
      "152/152 [==============================] - 2s 16ms/step - loss: 0.0750 - accuracy: 0.9752 - val_loss: 2.5163 - val_accuracy: 0.6863\n",
      "Epoch 56/150\n",
      "152/152 [==============================] - 2s 16ms/step - loss: 0.0608 - accuracy: 0.9802 - val_loss: 2.0691 - val_accuracy: 0.6820\n",
      "Epoch 57/150\n"
     ]
    },
    {
     "name": "stdout",
     "output_type": "stream",
     "text": [
      "152/152 [==============================] - 2s 16ms/step - loss: 0.0781 - accuracy: 0.9731 - val_loss: 1.6419 - val_accuracy: 0.6900\n",
      "Epoch 58/150\n",
      "152/152 [==============================] - 2s 16ms/step - loss: 0.0461 - accuracy: 0.9843 - val_loss: 2.5715 - val_accuracy: 0.6627\n",
      "Epoch 59/150\n",
      "152/152 [==============================] - 2s 16ms/step - loss: 0.0633 - accuracy: 0.9781 - val_loss: 2.2769 - val_accuracy: 0.6572\n",
      "Epoch 60/150\n",
      "152/152 [==============================] - 2s 16ms/step - loss: 0.0467 - accuracy: 0.9859 - val_loss: 2.2298 - val_accuracy: 0.6944\n",
      "Epoch 61/150\n",
      "152/152 [==============================] - 2s 16ms/step - loss: 0.0708 - accuracy: 0.9754 - val_loss: 1.5580 - val_accuracy: 0.6925\n",
      "Epoch 62/150\n",
      "152/152 [==============================] - 2s 16ms/step - loss: 0.0969 - accuracy: 0.9719 - val_loss: 2.7370 - val_accuracy: 0.6224\n",
      "Epoch 63/150\n",
      "152/152 [==============================] - 2s 16ms/step - loss: 0.0971 - accuracy: 0.9688 - val_loss: 1.7130 - val_accuracy: 0.6968\n",
      "Epoch 64/150\n",
      "152/152 [==============================] - 2s 16ms/step - loss: 0.0505 - accuracy: 0.9849 - val_loss: 2.0300 - val_accuracy: 0.6609\n",
      "Epoch 65/150\n",
      "152/152 [==============================] - 2s 16ms/step - loss: 0.0451 - accuracy: 0.9870 - val_loss: 1.7688 - val_accuracy: 0.6838\n",
      "Epoch 66/150\n",
      "152/152 [==============================] - 2s 16ms/step - loss: 0.0977 - accuracy: 0.9688 - val_loss: 1.7318 - val_accuracy: 0.6832\n",
      "Epoch 67/150\n",
      "152/152 [==============================] - 2s 16ms/step - loss: 0.0425 - accuracy: 0.9862 - val_loss: 1.6404 - val_accuracy: 0.6975\n",
      "Epoch 68/150\n",
      "152/152 [==============================] - 2s 16ms/step - loss: 0.0218 - accuracy: 0.9934 - val_loss: 2.3563 - val_accuracy: 0.6745\n",
      "Epoch 69/150\n",
      "152/152 [==============================] - 2s 16ms/step - loss: 0.0842 - accuracy: 0.9746 - val_loss: 1.4394 - val_accuracy: 0.6832\n",
      "Epoch 70/150\n",
      "152/152 [==============================] - 2s 16ms/step - loss: 0.0804 - accuracy: 0.9725 - val_loss: 2.0052 - val_accuracy: 0.6888\n",
      "Epoch 71/150\n",
      "152/152 [==============================] - 2s 16ms/step - loss: 0.0540 - accuracy: 0.9833 - val_loss: 1.8047 - val_accuracy: 0.6906\n",
      "Epoch 72/150\n",
      "152/152 [==============================] - 2s 16ms/step - loss: 0.0187 - accuracy: 0.9957 - val_loss: 2.5420 - val_accuracy: 0.6875\n",
      "Epoch 73/150\n",
      "152/152 [==============================] - 2s 16ms/step - loss: 0.0591 - accuracy: 0.9824 - val_loss: 1.7012 - val_accuracy: 0.6937\n",
      "Epoch 74/150\n",
      "152/152 [==============================] - 2s 16ms/step - loss: 0.0527 - accuracy: 0.9841 - val_loss: 2.0486 - val_accuracy: 0.6857\n",
      "Epoch 75/150\n",
      "152/152 [==============================] - 2s 15ms/step - loss: 0.0744 - accuracy: 0.9748 - val_loss: 1.9530 - val_accuracy: 0.6683\n",
      "Epoch 76/150\n",
      "152/152 [==============================] - 2s 16ms/step - loss: 0.0279 - accuracy: 0.9907 - val_loss: 2.3734 - val_accuracy: 0.6789\n",
      "Epoch 77/150\n",
      "152/152 [==============================] - 2s 16ms/step - loss: 0.0383 - accuracy: 0.9884 - val_loss: 2.0836 - val_accuracy: 0.6782\n",
      "Epoch 78/150\n",
      "152/152 [==============================] - 2s 15ms/step - loss: 0.0564 - accuracy: 0.9847 - val_loss: 2.1484 - val_accuracy: 0.6813\n",
      "Epoch 79/150\n",
      "152/152 [==============================] - 2s 16ms/step - loss: 0.0731 - accuracy: 0.9795 - val_loss: 1.9464 - val_accuracy: 0.6795\n",
      "Epoch 80/150\n",
      "152/152 [==============================] - 2s 16ms/step - loss: 0.0426 - accuracy: 0.9855 - val_loss: 1.7681 - val_accuracy: 0.6882\n",
      "Epoch 81/150\n",
      "152/152 [==============================] - 2s 16ms/step - loss: 0.0615 - accuracy: 0.9831 - val_loss: 2.0600 - val_accuracy: 0.6931\n",
      "Epoch 82/150\n",
      "152/152 [==============================] - 2s 16ms/step - loss: 0.0306 - accuracy: 0.9909 - val_loss: 2.4032 - val_accuracy: 0.6503\n",
      "Epoch 83/150\n",
      "152/152 [==============================] - 2s 16ms/step - loss: 0.0402 - accuracy: 0.9878 - val_loss: 1.7830 - val_accuracy: 0.6931\n",
      "Epoch 84/150\n",
      "152/152 [==============================] - 2s 16ms/step - loss: 0.0213 - accuracy: 0.9950 - val_loss: 2.3593 - val_accuracy: 0.7049\n",
      "Epoch 85/150\n",
      "152/152 [==============================] - 2s 16ms/step - loss: 0.0402 - accuracy: 0.9878 - val_loss: 1.7169 - val_accuracy: 0.6906\n",
      "Epoch 86/150\n",
      "152/152 [==============================] - 2s 16ms/step - loss: 0.0588 - accuracy: 0.9810 - val_loss: 12.2557 - val_accuracy: 0.6038\n",
      "Epoch 87/150\n",
      "152/152 [==============================] - 2s 16ms/step - loss: 0.0933 - accuracy: 0.9752 - val_loss: 2.0009 - val_accuracy: 0.6906\n",
      "Epoch 88/150\n",
      "152/152 [==============================] - 2s 16ms/step - loss: 0.0285 - accuracy: 0.9926 - val_loss: 2.4330 - val_accuracy: 0.6937\n",
      "Epoch 89/150\n",
      "152/152 [==============================] - 2s 16ms/step - loss: 0.0686 - accuracy: 0.9764 - val_loss: 1.9510 - val_accuracy: 0.6820\n",
      "Epoch 90/150\n",
      "152/152 [==============================] - 3s 20ms/step - loss: 0.0246 - accuracy: 0.9924 - val_loss: 2.6077 - val_accuracy: 0.6813\n",
      "Epoch 91/150\n",
      "152/152 [==============================] - 2s 16ms/step - loss: 0.0383 - accuracy: 0.9888 - val_loss: 2.1442 - val_accuracy: 0.6937\n",
      "Epoch 92/150\n",
      "152/152 [==============================] - 2s 15ms/step - loss: 0.0161 - accuracy: 0.9948 - val_loss: 2.1979 - val_accuracy: 0.6968\n",
      "Epoch 93/150\n",
      "152/152 [==============================] - 2s 15ms/step - loss: 0.0360 - accuracy: 0.9917 - val_loss: 2.3528 - val_accuracy: 0.6609\n",
      "Epoch 94/150\n",
      "152/152 [==============================] - 2s 16ms/step - loss: 0.0513 - accuracy: 0.9837 - val_loss: 1.8285 - val_accuracy: 0.6913\n",
      "Epoch 95/150\n",
      "152/152 [==============================] - 2s 16ms/step - loss: 0.0184 - accuracy: 0.9932 - val_loss: 2.0914 - val_accuracy: 0.6832\n",
      "Epoch 96/150\n",
      "152/152 [==============================] - 2s 16ms/step - loss: 0.0154 - accuracy: 0.9957 - val_loss: 2.5471 - val_accuracy: 0.6615\n",
      "Epoch 97/150\n",
      "152/152 [==============================] - 2s 16ms/step - loss: 0.0239 - accuracy: 0.9932 - val_loss: 1.9821 - val_accuracy: 0.6758\n",
      "Epoch 98/150\n",
      "152/152 [==============================] - 2s 16ms/step - loss: 0.0226 - accuracy: 0.9921 - val_loss: 2.0814 - val_accuracy: 0.6913\n",
      "Epoch 99/150\n",
      "152/152 [==============================] - 2s 16ms/step - loss: 0.0942 - accuracy: 0.9719 - val_loss: 5.9912 - val_accuracy: 0.6900\n",
      "Epoch 100/150\n",
      "152/152 [==============================] - 2s 16ms/step - loss: 0.0189 - accuracy: 0.9921 - val_loss: 2.4615 - val_accuracy: 0.6913\n",
      "Epoch 101/150\n",
      "152/152 [==============================] - 2s 16ms/step - loss: 0.0539 - accuracy: 0.9870 - val_loss: 2.6843 - val_accuracy: 0.6522\n",
      "Epoch 102/150\n",
      "152/152 [==============================] - 2s 16ms/step - loss: 0.0383 - accuracy: 0.9880 - val_loss: 2.3344 - val_accuracy: 0.6975\n",
      "Epoch 103/150\n",
      "152/152 [==============================] - 2s 16ms/step - loss: 0.0183 - accuracy: 0.9936 - val_loss: 2.4629 - val_accuracy: 0.6857\n",
      "Epoch 104/150\n",
      "152/152 [==============================] - 2s 16ms/step - loss: 0.0328 - accuracy: 0.9895 - val_loss: 2.3707 - val_accuracy: 0.6776\n",
      "Epoch 105/150\n",
      "152/152 [==============================] - 2s 16ms/step - loss: 0.0923 - accuracy: 0.9725 - val_loss: 1.9266 - val_accuracy: 0.6702\n",
      "Epoch 106/150\n",
      "152/152 [==============================] - 2s 16ms/step - loss: 0.0381 - accuracy: 0.9888 - val_loss: 2.4293 - val_accuracy: 0.6751\n",
      "Epoch 107/150\n",
      "152/152 [==============================] - 2s 16ms/step - loss: 0.0603 - accuracy: 0.9812 - val_loss: 1.9012 - val_accuracy: 0.6832\n",
      "Epoch 108/150\n",
      "152/152 [==============================] - 2s 16ms/step - loss: 0.0267 - accuracy: 0.9911 - val_loss: 2.1594 - val_accuracy: 0.6944\n",
      "Epoch 109/150\n",
      "152/152 [==============================] - 2s 16ms/step - loss: 0.0141 - accuracy: 0.9944 - val_loss: 2.8052 - val_accuracy: 0.6671\n",
      "Epoch 110/150\n",
      "152/152 [==============================] - 2s 16ms/step - loss: 0.0244 - accuracy: 0.9913 - val_loss: 2.5772 - val_accuracy: 0.6677\n",
      "Epoch 111/150\n",
      "152/152 [==============================] - 2s 16ms/step - loss: 0.0338 - accuracy: 0.9907 - val_loss: 1.9597 - val_accuracy: 0.6826\n",
      "Epoch 112/150\n",
      "152/152 [==============================] - 2s 16ms/step - loss: 0.0120 - accuracy: 0.9957 - val_loss: 2.3418 - val_accuracy: 0.6931\n",
      "Epoch 113/150\n"
     ]
    },
    {
     "name": "stdout",
     "output_type": "stream",
     "text": [
      "152/152 [==============================] - 2s 16ms/step - loss: 0.0240 - accuracy: 0.9952 - val_loss: 2.6398 - val_accuracy: 0.6708\n",
      "Epoch 114/150\n",
      "152/152 [==============================] - 2s 16ms/step - loss: 0.0295 - accuracy: 0.9880 - val_loss: 2.2456 - val_accuracy: 0.6882\n",
      "Epoch 115/150\n",
      "152/152 [==============================] - 2s 16ms/step - loss: 0.0392 - accuracy: 0.9868 - val_loss: 1.9242 - val_accuracy: 0.7018\n",
      "Epoch 116/150\n",
      "152/152 [==============================] - 3s 16ms/step - loss: 0.0163 - accuracy: 0.9950 - val_loss: 2.6506 - val_accuracy: 0.6689\n",
      "Epoch 117/150\n",
      "152/152 [==============================] - 2s 16ms/step - loss: 0.0320 - accuracy: 0.9907 - val_loss: 2.0675 - val_accuracy: 0.6950\n",
      "Epoch 118/150\n",
      "152/152 [==============================] - 2s 16ms/step - loss: 0.0188 - accuracy: 0.9934 - val_loss: 2.4586 - val_accuracy: 0.6646\n",
      "Epoch 119/150\n",
      "152/152 [==============================] - 2s 16ms/step - loss: 0.0414 - accuracy: 0.9876 - val_loss: 2.4408 - val_accuracy: 0.6813\n",
      "Epoch 120/150\n",
      "152/152 [==============================] - 2s 15ms/step - loss: 0.0239 - accuracy: 0.9911 - val_loss: 2.0720 - val_accuracy: 0.6956\n",
      "Epoch 121/150\n",
      "152/152 [==============================] - 2s 16ms/step - loss: 0.0146 - accuracy: 0.9959 - val_loss: 2.1380 - val_accuracy: 0.7043\n",
      "Epoch 122/150\n",
      "152/152 [==============================] - 2s 16ms/step - loss: 0.0233 - accuracy: 0.9913 - val_loss: 49.6495 - val_accuracy: 0.6801\n",
      "Epoch 123/150\n",
      "152/152 [==============================] - 2s 16ms/step - loss: 0.0281 - accuracy: 0.9895 - val_loss: 2.1204 - val_accuracy: 0.6782\n",
      "Epoch 124/150\n",
      "152/152 [==============================] - 2s 16ms/step - loss: 0.0207 - accuracy: 0.9934 - val_loss: 35.6451 - val_accuracy: 0.6937\n",
      "Epoch 125/150\n",
      "152/152 [==============================] - 2s 16ms/step - loss: 0.0597 - accuracy: 0.9849 - val_loss: 2.3136 - val_accuracy: 0.6832\n",
      "Epoch 126/150\n",
      "152/152 [==============================] - 2s 16ms/step - loss: 0.0324 - accuracy: 0.9913 - val_loss: 2.2923 - val_accuracy: 0.6751\n",
      "Epoch 127/150\n",
      "152/152 [==============================] - 2s 16ms/step - loss: 0.0293 - accuracy: 0.9917 - val_loss: 2.6257 - val_accuracy: 0.6745\n",
      "Epoch 128/150\n",
      "152/152 [==============================] - 2s 16ms/step - loss: 0.0842 - accuracy: 0.9727 - val_loss: 1.9979 - val_accuracy: 0.6906\n",
      "Epoch 129/150\n",
      "152/152 [==============================] - 2s 16ms/step - loss: 0.0283 - accuracy: 0.9913 - val_loss: 2.0114 - val_accuracy: 0.7012\n",
      "Epoch 130/150\n",
      "152/152 [==============================] - 2s 16ms/step - loss: 0.0064 - accuracy: 0.9981 - val_loss: 2.5206 - val_accuracy: 0.6956\n",
      "Epoch 131/150\n",
      "152/152 [==============================] - 2s 16ms/step - loss: 0.0339 - accuracy: 0.9921 - val_loss: 1.9867 - val_accuracy: 0.7055\n",
      "Epoch 132/150\n",
      "152/152 [==============================] - 2s 16ms/step - loss: 0.0141 - accuracy: 0.9952 - val_loss: 2.5062 - val_accuracy: 0.7136\n",
      "Epoch 133/150\n",
      "152/152 [==============================] - 2s 16ms/step - loss: 0.0208 - accuracy: 0.9938 - val_loss: 2.0823 - val_accuracy: 0.6888\n",
      "Epoch 134/150\n",
      "152/152 [==============================] - 2s 16ms/step - loss: 0.0267 - accuracy: 0.9919 - val_loss: 2.0678 - val_accuracy: 0.6913\n",
      "Epoch 135/150\n",
      "152/152 [==============================] - 2s 16ms/step - loss: 0.0208 - accuracy: 0.9936 - val_loss: 2.0643 - val_accuracy: 0.6968\n",
      "Epoch 136/150\n",
      "152/152 [==============================] - 2s 16ms/step - loss: 0.0243 - accuracy: 0.9950 - val_loss: 2.0677 - val_accuracy: 0.7012\n",
      "Epoch 137/150\n",
      "152/152 [==============================] - 2s 16ms/step - loss: 0.0217 - accuracy: 0.9950 - val_loss: 2.1207 - val_accuracy: 0.6919\n",
      "Epoch 138/150\n",
      "152/152 [==============================] - 2s 16ms/step - loss: 0.0304 - accuracy: 0.9921 - val_loss: 2.1058 - val_accuracy: 0.6919\n",
      "Epoch 139/150\n",
      "152/152 [==============================] - 2s 16ms/step - loss: 0.0143 - accuracy: 0.9961 - val_loss: 2.2993 - val_accuracy: 0.6906\n",
      "Epoch 140/150\n",
      "152/152 [==============================] - 2s 16ms/step - loss: 0.0089 - accuracy: 0.9977 - val_loss: 3.0204 - val_accuracy: 0.6696\n",
      "Epoch 141/150\n",
      "152/152 [==============================] - 2s 15ms/step - loss: 0.0396 - accuracy: 0.9880 - val_loss: 2.6352 - val_accuracy: 0.6782\n",
      "Epoch 142/150\n",
      "152/152 [==============================] - 2s 16ms/step - loss: 0.0193 - accuracy: 0.9940 - val_loss: 2.5345 - val_accuracy: 0.6863\n",
      "Epoch 143/150\n",
      "152/152 [==============================] - 3s 18ms/step - loss: 0.0200 - accuracy: 0.9944 - val_loss: 2.1587 - val_accuracy: 0.6832\n",
      "Epoch 144/150\n",
      "152/152 [==============================] - 2s 16ms/step - loss: 0.0183 - accuracy: 0.9948 - val_loss: 2.0743 - val_accuracy: 0.6739\n",
      "Epoch 145/150\n",
      "152/152 [==============================] - 2s 16ms/step - loss: 0.0307 - accuracy: 0.9886 - val_loss: 2.8128 - val_accuracy: 0.6782\n",
      "Epoch 146/150\n",
      "152/152 [==============================] - 2s 16ms/step - loss: 0.0152 - accuracy: 0.9959 - val_loss: 3.2416 - val_accuracy: 0.6708\n",
      "Epoch 147/150\n",
      "152/152 [==============================] - 2s 16ms/step - loss: 0.0518 - accuracy: 0.9835 - val_loss: 2.2044 - val_accuracy: 0.6665\n",
      "Epoch 148/150\n",
      "152/152 [==============================] - 2s 16ms/step - loss: 0.0171 - accuracy: 0.9942 - val_loss: 2.1752 - val_accuracy: 0.7006\n",
      "Epoch 149/150\n",
      "152/152 [==============================] - 2s 16ms/step - loss: 0.0430 - accuracy: 0.9880 - val_loss: 2.1702 - val_accuracy: 0.6906\n",
      "Epoch 150/150\n",
      "152/152 [==============================] - 2s 16ms/step - loss: 0.0484 - accuracy: 0.9872 - val_loss: 2.1417 - val_accuracy: 0.6894\n",
      "elapsed time training dataset (sec): 364.0037558078766\n"
     ]
    }
   ],
   "source": [
    "start_time = time.time()\n",
    "\n",
    "hist = model.fit(x_train, y_train,\n",
    "                 epochs=n_epochs,\n",
    "                 batch_size=batch_size,\n",
    "                 validation_split=validation_split,\n",
    "                 shuffle=True,\n",
    "                 verbose=1)\n",
    "\n",
    "print('elapsed time training dataset (sec):', time.time() - start_time)\n",
    "\n",
    "model.save(model_save_path)"
   ]
  },
  {
   "cell_type": "code",
   "execution_count": 16,
   "id": "b34313fb",
   "metadata": {},
   "outputs": [
    {
     "data": {
      "image/png": "[encoded data removed]",
      "text/plain": [
       "<Figure size 1080x360 with 2 Axes>"
      ]
     },
     "metadata": {
      "needs_background": "light"
     },
     "output_type": "display_data"
    }
   ],
   "source": [
    "history_dict = hist.history\n",
    "\n",
    "loss_values = history_dict['loss']\n",
    "acc_values = history_dict['accuracy']\n",
    "if split_val:\n",
    "    val_loss_values = history_dict['val_loss']\n",
    "    val_acc_values = history_dict['val_accuracy']\n",
    "\n",
    "fig, (ax1, ax2) = plt.subplots(1, 2, figsize=(15, 5))\n",
    "\n",
    "ax1.plot(loss_values, 'blue', label='Training Loss')\n",
    "if split_val:\n",
    "    ax1.plot(val_loss_values, 'orange', label='Validation Loss')\n",
    "ax1.set_title('Training and validation loss')\n",
    "ax1.set_xlabel('Epochs')\n",
    "ax1.set_ylabel('Loss')\n",
    "ax1.legend()\n",
    "\n",
    "ax2.plot(acc_values, 'blue', label='Training accuracy')\n",
    "if split_val:\n",
    "    ax2.plot(val_acc_values, 'orange', label='Validation accuracy')\n",
    "ax2.set_title('Training and validation accuracy')\n",
    "ax2.set_xlabel('Epochs')\n",
    "ax2.set_ylabel('Accuracy')\n",
    "ax2.legend()\n",
    "\n",
    "plt.show()"
   ]
  },
  {
   "cell_type": "code",
   "execution_count": 17,
   "id": "70146c37",
   "metadata": {},
   "outputs": [
    {
     "name": "stdout",
     "output_type": "stream",
     "text": [
      "51/51 [==============================] - 0s 7ms/step - loss: 2.0830 - accuracy: 0.6956\n",
      "test loss: 2.083035945892334\n",
      "test accuracy: 0.6955982446670532\n"
     ]
    }
   ],
   "source": [
    "loss, accuracy = model.evaluate(x_test, y_test)\n",
    "print('test loss:', loss)\n",
    "print('test accuracy:', accuracy)"
   ]
  },
  {
   "cell_type": "markdown",
   "id": "a367cc71",
   "metadata": {},
   "source": [
    "# 파일 테스트"
   ]
  },
  {
   "cell_type": "code",
   "execution_count": null,
   "id": "95a5f7a5",
   "metadata": {},
   "outputs": [],
   "source": [
    "test_file_name = 'dataset/negative/1001_DFA_ANG_XX.wav'"
   ]
  },
  {
   "cell_type": "code",
   "execution_count": null,
   "id": "66148657",
   "metadata": {},
   "outputs": [],
   "source": [
    "prediction_feature = extract_feature(test_file_name, input_shape[0]).reshape((1, ) + input_shape)\n",
    "model = load_model(model_save_path)\n",
    "\n",
    "predicted_proba = model.predict(prediction_feature)[0]\n",
    "predicted_class = np.argmax(predicted_proba)\n",
    "\n",
    "print('classification result:', le.classes_[predicted_class])"
   ]
  },
  {
   "cell_type": "code",
   "execution_count": null,
   "id": "db540429",
   "metadata": {},
   "outputs": [],
   "source": []
  }
 ],
 "metadata": {
  "kernelspec": {
   "display_name": "emotion",
   "language": "python",
   "name": "emotion"
  },
  "language_info": {
   "codemirror_mode": {
    "name": "ipython",
    "version": 3
   },
   "file_extension": ".py",
   "mimetype": "text/x-python",
   "name": "python",
   "nbconvert_exporter": "python",
   "pygments_lexer": "ipython3",
   "version": "3.8.8"
  }
 },
 "nbformat": 4,
 "nbformat_minor": 5
}
