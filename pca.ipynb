{
 "cells": [
  {
   "cell_type": "code",
   "execution_count": null,
   "id": "90230a47",
   "metadata": {},
   "outputs": [],
   "source": [
    "\"\"\"\n",
    "데이터셋\n",
    "Crema, Ravdess, Tess, Savee\n",
    "\n",
    "Positive: happiness - 2323\n",
    "Neutral: neutral, calmness - 1895\n",
    "Negative: anger, sadness - 3846\n",
    "\"\"\""
   ]
  },
  {
   "cell_type": "code",
   "execution_count": 1,
   "id": "736ee2e8",
   "metadata": {},
   "outputs": [
    {
     "name": "stderr",
     "output_type": "stream",
     "text": [
      "C:\\Users\\DeepLearning_5\\Anaconda3\\lib\\site-packages\\requests\\__init__.py:89: RequestsDependencyWarning: urllib3 (1.24.3) or chardet (4.0.0) doesn't match a supported version!\n",
      "  warnings.warn(\"urllib3 ({}) or chardet ({}) doesn't match a supported \"\n"
     ]
    }
   ],
   "source": [
    "import numpy as np\n",
    "import time\n",
    "from tqdm import tqdm\n",
    "import os\n",
    "import librosa\n",
    "import matplotlib.pyplot as plt\n",
    "\n",
    "from sklearn.preprocessing import LabelEncoder\n",
    "from sklearn.model_selection import train_test_split\n",
    "from sklearn.decomposition import PCA\n",
    "\n",
    "from keras.utils.np_utils import to_categorical\n",
    "from keras.models import load_model, Sequential\n",
    "from keras.layers import Conv1D, MaxPooling1D, Flatten, BatchNormalization, Dense, Dropout"
   ]
  },
  {
   "cell_type": "code",
   "execution_count": 2,
   "id": "1ce1ef09",
   "metadata": {},
   "outputs": [],
   "source": [
    "base_dir = 'dataset'\n",
    "\n",
    "n_mfcc = 128\n",
    "num_rows = 150\n",
    "num_columns = 130\n",
    "pca_components = 50\n",
    "feature_shape = (num_rows, num_columns)\n",
    "input_shape = (num_rows, pca_components)\n",
    "\n",
    "n_epochs = 150\n",
    "batch_size = None\n",
    "split_val = True\n",
    "\n",
    "model_save_path = 'saved_models/model.h5'"
   ]
  },
  {
   "cell_type": "code",
   "execution_count": 3,
   "id": "a39885db",
   "metadata": {},
   "outputs": [],
   "source": [
    "def load_feature_tuple(file_name):\n",
    "    y, sr = librosa.load(file_name, mono=True)\n",
    "\n",
    "    mfcc = librosa.feature.mfcc(y=y, sr=sr, n_mfcc=n_mfcc)\n",
    "    spectral_centroid = librosa.feature.spectral_centroid(y=y, sr=sr)\n",
    "    spectral_rolloff = librosa.feature.spectral_rolloff(y=y, sr=sr)\n",
    "\n",
    "    return mfcc, spectral_centroid, spectral_rolloff"
   ]
  },
  {
   "cell_type": "code",
   "execution_count": 4,
   "id": "e8cccf27",
   "metadata": {},
   "outputs": [],
   "source": [
    "def pad_feature_width(feature, feature_width):\n",
    "    diff = feature_width - feature.shape[1]\n",
    "    if diff > 0:\n",
    "        return np.pad(feature, pad_width=((0, 0), (0, diff)), mode='constant')\n",
    "    elif diff < 0:\n",
    "        return np.delete(feature, np.arange(feature_width, feature.shape[1]), axis=1)\n",
    "    return feature"
   ]
  },
  {
   "cell_type": "code",
   "execution_count": 5,
   "id": "15aa2cbc",
   "metadata": {},
   "outputs": [],
   "source": [
    "def extract_feature(file_name, feature_width):\n",
    "    image = np.concatenate(load_feature_tuple(file_name), axis=0)\n",
    "    image = pad_feature_width(image, feature_width)\n",
    "    image = np.transpose(image)\n",
    "    return image"
   ]
  },
  {
   "cell_type": "code",
   "execution_count": 6,
   "id": "4158fb8c",
   "metadata": {},
   "outputs": [],
   "source": [
    "def fetch_dataset(dir_path, label):\n",
    "    _features = np.empty((0, ) + feature_shape)\n",
    "    for file_name in tqdm(os.listdir(dir_path)):\n",
    "        file_path = os.path.join(dir_path, file_name)\n",
    "        feature = extract_feature(file_path, feature_shape[0]).reshape((1, ) + feature_shape)\n",
    "        _features = np.append(_features, feature, axis=0)\n",
    "\n",
    "    _labels = np.full((_features.shape[0], ), label)\n",
    "\n",
    "    return _features, _labels"
   ]
  },
  {
   "cell_type": "markdown",
   "id": "68afff4f",
   "metadata": {},
   "source": [
    "# 데이터셋 가져오기"
   ]
  },
  {
   "cell_type": "code",
   "execution_count": 7,
   "id": "168ee650",
   "metadata": {},
   "outputs": [
    {
     "name": "stderr",
     "output_type": "stream",
     "text": [
      "100%|██████████████████████████████████████████████████████████████████████████████| 2323/2323 [07:16<00:00,  5.33it/s]\n",
      "100%|██████████████████████████████████████████████████████████████████████████████| 1895/1895 [05:29<00:00,  5.75it/s]\n",
      "100%|██████████████████████████████████████████████████████████████████████████████| 3846/3846 [16:06<00:00,  3.98it/s]"
     ]
    },
    {
     "name": "stdout",
     "output_type": "stream",
     "text": [
      "elapsed time fetching dataset (sec): 1732.0043358802795\n"
     ]
    },
    {
     "name": "stderr",
     "output_type": "stream",
     "text": [
      "\n"
     ]
    }
   ],
   "source": [
    "start_time = time.time()\n",
    "\n",
    "positive_features, positive_labels = fetch_dataset(base_dir + '/positive', 'POSITIVE')\n",
    "neutral_features, neutral_labels = fetch_dataset(base_dir + '/neutral', 'NEUTRAL')\n",
    "negative_features, negative_labels = fetch_dataset(base_dir + '/negative', 'NEGATIVE')\n",
    "\n",
    "print('elapsed time fetching dataset (sec):', time.time() - start_time)"
   ]
  },
  {
   "cell_type": "code",
   "execution_count": 8,
   "id": "c1ca2ae7",
   "metadata": {},
   "outputs": [
    {
     "name": "stdout",
     "output_type": "stream",
     "text": [
      "features shape: (8064, 150, 130)\n",
      "labels shape before encoding: (8064,)\n"
     ]
    }
   ],
   "source": [
    "features = np.concatenate((positive_features, neutral_features, negative_features), axis=0)\n",
    "labels = np.concatenate((positive_labels, neutral_labels, negative_labels), axis=0)\n",
    "\n",
    "print('features shape:', features.shape)\n",
    "print('labels shape before encoding:', labels.shape)"
   ]
  },
  {
   "cell_type": "code",
   "execution_count": 9,
   "id": "ad68ccfe",
   "metadata": {},
   "outputs": [
    {
     "name": "stdout",
     "output_type": "stream",
     "text": [
      "labels shape after encoding: (8064, 3)\n",
      "label encoder classes: ['NEGATIVE' 'NEUTRAL' 'POSITIVE']\n"
     ]
    }
   ],
   "source": [
    "le = LabelEncoder()\n",
    "labels = to_categorical(le.fit_transform(labels))\n",
    "print('labels shape after encoding:', labels.shape)\n",
    "print('label encoder classes:', le.classes_)"
   ]
  },
  {
   "cell_type": "code",
   "execution_count": 10,
   "id": "e2fcddb0",
   "metadata": {},
   "outputs": [],
   "source": [
    "x_train, x_test, y_train, y_test = train_test_split(features, labels, test_size=0.2)"
   ]
  },
  {
   "cell_type": "code",
   "execution_count": 11,
   "id": "8b3ec103",
   "metadata": {},
   "outputs": [
    {
     "name": "stdout",
     "output_type": "stream",
     "text": [
      "x_train shape before PCA: (6451, 150, 130)\n",
      "x_test shape before PCA: (1613, 150, 130)\n",
      "x_train shape after PCA: (6451, 150, 50)\n",
      "x_test shape after PCA: (1613, 150, 50)\n"
     ]
    }
   ],
   "source": [
    "print('x_train shape before PCA:', x_train.shape)\n",
    "print('x_test shape before PCA:', x_test.shape)\n",
    "\n",
    "pca = PCA(n_components=pca_components)\n",
    "x_train = pca.fit_transform(x_train.reshape((-1, num_columns))).reshape((-1,) + input_shape)\n",
    "x_test = pca.transform(x_test.reshape((-1, num_columns))).reshape((-1,) + input_shape)\n",
    "\n",
    "print('x_train shape after PCA:', x_train.shape)\n",
    "print('x_test shape after PCA:', x_test.shape)"
   ]
  },
  {
   "cell_type": "markdown",
   "id": "bf4f35c8",
   "metadata": {},
   "source": [
    "# 학습"
   ]
  },
  {
   "cell_type": "code",
   "execution_count": 12,
   "id": "1d785a86",
   "metadata": {
    "scrolled": true
   },
   "outputs": [
    {
     "name": "stdout",
     "output_type": "stream",
     "text": [
      "Model: \"sequential\"\n",
      "_________________________________________________________________\n",
      " Layer (type)                Output Shape              Param #   \n",
      "=================================================================\n",
      " block1_conv1 (Conv1D)       (None, 150, 64)           9664      \n",
      "                                                                 \n",
      " block1_conv2 (Conv1D)       (None, 150, 64)           12352     \n",
      "                                                                 \n",
      " block1_pool (MaxPooling1D)  (None, 75, 64)            0         \n",
      "                                                                 \n",
      " block2_conv1 (Conv1D)       (None, 75, 128)           24704     \n",
      "                                                                 \n",
      " block2_conv2 (Conv1D)       (None, 75, 128)           49280     \n",
      "                                                                 \n",
      " block2_pool (MaxPooling1D)  (None, 37, 128)           0         \n",
      "                                                                 \n",
      " block3_conv1 (Conv1D)       (None, 37, 256)           98560     \n",
      "                                                                 \n",
      " block3_conv2 (Conv1D)       (None, 37, 256)           196864    \n",
      "                                                                 \n",
      " block3_conv3 (Conv1D)       (None, 37, 256)           196864    \n",
      "                                                                 \n",
      " block3_pool (MaxPooling1D)  (None, 18, 256)           0         \n",
      "                                                                 \n",
      " block4_conv1 (Conv1D)       (None, 18, 512)           393728    \n",
      "                                                                 \n",
      " block4_conv2 (Conv1D)       (None, 18, 512)           786944    \n",
      "                                                                 \n",
      " block4_conv3 (Conv1D)       (None, 18, 512)           786944    \n",
      "                                                                 \n",
      " block4_pool (MaxPooling1D)  (None, 9, 512)            0         \n",
      "                                                                 \n",
      " block5_conv1 (Conv1D)       (None, 9, 512)            786944    \n",
      "                                                                 \n",
      " block5_conv2 (Conv1D)       (None, 9, 512)            786944    \n",
      "                                                                 \n",
      " block5_conv3 (Conv1D)       (None, 9, 512)            786944    \n",
      "                                                                 \n",
      " block5_pool (MaxPooling1D)  (None, 4, 512)            0         \n",
      "                                                                 \n",
      " flatten (Flatten)           (None, 2048)              0         \n",
      "                                                                 \n",
      " batch_normalization (BatchN  (None, 2048)             8192      \n",
      " ormalization)                                                   \n",
      "                                                                 \n",
      " dense (Dense)               (None, 1024)              2098176   \n",
      "                                                                 \n",
      " dropout (Dropout)           (None, 1024)              0         \n",
      "                                                                 \n",
      " dense_1 (Dense)             (None, 3)                 3075      \n",
      "                                                                 \n",
      "=================================================================\n",
      "Total params: 7,026,179\n",
      "Trainable params: 7,022,083\n",
      "Non-trainable params: 4,096\n",
      "_________________________________________________________________\n"
     ]
    }
   ],
   "source": [
    "model = Sequential()\n",
    "\n",
    "# Block 1\n",
    "model.add(Conv1D(64, 3, activation='relu', padding='same', name='block1_conv1', input_shape=input_shape))\n",
    "model.add(Conv1D(64, 3, activation='relu', padding='same', name='block1_conv2'))\n",
    "model.add(MaxPooling1D(2, strides=2, name='block1_pool'))\n",
    "\n",
    "# Block 2\n",
    "model.add(Conv1D(128, 3, activation='relu', padding='same', name='block2_conv1'))\n",
    "model.add(Conv1D(128, 3, activation='relu', padding='same', name='block2_conv2'))\n",
    "model.add(MaxPooling1D(2, strides=2, name='block2_pool'))\n",
    "\n",
    "# Block 3\n",
    "model.add(Conv1D(256, 3, activation='relu', padding='same', name='block3_conv1'))\n",
    "model.add(Conv1D(256, 3, activation='relu', padding='same', name='block3_conv2'))\n",
    "model.add(Conv1D(256, 3, activation='relu', padding='same', name='block3_conv3'))\n",
    "model.add(MaxPooling1D(2, strides=2, name='block3_pool'))\n",
    "\n",
    "# Block 4\n",
    "model.add(Conv1D(512, 3, activation='relu', padding='same', name='block4_conv1'))\n",
    "model.add(Conv1D(512, 3, activation='relu', padding='same', name='block4_conv2'))\n",
    "model.add(Conv1D(512, 3, activation='relu', padding='same', name='block4_conv3'))\n",
    "model.add(MaxPooling1D(2, strides=2, name='block4_pool'))\n",
    "\n",
    "# Block 5\n",
    "model.add(Conv1D(512, 3, activation='relu', padding='same', name='block5_conv1'))\n",
    "model.add(Conv1D(512, 3, activation='relu', padding='same', name='block5_conv2'))\n",
    "model.add(Conv1D(512, 3, activation='relu', padding='same', name='block5_conv3'))\n",
    "model.add(MaxPooling1D(2, strides=2, name='block5_pool'))\n",
    "\n",
    "model.add(Flatten())\n",
    "model.add(BatchNormalization())\n",
    "model.add(Dense(1024, activation='relu'))\n",
    "model.add(Dropout(0.5))\n",
    "model.add(Dense(3, activation='softmax'))\n",
    "\n",
    "model.summary()"
   ]
  },
  {
   "cell_type": "code",
   "execution_count": 13,
   "id": "8afcb6a5",
   "metadata": {},
   "outputs": [],
   "source": [
    "model.compile(loss='categorical_crossentropy', metrics=['accuracy'], optimizer='adam')"
   ]
  },
  {
   "cell_type": "code",
   "execution_count": 14,
   "id": "8ed3004b",
   "metadata": {},
   "outputs": [],
   "source": [
    "if split_val:\n",
    "    validation_split = 0.25\n",
    "else:\n",
    "    validation_split = 0.0"
   ]
  },
  {
   "cell_type": "code",
   "execution_count": 15,
   "id": "2eb3a18d",
   "metadata": {},
   "outputs": [
    {
     "name": "stdout",
     "output_type": "stream",
     "text": [
      "Epoch 1/150\n",
      "152/152 [==============================] - 7s 26ms/step - loss: 2.1413 - accuracy: 0.3995 - val_loss: 3.4637 - val_accuracy: 0.4730\n",
      "Epoch 2/150\n",
      "152/152 [==============================] - 3s 20ms/step - loss: 1.4293 - accuracy: 0.4378 - val_loss: 3.8148 - val_accuracy: 0.3366\n",
      "Epoch 3/150\n",
      "152/152 [==============================] - 3s 20ms/step - loss: 1.0484 - accuracy: 0.5070 - val_loss: 1.9811 - val_accuracy: 0.4278\n",
      "Epoch 4/150\n",
      "152/152 [==============================] - 3s 20ms/step - loss: 0.8994 - accuracy: 0.5709 - val_loss: 2.1271 - val_accuracy: 0.4482\n",
      "Epoch 5/150\n",
      "152/152 [==============================] - 3s 20ms/step - loss: 0.8305 - accuracy: 0.5897 - val_loss: 2.1379 - val_accuracy: 0.5251\n",
      "Epoch 6/150\n",
      "152/152 [==============================] - 3s 20ms/step - loss: 0.7669 - accuracy: 0.6155 - val_loss: 34.6848 - val_accuracy: 0.4972\n",
      "Epoch 7/150\n",
      "152/152 [==============================] - 3s 20ms/step - loss: 0.7355 - accuracy: 0.6383 - val_loss: 0.7157 - val_accuracy: 0.6547\n",
      "Epoch 8/150\n",
      "152/152 [==============================] - 3s 20ms/step - loss: 0.7087 - accuracy: 0.6550 - val_loss: 1.7405 - val_accuracy: 0.5344\n",
      "Epoch 9/150\n",
      "152/152 [==============================] - 3s 20ms/step - loss: 0.6950 - accuracy: 0.6701 - val_loss: 0.6828 - val_accuracy: 0.6652\n",
      "Epoch 10/150\n",
      "152/152 [==============================] - 3s 20ms/step - loss: 0.6992 - accuracy: 0.6490 - val_loss: 0.7146 - val_accuracy: 0.6572\n",
      "Epoch 11/150\n",
      "152/152 [==============================] - 3s 20ms/step - loss: 0.6734 - accuracy: 0.6742 - val_loss: 1.4412 - val_accuracy: 0.6689\n",
      "Epoch 12/150\n",
      "152/152 [==============================] - 3s 20ms/step - loss: 0.6613 - accuracy: 0.6823 - val_loss: 0.6867 - val_accuracy: 0.6658\n",
      "Epoch 13/150\n",
      "152/152 [==============================] - 3s 20ms/step - loss: 0.6563 - accuracy: 0.6856 - val_loss: 1.2788 - val_accuracy: 0.6733\n",
      "Epoch 14/150\n",
      "152/152 [==============================] - 3s 20ms/step - loss: 0.6462 - accuracy: 0.6848 - val_loss: 0.7522 - val_accuracy: 0.6652\n",
      "Epoch 15/150\n",
      "152/152 [==============================] - 3s 20ms/step - loss: 0.6522 - accuracy: 0.6885 - val_loss: 0.7484 - val_accuracy: 0.6373\n",
      "Epoch 16/150\n",
      "152/152 [==============================] - 3s 20ms/step - loss: 0.6319 - accuracy: 0.7017 - val_loss: 44.1549 - val_accuracy: 0.6900\n",
      "Epoch 17/150\n",
      "152/152 [==============================] - 3s 20ms/step - loss: 0.6320 - accuracy: 0.6984 - val_loss: 25.1776 - val_accuracy: 0.4489\n",
      "Epoch 18/150\n",
      "152/152 [==============================] - 3s 20ms/step - loss: 0.6215 - accuracy: 0.7086 - val_loss: 0.5933 - val_accuracy: 0.7179\n",
      "Epoch 19/150\n",
      "152/152 [==============================] - 3s 20ms/step - loss: 0.6019 - accuracy: 0.7152 - val_loss: 3.5090 - val_accuracy: 0.6826\n",
      "Epoch 20/150\n",
      "152/152 [==============================] - 3s 20ms/step - loss: 0.6109 - accuracy: 0.7218 - val_loss: 9.3462 - val_accuracy: 0.6944\n",
      "Epoch 21/150\n",
      "152/152 [==============================] - 3s 20ms/step - loss: 0.5993 - accuracy: 0.7143 - val_loss: 0.6648 - val_accuracy: 0.6968\n",
      "Epoch 22/150\n",
      "152/152 [==============================] - 3s 20ms/step - loss: 0.5909 - accuracy: 0.7218 - val_loss: 2.2165 - val_accuracy: 0.6981\n",
      "Epoch 23/150\n",
      "152/152 [==============================] - 3s 20ms/step - loss: 0.9303 - accuracy: 0.5269 - val_loss: 2148.4246 - val_accuracy: 0.5685\n",
      "Epoch 24/150\n",
      "152/152 [==============================] - 3s 20ms/step - loss: 0.8337 - accuracy: 0.5816 - val_loss: 1278.0781 - val_accuracy: 0.5797\n",
      "Epoch 25/150\n",
      "152/152 [==============================] - 3s 20ms/step - loss: 0.7304 - accuracy: 0.6525 - val_loss: 0.7576 - val_accuracy: 0.6274\n",
      "Epoch 26/150\n",
      "152/152 [==============================] - 3s 20ms/step - loss: 0.6835 - accuracy: 0.6649 - val_loss: 0.7132 - val_accuracy: 0.6528\n",
      "Epoch 27/150\n",
      "152/152 [==============================] - 3s 20ms/step - loss: 0.6746 - accuracy: 0.6701 - val_loss: 0.7493 - val_accuracy: 0.6596\n",
      "Epoch 28/150\n",
      "152/152 [==============================] - 3s 20ms/step - loss: 0.6676 - accuracy: 0.6728 - val_loss: 0.7021 - val_accuracy: 0.6454\n",
      "Epoch 29/150\n",
      "152/152 [==============================] - 3s 20ms/step - loss: 0.6429 - accuracy: 0.6918 - val_loss: 0.6244 - val_accuracy: 0.6962\n",
      "Epoch 30/150\n",
      "152/152 [==============================] - 3s 20ms/step - loss: 0.6562 - accuracy: 0.6869 - val_loss: 0.6460 - val_accuracy: 0.6807\n",
      "Epoch 31/150\n",
      "152/152 [==============================] - 3s 20ms/step - loss: 0.6557 - accuracy: 0.6757 - val_loss: 0.6467 - val_accuracy: 0.6882\n",
      "Epoch 32/150\n",
      "152/152 [==============================] - 3s 20ms/step - loss: 0.6678 - accuracy: 0.6691 - val_loss: 0.6617 - val_accuracy: 0.6851\n",
      "Epoch 33/150\n",
      "152/152 [==============================] - 3s 20ms/step - loss: 0.6368 - accuracy: 0.6800 - val_loss: 0.6432 - val_accuracy: 0.6665\n",
      "Epoch 34/150\n",
      "152/152 [==============================] - 3s 20ms/step - loss: 0.6217 - accuracy: 0.7075 - val_loss: 103.2428 - val_accuracy: 0.7049\n",
      "Epoch 35/150\n",
      "152/152 [==============================] - 3s 20ms/step - loss: 0.6216 - accuracy: 0.7046 - val_loss: 1.4364 - val_accuracy: 0.6906\n",
      "Epoch 36/150\n",
      "152/152 [==============================] - 3s 20ms/step - loss: 0.6084 - accuracy: 0.7088 - val_loss: 15329.9961 - val_accuracy: 0.7061\n",
      "Epoch 37/150\n",
      "152/152 [==============================] - 3s 20ms/step - loss: 0.5944 - accuracy: 0.7181 - val_loss: 0.6009 - val_accuracy: 0.7142\n",
      "Epoch 38/150\n",
      "152/152 [==============================] - 3s 20ms/step - loss: 0.6282 - accuracy: 0.7021 - val_loss: 0.7083 - val_accuracy: 0.6956\n",
      "Epoch 39/150\n",
      "152/152 [==============================] - 3s 20ms/step - loss: 0.6143 - accuracy: 0.7117 - val_loss: 0.6809 - val_accuracy: 0.6894\n",
      "Epoch 40/150\n",
      "152/152 [==============================] - 3s 20ms/step - loss: 0.6208 - accuracy: 0.7042 - val_loss: 0.6013 - val_accuracy: 0.7099\n",
      "Epoch 41/150\n",
      "152/152 [==============================] - 3s 20ms/step - loss: 0.5902 - accuracy: 0.7307 - val_loss: 211.3345 - val_accuracy: 0.7254\n",
      "Epoch 42/150\n",
      "152/152 [==============================] - 3s 20ms/step - loss: 0.5840 - accuracy: 0.7309 - val_loss: 0.5854 - val_accuracy: 0.7167\n",
      "Epoch 43/150\n",
      "152/152 [==============================] - 3s 20ms/step - loss: 0.5911 - accuracy: 0.7232 - val_loss: 0.6295 - val_accuracy: 0.6981\n",
      "Epoch 44/150\n",
      "152/152 [==============================] - 3s 20ms/step - loss: 0.5595 - accuracy: 0.7416 - val_loss: 0.5733 - val_accuracy: 0.7297\n",
      "Epoch 45/150\n",
      "152/152 [==============================] - 3s 20ms/step - loss: 0.5606 - accuracy: 0.7360 - val_loss: 255252.9844 - val_accuracy: 0.6671\n",
      "Epoch 46/150\n",
      "152/152 [==============================] - 3s 20ms/step - loss: 0.5770 - accuracy: 0.7398 - val_loss: 131748.6562 - val_accuracy: 0.6869\n",
      "Epoch 47/150\n",
      "152/152 [==============================] - 3s 20ms/step - loss: 0.5549 - accuracy: 0.7404 - val_loss: 11.3830 - val_accuracy: 0.7012\n",
      "Epoch 48/150\n",
      "152/152 [==============================] - 3s 20ms/step - loss: 0.5534 - accuracy: 0.7429 - val_loss: 0.6346 - val_accuracy: 0.6813\n",
      "Epoch 49/150\n",
      "152/152 [==============================] - 3s 20ms/step - loss: 0.5580 - accuracy: 0.7391 - val_loss: 0.8704 - val_accuracy: 0.6751\n",
      "Epoch 50/150\n",
      "152/152 [==============================] - 3s 20ms/step - loss: 0.5447 - accuracy: 0.7509 - val_loss: 1950382.1250 - val_accuracy: 0.6677\n",
      "Epoch 51/150\n",
      "152/152 [==============================] - 3s 20ms/step - loss: 0.5348 - accuracy: 0.7534 - val_loss: 0.5937 - val_accuracy: 0.7210\n",
      "Epoch 52/150\n",
      "152/152 [==============================] - 3s 20ms/step - loss: 0.5438 - accuracy: 0.7480 - val_loss: 1.0978 - val_accuracy: 0.7229\n",
      "Epoch 53/150\n",
      "152/152 [==============================] - 3s 20ms/step - loss: 0.5217 - accuracy: 0.7675 - val_loss: 3005.3438 - val_accuracy: 0.6497\n",
      "Epoch 54/150\n",
      "152/152 [==============================] - 3s 20ms/step - loss: 0.5182 - accuracy: 0.7592 - val_loss: 4698.7754 - val_accuracy: 0.6894\n",
      "Epoch 55/150\n",
      "152/152 [==============================] - 3s 20ms/step - loss: 0.5270 - accuracy: 0.7594 - val_loss: 0.5786 - val_accuracy: 0.7297\n",
      "Epoch 56/150\n",
      "152/152 [==============================] - 3s 20ms/step - loss: 0.5156 - accuracy: 0.7611 - val_loss: 0.5844 - val_accuracy: 0.7452\n",
      "Epoch 57/150\n"
     ]
    },
    {
     "name": "stdout",
     "output_type": "stream",
     "text": [
      "152/152 [==============================] - 3s 19ms/step - loss: 0.5040 - accuracy: 0.7704 - val_loss: 0.6200 - val_accuracy: 0.7247\n",
      "Epoch 58/150\n",
      "152/152 [==============================] - 3s 20ms/step - loss: 0.5060 - accuracy: 0.7741 - val_loss: 0.6959 - val_accuracy: 0.7347\n",
      "Epoch 59/150\n",
      "152/152 [==============================] - 3s 20ms/step - loss: 0.5085 - accuracy: 0.7716 - val_loss: 41.5569 - val_accuracy: 0.7173\n",
      "Epoch 60/150\n",
      "152/152 [==============================] - 3s 20ms/step - loss: 0.4943 - accuracy: 0.7751 - val_loss: 0.6364 - val_accuracy: 0.6919\n",
      "Epoch 61/150\n",
      "152/152 [==============================] - 3s 20ms/step - loss: 0.4806 - accuracy: 0.7848 - val_loss: 0.8188 - val_accuracy: 0.6807\n",
      "Epoch 62/150\n",
      "152/152 [==============================] - 3s 20ms/step - loss: 0.4578 - accuracy: 0.7947 - val_loss: 0.5949 - val_accuracy: 0.7440\n",
      "Epoch 63/150\n",
      "152/152 [==============================] - 3s 20ms/step - loss: 0.4763 - accuracy: 0.7894 - val_loss: 6.4289 - val_accuracy: 0.5592\n",
      "Epoch 64/150\n",
      "152/152 [==============================] - 3s 20ms/step - loss: 0.4835 - accuracy: 0.7803 - val_loss: 3423.4126 - val_accuracy: 0.6665\n",
      "Epoch 65/150\n",
      "152/152 [==============================] - 3s 20ms/step - loss: 0.4560 - accuracy: 0.8061 - val_loss: 9.7380 - val_accuracy: 0.7130\n",
      "Epoch 66/150\n",
      "152/152 [==============================] - 3s 19ms/step - loss: 0.4311 - accuracy: 0.8183 - val_loss: 7235.4390 - val_accuracy: 0.7502\n",
      "Epoch 67/150\n",
      "152/152 [==============================] - 3s 19ms/step - loss: 0.4272 - accuracy: 0.8100 - val_loss: 41.2791 - val_accuracy: 0.7210\n",
      "Epoch 68/150\n",
      "152/152 [==============================] - 3s 19ms/step - loss: 0.4414 - accuracy: 0.8032 - val_loss: 210280.1562 - val_accuracy: 0.7192\n",
      "Epoch 69/150\n",
      "152/152 [==============================] - 3s 19ms/step - loss: 0.4111 - accuracy: 0.8270 - val_loss: 43858.6133 - val_accuracy: 0.7111\n",
      "Epoch 70/150\n",
      "152/152 [==============================] - 3s 19ms/step - loss: 0.4190 - accuracy: 0.8231 - val_loss: 0.6318 - val_accuracy: 0.7409\n",
      "Epoch 71/150\n",
      "152/152 [==============================] - 3s 19ms/step - loss: 0.3863 - accuracy: 0.8363 - val_loss: 0.8237 - val_accuracy: 0.7198\n",
      "Epoch 72/150\n",
      "152/152 [==============================] - 3s 19ms/step - loss: 0.4127 - accuracy: 0.8278 - val_loss: 1.0951 - val_accuracy: 0.7210\n",
      "Epoch 73/150\n",
      "152/152 [==============================] - 3s 20ms/step - loss: 0.3830 - accuracy: 0.8394 - val_loss: 19766.9336 - val_accuracy: 0.7185\n",
      "Epoch 74/150\n",
      "152/152 [==============================] - 3s 20ms/step - loss: 0.3639 - accuracy: 0.8543 - val_loss: 1.0075 - val_accuracy: 0.6720\n",
      "Epoch 75/150\n",
      "152/152 [==============================] - 3s 20ms/step - loss: 0.3843 - accuracy: 0.8359 - val_loss: 1.0057 - val_accuracy: 0.7092\n",
      "Epoch 76/150\n",
      "152/152 [==============================] - 3s 20ms/step - loss: 0.4265 - accuracy: 0.8196 - val_loss: 0.6159 - val_accuracy: 0.7433\n",
      "Epoch 77/150\n",
      "152/152 [==============================] - 3s 20ms/step - loss: 0.3372 - accuracy: 0.8642 - val_loss: 61790.2109 - val_accuracy: 0.7520\n",
      "Epoch 78/150\n",
      "152/152 [==============================] - 3s 20ms/step - loss: 0.3301 - accuracy: 0.8679 - val_loss: 0.6914 - val_accuracy: 0.7223\n",
      "Epoch 79/150\n",
      "152/152 [==============================] - 3s 20ms/step - loss: 0.3287 - accuracy: 0.8685 - val_loss: 0.7421 - val_accuracy: 0.7464\n",
      "Epoch 80/150\n",
      "152/152 [==============================] - 3s 20ms/step - loss: 0.3206 - accuracy: 0.8690 - val_loss: 0.7846 - val_accuracy: 0.7545\n",
      "Epoch 81/150\n",
      "152/152 [==============================] - 3s 20ms/step - loss: 0.2979 - accuracy: 0.8811 - val_loss: 211048.8750 - val_accuracy: 0.7353\n",
      "Epoch 82/150\n",
      "152/152 [==============================] - 3s 20ms/step - loss: 0.3081 - accuracy: 0.8780 - val_loss: 0.9427 - val_accuracy: 0.7266\n",
      "Epoch 83/150\n",
      "152/152 [==============================] - 3s 20ms/step - loss: 0.2863 - accuracy: 0.8874 - val_loss: 0.7319 - val_accuracy: 0.7334\n",
      "Epoch 84/150\n",
      "152/152 [==============================] - 3s 20ms/step - loss: 0.2522 - accuracy: 0.8993 - val_loss: 1.0546 - val_accuracy: 0.7440\n",
      "Epoch 85/150\n",
      "152/152 [==============================] - 3s 20ms/step - loss: 0.2676 - accuracy: 0.8952 - val_loss: 1.0082 - val_accuracy: 0.7297\n",
      "Epoch 86/150\n",
      "152/152 [==============================] - 3s 20ms/step - loss: 0.2719 - accuracy: 0.8919 - val_loss: 1.0187 - val_accuracy: 0.7254\n",
      "Epoch 87/150\n",
      "152/152 [==============================] - 3s 20ms/step - loss: 0.2375 - accuracy: 0.9138 - val_loss: 0.8269 - val_accuracy: 0.7446\n",
      "Epoch 88/150\n",
      "152/152 [==============================] - 3s 20ms/step - loss: 0.2667 - accuracy: 0.8985 - val_loss: 2241.7375 - val_accuracy: 0.7514\n",
      "Epoch 89/150\n",
      "152/152 [==============================] - 3s 20ms/step - loss: 0.2121 - accuracy: 0.9171 - val_loss: 0.9240 - val_accuracy: 0.7210\n",
      "Epoch 90/150\n",
      "152/152 [==============================] - 3s 20ms/step - loss: 0.2210 - accuracy: 0.9167 - val_loss: 174641.5781 - val_accuracy: 0.7526\n",
      "Epoch 91/150\n",
      "152/152 [==============================] - 3s 20ms/step - loss: 0.2454 - accuracy: 0.9111 - val_loss: 55685.3008 - val_accuracy: 0.7291\n",
      "Epoch 92/150\n",
      "152/152 [==============================] - 3s 20ms/step - loss: 0.2211 - accuracy: 0.9198 - val_loss: 32367.1621 - val_accuracy: 0.7495\n",
      "Epoch 93/150\n",
      "152/152 [==============================] - 3s 20ms/step - loss: 0.1760 - accuracy: 0.9351 - val_loss: 16791.7578 - val_accuracy: 0.7452\n",
      "Epoch 94/150\n",
      "152/152 [==============================] - 3s 20ms/step - loss: 0.1923 - accuracy: 0.9297 - val_loss: 0.9120 - val_accuracy: 0.7378\n",
      "Epoch 95/150\n",
      "152/152 [==============================] - 3s 20ms/step - loss: 0.1690 - accuracy: 0.9378 - val_loss: 1.6268 - val_accuracy: 0.7012\n",
      "Epoch 96/150\n",
      "152/152 [==============================] - 3s 20ms/step - loss: 0.1885 - accuracy: 0.9318 - val_loss: 1.0845 - val_accuracy: 0.7440\n",
      "Epoch 97/150\n",
      "152/152 [==============================] - 3s 20ms/step - loss: 0.1724 - accuracy: 0.9372 - val_loss: 444997.5938 - val_accuracy: 0.7260\n",
      "Epoch 98/150\n",
      "152/152 [==============================] - 3s 20ms/step - loss: 0.1821 - accuracy: 0.9343 - val_loss: 114538.6016 - val_accuracy: 0.7359\n",
      "Epoch 99/150\n",
      "152/152 [==============================] - 3s 20ms/step - loss: 0.2189 - accuracy: 0.9204 - val_loss: 0.8357 - val_accuracy: 0.7446\n",
      "Epoch 100/150\n",
      "152/152 [==============================] - 3s 20ms/step - loss: 0.1584 - accuracy: 0.9479 - val_loss: 1.1646 - val_accuracy: 0.7390\n",
      "Epoch 101/150\n",
      "152/152 [==============================] - 3s 20ms/step - loss: 0.1857 - accuracy: 0.9349 - val_loss: 11724.7998 - val_accuracy: 0.7260\n",
      "Epoch 102/150\n",
      "152/152 [==============================] - 3s 20ms/step - loss: 0.1300 - accuracy: 0.9539 - val_loss: 1.1869 - val_accuracy: 0.7192\n",
      "Epoch 103/150\n",
      "152/152 [==============================] - 3s 20ms/step - loss: 0.1621 - accuracy: 0.9454 - val_loss: 70008.3906 - val_accuracy: 0.7322\n",
      "Epoch 104/150\n",
      "152/152 [==============================] - 3s 20ms/step - loss: 0.1430 - accuracy: 0.9479 - val_loss: 8183.0742 - val_accuracy: 0.7421\n",
      "Epoch 105/150\n",
      "152/152 [==============================] - 3s 20ms/step - loss: 0.1506 - accuracy: 0.9492 - val_loss: 1.5279 - val_accuracy: 0.7192\n",
      "Epoch 106/150\n",
      "152/152 [==============================] - 3s 20ms/step - loss: 0.2036 - accuracy: 0.9322 - val_loss: 1.2616 - val_accuracy: 0.7285\n",
      "Epoch 107/150\n",
      "152/152 [==============================] - 3s 20ms/step - loss: 0.1211 - accuracy: 0.9558 - val_loss: 1.4587 - val_accuracy: 0.7427\n",
      "Epoch 108/150\n",
      "152/152 [==============================] - 3s 20ms/step - loss: 0.1283 - accuracy: 0.9545 - val_loss: 1.6658 - val_accuracy: 0.7278\n",
      "Epoch 109/150\n",
      "152/152 [==============================] - 3s 20ms/step - loss: 0.1473 - accuracy: 0.9475 - val_loss: 1.3327 - val_accuracy: 0.7359\n",
      "Epoch 110/150\n",
      "152/152 [==============================] - 3s 20ms/step - loss: 0.1085 - accuracy: 0.9611 - val_loss: 15806.9072 - val_accuracy: 0.7161\n",
      "Epoch 111/150\n",
      "152/152 [==============================] - 3s 20ms/step - loss: 0.1075 - accuracy: 0.9647 - val_loss: 5.7722 - val_accuracy: 0.7446\n",
      "Epoch 112/150\n",
      "152/152 [==============================] - 3s 20ms/step - loss: 0.1529 - accuracy: 0.9516 - val_loss: 189358.5781 - val_accuracy: 0.7384\n"
     ]
    },
    {
     "name": "stdout",
     "output_type": "stream",
     "text": [
      "Epoch 113/150\n",
      "152/152 [==============================] - 3s 20ms/step - loss: 0.0915 - accuracy: 0.9702 - val_loss: 6570.6533 - val_accuracy: 0.7099\n",
      "Epoch 114/150\n",
      "152/152 [==============================] - 3s 20ms/step - loss: 0.0903 - accuracy: 0.9711 - val_loss: 1.4187 - val_accuracy: 0.7433\n",
      "Epoch 115/150\n",
      "152/152 [==============================] - 3s 20ms/step - loss: 0.0972 - accuracy: 0.9667 - val_loss: 159574.9688 - val_accuracy: 0.7117\n",
      "Epoch 116/150\n",
      "152/152 [==============================] - 3s 20ms/step - loss: 0.0937 - accuracy: 0.9690 - val_loss: 2072896.7500 - val_accuracy: 0.7334\n",
      "Epoch 117/150\n",
      "152/152 [==============================] - 3s 20ms/step - loss: 0.1128 - accuracy: 0.9649 - val_loss: 17948006.0000 - val_accuracy: 0.7415\n",
      "Epoch 118/150\n",
      "152/152 [==============================] - 3s 20ms/step - loss: 0.0830 - accuracy: 0.9731 - val_loss: 3875907.2500 - val_accuracy: 0.7371\n",
      "Epoch 119/150\n",
      "152/152 [==============================] - 3s 20ms/step - loss: 0.0985 - accuracy: 0.9673 - val_loss: 69003.7969 - val_accuracy: 0.7669\n",
      "Epoch 120/150\n",
      "152/152 [==============================] - 3s 20ms/step - loss: 0.0918 - accuracy: 0.9696 - val_loss: 1.8409 - val_accuracy: 0.7458\n",
      "Epoch 121/150\n",
      "152/152 [==============================] - 3s 20ms/step - loss: 0.1498 - accuracy: 0.9518 - val_loss: 1.4123 - val_accuracy: 0.7489\n",
      "Epoch 122/150\n",
      "152/152 [==============================] - 3s 20ms/step - loss: 0.0823 - accuracy: 0.9711 - val_loss: 99931.8672 - val_accuracy: 0.7415\n",
      "Epoch 123/150\n",
      "152/152 [==============================] - 3s 20ms/step - loss: 0.0959 - accuracy: 0.9688 - val_loss: 2.3219 - val_accuracy: 0.6844\n",
      "Epoch 124/150\n",
      "152/152 [==============================] - 3s 20ms/step - loss: 0.1066 - accuracy: 0.9644 - val_loss: 905823.1250 - val_accuracy: 0.7489\n",
      "Epoch 125/150\n",
      "152/152 [==============================] - 3s 20ms/step - loss: 0.1082 - accuracy: 0.9638 - val_loss: 1.3289 - val_accuracy: 0.7353\n",
      "Epoch 126/150\n",
      "152/152 [==============================] - 3s 19ms/step - loss: 0.0686 - accuracy: 0.9762 - val_loss: 1.6259 - val_accuracy: 0.7272\n",
      "Epoch 127/150\n",
      "152/152 [==============================] - 3s 20ms/step - loss: 0.1448 - accuracy: 0.9591 - val_loss: 6691.7954 - val_accuracy: 0.7216\n",
      "Epoch 128/150\n",
      "152/152 [==============================] - 3s 19ms/step - loss: 0.0863 - accuracy: 0.9731 - val_loss: 1.6174 - val_accuracy: 0.7285\n",
      "Epoch 129/150\n",
      "152/152 [==============================] - 3s 19ms/step - loss: 0.0671 - accuracy: 0.9756 - val_loss: 1.5914 - val_accuracy: 0.7384\n",
      "Epoch 130/150\n",
      "152/152 [==============================] - 3s 19ms/step - loss: 0.1176 - accuracy: 0.9638 - val_loss: 1.3034 - val_accuracy: 0.7371\n",
      "Epoch 131/150\n",
      "152/152 [==============================] - 3s 19ms/step - loss: 0.0761 - accuracy: 0.9768 - val_loss: 1.7650 - val_accuracy: 0.7086\n",
      "Epoch 132/150\n",
      "152/152 [==============================] - 3s 19ms/step - loss: 0.0710 - accuracy: 0.9775 - val_loss: 1.3995 - val_accuracy: 0.7322\n",
      "Epoch 133/150\n",
      "152/152 [==============================] - 3s 19ms/step - loss: 0.1052 - accuracy: 0.9659 - val_loss: 1.3724 - val_accuracy: 0.7371\n",
      "Epoch 134/150\n",
      "152/152 [==============================] - 3s 19ms/step - loss: 0.0592 - accuracy: 0.9810 - val_loss: 1.7662 - val_accuracy: 0.7520\n",
      "Epoch 135/150\n",
      "152/152 [==============================] - 3s 19ms/step - loss: 0.0531 - accuracy: 0.9824 - val_loss: 1.6637 - val_accuracy: 0.7396\n",
      "Epoch 136/150\n",
      "152/152 [==============================] - 3s 19ms/step - loss: 0.0800 - accuracy: 0.9764 - val_loss: 18725.8320 - val_accuracy: 0.7037\n",
      "Epoch 137/150\n",
      "152/152 [==============================] - 3s 20ms/step - loss: 0.0913 - accuracy: 0.9698 - val_loss: 401786.2500 - val_accuracy: 0.7272\n",
      "Epoch 138/150\n",
      "152/152 [==============================] - 3s 20ms/step - loss: 0.0682 - accuracy: 0.9775 - val_loss: 8191.9082 - val_accuracy: 0.7471\n",
      "Epoch 139/150\n",
      "152/152 [==============================] - 3s 20ms/step - loss: 0.0752 - accuracy: 0.9781 - val_loss: 10.0655 - val_accuracy: 0.7154\n",
      "Epoch 140/150\n",
      "152/152 [==============================] - 3s 20ms/step - loss: 0.0572 - accuracy: 0.9812 - val_loss: 2479521.0000 - val_accuracy: 0.7390\n",
      "Epoch 141/150\n",
      "152/152 [==============================] - 3s 20ms/step - loss: 0.0835 - accuracy: 0.9740 - val_loss: 12236.9424 - val_accuracy: 0.7328\n",
      "Epoch 142/150\n",
      "152/152 [==============================] - 3s 20ms/step - loss: 0.0437 - accuracy: 0.9862 - val_loss: 135100.9062 - val_accuracy: 0.6944\n",
      "Epoch 143/150\n",
      "152/152 [==============================] - 3s 20ms/step - loss: 0.2002 - accuracy: 0.9382 - val_loss: 1.4732 - val_accuracy: 0.7365\n",
      "Epoch 144/150\n",
      "152/152 [==============================] - 3s 20ms/step - loss: 0.0661 - accuracy: 0.9795 - val_loss: 137215.7656 - val_accuracy: 0.7483\n",
      "Epoch 145/150\n",
      "152/152 [==============================] - 3s 20ms/step - loss: 0.0891 - accuracy: 0.9715 - val_loss: 2.2241 - val_accuracy: 0.7241\n",
      "Epoch 146/150\n",
      "152/152 [==============================] - 3s 20ms/step - loss: 0.1161 - accuracy: 0.9638 - val_loss: 19406.4844 - val_accuracy: 0.7359\n",
      "Epoch 147/150\n",
      "152/152 [==============================] - 3s 20ms/step - loss: 0.0615 - accuracy: 0.9812 - val_loss: 1.4314 - val_accuracy: 0.7322\n",
      "Epoch 148/150\n",
      "152/152 [==============================] - 3s 20ms/step - loss: 0.0428 - accuracy: 0.9855 - val_loss: 241332.8438 - val_accuracy: 0.7278\n",
      "Epoch 149/150\n",
      "152/152 [==============================] - 3s 20ms/step - loss: 0.0739 - accuracy: 0.9775 - val_loss: 1.4357 - val_accuracy: 0.7092\n",
      "Epoch 150/150\n",
      "152/152 [==============================] - 3s 20ms/step - loss: 0.0780 - accuracy: 0.9777 - val_loss: 870441.1875 - val_accuracy: 0.7427\n",
      "elapsed time training dataset (sec): 454.98253107070923\n"
     ]
    }
   ],
   "source": [
    "start_time = time.time()\n",
    "\n",
    "hist = model.fit(x_train, y_train,\n",
    "                 epochs=n_epochs,\n",
    "                 batch_size=batch_size,\n",
    "                 validation_split=validation_split,\n",
    "                 shuffle=True,\n",
    "                 verbose=1)\n",
    "\n",
    "print('elapsed time training dataset (sec):', time.time() - start_time)\n",
    "\n",
    "model.save(model_save_path)"
   ]
  },
  {
   "cell_type": "code",
   "execution_count": 16,
   "id": "b34313fb",
   "metadata": {},
   "outputs": [
    {
     "data": {
      "image/png": "[encoded data removed]",
      "text/plain": [
       "<Figure size 1080x360 with 2 Axes>"
      ]
     },
     "metadata": {
      "needs_background": "light"
     },
     "output_type": "display_data"
    }
   ],
   "source": [
    "history_dict = hist.history\n",
    "\n",
    "loss_values = history_dict['loss']\n",
    "acc_values = history_dict['accuracy']\n",
    "if split_val:\n",
    "    val_loss_values = history_dict['val_loss']\n",
    "    val_acc_values = history_dict['val_accuracy']\n",
    "\n",
    "fig, (ax1, ax2) = plt.subplots(1, 2, figsize=(15, 5))\n",
    "\n",
    "ax1.plot(loss_values, 'blue', label='Training Loss')\n",
    "if split_val:\n",
    "    ax1.plot(val_loss_values, 'orange', label='Validation Loss')\n",
    "ax1.set_title('Training and validation loss')\n",
    "ax1.set_xlabel('Epochs')\n",
    "ax1.set_ylabel('Loss')\n",
    "ax1.legend()\n",
    "\n",
    "ax2.plot(acc_values, 'blue', label='Training accuracy')\n",
    "if split_val:\n",
    "    ax2.plot(val_acc_values, 'orange', label='Validation accuracy')\n",
    "ax2.set_title('Training and validation accuracy')\n",
    "ax2.set_xlabel('Epochs')\n",
    "ax2.set_ylabel('Accuracy')\n",
    "ax2.legend()\n",
    "\n",
    "plt.show()"
   ]
  },
  {
   "cell_type": "code",
   "execution_count": 17,
   "id": "70146c37",
   "metadata": {},
   "outputs": [
    {
     "name": "stdout",
     "output_type": "stream",
     "text": [
      "51/51 [==============================] - 0s 8ms/step - loss: 1.8174 - accuracy: 0.7173\n",
      "test loss: 1.8174419403076172\n",
      "test accuracy: 0.7172969579696655\n"
     ]
    }
   ],
   "source": [
    "loss, accuracy = model.evaluate(x_test, y_test)\n",
    "print('test loss:', loss)\n",
    "print('test accuracy:', accuracy)"
   ]
  },
  {
   "cell_type": "markdown",
   "id": "a367cc71",
   "metadata": {},
   "source": [
    "# 파일 테스트"
   ]
  },
  {
   "cell_type": "code",
   "execution_count": null,
   "id": "95a5f7a5",
   "metadata": {},
   "outputs": [],
   "source": [
    "test_file_name = 'dataset/negative/1001_DFA_ANG_XX.wav'"
   ]
  },
  {
   "cell_type": "code",
   "execution_count": null,
   "id": "66148657",
   "metadata": {},
   "outputs": [],
   "source": [
    "prediction_feature = extract_feature(test_file_name, input_shape[0]).reshape((1, ) + input_shape)\n",
    "model = load_model(model_save_path)\n",
    "\n",
    "predicted_proba = model.predict(prediction_feature)[0]\n",
    "predicted_class = np.argmax(predicted_proba)\n",
    "\n",
    "print('classification result:', le.classes_[predicted_class])"
   ]
  },
  {
   "cell_type": "code",
   "execution_count": null,
   "id": "db540429",
   "metadata": {},
   "outputs": [],
   "source": []
  }
 ],
 "metadata": {
  "kernelspec": {
   "display_name": "emotion",
   "language": "python",
   "name": "emotion"
  },
  "language_info": {
   "codemirror_mode": {
    "name": "ipython",
    "version": 3
   },
   "file_extension": ".py",
   "mimetype": "text/x-python",
   "name": "python",
   "nbconvert_exporter": "python",
   "pygments_lexer": "ipython3",
   "version": "3.8.8"
  }
 },
 "nbformat": 4,
 "nbformat_minor": 5
}
