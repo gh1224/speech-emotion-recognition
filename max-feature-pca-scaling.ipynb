{
 "cells": [
  {
   "cell_type": "code",
   "execution_count": null,
   "id": "90230a47",
   "metadata": {},
   "outputs": [],
   "source": [
    "\"\"\"\n",
    "데이터셋\n",
    "Crema, Ravdess, Tess, Savee\n",
    "\n",
    "Positive: happiness - 2323\n",
    "Neutral: neutral, calmness - 1895\n",
    "Negative: anger, sadness - 3846\n",
    "\"\"\""
   ]
  },
  {
   "cell_type": "code",
   "execution_count": 1,
   "id": "736ee2e8",
   "metadata": {},
   "outputs": [
    {
     "name": "stderr",
     "output_type": "stream",
     "text": [
      "C:\\Users\\DeepLearning_5\\Anaconda3\\lib\\site-packages\\requests\\__init__.py:89: RequestsDependencyWarning: urllib3 (1.24.3) or chardet (4.0.0) doesn't match a supported version!\n",
      "  warnings.warn(\"urllib3 ({}) or chardet ({}) doesn't match a supported \"\n"
     ]
    }
   ],
   "source": [
    "import numpy as np\n",
    "import time\n",
    "from tqdm import tqdm\n",
    "import os\n",
    "import librosa\n",
    "import matplotlib.pyplot as plt\n",
    "\n",
    "from sklearn.preprocessing import LabelEncoder, StandardScaler\n",
    "from sklearn.model_selection import train_test_split\n",
    "from sklearn.decomposition import PCA\n",
    "\n",
    "from keras.utils.np_utils import to_categorical\n",
    "from keras.models import load_model, Sequential\n",
    "from keras.layers import Conv1D, MaxPooling1D, Flatten, BatchNormalization, Dense, Dropout"
   ]
  },
  {
   "cell_type": "code",
   "execution_count": 2,
   "id": "1ce1ef09",
   "metadata": {},
   "outputs": [],
   "source": [
    "base_dir = 'dataset'\n",
    "\n",
    "n_mfcc = 128\n",
    "num_rows = 150\n",
    "num_columns = 153\n",
    "pca_components = 50\n",
    "feature_shape = (num_rows, num_columns)\n",
    "input_shape = (num_rows, pca_components)\n",
    "\n",
    "n_epochs = 150\n",
    "batch_size = None\n",
    "split_val = True\n",
    "\n",
    "model_save_path = 'saved_models/model.h5'"
   ]
  },
  {
   "cell_type": "code",
   "execution_count": 3,
   "id": "a39885db",
   "metadata": {},
   "outputs": [],
   "source": [
    "def load_feature_tuple(file_name):\n",
    "    y, sr = librosa.load(file_name, mono=True)\n",
    "\n",
    "    mfcc = librosa.feature.mfcc(y=y, sr=sr, n_mfcc=n_mfcc)\n",
    "    \n",
    "    spectral_centroid = librosa.feature.spectral_centroid(y=y, sr=sr)\n",
    "    spectral_bandwidth = librosa.feature.spectral_bandwidth(y=y, sr=sr)\n",
    "    spectral_contrast = librosa.feature.spectral_contrast(y=y, sr=sr)\n",
    "    spectral_flatness = librosa.feature.spectral_flatness(y=y)\n",
    "    spectral_rolloff = librosa.feature.spectral_rolloff(y=y, sr=sr)\n",
    "    \n",
    "    zero_crossing_rate = librosa.feature.zero_crossing_rate(y=y)\n",
    "    \n",
    "    chroma_stft = librosa.feature.chroma_stft(y=y, sr=sr)\n",
    "    \n",
    "    rms = librosa.feature.rms(y=y)\n",
    "    \n",
    "    return mfcc, spectral_centroid, spectral_bandwidth, spectral_contrast, spectral_flatness, spectral_rolloff, zero_crossing_rate, chroma_stft, rms"
   ]
  },
  {
   "cell_type": "code",
   "execution_count": 4,
   "id": "e8cccf27",
   "metadata": {},
   "outputs": [],
   "source": [
    "def pad_feature_width(feature, feature_width):\n",
    "    diff = feature_width - feature.shape[1]\n",
    "    if diff > 0:\n",
    "        return np.pad(feature, pad_width=((0, 0), (0, diff)), mode='constant')\n",
    "    elif diff < 0:\n",
    "        return np.delete(feature, np.arange(feature_width, feature.shape[1]), axis=1)\n",
    "    return feature"
   ]
  },
  {
   "cell_type": "code",
   "execution_count": 5,
   "id": "15aa2cbc",
   "metadata": {},
   "outputs": [],
   "source": [
    "def extract_feature(file_name, feature_width):\n",
    "    image = np.concatenate(load_feature_tuple(file_name), axis=0)\n",
    "    image = pad_feature_width(image, feature_width)\n",
    "    image = np.transpose(image)\n",
    "    return image"
   ]
  },
  {
   "cell_type": "code",
   "execution_count": 6,
   "id": "4158fb8c",
   "metadata": {},
   "outputs": [],
   "source": [
    "def fetch_dataset(dir_path, label):\n",
    "    _features = np.empty((0, ) + feature_shape)\n",
    "    for file_name in tqdm(os.listdir(dir_path)):\n",
    "        file_path = os.path.join(dir_path, file_name)\n",
    "        feature = extract_feature(file_path, feature_shape[0]).reshape((1, ) + feature_shape)\n",
    "        _features = np.append(_features, feature, axis=0)\n",
    "\n",
    "    _labels = np.full((_features.shape[0], ), label)\n",
    "\n",
    "    return _features, _labels"
   ]
  },
  {
   "cell_type": "markdown",
   "id": "68afff4f",
   "metadata": {},
   "source": [
    "# 데이터셋 가져오기"
   ]
  },
  {
   "cell_type": "code",
   "execution_count": 7,
   "id": "168ee650",
   "metadata": {},
   "outputs": [
    {
     "name": "stderr",
     "output_type": "stream",
     "text": [
      "100%|██████████████████████████████████████████████████████████████████████████████| 2323/2323 [10:01<00:00,  3.86it/s]\n",
      "100%|██████████████████████████████████████████████████████████████████████████████| 1895/1895 [07:23<00:00,  4.27it/s]\n",
      " 65%|██████████████████████████████████████████████████▋                           | 2497/3846 [10:26<07:49,  2.87it/s]C:\\Users\\DeepLearning_5\\Anaconda3\\lib\\site-packages\\librosa\\core\\pitch.py:153: UserWarning: Trying to estimate tuning from empty frequency set.\n",
      "  warnings.warn(\"Trying to estimate tuning from empty frequency set.\")\n",
      "100%|██████████████████████████████████████████████████████████████████████████████| 3846/3846 [19:55<00:00,  3.22it/s]"
     ]
    },
    {
     "name": "stdout",
     "output_type": "stream",
     "text": [
      "elapsed time fetching dataset (sec): 2241.053627729416\n"
     ]
    },
    {
     "name": "stderr",
     "output_type": "stream",
     "text": [
      "\n"
     ]
    }
   ],
   "source": [
    "start_time = time.time()\n",
    "\n",
    "positive_features, positive_labels = fetch_dataset(base_dir + '/positive', 'POSITIVE')\n",
    "neutral_features, neutral_labels = fetch_dataset(base_dir + '/neutral', 'NEUTRAL')\n",
    "negative_features, negative_labels = fetch_dataset(base_dir + '/negative', 'NEGATIVE')\n",
    "\n",
    "print('elapsed time fetching dataset (sec):', time.time() - start_time)"
   ]
  },
  {
   "cell_type": "code",
   "execution_count": 8,
   "id": "c1ca2ae7",
   "metadata": {},
   "outputs": [
    {
     "name": "stdout",
     "output_type": "stream",
     "text": [
      "features shape: (8064, 150, 153)\n",
      "labels shape before encoding: (8064,)\n"
     ]
    }
   ],
   "source": [
    "features = np.concatenate((positive_features, neutral_features, negative_features), axis=0)\n",
    "labels = np.concatenate((positive_labels, neutral_labels, negative_labels), axis=0)\n",
    "\n",
    "print('features shape:', features.shape)\n",
    "print('labels shape before encoding:', labels.shape)"
   ]
  },
  {
   "cell_type": "code",
   "execution_count": 9,
   "id": "ad68ccfe",
   "metadata": {},
   "outputs": [
    {
     "name": "stdout",
     "output_type": "stream",
     "text": [
      "labels shape after encoding: (8064, 3)\n",
      "label encoder classes: ['NEGATIVE' 'NEUTRAL' 'POSITIVE']\n"
     ]
    }
   ],
   "source": [
    "le = LabelEncoder()\n",
    "labels = to_categorical(le.fit_transform(labels))\n",
    "print('labels shape after encoding:', labels.shape)\n",
    "print('label encoder classes:', le.classes_)"
   ]
  },
  {
   "cell_type": "code",
   "execution_count": 10,
   "id": "e2fcddb0",
   "metadata": {},
   "outputs": [],
   "source": [
    "x_train, x_test, y_train, y_test = train_test_split(features, labels, test_size=0.2)"
   ]
  },
  {
   "cell_type": "code",
   "execution_count": 11,
   "id": "b4d15514",
   "metadata": {},
   "outputs": [
    {
     "name": "stdout",
     "output_type": "stream",
     "text": [
      "x_train shape before PCA: (6451, 150, 153)\n",
      "x_test shape before PCA: (1613, 150, 153)\n",
      "x_train shape after PCA: (6451, 150, 50)\n",
      "x_test shape after PCA: (1613, 150, 50)\n"
     ]
    }
   ],
   "source": [
    "print('x_train shape before PCA:', x_train.shape)\n",
    "print('x_test shape before PCA:', x_test.shape)\n",
    "\n",
    "pca = PCA(n_components=pca_components)\n",
    "x_train = pca.fit_transform(x_train.reshape((-1, num_columns))).reshape((-1,) + input_shape)\n",
    "x_test = pca.transform(x_test.reshape((-1, num_columns))).reshape((-1,) + input_shape)\n",
    "\n",
    "print('x_train shape after PCA:', x_train.shape)\n",
    "print('x_test shape after PCA:', x_test.shape)"
   ]
  },
  {
   "cell_type": "code",
   "execution_count": 12,
   "id": "727edb7f",
   "metadata": {},
   "outputs": [],
   "source": [
    "scaler = StandardScaler(copy=True, with_mean=True, with_std=True)\n",
    "x_train = scaler.fit_transform(x_train.reshape((-1, input_shape[-1]))).reshape((-1,) + input_shape)\n",
    "x_test = scaler.transform(x_test.reshape((-1, input_shape[-1]))).reshape((-1,) + input_shape)"
   ]
  },
  {
   "cell_type": "markdown",
   "id": "bf4f35c8",
   "metadata": {},
   "source": [
    "# 학습"
   ]
  },
  {
   "cell_type": "code",
   "execution_count": 13,
   "id": "1d785a86",
   "metadata": {
    "scrolled": true
   },
   "outputs": [
    {
     "name": "stdout",
     "output_type": "stream",
     "text": [
      "Model: \"sequential\"\n",
      "_________________________________________________________________\n",
      " Layer (type)                Output Shape              Param #   \n",
      "=================================================================\n",
      " block1_conv1 (Conv1D)       (None, 150, 64)           9664      \n",
      "                                                                 \n",
      " block1_conv2 (Conv1D)       (None, 150, 64)           12352     \n",
      "                                                                 \n",
      " block1_pool (MaxPooling1D)  (None, 75, 64)            0         \n",
      "                                                                 \n",
      " block2_conv1 (Conv1D)       (None, 75, 128)           24704     \n",
      "                                                                 \n",
      " block2_conv2 (Conv1D)       (None, 75, 128)           49280     \n",
      "                                                                 \n",
      " block2_pool (MaxPooling1D)  (None, 37, 128)           0         \n",
      "                                                                 \n",
      " block3_conv1 (Conv1D)       (None, 37, 256)           98560     \n",
      "                                                                 \n",
      " block3_conv2 (Conv1D)       (None, 37, 256)           196864    \n",
      "                                                                 \n",
      " block3_conv3 (Conv1D)       (None, 37, 256)           196864    \n",
      "                                                                 \n",
      " block3_pool (MaxPooling1D)  (None, 18, 256)           0         \n",
      "                                                                 \n",
      " block4_conv1 (Conv1D)       (None, 18, 512)           393728    \n",
      "                                                                 \n",
      " block4_conv2 (Conv1D)       (None, 18, 512)           786944    \n",
      "                                                                 \n",
      " block4_conv3 (Conv1D)       (None, 18, 512)           786944    \n",
      "                                                                 \n",
      " block4_pool (MaxPooling1D)  (None, 9, 512)            0         \n",
      "                                                                 \n",
      " block5_conv1 (Conv1D)       (None, 9, 512)            786944    \n",
      "                                                                 \n",
      " block5_conv2 (Conv1D)       (None, 9, 512)            786944    \n",
      "                                                                 \n",
      " block5_conv3 (Conv1D)       (None, 9, 512)            786944    \n",
      "                                                                 \n",
      " block5_pool (MaxPooling1D)  (None, 4, 512)            0         \n",
      "                                                                 \n",
      " flatten (Flatten)           (None, 2048)              0         \n",
      "                                                                 \n",
      " batch_normalization (BatchN  (None, 2048)             8192      \n",
      " ormalization)                                                   \n",
      "                                                                 \n",
      " dense (Dense)               (None, 1024)              2098176   \n",
      "                                                                 \n",
      " dropout (Dropout)           (None, 1024)              0         \n",
      "                                                                 \n",
      " dense_1 (Dense)             (None, 3)                 3075      \n",
      "                                                                 \n",
      "=================================================================\n",
      "Total params: 7,026,179\n",
      "Trainable params: 7,022,083\n",
      "Non-trainable params: 4,096\n",
      "_________________________________________________________________\n"
     ]
    }
   ],
   "source": [
    "model = Sequential()\n",
    "\n",
    "# Block 1\n",
    "model.add(Conv1D(64, 3, activation='relu', padding='same', name='block1_conv1', input_shape=input_shape))\n",
    "model.add(Conv1D(64, 3, activation='relu', padding='same', name='block1_conv2'))\n",
    "model.add(MaxPooling1D(2, strides=2, name='block1_pool'))\n",
    "\n",
    "# Block 2\n",
    "model.add(Conv1D(128, 3, activation='relu', padding='same', name='block2_conv1'))\n",
    "model.add(Conv1D(128, 3, activation='relu', padding='same', name='block2_conv2'))\n",
    "model.add(MaxPooling1D(2, strides=2, name='block2_pool'))\n",
    "\n",
    "# Block 3\n",
    "model.add(Conv1D(256, 3, activation='relu', padding='same', name='block3_conv1'))\n",
    "model.add(Conv1D(256, 3, activation='relu', padding='same', name='block3_conv2'))\n",
    "model.add(Conv1D(256, 3, activation='relu', padding='same', name='block3_conv3'))\n",
    "model.add(MaxPooling1D(2, strides=2, name='block3_pool'))\n",
    "\n",
    "# Block 4\n",
    "model.add(Conv1D(512, 3, activation='relu', padding='same', name='block4_conv1'))\n",
    "model.add(Conv1D(512, 3, activation='relu', padding='same', name='block4_conv2'))\n",
    "model.add(Conv1D(512, 3, activation='relu', padding='same', name='block4_conv3'))\n",
    "model.add(MaxPooling1D(2, strides=2, name='block4_pool'))\n",
    "\n",
    "# Block 5\n",
    "model.add(Conv1D(512, 3, activation='relu', padding='same', name='block5_conv1'))\n",
    "model.add(Conv1D(512, 3, activation='relu', padding='same', name='block5_conv2'))\n",
    "model.add(Conv1D(512, 3, activation='relu', padding='same', name='block5_conv3'))\n",
    "model.add(MaxPooling1D(2, strides=2, name='block5_pool'))\n",
    "\n",
    "model.add(Flatten())\n",
    "model.add(BatchNormalization())\n",
    "model.add(Dense(1024, activation='relu'))\n",
    "model.add(Dropout(0.5))\n",
    "model.add(Dense(3, activation='softmax'))\n",
    "\n",
    "model.summary()"
   ]
  },
  {
   "cell_type": "code",
   "execution_count": 14,
   "id": "8afcb6a5",
   "metadata": {},
   "outputs": [],
   "source": [
    "model.compile(loss='categorical_crossentropy', metrics=['accuracy'], optimizer='adam')"
   ]
  },
  {
   "cell_type": "code",
   "execution_count": 15,
   "id": "8ed3004b",
   "metadata": {},
   "outputs": [],
   "source": [
    "if split_val:\n",
    "    validation_split = 0.25\n",
    "else:\n",
    "    validation_split = 0.0"
   ]
  },
  {
   "cell_type": "code",
   "execution_count": 16,
   "id": "2eb3a18d",
   "metadata": {},
   "outputs": [
    {
     "name": "stdout",
     "output_type": "stream",
     "text": [
      "Epoch 1/150\n",
      "152/152 [==============================] - 9s 26ms/step - loss: 0.8881 - accuracy: 0.5839 - val_loss: 1.0365 - val_accuracy: 0.4650\n",
      "Epoch 2/150\n",
      "152/152 [==============================] - 3s 20ms/step - loss: 0.7315 - accuracy: 0.6538 - val_loss: 1.0462 - val_accuracy: 0.5660\n",
      "Epoch 3/150\n",
      "152/152 [==============================] - 3s 20ms/step - loss: 0.6591 - accuracy: 0.6879 - val_loss: 1.3854 - val_accuracy: 0.3137\n",
      "Epoch 4/150\n",
      "152/152 [==============================] - 3s 20ms/step - loss: 0.6215 - accuracy: 0.7079 - val_loss: 0.9234 - val_accuracy: 0.5753\n",
      "Epoch 5/150\n",
      "152/152 [==============================] - 3s 20ms/step - loss: 0.5955 - accuracy: 0.7205 - val_loss: 1.6167 - val_accuracy: 0.5635\n",
      "Epoch 6/150\n",
      "152/152 [==============================] - 3s 20ms/step - loss: 0.5654 - accuracy: 0.7410 - val_loss: 0.7009 - val_accuracy: 0.6764\n",
      "Epoch 7/150\n",
      "152/152 [==============================] - 3s 20ms/step - loss: 0.5169 - accuracy: 0.7735 - val_loss: 1.7332 - val_accuracy: 0.4811\n",
      "Epoch 8/150\n",
      "152/152 [==============================] - 3s 20ms/step - loss: 0.4980 - accuracy: 0.7770 - val_loss: 0.8713 - val_accuracy: 0.6764\n",
      "Epoch 9/150\n",
      "152/152 [==============================] - 3s 20ms/step - loss: 0.4639 - accuracy: 0.8055 - val_loss: 0.6925 - val_accuracy: 0.6944\n",
      "Epoch 10/150\n",
      "152/152 [==============================] - 3s 20ms/step - loss: 0.4284 - accuracy: 0.8142 - val_loss: 1.2078 - val_accuracy: 0.6696\n",
      "Epoch 11/150\n",
      "152/152 [==============================] - 3s 20ms/step - loss: 0.3914 - accuracy: 0.8367 - val_loss: 1.9318 - val_accuracy: 0.6311\n",
      "Epoch 12/150\n",
      "152/152 [==============================] - 3s 20ms/step - loss: 0.3425 - accuracy: 0.8625 - val_loss: 0.7918 - val_accuracy: 0.6987\n",
      "Epoch 13/150\n",
      "152/152 [==============================] - 3s 20ms/step - loss: 0.3428 - accuracy: 0.8603 - val_loss: 1.6520 - val_accuracy: 0.4606\n",
      "Epoch 14/150\n",
      "152/152 [==============================] - 3s 20ms/step - loss: 0.2955 - accuracy: 0.8830 - val_loss: 0.9832 - val_accuracy: 0.7030\n",
      "Epoch 15/150\n",
      "152/152 [==============================] - 3s 19ms/step - loss: 0.2392 - accuracy: 0.9076 - val_loss: 2.1797 - val_accuracy: 0.6274\n",
      "Epoch 16/150\n",
      "152/152 [==============================] - 3s 20ms/step - loss: 0.2431 - accuracy: 0.9076 - val_loss: 1.2809 - val_accuracy: 0.6299\n",
      "Epoch 17/150\n",
      "152/152 [==============================] - 3s 20ms/step - loss: 0.1989 - accuracy: 0.9215 - val_loss: 1.0418 - val_accuracy: 0.6962\n",
      "Epoch 18/150\n",
      "152/152 [==============================] - 3s 20ms/step - loss: 0.1834 - accuracy: 0.9303 - val_loss: 3.5402 - val_accuracy: 0.4346\n",
      "Epoch 19/150\n",
      "152/152 [==============================] - 3s 20ms/step - loss: 0.1833 - accuracy: 0.9295 - val_loss: 1.5746 - val_accuracy: 0.6782\n",
      "Epoch 20/150\n",
      "152/152 [==============================] - 3s 20ms/step - loss: 0.1749 - accuracy: 0.9359 - val_loss: 1.7644 - val_accuracy: 0.6627\n",
      "Epoch 21/150\n",
      "152/152 [==============================] - 3s 20ms/step - loss: 0.1609 - accuracy: 0.9417 - val_loss: 1.3108 - val_accuracy: 0.6472\n",
      "Epoch 22/150\n",
      "152/152 [==============================] - 3s 20ms/step - loss: 0.1404 - accuracy: 0.9465 - val_loss: 1.7498 - val_accuracy: 0.6658\n",
      "Epoch 23/150\n",
      "152/152 [==============================] - 3s 21ms/step - loss: 0.1057 - accuracy: 0.9636 - val_loss: 1.5425 - val_accuracy: 0.6925\n",
      "Epoch 24/150\n",
      "152/152 [==============================] - 3s 20ms/step - loss: 0.0881 - accuracy: 0.9709 - val_loss: 1.4844 - val_accuracy: 0.6987\n",
      "Epoch 25/150\n",
      "152/152 [==============================] - 3s 20ms/step - loss: 0.1048 - accuracy: 0.9618 - val_loss: 3.6369 - val_accuracy: 0.5462\n",
      "Epoch 26/150\n",
      "152/152 [==============================] - 3s 20ms/step - loss: 0.0963 - accuracy: 0.9653 - val_loss: 1.3798 - val_accuracy: 0.6894\n",
      "Epoch 27/150\n",
      "152/152 [==============================] - 3s 19ms/step - loss: 0.0717 - accuracy: 0.9711 - val_loss: 1.7151 - val_accuracy: 0.6900\n",
      "Epoch 28/150\n",
      "152/152 [==============================] - 3s 20ms/step - loss: 0.1166 - accuracy: 0.9624 - val_loss: 1.5229 - val_accuracy: 0.6913\n",
      "Epoch 29/150\n",
      "152/152 [==============================] - 3s 20ms/step - loss: 0.0966 - accuracy: 0.9607 - val_loss: 1.5140 - val_accuracy: 0.6975\n",
      "Epoch 30/150\n",
      "152/152 [==============================] - 3s 20ms/step - loss: 0.0644 - accuracy: 0.9756 - val_loss: 1.4530 - val_accuracy: 0.6894\n",
      "Epoch 31/150\n",
      "152/152 [==============================] - 3s 20ms/step - loss: 0.0694 - accuracy: 0.9742 - val_loss: 1.8815 - val_accuracy: 0.7018\n",
      "Epoch 32/150\n",
      "152/152 [==============================] - 3s 20ms/step - loss: 0.1062 - accuracy: 0.9630 - val_loss: 3.5584 - val_accuracy: 0.5015\n",
      "Epoch 33/150\n",
      "152/152 [==============================] - 3s 20ms/step - loss: 0.1015 - accuracy: 0.9671 - val_loss: 1.3554 - val_accuracy: 0.6714\n",
      "Epoch 34/150\n",
      "152/152 [==============================] - 3s 20ms/step - loss: 0.1060 - accuracy: 0.9603 - val_loss: 2.3629 - val_accuracy: 0.5970\n",
      "Epoch 35/150\n",
      "152/152 [==============================] - 3s 20ms/step - loss: 0.0913 - accuracy: 0.9675 - val_loss: 3.4990 - val_accuracy: 0.4482\n",
      "Epoch 36/150\n",
      "152/152 [==============================] - 3s 20ms/step - loss: 0.0679 - accuracy: 0.9783 - val_loss: 2.0718 - val_accuracy: 0.6367\n",
      "Epoch 37/150\n",
      "152/152 [==============================] - 3s 20ms/step - loss: 0.0616 - accuracy: 0.9800 - val_loss: 1.9168 - val_accuracy: 0.6882\n",
      "Epoch 38/150\n",
      "152/152 [==============================] - 3s 20ms/step - loss: 0.0580 - accuracy: 0.9797 - val_loss: 2.3239 - val_accuracy: 0.6243\n",
      "Epoch 39/150\n",
      "152/152 [==============================] - 3s 22ms/step - loss: 0.0847 - accuracy: 0.9715 - val_loss: 1.3343 - val_accuracy: 0.6968\n",
      "Epoch 40/150\n",
      "152/152 [==============================] - 3s 20ms/step - loss: 0.0561 - accuracy: 0.9818 - val_loss: 1.6738 - val_accuracy: 0.6875\n",
      "Epoch 41/150\n",
      "152/152 [==============================] - 3s 20ms/step - loss: 0.0630 - accuracy: 0.9787 - val_loss: 2.8643 - val_accuracy: 0.6373\n",
      "Epoch 42/150\n",
      "152/152 [==============================] - 3s 20ms/step - loss: 0.0593 - accuracy: 0.9793 - val_loss: 3.9458 - val_accuracy: 0.4526\n",
      "Epoch 43/150\n",
      "152/152 [==============================] - 3s 20ms/step - loss: 0.0415 - accuracy: 0.9859 - val_loss: 1.7854 - val_accuracy: 0.6931\n",
      "Epoch 44/150\n",
      "152/152 [==============================] - 3s 20ms/step - loss: 0.0639 - accuracy: 0.9777 - val_loss: 1.5496 - val_accuracy: 0.7099\n",
      "Epoch 45/150\n",
      "152/152 [==============================] - 3s 20ms/step - loss: 0.0550 - accuracy: 0.9812 - val_loss: 3.4326 - val_accuracy: 0.4985\n",
      "Epoch 46/150\n",
      "152/152 [==============================] - 3s 20ms/step - loss: 0.0781 - accuracy: 0.9723 - val_loss: 1.8042 - val_accuracy: 0.6882\n",
      "Epoch 47/150\n",
      "152/152 [==============================] - 3s 20ms/step - loss: 0.0444 - accuracy: 0.9851 - val_loss: 1.9190 - val_accuracy: 0.7012\n",
      "Epoch 48/150\n",
      "152/152 [==============================] - 3s 20ms/step - loss: 0.0545 - accuracy: 0.9783 - val_loss: 1.9843 - val_accuracy: 0.7092\n",
      "Epoch 49/150\n",
      "152/152 [==============================] - 3s 20ms/step - loss: 0.0743 - accuracy: 0.9731 - val_loss: 2.0073 - val_accuracy: 0.6875\n",
      "Epoch 50/150\n",
      "152/152 [==============================] - 3s 20ms/step - loss: 0.0678 - accuracy: 0.9764 - val_loss: 2.1588 - val_accuracy: 0.6392\n",
      "Epoch 51/150\n",
      "152/152 [==============================] - 3s 20ms/step - loss: 0.0690 - accuracy: 0.9764 - val_loss: 3.3678 - val_accuracy: 0.5425\n",
      "Epoch 52/150\n",
      "152/152 [==============================] - 3s 20ms/step - loss: 0.0533 - accuracy: 0.9837 - val_loss: 1.9560 - val_accuracy: 0.6708\n",
      "Epoch 53/150\n",
      "152/152 [==============================] - 3s 20ms/step - loss: 0.0633 - accuracy: 0.9789 - val_loss: 2.0936 - val_accuracy: 0.6782\n",
      "Epoch 54/150\n",
      "152/152 [==============================] - 3s 20ms/step - loss: 0.0567 - accuracy: 0.9822 - val_loss: 1.8703 - val_accuracy: 0.6807\n",
      "Epoch 55/150\n",
      "152/152 [==============================] - 3s 19ms/step - loss: 0.0678 - accuracy: 0.9771 - val_loss: 1.7971 - val_accuracy: 0.6925\n",
      "Epoch 56/150\n",
      "152/152 [==============================] - 3s 20ms/step - loss: 0.0474 - accuracy: 0.9831 - val_loss: 1.9815 - val_accuracy: 0.6875\n",
      "Epoch 57/150\n"
     ]
    },
    {
     "name": "stdout",
     "output_type": "stream",
     "text": [
      "152/152 [==============================] - 3s 20ms/step - loss: 0.0420 - accuracy: 0.9839 - val_loss: 1.4775 - val_accuracy: 0.7179\n",
      "Epoch 58/150\n",
      "152/152 [==============================] - 3s 20ms/step - loss: 0.0374 - accuracy: 0.9870 - val_loss: 2.3967 - val_accuracy: 0.7006\n",
      "Epoch 59/150\n",
      "152/152 [==============================] - 3s 20ms/step - loss: 0.0420 - accuracy: 0.9853 - val_loss: 3.6210 - val_accuracy: 0.5766\n",
      "Epoch 60/150\n",
      "152/152 [==============================] - 3s 20ms/step - loss: 0.0579 - accuracy: 0.9822 - val_loss: 2.4074 - val_accuracy: 0.6441\n",
      "Epoch 61/150\n",
      "152/152 [==============================] - 3s 20ms/step - loss: 0.0456 - accuracy: 0.9841 - val_loss: 1.7580 - val_accuracy: 0.6981\n",
      "Epoch 62/150\n",
      "152/152 [==============================] - 3s 20ms/step - loss: 0.0727 - accuracy: 0.9725 - val_loss: 1.4833 - val_accuracy: 0.6944\n",
      "Epoch 63/150\n",
      "152/152 [==============================] - 3s 20ms/step - loss: 0.0478 - accuracy: 0.9839 - val_loss: 1.6945 - val_accuracy: 0.6888\n",
      "Epoch 64/150\n",
      "152/152 [==============================] - 3s 20ms/step - loss: 0.0706 - accuracy: 0.9746 - val_loss: 1.5636 - val_accuracy: 0.6906\n",
      "Epoch 65/150\n",
      "152/152 [==============================] - 3s 20ms/step - loss: 0.0433 - accuracy: 0.9864 - val_loss: 4.9647 - val_accuracy: 0.4321\n",
      "Epoch 66/150\n",
      "152/152 [==============================] - 3s 19ms/step - loss: 0.0398 - accuracy: 0.9864 - val_loss: 2.6378 - val_accuracy: 0.6776\n",
      "Epoch 67/150\n",
      "152/152 [==============================] - 3s 20ms/step - loss: 0.0259 - accuracy: 0.9921 - val_loss: 2.1289 - val_accuracy: 0.7092\n",
      "Epoch 68/150\n",
      "152/152 [==============================] - 3s 20ms/step - loss: 0.0332 - accuracy: 0.9882 - val_loss: 3.2222 - val_accuracy: 0.6820\n",
      "Epoch 69/150\n",
      "152/152 [==============================] - 3s 20ms/step - loss: 0.0497 - accuracy: 0.9820 - val_loss: 4.2474 - val_accuracy: 0.4637\n",
      "Epoch 70/150\n",
      "152/152 [==============================] - 3s 20ms/step - loss: 0.0748 - accuracy: 0.9758 - val_loss: 3.0570 - val_accuracy: 0.6361\n",
      "Epoch 71/150\n",
      "152/152 [==============================] - 3s 20ms/step - loss: 0.0849 - accuracy: 0.9673 - val_loss: 2.4986 - val_accuracy: 0.6782\n",
      "Epoch 72/150\n",
      "152/152 [==============================] - 3s 20ms/step - loss: 0.0401 - accuracy: 0.9859 - val_loss: 2.1889 - val_accuracy: 0.6683\n",
      "Epoch 73/150\n",
      "152/152 [==============================] - 3s 20ms/step - loss: 0.0345 - accuracy: 0.9878 - val_loss: 2.3995 - val_accuracy: 0.6119\n",
      "Epoch 74/150\n",
      "152/152 [==============================] - 3s 20ms/step - loss: 0.0464 - accuracy: 0.9859 - val_loss: 1.6404 - val_accuracy: 0.6875\n",
      "Epoch 75/150\n",
      "152/152 [==============================] - 3s 20ms/step - loss: 0.0283 - accuracy: 0.9897 - val_loss: 2.1946 - val_accuracy: 0.7018\n",
      "Epoch 76/150\n",
      "152/152 [==============================] - 3s 20ms/step - loss: 0.0815 - accuracy: 0.9715 - val_loss: 2.6498 - val_accuracy: 0.6888\n",
      "Epoch 77/150\n",
      "152/152 [==============================] - 3s 20ms/step - loss: 0.0437 - accuracy: 0.9859 - val_loss: 1.8881 - val_accuracy: 0.6962\n",
      "Epoch 78/150\n",
      "152/152 [==============================] - 3s 19ms/step - loss: 0.0305 - accuracy: 0.9901 - val_loss: 2.2297 - val_accuracy: 0.7111\n",
      "Epoch 79/150\n",
      "152/152 [==============================] - 3s 20ms/step - loss: 0.0313 - accuracy: 0.9915 - val_loss: 1.9164 - val_accuracy: 0.6696\n",
      "Epoch 80/150\n",
      "152/152 [==============================] - 3s 20ms/step - loss: 0.0300 - accuracy: 0.9897 - val_loss: 1.9404 - val_accuracy: 0.7018\n",
      "Epoch 81/150\n",
      "152/152 [==============================] - 3s 20ms/step - loss: 0.0550 - accuracy: 0.9808 - val_loss: 8.6098 - val_accuracy: 0.4978\n",
      "Epoch 82/150\n",
      "152/152 [==============================] - 3s 20ms/step - loss: 0.0916 - accuracy: 0.9744 - val_loss: 2.2594 - val_accuracy: 0.7068\n",
      "Epoch 83/150\n",
      "152/152 [==============================] - 3s 19ms/step - loss: 0.0612 - accuracy: 0.9808 - val_loss: 2.3941 - val_accuracy: 0.6510\n",
      "Epoch 84/150\n",
      "152/152 [==============================] - 3s 19ms/step - loss: 0.0368 - accuracy: 0.9855 - val_loss: 2.2749 - val_accuracy: 0.6615\n",
      "Epoch 85/150\n",
      "152/152 [==============================] - 3s 19ms/step - loss: 0.0502 - accuracy: 0.9837 - val_loss: 2.4679 - val_accuracy: 0.6646\n",
      "Epoch 86/150\n",
      "152/152 [==============================] - 3s 20ms/step - loss: 0.0366 - accuracy: 0.9872 - val_loss: 2.1326 - val_accuracy: 0.7024\n",
      "Epoch 87/150\n",
      "152/152 [==============================] - 3s 20ms/step - loss: 0.0401 - accuracy: 0.9868 - val_loss: 2.1214 - val_accuracy: 0.6888\n",
      "Epoch 88/150\n",
      "152/152 [==============================] - 3s 20ms/step - loss: 0.0675 - accuracy: 0.9777 - val_loss: 1.8679 - val_accuracy: 0.7142\n",
      "Epoch 89/150\n",
      "152/152 [==============================] - 3s 20ms/step - loss: 0.0355 - accuracy: 0.9886 - val_loss: 1.8257 - val_accuracy: 0.7043\n",
      "Epoch 90/150\n",
      "152/152 [==============================] - 3s 20ms/step - loss: 0.0281 - accuracy: 0.9913 - val_loss: 1.9651 - val_accuracy: 0.6999\n",
      "Epoch 91/150\n",
      "152/152 [==============================] - 3s 20ms/step - loss: 0.0170 - accuracy: 0.9952 - val_loss: 2.2938 - val_accuracy: 0.6534\n",
      "Epoch 92/150\n",
      "152/152 [==============================] - 3s 20ms/step - loss: 0.0359 - accuracy: 0.9893 - val_loss: 1.8942 - val_accuracy: 0.6962\n",
      "Epoch 93/150\n",
      "152/152 [==============================] - 3s 20ms/step - loss: 0.0295 - accuracy: 0.9905 - val_loss: 2.4116 - val_accuracy: 0.6534\n",
      "Epoch 94/150\n",
      "152/152 [==============================] - 3s 20ms/step - loss: 0.0400 - accuracy: 0.9847 - val_loss: 1.7740 - val_accuracy: 0.7204\n",
      "Epoch 95/150\n",
      "152/152 [==============================] - 3s 20ms/step - loss: 0.0483 - accuracy: 0.9845 - val_loss: 1.8949 - val_accuracy: 0.7037\n",
      "Epoch 96/150\n",
      "152/152 [==============================] - 3s 20ms/step - loss: 0.0260 - accuracy: 0.9907 - val_loss: 1.8668 - val_accuracy: 0.7117\n",
      "Epoch 97/150\n",
      "152/152 [==============================] - 3s 20ms/step - loss: 0.0554 - accuracy: 0.9835 - val_loss: 4.3451 - val_accuracy: 0.5623\n",
      "Epoch 98/150\n",
      "152/152 [==============================] - 3s 20ms/step - loss: 0.0565 - accuracy: 0.9804 - val_loss: 2.3929 - val_accuracy: 0.6696\n",
      "Epoch 99/150\n",
      "152/152 [==============================] - 3s 20ms/step - loss: 0.0436 - accuracy: 0.9859 - val_loss: 2.0231 - val_accuracy: 0.6720\n",
      "Epoch 100/150\n",
      "152/152 [==============================] - 3s 20ms/step - loss: 0.0394 - accuracy: 0.9870 - val_loss: 2.6147 - val_accuracy: 0.6472\n",
      "Epoch 101/150\n",
      "152/152 [==============================] - 3s 20ms/step - loss: 0.0368 - accuracy: 0.9876 - val_loss: 2.2038 - val_accuracy: 0.6925\n",
      "Epoch 102/150\n",
      "152/152 [==============================] - 3s 21ms/step - loss: 0.0396 - accuracy: 0.9857 - val_loss: 2.2508 - val_accuracy: 0.6541\n",
      "Epoch 103/150\n",
      "152/152 [==============================] - 3s 20ms/step - loss: 0.0309 - accuracy: 0.9897 - val_loss: 2.0258 - val_accuracy: 0.7030\n",
      "Epoch 104/150\n",
      "152/152 [==============================] - 3s 20ms/step - loss: 0.0374 - accuracy: 0.9872 - val_loss: 1.9687 - val_accuracy: 0.6981\n",
      "Epoch 105/150\n",
      "152/152 [==============================] - 3s 20ms/step - loss: 0.0579 - accuracy: 0.9804 - val_loss: 1.7338 - val_accuracy: 0.6975\n",
      "Epoch 106/150\n",
      "152/152 [==============================] - 3s 20ms/step - loss: 0.0466 - accuracy: 0.9841 - val_loss: 1.9526 - val_accuracy: 0.6882\n",
      "Epoch 107/150\n",
      "152/152 [==============================] - 3s 20ms/step - loss: 0.0270 - accuracy: 0.9905 - val_loss: 1.7773 - val_accuracy: 0.7161\n",
      "Epoch 108/150\n",
      "152/152 [==============================] - 3s 20ms/step - loss: 0.0180 - accuracy: 0.9944 - val_loss: 2.5084 - val_accuracy: 0.7012\n",
      "Epoch 109/150\n",
      "152/152 [==============================] - 3s 20ms/step - loss: 0.0250 - accuracy: 0.9924 - val_loss: 2.6739 - val_accuracy: 0.6894\n",
      "Epoch 110/150\n",
      "152/152 [==============================] - 3s 20ms/step - loss: 0.0421 - accuracy: 0.9857 - val_loss: 2.3556 - val_accuracy: 0.6826\n",
      "Epoch 111/150\n",
      "152/152 [==============================] - 3s 20ms/step - loss: 0.0309 - accuracy: 0.9907 - val_loss: 1.9392 - val_accuracy: 0.6975\n",
      "Epoch 112/150\n",
      "152/152 [==============================] - 3s 20ms/step - loss: 0.0309 - accuracy: 0.9911 - val_loss: 1.8638 - val_accuracy: 0.6857\n",
      "Epoch 113/150\n"
     ]
    },
    {
     "name": "stdout",
     "output_type": "stream",
     "text": [
      "152/152 [==============================] - 3s 20ms/step - loss: 0.0383 - accuracy: 0.9876 - val_loss: 2.8860 - val_accuracy: 0.6621\n",
      "Epoch 114/150\n",
      "152/152 [==============================] - 3s 20ms/step - loss: 0.0275 - accuracy: 0.9917 - val_loss: 2.6512 - val_accuracy: 0.6987\n",
      "Epoch 115/150\n",
      "152/152 [==============================] - 3s 20ms/step - loss: 0.0503 - accuracy: 0.9843 - val_loss: 2.4404 - val_accuracy: 0.6429\n",
      "Epoch 116/150\n",
      "152/152 [==============================] - 3s 20ms/step - loss: 0.0360 - accuracy: 0.9890 - val_loss: 1.5636 - val_accuracy: 0.7161\n",
      "Epoch 117/150\n",
      "152/152 [==============================] - 3s 20ms/step - loss: 0.0361 - accuracy: 0.9895 - val_loss: 2.6664 - val_accuracy: 0.6950\n",
      "Epoch 118/150\n",
      "152/152 [==============================] - 3s 20ms/step - loss: 0.0583 - accuracy: 0.9800 - val_loss: 4.7813 - val_accuracy: 0.5859\n",
      "Epoch 119/150\n",
      "152/152 [==============================] - 3s 20ms/step - loss: 0.0417 - accuracy: 0.9882 - val_loss: 1.9517 - val_accuracy: 0.7080\n",
      "Epoch 120/150\n",
      "152/152 [==============================] - 3s 20ms/step - loss: 0.0383 - accuracy: 0.9882 - val_loss: 1.9741 - val_accuracy: 0.7136\n",
      "Epoch 121/150\n",
      "152/152 [==============================] - 3s 20ms/step - loss: 0.0146 - accuracy: 0.9955 - val_loss: 2.4276 - val_accuracy: 0.7099\n",
      "Epoch 122/150\n",
      "152/152 [==============================] - 3s 20ms/step - loss: 0.0191 - accuracy: 0.9942 - val_loss: 2.0408 - val_accuracy: 0.6981\n",
      "Epoch 123/150\n",
      "152/152 [==============================] - 3s 20ms/step - loss: 0.0255 - accuracy: 0.9911 - val_loss: 2.1626 - val_accuracy: 0.6968\n",
      "Epoch 124/150\n",
      "152/152 [==============================] - 3s 20ms/step - loss: 0.0372 - accuracy: 0.9878 - val_loss: 2.5321 - val_accuracy: 0.6280\n",
      "Epoch 125/150\n",
      "152/152 [==============================] - 3s 20ms/step - loss: 0.0429 - accuracy: 0.9857 - val_loss: 3.5732 - val_accuracy: 0.6311\n",
      "Epoch 126/150\n",
      "152/152 [==============================] - 3s 20ms/step - loss: 0.0444 - accuracy: 0.9859 - val_loss: 5.7982 - val_accuracy: 0.4073\n",
      "Epoch 127/150\n",
      "152/152 [==============================] - 3s 20ms/step - loss: 0.0474 - accuracy: 0.9870 - val_loss: 2.4384 - val_accuracy: 0.6894\n",
      "Epoch 128/150\n",
      "152/152 [==============================] - 3s 20ms/step - loss: 0.0499 - accuracy: 0.9843 - val_loss: 1.9024 - val_accuracy: 0.7006\n",
      "Epoch 129/150\n",
      "152/152 [==============================] - 3s 20ms/step - loss: 0.0411 - accuracy: 0.9866 - val_loss: 2.1859 - val_accuracy: 0.6534\n",
      "Epoch 130/150\n",
      "152/152 [==============================] - 3s 20ms/step - loss: 0.0233 - accuracy: 0.9915 - val_loss: 2.1098 - val_accuracy: 0.6962\n",
      "Epoch 131/150\n",
      "152/152 [==============================] - 3s 19ms/step - loss: 0.0148 - accuracy: 0.9946 - val_loss: 2.5333 - val_accuracy: 0.7092\n",
      "Epoch 132/150\n",
      "152/152 [==============================] - 3s 19ms/step - loss: 0.0584 - accuracy: 0.9826 - val_loss: 5.3339 - val_accuracy: 0.4606\n",
      "Epoch 133/150\n",
      "152/152 [==============================] - 3s 20ms/step - loss: 0.0560 - accuracy: 0.9833 - val_loss: 1.5071 - val_accuracy: 0.6944\n",
      "Epoch 134/150\n",
      "152/152 [==============================] - 3s 20ms/step - loss: 0.0217 - accuracy: 0.9926 - val_loss: 2.1063 - val_accuracy: 0.7130\n",
      "Epoch 135/150\n",
      "152/152 [==============================] - 3s 20ms/step - loss: 0.0280 - accuracy: 0.9917 - val_loss: 2.0720 - val_accuracy: 0.7086\n",
      "Epoch 136/150\n",
      "152/152 [==============================] - 4s 26ms/step - loss: 0.0312 - accuracy: 0.9890 - val_loss: 2.3432 - val_accuracy: 0.7123\n",
      "Epoch 137/150\n",
      "152/152 [==============================] - 3s 20ms/step - loss: 0.0281 - accuracy: 0.9907 - val_loss: 2.5039 - val_accuracy: 0.6423\n",
      "Epoch 138/150\n",
      "152/152 [==============================] - 3s 20ms/step - loss: 0.0138 - accuracy: 0.9963 - val_loss: 2.3336 - val_accuracy: 0.6944\n",
      "Epoch 139/150\n",
      "152/152 [==============================] - 3s 20ms/step - loss: 0.0227 - accuracy: 0.9942 - val_loss: 2.6793 - val_accuracy: 0.7080\n",
      "Epoch 140/150\n",
      "152/152 [==============================] - 3s 20ms/step - loss: 0.1029 - accuracy: 0.9667 - val_loss: 2.6365 - val_accuracy: 0.6596\n",
      "Epoch 141/150\n",
      "152/152 [==============================] - 3s 20ms/step - loss: 0.0349 - accuracy: 0.9905 - val_loss: 3.5606 - val_accuracy: 0.5852\n",
      "Epoch 142/150\n",
      "152/152 [==============================] - 3s 20ms/step - loss: 0.0157 - accuracy: 0.9950 - val_loss: 2.4482 - val_accuracy: 0.7037\n",
      "Epoch 143/150\n",
      "152/152 [==============================] - 3s 20ms/step - loss: 0.0167 - accuracy: 0.9940 - val_loss: 2.2002 - val_accuracy: 0.7080\n",
      "Epoch 144/150\n",
      "152/152 [==============================] - 3s 20ms/step - loss: 0.0361 - accuracy: 0.9903 - val_loss: 2.2973 - val_accuracy: 0.6720\n",
      "Epoch 145/150\n",
      "152/152 [==============================] - 3s 20ms/step - loss: 0.0303 - accuracy: 0.9903 - val_loss: 1.8457 - val_accuracy: 0.6987\n",
      "Epoch 146/150\n",
      "152/152 [==============================] - 3s 20ms/step - loss: 0.0213 - accuracy: 0.9950 - val_loss: 2.3922 - val_accuracy: 0.6987\n",
      "Epoch 147/150\n",
      "152/152 [==============================] - 3s 20ms/step - loss: 0.0459 - accuracy: 0.9878 - val_loss: 2.2469 - val_accuracy: 0.6565\n",
      "Epoch 148/150\n",
      "152/152 [==============================] - 3s 20ms/step - loss: 0.0364 - accuracy: 0.9895 - val_loss: 2.3882 - val_accuracy: 0.7061\n",
      "Epoch 149/150\n",
      "152/152 [==============================] - 4s 24ms/step - loss: 0.0173 - accuracy: 0.9940 - val_loss: 2.4912 - val_accuracy: 0.7018\n",
      "Epoch 150/150\n",
      "152/152 [==============================] - 3s 20ms/step - loss: 0.0183 - accuracy: 0.9936 - val_loss: 2.3118 - val_accuracy: 0.6702\n",
      "elapsed time training dataset (sec): 462.935706615448\n"
     ]
    }
   ],
   "source": [
    "start_time = time.time()\n",
    "\n",
    "hist = model.fit(x_train, y_train,\n",
    "                 epochs=n_epochs,\n",
    "                 batch_size=batch_size,\n",
    "                 validation_split=validation_split,\n",
    "                 shuffle=True,\n",
    "                 verbose=1)\n",
    "\n",
    "print('elapsed time training dataset (sec):', time.time() - start_time)\n",
    "\n",
    "model.save(model_save_path)"
   ]
  },
  {
   "cell_type": "code",
   "execution_count": 17,
   "id": "b34313fb",
   "metadata": {},
   "outputs": [
    {
     "data": {
      "image/png": "[encoded data removed]",
      "text/plain": [
       "<Figure size 1080x360 with 2 Axes>"
      ]
     },
     "metadata": {
      "needs_background": "light"
     },
     "output_type": "display_data"
    }
   ],
   "source": [
    "history_dict = hist.history\n",
    "\n",
    "loss_values = history_dict['loss']\n",
    "acc_values = history_dict['accuracy']\n",
    "if split_val:\n",
    "    val_loss_values = history_dict['val_loss']\n",
    "    val_acc_values = history_dict['val_accuracy']\n",
    "\n",
    "fig, (ax1, ax2) = plt.subplots(1, 2, figsize=(15, 5))\n",
    "\n",
    "ax1.plot(loss_values, 'blue', label='Training Loss')\n",
    "if split_val:\n",
    "    ax1.plot(val_loss_values, 'orange', label='Validation Loss')\n",
    "ax1.set_title('Training and validation loss')\n",
    "ax1.set_xlabel('Epochs')\n",
    "ax1.set_ylabel('Loss')\n",
    "ax1.legend()\n",
    "\n",
    "ax2.plot(acc_values, 'blue', label='Training accuracy')\n",
    "if split_val:\n",
    "    ax2.plot(val_acc_values, 'orange', label='Validation accuracy')\n",
    "ax2.set_title('Training and validation accuracy')\n",
    "ax2.set_xlabel('Epochs')\n",
    "ax2.set_ylabel('Accuracy')\n",
    "ax2.legend()\n",
    "\n",
    "plt.show()"
   ]
  },
  {
   "cell_type": "code",
   "execution_count": 18,
   "id": "70146c37",
   "metadata": {},
   "outputs": [
    {
     "name": "stdout",
     "output_type": "stream",
     "text": [
      "51/51 [==============================] - 0s 8ms/step - loss: 2.4326 - accuracy: 0.6696\n",
      "test loss: 2.432569980621338\n",
      "test accuracy: 0.6695598363876343\n"
     ]
    }
   ],
   "source": [
    "loss, accuracy = model.evaluate(x_test, y_test)\n",
    "print('test loss:', loss)\n",
    "print('test accuracy:', accuracy)"
   ]
  },
  {
   "cell_type": "markdown",
   "id": "a367cc71",
   "metadata": {},
   "source": [
    "# 파일 테스트"
   ]
  },
  {
   "cell_type": "code",
   "execution_count": null,
   "id": "95a5f7a5",
   "metadata": {},
   "outputs": [],
   "source": [
    "test_file_name = 'dataset/negative/1001_DFA_ANG_XX.wav'"
   ]
  },
  {
   "cell_type": "code",
   "execution_count": null,
   "id": "66148657",
   "metadata": {},
   "outputs": [],
   "source": [
    "prediction_feature = extract_feature(test_file_name, input_shape[0]).reshape((1, ) + input_shape)\n",
    "model = load_model(model_save_path)\n",
    "\n",
    "predicted_proba = model.predict(prediction_feature)[0]\n",
    "predicted_class = np.argmax(predicted_proba)\n",
    "\n",
    "print('classification result:', le.classes_[predicted_class])"
   ]
  },
  {
   "cell_type": "code",
   "execution_count": null,
   "id": "db540429",
   "metadata": {},
   "outputs": [],
   "source": []
  }
 ],
 "metadata": {
  "kernelspec": {
   "display_name": "emotion",
   "language": "python",
   "name": "emotion"
  },
  "language_info": {
   "codemirror_mode": {
    "name": "ipython",
    "version": 3
   },
   "file_extension": ".py",
   "mimetype": "text/x-python",
   "name": "python",
   "nbconvert_exporter": "python",
   "pygments_lexer": "ipython3",
   "version": "3.8.8"
  }
 },
 "nbformat": 4,
 "nbformat_minor": 5
}
