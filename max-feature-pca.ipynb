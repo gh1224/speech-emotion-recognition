{
 "cells": [
  {
   "cell_type": "code",
   "execution_count": null,
   "id": "90230a47",
   "metadata": {},
   "outputs": [],
   "source": [
    "\"\"\"\n",
    "데이터셋\n",
    "Crema, Ravdess, Tess, Savee\n",
    "\n",
    "Positive: happiness - 2323\n",
    "Neutral: neutral, calmness - 1895\n",
    "Negative: anger, sadness - 3846\n",
    "\"\"\""
   ]
  },
  {
   "cell_type": "code",
   "execution_count": 1,
   "id": "736ee2e8",
   "metadata": {},
   "outputs": [
    {
     "name": "stderr",
     "output_type": "stream",
     "text": [
      "C:\\Users\\DeepLearning_5\\Anaconda3\\lib\\site-packages\\requests\\__init__.py:89: RequestsDependencyWarning: urllib3 (1.24.3) or chardet (4.0.0) doesn't match a supported version!\n",
      "  warnings.warn(\"urllib3 ({}) or chardet ({}) doesn't match a supported \"\n"
     ]
    }
   ],
   "source": [
    "import numpy as np\n",
    "import time\n",
    "from tqdm import tqdm\n",
    "import os\n",
    "import librosa\n",
    "import matplotlib.pyplot as plt\n",
    "\n",
    "from sklearn.preprocessing import LabelEncoder\n",
    "from sklearn.model_selection import train_test_split\n",
    "from sklearn.decomposition import PCA\n",
    "\n",
    "from keras.utils.np_utils import to_categorical\n",
    "from keras.models import load_model, Sequential\n",
    "from keras.layers import Conv1D, MaxPooling1D, Flatten, BatchNormalization, Dense, Dropout"
   ]
  },
  {
   "cell_type": "code",
   "execution_count": 2,
   "id": "1ce1ef09",
   "metadata": {},
   "outputs": [],
   "source": [
    "base_dir = 'dataset'\n",
    "\n",
    "n_mfcc = 128\n",
    "num_rows = 150\n",
    "num_columns = 153\n",
    "pca_components = 50\n",
    "feature_shape = (num_rows, num_columns)\n",
    "input_shape = (num_rows, pca_components)\n",
    "\n",
    "n_epochs = 150\n",
    "batch_size = None\n",
    "split_val = True\n",
    "\n",
    "model_save_path = 'saved_models/model.h5'"
   ]
  },
  {
   "cell_type": "code",
   "execution_count": 3,
   "id": "a39885db",
   "metadata": {},
   "outputs": [],
   "source": [
    "def load_feature_tuple(file_name):\n",
    "    y, sr = librosa.load(file_name, mono=True)\n",
    "\n",
    "    mfcc = librosa.feature.mfcc(y=y, sr=sr, n_mfcc=n_mfcc)\n",
    "    \n",
    "    spectral_centroid = librosa.feature.spectral_centroid(y=y, sr=sr)\n",
    "    spectral_bandwidth = librosa.feature.spectral_bandwidth(y=y, sr=sr)\n",
    "    spectral_contrast = librosa.feature.spectral_contrast(y=y, sr=sr)\n",
    "    spectral_flatness = librosa.feature.spectral_flatness(y=y)\n",
    "    spectral_rolloff = librosa.feature.spectral_rolloff(y=y, sr=sr)\n",
    "    \n",
    "    zero_crossing_rate = librosa.feature.zero_crossing_rate(y=y)\n",
    "    \n",
    "    chroma_stft = librosa.feature.chroma_stft(y=y, sr=sr)\n",
    "    \n",
    "    rms = librosa.feature.rms(y=y)\n",
    "    \n",
    "    return mfcc, spectral_centroid, spectral_bandwidth, spectral_contrast, spectral_flatness, spectral_rolloff, zero_crossing_rate, chroma_stft, rms"
   ]
  },
  {
   "cell_type": "code",
   "execution_count": 4,
   "id": "e8cccf27",
   "metadata": {},
   "outputs": [],
   "source": [
    "def pad_feature_width(feature, feature_width):\n",
    "    diff = feature_width - feature.shape[1]\n",
    "    if diff > 0:\n",
    "        return np.pad(feature, pad_width=((0, 0), (0, diff)), mode='constant')\n",
    "    elif diff < 0:\n",
    "        return np.delete(feature, np.arange(feature_width, feature.shape[1]), axis=1)\n",
    "    return feature"
   ]
  },
  {
   "cell_type": "code",
   "execution_count": 5,
   "id": "15aa2cbc",
   "metadata": {},
   "outputs": [],
   "source": [
    "def extract_feature(file_name, feature_width):\n",
    "    image = np.concatenate(load_feature_tuple(file_name), axis=0)\n",
    "    image = pad_feature_width(image, feature_width)\n",
    "    image = np.transpose(image)\n",
    "    return image"
   ]
  },
  {
   "cell_type": "code",
   "execution_count": 6,
   "id": "4158fb8c",
   "metadata": {},
   "outputs": [],
   "source": [
    "def fetch_dataset(dir_path, label):\n",
    "    _features = np.empty((0, ) + feature_shape)\n",
    "    for file_name in tqdm(os.listdir(dir_path)):\n",
    "        file_path = os.path.join(dir_path, file_name)\n",
    "        feature = extract_feature(file_path, feature_shape[0]).reshape((1, ) + feature_shape)\n",
    "        _features = np.append(_features, feature, axis=0)\n",
    "\n",
    "    _labels = np.full((_features.shape[0], ), label)\n",
    "\n",
    "    return _features, _labels"
   ]
  },
  {
   "cell_type": "markdown",
   "id": "68afff4f",
   "metadata": {},
   "source": [
    "# 데이터셋 가져오기"
   ]
  },
  {
   "cell_type": "code",
   "execution_count": 7,
   "id": "168ee650",
   "metadata": {},
   "outputs": [
    {
     "name": "stderr",
     "output_type": "stream",
     "text": [
      "100%|██████████████████████████████████████████████████████████████████████████████| 2323/2323 [08:53<00:00,  4.36it/s]\n",
      "100%|██████████████████████████████████████████████████████████████████████████████| 1895/1895 [06:59<00:00,  4.52it/s]\n",
      " 65%|██████████████████████████████████████████████████▋                           | 2497/3846 [10:32<07:45,  2.90it/s]C:\\Users\\DeepLearning_5\\Anaconda3\\lib\\site-packages\\librosa\\core\\pitch.py:153: UserWarning: Trying to estimate tuning from empty frequency set.\n",
      "  warnings.warn(\"Trying to estimate tuning from empty frequency set.\")\n",
      "100%|██████████████████████████████████████████████████████████████████████████████| 3846/3846 [20:03<00:00,  3.20it/s]"
     ]
    },
    {
     "name": "stdout",
     "output_type": "stream",
     "text": [
      "elapsed time fetching dataset (sec): 2155.7199227809906\n"
     ]
    },
    {
     "name": "stderr",
     "output_type": "stream",
     "text": [
      "\n"
     ]
    }
   ],
   "source": [
    "start_time = time.time()\n",
    "\n",
    "positive_features, positive_labels = fetch_dataset(base_dir + '/positive', 'POSITIVE')\n",
    "neutral_features, neutral_labels = fetch_dataset(base_dir + '/neutral', 'NEUTRAL')\n",
    "negative_features, negative_labels = fetch_dataset(base_dir + '/negative', 'NEGATIVE')\n",
    "\n",
    "print('elapsed time fetching dataset (sec):', time.time() - start_time)"
   ]
  },
  {
   "cell_type": "code",
   "execution_count": 8,
   "id": "c1ca2ae7",
   "metadata": {},
   "outputs": [
    {
     "name": "stdout",
     "output_type": "stream",
     "text": [
      "features shape: (8064, 150, 153)\n",
      "labels shape before encoding: (8064,)\n"
     ]
    }
   ],
   "source": [
    "features = np.concatenate((positive_features, neutral_features, negative_features), axis=0)\n",
    "labels = np.concatenate((positive_labels, neutral_labels, negative_labels), axis=0)\n",
    "\n",
    "print('features shape:', features.shape)\n",
    "print('labels shape before encoding:', labels.shape)"
   ]
  },
  {
   "cell_type": "code",
   "execution_count": 9,
   "id": "ad68ccfe",
   "metadata": {},
   "outputs": [
    {
     "name": "stdout",
     "output_type": "stream",
     "text": [
      "labels shape after encoding: (8064, 3)\n",
      "label encoder classes: ['NEGATIVE' 'NEUTRAL' 'POSITIVE']\n"
     ]
    }
   ],
   "source": [
    "le = LabelEncoder()\n",
    "labels = to_categorical(le.fit_transform(labels))\n",
    "print('labels shape after encoding:', labels.shape)\n",
    "print('label encoder classes:', le.classes_)"
   ]
  },
  {
   "cell_type": "code",
   "execution_count": 10,
   "id": "e2fcddb0",
   "metadata": {},
   "outputs": [],
   "source": [
    "x_train, x_test, y_train, y_test = train_test_split(features, labels, test_size=0.2)"
   ]
  },
  {
   "cell_type": "code",
   "execution_count": 11,
   "id": "8b3ec103",
   "metadata": {},
   "outputs": [
    {
     "name": "stdout",
     "output_type": "stream",
     "text": [
      "x_train shape before PCA: (6451, 150, 153)\n",
      "x_test shape before PCA: (1613, 150, 153)\n",
      "x_train shape after PCA: (6451, 150, 50)\n",
      "x_test shape after PCA: (1613, 150, 50)\n"
     ]
    }
   ],
   "source": [
    "print('x_train shape before PCA:', x_train.shape)\n",
    "print('x_test shape before PCA:', x_test.shape)\n",
    "\n",
    "pca = PCA(n_components=pca_components)\n",
    "x_train = pca.fit_transform(x_train.reshape((-1, num_columns))).reshape((-1,) + input_shape)\n",
    "x_test = pca.transform(x_test.reshape((-1, num_columns))).reshape((-1,) + input_shape)\n",
    "\n",
    "print('x_train shape after PCA:', x_train.shape)\n",
    "print('x_test shape after PCA:', x_test.shape)"
   ]
  },
  {
   "cell_type": "markdown",
   "id": "bf4f35c8",
   "metadata": {},
   "source": [
    "# 학습"
   ]
  },
  {
   "cell_type": "code",
   "execution_count": 12,
   "id": "1d785a86",
   "metadata": {
    "scrolled": true
   },
   "outputs": [
    {
     "name": "stdout",
     "output_type": "stream",
     "text": [
      "Model: \"sequential\"\n",
      "_________________________________________________________________\n",
      " Layer (type)                Output Shape              Param #   \n",
      "=================================================================\n",
      " block1_conv1 (Conv1D)       (None, 150, 64)           9664      \n",
      "                                                                 \n",
      " block1_conv2 (Conv1D)       (None, 150, 64)           12352     \n",
      "                                                                 \n",
      " block1_pool (MaxPooling1D)  (None, 75, 64)            0         \n",
      "                                                                 \n",
      " block2_conv1 (Conv1D)       (None, 75, 128)           24704     \n",
      "                                                                 \n",
      " block2_conv2 (Conv1D)       (None, 75, 128)           49280     \n",
      "                                                                 \n",
      " block2_pool (MaxPooling1D)  (None, 37, 128)           0         \n",
      "                                                                 \n",
      " block3_conv1 (Conv1D)       (None, 37, 256)           98560     \n",
      "                                                                 \n",
      " block3_conv2 (Conv1D)       (None, 37, 256)           196864    \n",
      "                                                                 \n",
      " block3_conv3 (Conv1D)       (None, 37, 256)           196864    \n",
      "                                                                 \n",
      " block3_pool (MaxPooling1D)  (None, 18, 256)           0         \n",
      "                                                                 \n",
      " block4_conv1 (Conv1D)       (None, 18, 512)           393728    \n",
      "                                                                 \n",
      " block4_conv2 (Conv1D)       (None, 18, 512)           786944    \n",
      "                                                                 \n",
      " block4_conv3 (Conv1D)       (None, 18, 512)           786944    \n",
      "                                                                 \n",
      " block4_pool (MaxPooling1D)  (None, 9, 512)            0         \n",
      "                                                                 \n",
      " block5_conv1 (Conv1D)       (None, 9, 512)            786944    \n",
      "                                                                 \n",
      " block5_conv2 (Conv1D)       (None, 9, 512)            786944    \n",
      "                                                                 \n",
      " block5_conv3 (Conv1D)       (None, 9, 512)            786944    \n",
      "                                                                 \n",
      " block5_pool (MaxPooling1D)  (None, 4, 512)            0         \n",
      "                                                                 \n",
      " flatten (Flatten)           (None, 2048)              0         \n",
      "                                                                 \n",
      " batch_normalization (BatchN  (None, 2048)             8192      \n",
      " ormalization)                                                   \n",
      "                                                                 \n",
      " dense (Dense)               (None, 1024)              2098176   \n",
      "                                                                 \n",
      " dropout (Dropout)           (None, 1024)              0         \n",
      "                                                                 \n",
      " dense_1 (Dense)             (None, 3)                 3075      \n",
      "                                                                 \n",
      "=================================================================\n",
      "Total params: 7,026,179\n",
      "Trainable params: 7,022,083\n",
      "Non-trainable params: 4,096\n",
      "_________________________________________________________________\n"
     ]
    }
   ],
   "source": [
    "model = Sequential()\n",
    "\n",
    "# Block 1\n",
    "model.add(Conv1D(64, 3, activation='relu', padding='same', name='block1_conv1', input_shape=input_shape))\n",
    "model.add(Conv1D(64, 3, activation='relu', padding='same', name='block1_conv2'))\n",
    "model.add(MaxPooling1D(2, strides=2, name='block1_pool'))\n",
    "\n",
    "# Block 2\n",
    "model.add(Conv1D(128, 3, activation='relu', padding='same', name='block2_conv1'))\n",
    "model.add(Conv1D(128, 3, activation='relu', padding='same', name='block2_conv2'))\n",
    "model.add(MaxPooling1D(2, strides=2, name='block2_pool'))\n",
    "\n",
    "# Block 3\n",
    "model.add(Conv1D(256, 3, activation='relu', padding='same', name='block3_conv1'))\n",
    "model.add(Conv1D(256, 3, activation='relu', padding='same', name='block3_conv2'))\n",
    "model.add(Conv1D(256, 3, activation='relu', padding='same', name='block3_conv3'))\n",
    "model.add(MaxPooling1D(2, strides=2, name='block3_pool'))\n",
    "\n",
    "# Block 4\n",
    "model.add(Conv1D(512, 3, activation='relu', padding='same', name='block4_conv1'))\n",
    "model.add(Conv1D(512, 3, activation='relu', padding='same', name='block4_conv2'))\n",
    "model.add(Conv1D(512, 3, activation='relu', padding='same', name='block4_conv3'))\n",
    "model.add(MaxPooling1D(2, strides=2, name='block4_pool'))\n",
    "\n",
    "# Block 5\n",
    "model.add(Conv1D(512, 3, activation='relu', padding='same', name='block5_conv1'))\n",
    "model.add(Conv1D(512, 3, activation='relu', padding='same', name='block5_conv2'))\n",
    "model.add(Conv1D(512, 3, activation='relu', padding='same', name='block5_conv3'))\n",
    "model.add(MaxPooling1D(2, strides=2, name='block5_pool'))\n",
    "\n",
    "model.add(Flatten())\n",
    "model.add(BatchNormalization())\n",
    "model.add(Dense(1024, activation='relu'))\n",
    "model.add(Dropout(0.5))\n",
    "model.add(Dense(3, activation='softmax'))\n",
    "\n",
    "model.summary()"
   ]
  },
  {
   "cell_type": "code",
   "execution_count": 13,
   "id": "8afcb6a5",
   "metadata": {},
   "outputs": [],
   "source": [
    "model.compile(loss='categorical_crossentropy', metrics=['accuracy'], optimizer='adam')"
   ]
  },
  {
   "cell_type": "code",
   "execution_count": 14,
   "id": "8ed3004b",
   "metadata": {},
   "outputs": [],
   "source": [
    "if split_val:\n",
    "    validation_split = 0.25\n",
    "else:\n",
    "    validation_split = 0.0"
   ]
  },
  {
   "cell_type": "code",
   "execution_count": 15,
   "id": "2eb3a18d",
   "metadata": {},
   "outputs": [
    {
     "name": "stdout",
     "output_type": "stream",
     "text": [
      "Epoch 1/150\n",
      "152/152 [==============================] - 6s 24ms/step - loss: 2.3166 - accuracy: 0.3942 - val_loss: 26.5295 - val_accuracy: 0.3590\n",
      "Epoch 2/150\n",
      "152/152 [==============================] - 3s 18ms/step - loss: 1.5265 - accuracy: 0.4206 - val_loss: 6.0855 - val_accuracy: 0.2976\n",
      "Epoch 3/150\n",
      "152/152 [==============================] - 3s 18ms/step - loss: 1.1188 - accuracy: 0.4655 - val_loss: 3.8649 - val_accuracy: 0.4724\n",
      "Epoch 4/150\n",
      "152/152 [==============================] - 3s 18ms/step - loss: 0.8962 - accuracy: 0.5668 - val_loss: 3.2377 - val_accuracy: 0.5673\n",
      "Epoch 5/150\n",
      "152/152 [==============================] - 3s 18ms/step - loss: 0.7818 - accuracy: 0.6166 - val_loss: 1.5203 - val_accuracy: 0.6150\n",
      "Epoch 6/150\n",
      "152/152 [==============================] - 3s 18ms/step - loss: 0.7492 - accuracy: 0.6410 - val_loss: 0.7400 - val_accuracy: 0.6541\n",
      "Epoch 7/150\n",
      "152/152 [==============================] - 3s 18ms/step - loss: 0.7210 - accuracy: 0.6567 - val_loss: 0.9324 - val_accuracy: 0.5759\n",
      "Epoch 8/150\n",
      "152/152 [==============================] - 3s 18ms/step - loss: 0.7034 - accuracy: 0.6643 - val_loss: 0.7472 - val_accuracy: 0.6491\n",
      "Epoch 9/150\n",
      "152/152 [==============================] - 3s 19ms/step - loss: 0.6775 - accuracy: 0.6761 - val_loss: 72.9894 - val_accuracy: 0.6733\n",
      "Epoch 10/150\n",
      "152/152 [==============================] - 3s 18ms/step - loss: 0.6573 - accuracy: 0.6827 - val_loss: 0.6388 - val_accuracy: 0.7105\n",
      "Epoch 11/150\n",
      "152/152 [==============================] - 3s 18ms/step - loss: 0.6350 - accuracy: 0.7030 - val_loss: 0.7498 - val_accuracy: 0.6367\n",
      "Epoch 12/150\n",
      "152/152 [==============================] - 3s 18ms/step - loss: 0.6222 - accuracy: 0.7046 - val_loss: 0.7150 - val_accuracy: 0.6696\n",
      "Epoch 13/150\n",
      "152/152 [==============================] - 3s 18ms/step - loss: 0.6173 - accuracy: 0.7129 - val_loss: 0.8443 - val_accuracy: 0.6937\n",
      "Epoch 14/150\n",
      "152/152 [==============================] - 3s 18ms/step - loss: 0.6224 - accuracy: 0.7125 - val_loss: 83.6305 - val_accuracy: 0.7012\n",
      "Epoch 15/150\n",
      "152/152 [==============================] - 3s 18ms/step - loss: 0.6176 - accuracy: 0.7125 - val_loss: 333.4877 - val_accuracy: 0.6491\n",
      "Epoch 16/150\n",
      "152/152 [==============================] - 3s 18ms/step - loss: 0.5962 - accuracy: 0.7191 - val_loss: 55.3841 - val_accuracy: 0.6702\n",
      "Epoch 17/150\n",
      "152/152 [==============================] - 3s 18ms/step - loss: 0.5991 - accuracy: 0.7179 - val_loss: 0.7547 - val_accuracy: 0.6311\n",
      "Epoch 18/150\n",
      "152/152 [==============================] - 3s 18ms/step - loss: 0.6015 - accuracy: 0.7226 - val_loss: 1.7351 - val_accuracy: 0.6274\n",
      "Epoch 19/150\n",
      "152/152 [==============================] - 3s 18ms/step - loss: 0.5867 - accuracy: 0.7292 - val_loss: 47.6008 - val_accuracy: 0.6367\n",
      "Epoch 20/150\n",
      "152/152 [==============================] - 3s 18ms/step - loss: 0.5651 - accuracy: 0.7377 - val_loss: 0.8358 - val_accuracy: 0.6931\n",
      "Epoch 21/150\n",
      "152/152 [==============================] - 3s 18ms/step - loss: 0.5665 - accuracy: 0.7418 - val_loss: 1.3276 - val_accuracy: 0.6727\n",
      "Epoch 22/150\n",
      "152/152 [==============================] - 3s 18ms/step - loss: 0.5673 - accuracy: 0.7422 - val_loss: 7420.5020 - val_accuracy: 0.6708\n",
      "Epoch 23/150\n",
      "152/152 [==============================] - 3s 18ms/step - loss: 0.5541 - accuracy: 0.7472 - val_loss: 141.7999 - val_accuracy: 0.7390\n",
      "Epoch 24/150\n",
      "152/152 [==============================] - 3s 18ms/step - loss: 0.5414 - accuracy: 0.7567 - val_loss: 1.1902 - val_accuracy: 0.6553\n",
      "Epoch 25/150\n",
      "152/152 [==============================] - 3s 18ms/step - loss: 0.5278 - accuracy: 0.7594 - val_loss: 2780.1760 - val_accuracy: 0.7390\n",
      "Epoch 26/150\n",
      "152/152 [==============================] - 3s 18ms/step - loss: 0.5354 - accuracy: 0.7606 - val_loss: 18538.1270 - val_accuracy: 0.6919\n",
      "Epoch 27/150\n",
      "152/152 [==============================] - 3s 18ms/step - loss: 0.5185 - accuracy: 0.7766 - val_loss: 0.8975 - val_accuracy: 0.7415\n",
      "Epoch 28/150\n",
      "152/152 [==============================] - 3s 18ms/step - loss: 0.4972 - accuracy: 0.7774 - val_loss: 55.6821 - val_accuracy: 0.6987\n",
      "Epoch 29/150\n",
      "152/152 [==============================] - 3s 18ms/step - loss: 0.4919 - accuracy: 0.7792 - val_loss: 1244.4980 - val_accuracy: 0.6894\n",
      "Epoch 30/150\n",
      "152/152 [==============================] - 3s 18ms/step - loss: 0.5136 - accuracy: 0.7821 - val_loss: 0.6439 - val_accuracy: 0.7402\n",
      "Epoch 31/150\n",
      "152/152 [==============================] - 3s 18ms/step - loss: 0.4880 - accuracy: 0.7873 - val_loss: 332.3318 - val_accuracy: 0.7533\n",
      "Epoch 32/150\n",
      "152/152 [==============================] - 3s 18ms/step - loss: 0.4497 - accuracy: 0.8041 - val_loss: 0.7563 - val_accuracy: 0.7303\n",
      "Epoch 33/150\n",
      "152/152 [==============================] - 3s 18ms/step - loss: 0.4428 - accuracy: 0.8160 - val_loss: 1.3814 - val_accuracy: 0.6962\n",
      "Epoch 34/150\n",
      "152/152 [==============================] - 3s 18ms/step - loss: 0.4261 - accuracy: 0.8241 - val_loss: 0.6742 - val_accuracy: 0.7557\n",
      "Epoch 35/150\n",
      "152/152 [==============================] - 3s 18ms/step - loss: 0.4159 - accuracy: 0.8204 - val_loss: 0.5721 - val_accuracy: 0.7681\n",
      "Epoch 36/150\n",
      "152/152 [==============================] - 3s 18ms/step - loss: 0.3962 - accuracy: 0.8303 - val_loss: 6.2482 - val_accuracy: 0.7216\n",
      "Epoch 37/150\n",
      "152/152 [==============================] - 3s 18ms/step - loss: 0.3889 - accuracy: 0.8340 - val_loss: 1.3189 - val_accuracy: 0.6820\n",
      "Epoch 38/150\n",
      "152/152 [==============================] - 3s 18ms/step - loss: 0.4180 - accuracy: 0.8222 - val_loss: 0.9537 - val_accuracy: 0.7024\n",
      "Epoch 39/150\n",
      "152/152 [==============================] - 3s 18ms/step - loss: 0.3645 - accuracy: 0.8475 - val_loss: 0.7565 - val_accuracy: 0.7440\n",
      "Epoch 40/150\n",
      "152/152 [==============================] - 3s 18ms/step - loss: 0.3410 - accuracy: 0.8563 - val_loss: 1351.8427 - val_accuracy: 0.7061\n",
      "Epoch 41/150\n",
      "152/152 [==============================] - 3s 18ms/step - loss: 0.3882 - accuracy: 0.8413 - val_loss: 2447.4646 - val_accuracy: 0.7340\n",
      "Epoch 42/150\n",
      "152/152 [==============================] - 3s 18ms/step - loss: 0.3537 - accuracy: 0.8572 - val_loss: 320.3250 - val_accuracy: 0.7725\n",
      "Epoch 43/150\n",
      "152/152 [==============================] - 3s 18ms/step - loss: 0.3283 - accuracy: 0.8712 - val_loss: 0.9117 - val_accuracy: 0.7216\n",
      "Epoch 44/150\n",
      "152/152 [==============================] - 3s 18ms/step - loss: 0.3214 - accuracy: 0.8696 - val_loss: 1817.4165 - val_accuracy: 0.7582\n",
      "Epoch 45/150\n",
      "152/152 [==============================] - 3s 18ms/step - loss: 0.2926 - accuracy: 0.8828 - val_loss: 21003.7266 - val_accuracy: 0.7427\n",
      "Epoch 46/150\n",
      "152/152 [==============================] - 3s 18ms/step - loss: 0.2989 - accuracy: 0.8791 - val_loss: 1464.1271 - val_accuracy: 0.7440\n",
      "Epoch 47/150\n",
      "152/152 [==============================] - 3s 18ms/step - loss: 0.2606 - accuracy: 0.8958 - val_loss: 77420.3906 - val_accuracy: 0.7148\n",
      "Epoch 48/150\n",
      "152/152 [==============================] - 3s 18ms/step - loss: 0.3166 - accuracy: 0.8830 - val_loss: 0.7631 - val_accuracy: 0.7508\n",
      "Epoch 49/150\n",
      "152/152 [==============================] - 3s 18ms/step - loss: 0.3139 - accuracy: 0.8770 - val_loss: 18383.8652 - val_accuracy: 0.7235\n",
      "Epoch 50/150\n",
      "152/152 [==============================] - 3s 18ms/step - loss: 0.2609 - accuracy: 0.9033 - val_loss: 0.9215 - val_accuracy: 0.7644\n",
      "Epoch 51/150\n",
      "152/152 [==============================] - 3s 18ms/step - loss: 0.2372 - accuracy: 0.9088 - val_loss: 0.9051 - val_accuracy: 0.7644\n",
      "Epoch 52/150\n",
      "152/152 [==============================] - 3s 18ms/step - loss: 0.2304 - accuracy: 0.9117 - val_loss: 7619.5786 - val_accuracy: 0.7576\n",
      "Epoch 53/150\n",
      "152/152 [==============================] - 3s 18ms/step - loss: 0.2349 - accuracy: 0.9076 - val_loss: 4855.9219 - val_accuracy: 0.7452\n",
      "Epoch 54/150\n",
      "152/152 [==============================] - 3s 18ms/step - loss: 0.1866 - accuracy: 0.9287 - val_loss: 65373.2109 - val_accuracy: 0.7123\n",
      "Epoch 55/150\n",
      "152/152 [==============================] - 3s 18ms/step - loss: 0.2437 - accuracy: 0.9115 - val_loss: 4.1574 - val_accuracy: 0.7241\n",
      "Epoch 56/150\n",
      "152/152 [==============================] - 3s 18ms/step - loss: 0.1737 - accuracy: 0.9363 - val_loss: 11787.4482 - val_accuracy: 0.7415\n",
      "Epoch 57/150\n"
     ]
    },
    {
     "name": "stdout",
     "output_type": "stream",
     "text": [
      "152/152 [==============================] - 3s 18ms/step - loss: 0.1779 - accuracy: 0.9355 - val_loss: 43.4549 - val_accuracy: 0.7626\n",
      "Epoch 58/150\n",
      "152/152 [==============================] - 3s 18ms/step - loss: 0.1693 - accuracy: 0.9361 - val_loss: 435.1489 - val_accuracy: 0.7533\n",
      "Epoch 59/150\n",
      "152/152 [==============================] - 3s 18ms/step - loss: 0.2151 - accuracy: 0.9260 - val_loss: 5225.2109 - val_accuracy: 0.7347\n",
      "Epoch 60/150\n",
      "152/152 [==============================] - 3s 18ms/step - loss: 0.1801 - accuracy: 0.9299 - val_loss: 6594.3491 - val_accuracy: 0.7384\n",
      "Epoch 61/150\n",
      "152/152 [==============================] - 3s 18ms/step - loss: 0.1408 - accuracy: 0.9496 - val_loss: 6058.8491 - val_accuracy: 0.7644\n",
      "Epoch 62/150\n",
      "152/152 [==============================] - 3s 18ms/step - loss: 0.1301 - accuracy: 0.9560 - val_loss: 3497.7158 - val_accuracy: 0.7464\n",
      "Epoch 63/150\n",
      "152/152 [==============================] - 3s 18ms/step - loss: 0.1518 - accuracy: 0.9469 - val_loss: 38454.2617 - val_accuracy: 0.7781\n",
      "Epoch 64/150\n",
      "152/152 [==============================] - 3s 18ms/step - loss: 0.1321 - accuracy: 0.9527 - val_loss: 9530.0635 - val_accuracy: 0.7520\n",
      "Epoch 65/150\n",
      "152/152 [==============================] - 3s 18ms/step - loss: 0.1096 - accuracy: 0.9624 - val_loss: 51473.2656 - val_accuracy: 0.7347\n",
      "Epoch 66/150\n",
      "152/152 [==============================] - 3s 18ms/step - loss: 0.1370 - accuracy: 0.9525 - val_loss: 4.8062 - val_accuracy: 0.7495\n",
      "Epoch 67/150\n",
      "152/152 [==============================] - 3s 18ms/step - loss: 0.1058 - accuracy: 0.9632 - val_loss: 5.7048 - val_accuracy: 0.7576\n",
      "Epoch 68/150\n",
      "152/152 [==============================] - 3s 18ms/step - loss: 0.1298 - accuracy: 0.9541 - val_loss: 1.2864 - val_accuracy: 0.7489\n",
      "Epoch 69/150\n",
      "152/152 [==============================] - 3s 18ms/step - loss: 0.1097 - accuracy: 0.9599 - val_loss: 1.4597 - val_accuracy: 0.7582\n",
      "Epoch 70/150\n",
      "152/152 [==============================] - 3s 18ms/step - loss: 0.1016 - accuracy: 0.9657 - val_loss: 1.3651 - val_accuracy: 0.7514\n",
      "Epoch 71/150\n",
      "152/152 [==============================] - 3s 18ms/step - loss: 0.0760 - accuracy: 0.9756 - val_loss: 35.9891 - val_accuracy: 0.7601\n",
      "Epoch 72/150\n",
      "152/152 [==============================] - 3s 18ms/step - loss: 0.0734 - accuracy: 0.9766 - val_loss: 324.7365 - val_accuracy: 0.7557\n",
      "Epoch 73/150\n",
      "152/152 [==============================] - 3s 18ms/step - loss: 0.0897 - accuracy: 0.9700 - val_loss: 10604.0869 - val_accuracy: 0.7433\n",
      "Epoch 74/150\n",
      "152/152 [==============================] - 3s 18ms/step - loss: 0.0993 - accuracy: 0.9655 - val_loss: 1.8100 - val_accuracy: 0.7502\n",
      "Epoch 75/150\n",
      "152/152 [==============================] - 3s 18ms/step - loss: 0.1060 - accuracy: 0.9663 - val_loss: 17422.4805 - val_accuracy: 0.7502\n",
      "Epoch 76/150\n",
      "152/152 [==============================] - 3s 18ms/step - loss: 0.1487 - accuracy: 0.9475 - val_loss: 1.2538 - val_accuracy: 0.7619\n",
      "Epoch 77/150\n",
      "152/152 [==============================] - 3s 18ms/step - loss: 0.0659 - accuracy: 0.9773 - val_loss: 51652.3984 - val_accuracy: 0.7638\n",
      "Epoch 78/150\n",
      "152/152 [==============================] - 3s 18ms/step - loss: 0.0596 - accuracy: 0.9806 - val_loss: 116367.9297 - val_accuracy: 0.7582\n",
      "Epoch 79/150\n",
      "152/152 [==============================] - 3s 18ms/step - loss: 0.1148 - accuracy: 0.9682 - val_loss: 3505.7646 - val_accuracy: 0.7644\n",
      "Epoch 80/150\n",
      "152/152 [==============================] - 3s 18ms/step - loss: 0.0627 - accuracy: 0.9781 - val_loss: 20107.7129 - val_accuracy: 0.7663\n",
      "Epoch 81/150\n",
      "152/152 [==============================] - 3s 18ms/step - loss: 0.1013 - accuracy: 0.9690 - val_loss: 52221.2422 - val_accuracy: 0.7539\n",
      "Epoch 82/150\n",
      "152/152 [==============================] - 3s 18ms/step - loss: 0.0684 - accuracy: 0.9793 - val_loss: 398411.3750 - val_accuracy: 0.7266\n",
      "Epoch 83/150\n",
      "152/152 [==============================] - 3s 18ms/step - loss: 0.0491 - accuracy: 0.9833 - val_loss: 8.3658 - val_accuracy: 0.7588\n",
      "Epoch 84/150\n",
      "152/152 [==============================] - 3s 18ms/step - loss: 0.0577 - accuracy: 0.9839 - val_loss: 1.6435 - val_accuracy: 0.7731\n",
      "Epoch 85/150\n",
      "152/152 [==============================] - 3s 18ms/step - loss: 0.0531 - accuracy: 0.9818 - val_loss: 3121.1521 - val_accuracy: 0.7626\n",
      "Epoch 86/150\n",
      "152/152 [==============================] - 3s 18ms/step - loss: 0.0776 - accuracy: 0.9766 - val_loss: 3094.1172 - val_accuracy: 0.7675\n",
      "Epoch 87/150\n",
      "152/152 [==============================] - 3s 18ms/step - loss: 0.0647 - accuracy: 0.9808 - val_loss: 1.3391 - val_accuracy: 0.7570\n",
      "Epoch 88/150\n",
      "152/152 [==============================] - 3s 18ms/step - loss: 0.0512 - accuracy: 0.9833 - val_loss: 1.3479 - val_accuracy: 0.7750\n",
      "Epoch 89/150\n",
      "152/152 [==============================] - 3s 18ms/step - loss: 0.0839 - accuracy: 0.9740 - val_loss: 116.0938 - val_accuracy: 0.7657\n",
      "Epoch 90/150\n",
      "152/152 [==============================] - 3s 18ms/step - loss: 0.0341 - accuracy: 0.9893 - val_loss: 3.0641 - val_accuracy: 0.7533\n",
      "Epoch 91/150\n",
      "152/152 [==============================] - 3s 18ms/step - loss: 0.1139 - accuracy: 0.9665 - val_loss: 1.4334 - val_accuracy: 0.7700\n",
      "Epoch 92/150\n",
      "152/152 [==============================] - 3s 18ms/step - loss: 0.0330 - accuracy: 0.9886 - val_loss: 1.6693 - val_accuracy: 0.7805\n",
      "Epoch 93/150\n",
      "152/152 [==============================] - 3s 18ms/step - loss: 0.1015 - accuracy: 0.9711 - val_loss: 1.4624 - val_accuracy: 0.7619\n",
      "Epoch 94/150\n",
      "152/152 [==============================] - 3s 18ms/step - loss: 0.0608 - accuracy: 0.9800 - val_loss: 448.0580 - val_accuracy: 0.7483\n",
      "Epoch 95/150\n",
      "152/152 [==============================] - 3s 18ms/step - loss: 0.0488 - accuracy: 0.9847 - val_loss: 1.4840 - val_accuracy: 0.7539\n",
      "Epoch 96/150\n",
      "152/152 [==============================] - 3s 18ms/step - loss: 0.0592 - accuracy: 0.9831 - val_loss: 21130.7617 - val_accuracy: 0.7464\n",
      "Epoch 97/150\n",
      "152/152 [==============================] - 3s 18ms/step - loss: 0.0666 - accuracy: 0.9777 - val_loss: 554.0106 - val_accuracy: 0.7347\n",
      "Epoch 98/150\n",
      "152/152 [==============================] - 3s 18ms/step - loss: 0.0546 - accuracy: 0.9841 - val_loss: 2529.3103 - val_accuracy: 0.7663\n",
      "Epoch 99/150\n",
      "152/152 [==============================] - 3s 18ms/step - loss: 0.0470 - accuracy: 0.9859 - val_loss: 2.0888 - val_accuracy: 0.7495\n",
      "Epoch 100/150\n",
      "152/152 [==============================] - 3s 18ms/step - loss: 0.0707 - accuracy: 0.9779 - val_loss: 2.3491 - val_accuracy: 0.7502\n",
      "Epoch 101/150\n",
      "152/152 [==============================] - 3s 18ms/step - loss: 0.0798 - accuracy: 0.9781 - val_loss: 11917.8896 - val_accuracy: 0.7557\n",
      "Epoch 102/150\n",
      "152/152 [==============================] - 3s 18ms/step - loss: 0.0394 - accuracy: 0.9849 - val_loss: 42205.1680 - val_accuracy: 0.7427\n",
      "Epoch 103/150\n",
      "152/152 [==============================] - 3s 18ms/step - loss: 0.0245 - accuracy: 0.9919 - val_loss: 3757.5667 - val_accuracy: 0.7595\n",
      "Epoch 104/150\n",
      "152/152 [==============================] - 3s 18ms/step - loss: 0.0764 - accuracy: 0.9777 - val_loss: 13551.0391 - val_accuracy: 0.7644\n",
      "Epoch 105/150\n",
      "152/152 [==============================] - 3s 18ms/step - loss: 0.0777 - accuracy: 0.9752 - val_loss: 1230.2570 - val_accuracy: 0.7539\n",
      "Epoch 106/150\n",
      "152/152 [==============================] - 3s 18ms/step - loss: 0.1211 - accuracy: 0.9626 - val_loss: 1.1999 - val_accuracy: 0.7458\n",
      "Epoch 107/150\n",
      "152/152 [==============================] - 3s 19ms/step - loss: 0.0504 - accuracy: 0.9814 - val_loss: 24118.1777 - val_accuracy: 0.7688\n",
      "Epoch 108/150\n",
      "152/152 [==============================] - 3s 18ms/step - loss: 0.0547 - accuracy: 0.9833 - val_loss: 5675.5122 - val_accuracy: 0.7595\n",
      "Epoch 109/150\n",
      "152/152 [==============================] - 3s 18ms/step - loss: 0.0415 - accuracy: 0.9874 - val_loss: 1.6399 - val_accuracy: 0.7595\n",
      "Epoch 110/150\n",
      "152/152 [==============================] - 3s 18ms/step - loss: 0.0333 - accuracy: 0.9913 - val_loss: 1.5892 - val_accuracy: 0.7712\n",
      "Epoch 111/150\n",
      "152/152 [==============================] - 3s 18ms/step - loss: 0.0715 - accuracy: 0.9806 - val_loss: 1.7508 - val_accuracy: 0.7700\n",
      "Epoch 112/150\n",
      "152/152 [==============================] - 3s 18ms/step - loss: 0.0319 - accuracy: 0.9901 - val_loss: 4.8323 - val_accuracy: 0.7551\n"
     ]
    },
    {
     "name": "stdout",
     "output_type": "stream",
     "text": [
      "Epoch 113/150\n",
      "152/152 [==============================] - 3s 18ms/step - loss: 0.0548 - accuracy: 0.9822 - val_loss: 4.9358 - val_accuracy: 0.7570\n",
      "Epoch 114/150\n",
      "152/152 [==============================] - 3s 18ms/step - loss: 0.0815 - accuracy: 0.9748 - val_loss: 6955.5400 - val_accuracy: 0.7638\n",
      "Epoch 115/150\n",
      "152/152 [==============================] - 3s 18ms/step - loss: 0.0557 - accuracy: 0.9835 - val_loss: 1.6500 - val_accuracy: 0.7663\n",
      "Epoch 116/150\n",
      "152/152 [==============================] - 3s 18ms/step - loss: 0.0491 - accuracy: 0.9870 - val_loss: 77.9837 - val_accuracy: 0.7657\n",
      "Epoch 117/150\n",
      "152/152 [==============================] - 3s 18ms/step - loss: 0.0303 - accuracy: 0.9899 - val_loss: 134989.4844 - val_accuracy: 0.7533\n",
      "Epoch 118/150\n",
      "152/152 [==============================] - 3s 18ms/step - loss: 0.0427 - accuracy: 0.9876 - val_loss: 2.5221 - val_accuracy: 0.7681\n",
      "Epoch 119/150\n",
      "152/152 [==============================] - 3s 18ms/step - loss: 0.0422 - accuracy: 0.9897 - val_loss: 113499.0703 - val_accuracy: 0.7626\n",
      "Epoch 120/150\n",
      "152/152 [==============================] - 3s 18ms/step - loss: 0.0708 - accuracy: 0.9791 - val_loss: 639334.4375 - val_accuracy: 0.7216\n",
      "Epoch 121/150\n",
      "152/152 [==============================] - 3s 18ms/step - loss: 0.0592 - accuracy: 0.9828 - val_loss: 2.8816 - val_accuracy: 0.7390\n",
      "Epoch 122/150\n",
      "152/152 [==============================] - 3s 18ms/step - loss: 0.0150 - accuracy: 0.9955 - val_loss: 2.1915 - val_accuracy: 0.7619\n",
      "Epoch 123/150\n",
      "152/152 [==============================] - 3s 18ms/step - loss: 0.0312 - accuracy: 0.9901 - val_loss: 5000.9478 - val_accuracy: 0.7508\n",
      "Epoch 124/150\n",
      "152/152 [==============================] - 3s 18ms/step - loss: 0.0695 - accuracy: 0.9793 - val_loss: 1.9457 - val_accuracy: 0.7526\n",
      "Epoch 125/150\n",
      "152/152 [==============================] - 3s 18ms/step - loss: 0.0363 - accuracy: 0.9893 - val_loss: 29371.3574 - val_accuracy: 0.7768\n",
      "Epoch 126/150\n",
      "152/152 [==============================] - 3s 18ms/step - loss: 0.0403 - accuracy: 0.9876 - val_loss: 15135.2490 - val_accuracy: 0.7074\n",
      "Epoch 127/150\n",
      "152/152 [==============================] - 3s 18ms/step - loss: 0.0782 - accuracy: 0.9750 - val_loss: 375.6654 - val_accuracy: 0.7415\n",
      "Epoch 128/150\n",
      "152/152 [==============================] - 3s 18ms/step - loss: 0.0333 - accuracy: 0.9897 - val_loss: 2.1795 - val_accuracy: 0.7632\n",
      "Epoch 129/150\n",
      "152/152 [==============================] - 3s 18ms/step - loss: 0.0419 - accuracy: 0.9859 - val_loss: 52314.8320 - val_accuracy: 0.7737\n",
      "Epoch 130/150\n",
      "152/152 [==============================] - 3s 18ms/step - loss: 0.0422 - accuracy: 0.9878 - val_loss: 59128.7695 - val_accuracy: 0.7471\n",
      "Epoch 131/150\n",
      "152/152 [==============================] - 3s 18ms/step - loss: 0.0530 - accuracy: 0.9833 - val_loss: 1.4928 - val_accuracy: 0.7601\n",
      "Epoch 132/150\n",
      "152/152 [==============================] - 3s 18ms/step - loss: 0.0724 - accuracy: 0.9752 - val_loss: 1.6244 - val_accuracy: 0.7483\n",
      "Epoch 133/150\n",
      "152/152 [==============================] - 3s 18ms/step - loss: 0.0781 - accuracy: 0.9804 - val_loss: 1.4998 - val_accuracy: 0.7551\n",
      "Epoch 134/150\n",
      "152/152 [==============================] - 3s 18ms/step - loss: 0.0196 - accuracy: 0.9942 - val_loss: 1.7659 - val_accuracy: 0.7743\n",
      "Epoch 135/150\n",
      "152/152 [==============================] - 3s 18ms/step - loss: 0.0059 - accuracy: 0.9979 - val_loss: 1.8267 - val_accuracy: 0.7700\n",
      "Epoch 136/150\n",
      "152/152 [==============================] - 3s 18ms/step - loss: 0.0366 - accuracy: 0.9897 - val_loss: 1868.8159 - val_accuracy: 0.7508\n",
      "Epoch 137/150\n",
      "152/152 [==============================] - 3s 18ms/step - loss: 0.0812 - accuracy: 0.9744 - val_loss: 39697.1797 - val_accuracy: 0.7378\n",
      "Epoch 138/150\n",
      "152/152 [==============================] - 3s 18ms/step - loss: 0.0474 - accuracy: 0.9866 - val_loss: 2.2386 - val_accuracy: 0.7557\n",
      "Epoch 139/150\n",
      "152/152 [==============================] - 3s 18ms/step - loss: 0.0343 - accuracy: 0.9897 - val_loss: 390333.0625 - val_accuracy: 0.7520\n",
      "Epoch 140/150\n",
      "152/152 [==============================] - 3s 18ms/step - loss: 0.0263 - accuracy: 0.9919 - val_loss: 25171.1562 - val_accuracy: 0.7675\n",
      "Epoch 141/150\n",
      "152/152 [==============================] - 3s 18ms/step - loss: 0.0430 - accuracy: 0.9888 - val_loss: 2.1662 - val_accuracy: 0.7588\n",
      "Epoch 142/150\n",
      "152/152 [==============================] - 3s 18ms/step - loss: 0.0353 - accuracy: 0.9919 - val_loss: 1814184.1250 - val_accuracy: 0.7706\n",
      "Epoch 143/150\n",
      "152/152 [==============================] - 3s 18ms/step - loss: 0.0103 - accuracy: 0.9967 - val_loss: 2.1303 - val_accuracy: 0.7378\n",
      "Epoch 144/150\n",
      "152/152 [==============================] - 3s 18ms/step - loss: 0.0587 - accuracy: 0.9839 - val_loss: 1.5420 - val_accuracy: 0.7582\n",
      "Epoch 145/150\n",
      "152/152 [==============================] - 3s 18ms/step - loss: 0.0643 - accuracy: 0.9820 - val_loss: 13714.3643 - val_accuracy: 0.7657\n",
      "Epoch 146/150\n",
      "152/152 [==============================] - 3s 18ms/step - loss: 0.0228 - accuracy: 0.9940 - val_loss: 7.6344 - val_accuracy: 0.7340\n",
      "Epoch 147/150\n",
      "152/152 [==============================] - 3s 18ms/step - loss: 0.0235 - accuracy: 0.9928 - val_loss: 2.0323 - val_accuracy: 0.7694\n",
      "Epoch 148/150\n",
      "152/152 [==============================] - 3s 18ms/step - loss: 0.0471 - accuracy: 0.9859 - val_loss: 204.4137 - val_accuracy: 0.7464\n",
      "Epoch 149/150\n",
      "152/152 [==============================] - 3s 18ms/step - loss: 0.0267 - accuracy: 0.9924 - val_loss: 2.4344 - val_accuracy: 0.7576\n",
      "Epoch 150/150\n",
      "152/152 [==============================] - 3s 18ms/step - loss: 0.0980 - accuracy: 0.9702 - val_loss: 1.6300 - val_accuracy: 0.7601\n",
      "elapsed time training dataset (sec): 417.6969413757324\n"
     ]
    }
   ],
   "source": [
    "start_time = time.time()\n",
    "\n",
    "hist = model.fit(x_train, y_train,\n",
    "                 epochs=n_epochs,\n",
    "                 batch_size=batch_size,\n",
    "                 validation_split=validation_split,\n",
    "                 shuffle=True,\n",
    "                 verbose=1)\n",
    "\n",
    "print('elapsed time training dataset (sec):', time.time() - start_time)\n",
    "\n",
    "model.save(model_save_path)"
   ]
  },
  {
   "cell_type": "code",
   "execution_count": 16,
   "id": "b34313fb",
   "metadata": {},
   "outputs": [
    {
     "data": {
      "image/png": "[encoded data removed]",
      "text/plain": [
       "<Figure size 1080x360 with 2 Axes>"
      ]
     },
     "metadata": {
      "needs_background": "light"
     },
     "output_type": "display_data"
    }
   ],
   "source": [
    "history_dict = hist.history\n",
    "\n",
    "loss_values = history_dict['loss']\n",
    "acc_values = history_dict['accuracy']\n",
    "if split_val:\n",
    "    val_loss_values = history_dict['val_loss']\n",
    "    val_acc_values = history_dict['val_accuracy']\n",
    "\n",
    "fig, (ax1, ax2) = plt.subplots(1, 2, figsize=(15, 5))\n",
    "\n",
    "ax1.plot(loss_values, 'blue', label='Training Loss')\n",
    "if split_val:\n",
    "    ax1.plot(val_loss_values, 'orange', label='Validation Loss')\n",
    "ax1.set_title('Training and validation loss')\n",
    "ax1.set_xlabel('Epochs')\n",
    "ax1.set_ylabel('Loss')\n",
    "ax1.legend()\n",
    "\n",
    "ax2.plot(acc_values, 'blue', label='Training accuracy')\n",
    "if split_val:\n",
    "    ax2.plot(val_acc_values, 'orange', label='Validation accuracy')\n",
    "ax2.set_title('Training and validation accuracy')\n",
    "ax2.set_xlabel('Epochs')\n",
    "ax2.set_ylabel('Accuracy')\n",
    "ax2.legend()\n",
    "\n",
    "plt.show()"
   ]
  },
  {
   "cell_type": "code",
   "execution_count": 17,
   "id": "70146c37",
   "metadata": {},
   "outputs": [
    {
     "name": "stdout",
     "output_type": "stream",
     "text": [
      "51/51 [==============================] - 0s 7ms/step - loss: 482.6359 - accuracy: 0.7452\n",
      "test loss: 482.63592529296875\n",
      "test accuracy: 0.7451952695846558\n"
     ]
    }
   ],
   "source": [
    "loss, accuracy = model.evaluate(x_test, y_test)\n",
    "print('test loss:', loss)\n",
    "print('test accuracy:', accuracy)"
   ]
  },
  {
   "cell_type": "markdown",
   "id": "a367cc71",
   "metadata": {},
   "source": [
    "# 파일 테스트"
   ]
  },
  {
   "cell_type": "code",
   "execution_count": null,
   "id": "95a5f7a5",
   "metadata": {},
   "outputs": [],
   "source": [
    "test_file_name = 'dataset/negative/1001_DFA_ANG_XX.wav'"
   ]
  },
  {
   "cell_type": "code",
   "execution_count": null,
   "id": "66148657",
   "metadata": {},
   "outputs": [],
   "source": [
    "prediction_feature = extract_feature(test_file_name, input_shape[0]).reshape((1, ) + input_shape)\n",
    "model = load_model(model_save_path)\n",
    "\n",
    "predicted_proba = model.predict(prediction_feature)[0]\n",
    "predicted_class = np.argmax(predicted_proba)\n",
    "\n",
    "print('classification result:', le.classes_[predicted_class])"
   ]
  },
  {
   "cell_type": "code",
   "execution_count": null,
   "id": "db540429",
   "metadata": {},
   "outputs": [],
   "source": []
  }
 ],
 "metadata": {
  "kernelspec": {
   "display_name": "emotion",
   "language": "python",
   "name": "emotion"
  },
  "language_info": {
   "codemirror_mode": {
    "name": "ipython",
    "version": 3
   },
   "file_extension": ".py",
   "mimetype": "text/x-python",
   "name": "python",
   "nbconvert_exporter": "python",
   "pygments_lexer": "ipython3",
   "version": "3.8.8"
  }
 },
 "nbformat": 4,
 "nbformat_minor": 5
}
